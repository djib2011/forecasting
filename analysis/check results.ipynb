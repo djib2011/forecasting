{
 "cells": [
  {
   "cell_type": "code",
   "execution_count": 1,
   "metadata": {},
   "outputs": [],
   "source": [
    "import numpy as np\n",
    "import pandas as pd\n",
    "import matplotlib.pyplot as plt\n",
    "import seaborn as sns\n",
    "%matplotlib inline"
   ]
  },
  {
   "cell_type": "code",
   "execution_count": 2,
   "metadata": {},
   "outputs": [],
   "source": [
    "df = pd.read_csv('../reports/result_df.csv')"
   ]
  },
  {
   "cell_type": "code",
   "execution_count": 12,
   "metadata": {},
   "outputs": [],
   "source": [
    "df = df[df['loss'] != 'mse']\n",
    "df = df[df['input_len'] == 18]"
   ]
  },
  {
   "cell_type": "code",
   "execution_count": 13,
   "metadata": {},
   "outputs": [
    {
     "data": {
      "text/plain": [
       "(12.5, 13.5)"
      ]
     },
     "execution_count": 13,
     "metadata": {},
     "output_type": "execute_result"
    },
    {
     "data": {
      "image/png": "[encoded data removed]",
      "text/plain": [
       "<Figure size 432x288 with 1 Axes>"
      ]
     },
     "metadata": {
      "needs_background": "light"
     },
     "output_type": "display_data"
    }
   ],
   "source": [
    "sns.barplot(x='output_len', y='smape', data=df)\n",
    "plt.ylim([12.5, 13.5])"
   ]
  },
  {
   "cell_type": "code",
   "execution_count": 14,
   "metadata": {},
   "outputs": [
    {
     "data": {
      "text/plain": [
       "(12.5, 13.5)"
      ]
     },
     "execution_count": 14,
     "metadata": {},
     "output_type": "execute_result"
    },
    {
     "data": {
      "image/png": "[encoded data removed]",
      "text/plain": [
       "<Figure size 432x288 with 1 Axes>"
      ]
     },
     "metadata": {
      "needs_background": "light"
     },
     "output_type": "display_data"
    }
   ],
   "source": [
    "sns.barplot(x='output_len', y='smape', data=df, estimator=np.median)\n",
    "plt.ylim([12.5, 13.5])"
   ]
  },
  {
   "cell_type": "code",
   "execution_count": 15,
   "metadata": {},
   "outputs": [
    {
     "data": {
      "text/plain": [
       "(12.5, 13.5)"
      ]
     },
     "execution_count": 15,
     "metadata": {},
     "output_type": "execute_result"
    },
    {
     "data": {
      "image/png": "[encoded data removed]",
      "text/plain": [
       "<Figure size 432x288 with 1 Axes>"
      ]
     },
     "metadata": {
      "needs_background": "light"
     },
     "output_type": "display_data"
    }
   ],
   "source": [
    "sns.barplot(x='output_len', y='smape', data=df, estimator=np.min)\n",
    "plt.ylim([12.5, 13.5])"
   ]
  },
  {
   "cell_type": "code",
   "execution_count": 16,
   "metadata": {},
   "outputs": [
    {
     "data": {
      "text/html": [
       "<div>\n",
       "<style scoped>\n",
       "    .dataframe tbody tr th:only-of-type {\n",
       "        vertical-align: middle;\n",
       "    }\n",
       "\n",
       "    .dataframe tbody tr th {\n",
       "        vertical-align: top;\n",
       "    }\n",
       "\n",
       "    .dataframe thead th {\n",
       "        text-align: right;\n",
       "    }\n",
       "</style>\n",
       "<table border=\"1\" class=\"dataframe\">\n",
       "  <thead>\n",
       "    <tr style=\"text-align: right;\">\n",
       "      <th></th>\n",
       "      <th>input_len</th>\n",
       "      <th>output_len</th>\n",
       "      <th>loss</th>\n",
       "      <th>bottleneck_size</th>\n",
       "      <th>bottleneck_activation</th>\n",
       "      <th>LSTM_type</th>\n",
       "      <th>num</th>\n",
       "      <th>smape</th>\n",
       "      <th>mase*</th>\n",
       "    </tr>\n",
       "  </thead>\n",
       "  <tbody>\n",
       "    <tr>\n",
       "      <th>268</th>\n",
       "      <td>18</td>\n",
       "      <td>12</td>\n",
       "      <td>mae</td>\n",
       "      <td>200</td>\n",
       "      <td>leaky</td>\n",
       "      <td>bi</td>\n",
       "      <td>2</td>\n",
       "      <td>12.998446</td>\n",
       "      <td>2.648394</td>\n",
       "    </tr>\n",
       "    <tr>\n",
       "      <th>216</th>\n",
       "      <td>18</td>\n",
       "      <td>12</td>\n",
       "      <td>mae</td>\n",
       "      <td>200</td>\n",
       "      <td>tanh</td>\n",
       "      <td>bi</td>\n",
       "      <td>9</td>\n",
       "      <td>12.999459</td>\n",
       "      <td>2.641689</td>\n",
       "    </tr>\n",
       "    <tr>\n",
       "      <th>243</th>\n",
       "      <td>18</td>\n",
       "      <td>12</td>\n",
       "      <td>mae</td>\n",
       "      <td>200</td>\n",
       "      <td>leaky</td>\n",
       "      <td>bi</td>\n",
       "      <td>4</td>\n",
       "      <td>13.009272</td>\n",
       "      <td>2.642656</td>\n",
       "    </tr>\n",
       "    <tr>\n",
       "      <th>777</th>\n",
       "      <td>18</td>\n",
       "      <td>10</td>\n",
       "      <td>mae</td>\n",
       "      <td>50</td>\n",
       "      <td>tanh</td>\n",
       "      <td>bi</td>\n",
       "      <td>8</td>\n",
       "      <td>13.009367</td>\n",
       "      <td>2.654098</td>\n",
       "    </tr>\n",
       "    <tr>\n",
       "      <th>885</th>\n",
       "      <td>18</td>\n",
       "      <td>8</td>\n",
       "      <td>mae</td>\n",
       "      <td>250</td>\n",
       "      <td>relu</td>\n",
       "      <td>bi</td>\n",
       "      <td>5</td>\n",
       "      <td>13.016796</td>\n",
       "      <td>2.645739</td>\n",
       "    </tr>\n",
       "    <tr>\n",
       "      <th>...</th>\n",
       "      <td>...</td>\n",
       "      <td>...</td>\n",
       "      <td>...</td>\n",
       "      <td>...</td>\n",
       "      <td>...</td>\n",
       "      <td>...</td>\n",
       "      <td>...</td>\n",
       "      <td>...</td>\n",
       "      <td>...</td>\n",
       "    </tr>\n",
       "    <tr>\n",
       "      <th>390</th>\n",
       "      <td>18</td>\n",
       "      <td>12</td>\n",
       "      <td>mae</td>\n",
       "      <td>50</td>\n",
       "      <td>leaky</td>\n",
       "      <td>bi</td>\n",
       "      <td>2</td>\n",
       "      <td>13.587338</td>\n",
       "      <td>2.681666</td>\n",
       "    </tr>\n",
       "    <tr>\n",
       "      <th>834</th>\n",
       "      <td>18</td>\n",
       "      <td>10</td>\n",
       "      <td>mae</td>\n",
       "      <td>50</td>\n",
       "      <td>leaky</td>\n",
       "      <td>bi</td>\n",
       "      <td>8</td>\n",
       "      <td>13.639834</td>\n",
       "      <td>2.885090</td>\n",
       "    </tr>\n",
       "    <tr>\n",
       "      <th>279</th>\n",
       "      <td>18</td>\n",
       "      <td>12</td>\n",
       "      <td>mae</td>\n",
       "      <td>100</td>\n",
       "      <td>relu</td>\n",
       "      <td>bi</td>\n",
       "      <td>7</td>\n",
       "      <td>13.661144</td>\n",
       "      <td>2.727163</td>\n",
       "    </tr>\n",
       "    <tr>\n",
       "      <th>420</th>\n",
       "      <td>18</td>\n",
       "      <td>12</td>\n",
       "      <td>mae</td>\n",
       "      <td>50</td>\n",
       "      <td>relu</td>\n",
       "      <td>uni</td>\n",
       "      <td>4</td>\n",
       "      <td>13.776901</td>\n",
       "      <td>2.714572</td>\n",
       "    </tr>\n",
       "    <tr>\n",
       "      <th>425</th>\n",
       "      <td>18</td>\n",
       "      <td>12</td>\n",
       "      <td>mae</td>\n",
       "      <td>100</td>\n",
       "      <td>tanh</td>\n",
       "      <td>bi</td>\n",
       "      <td>3</td>\n",
       "      <td>13.885728</td>\n",
       "      <td>2.949892</td>\n",
       "    </tr>\n",
       "  </tbody>\n",
       "</table>\n",
       "<p>570 rows × 9 columns</p>\n",
       "</div>"
      ],
      "text/plain": [
       "     input_len  output_len loss  bottleneck_size bottleneck_activation  \\\n",
       "268         18          12  mae              200                 leaky   \n",
       "216         18          12  mae              200                  tanh   \n",
       "243         18          12  mae              200                 leaky   \n",
       "777         18          10  mae               50                  tanh   \n",
       "885         18           8  mae              250                  relu   \n",
       "..         ...         ...  ...              ...                   ...   \n",
       "390         18          12  mae               50                 leaky   \n",
       "834         18          10  mae               50                 leaky   \n",
       "279         18          12  mae              100                  relu   \n",
       "420         18          12  mae               50                  relu   \n",
       "425         18          12  mae              100                  tanh   \n",
       "\n",
       "    LSTM_type  num      smape     mase*  \n",
       "268        bi    2  12.998446  2.648394  \n",
       "216        bi    9  12.999459  2.641689  \n",
       "243        bi    4  13.009272  2.642656  \n",
       "777        bi    8  13.009367  2.654098  \n",
       "885        bi    5  13.016796  2.645739  \n",
       "..        ...  ...        ...       ...  \n",
       "390        bi    2  13.587338  2.681666  \n",
       "834        bi    8  13.639834  2.885090  \n",
       "279        bi    7  13.661144  2.727163  \n",
       "420       uni    4  13.776901  2.714572  \n",
       "425        bi    3  13.885728  2.949892  \n",
       "\n",
       "[570 rows x 9 columns]"
      ]
     },
     "execution_count": 16,
     "metadata": {},
     "output_type": "execute_result"
    }
   ],
   "source": [
    "df.sort_values('smape')"
   ]
  },
  {
   "cell_type": "code",
   "execution_count": null,
   "metadata": {},
   "outputs": [],
   "source": []
  }
 ],
 "metadata": {
  "kernelspec": {
   "display_name": "Python 3",
   "language": "python",
   "name": "python3"
  },
  "language_info": {
   "codemirror_mode": {
    "name": "ipython",
    "version": 3
   },
   "file_extension": ".py",
   "mimetype": "text/x-python",
   "name": "python",
   "nbconvert_exporter": "python",
   "pygments_lexer": "ipython3",
   "version": "3.6.9"
  }
 },
 "nbformat": 4,
 "nbformat_minor": 4
}
