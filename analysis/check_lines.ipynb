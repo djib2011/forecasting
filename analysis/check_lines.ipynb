{
 "cells": [
  {
   "cell_type": "code",
   "execution_count": 1,
   "metadata": {
    "scrolled": true
   },
   "outputs": [],
   "source": [
    "import pickle as pkl\n",
    "import matplotlib.pyplot as plt\n",
    "from pathlib import Path\n",
    "import pandas as pd\n",
    "import numpy as np\n",
    "\n",
    "import sys\n",
    "sys.path.append('..')\n",
    "from evaluate import get_last_N, get_predictions, evaluate_model_ensembles\n",
    "\n",
    "\n",
    "%matplotlib inline"
   ]
  },
  {
   "cell_type": "code",
   "execution_count": 17,
   "metadata": {},
   "outputs": [
    {
     "name": "stdout",
     "output_type": "stream",
     "text": [
      "(2544, 9)\n",
      "(153, 8)\n"
     ]
    }
   ],
   "source": [
    "df_full = pd.read_csv('../reports/result_df.csv')\n",
    "print(df_full.shape)\n",
    "df = df_full[df_full['num'].isna()].dropna(axis=1)\n",
    "df = df[df['loss'] != 'mse']\n",
    "print(df.shape)"
   ]
  },
  {
   "cell_type": "code",
   "execution_count": 2,
   "metadata": {},
   "outputs": [
    {
     "data": {
      "text/plain": [
       "((176595, 18), (176595, 6))"
      ]
     },
     "execution_count": 2,
     "metadata": {},
     "output_type": "execute_result"
    }
   ],
   "source": [
    "x, y = pkl.load(open('../data/yearly_24_train_line.pkl', 'rb'))\n",
    "\n",
    "x.shape, y.shape"
   ]
  },
  {
   "cell_type": "code",
   "execution_count": 3,
   "metadata": {},
   "outputs": [
    {
     "data": {
      "text/plain": [
       "[<matplotlib.lines.Line2D at 0x7f9e4b1e8ba8>]"
      ]
     },
     "execution_count": 3,
     "metadata": {},
     "output_type": "execute_result"
    },
    {
     "data": {
      "image/png": "[encoded data removed]",
      "text/plain": [
       "<Figure size 432x288 with 1 Axes>"
      ]
     },
     "metadata": {
      "needs_background": "light"
     },
     "output_type": "display_data"
    }
   ],
   "source": [
    "i = 8\n",
    "plt.plot(range(18), x[i])\n",
    "plt.plot(range(18, 24), y[i])"
   ]
  },
  {
   "cell_type": "code",
   "execution_count": 4,
   "metadata": {},
   "outputs": [],
   "source": [
    "# Read test data\n",
    "train_path = Path('../data/Yearly-train.csv')\n",
    "test_path = Path('../data/Yearly-test.csv')\n",
    "\n",
    "train = pd.read_csv(train_path).drop('V1', axis=1)\n",
    "test = pd.read_csv(test_path).drop('V1', axis=1)"
   ]
  },
  {
   "cell_type": "code",
   "execution_count": 5,
   "metadata": {},
   "outputs": [],
   "source": [
    "# Read experiments\n",
    "p = Path('../results').absolute()\n",
    "\n",
    "trials = [t for t in p.glob('*') if t.name.startswith('line')]\n",
    "families = set([p / '__'.join(t.name.split('__')[:-1]) for t in trials])\n",
    "num_models = [len(list(p.glob(f.name + '*'))) for f in families]\n",
    "\n",
    "num_inputs = np.unique([f.name[10:12] for f in families])"
   ]
  },
  {
   "cell_type": "code",
   "execution_count": 12,
   "metadata": {
    "scrolled": true
   },
   "outputs": [
    {
     "name": "stderr",
     "output_type": "stream",
     "text": [
      "\r",
      "  0%|          | 0/1 [00:00<?, ?it/s]"
     ]
    },
    {
     "name": "stdout",
     "output_type": "stream",
     "text": [
      "[[ 7260.4976   7283.4785   7379.7183  ...  7412.3135   7465.019\n",
      "   7508.3    ]\n",
      " [ 1002.65454  1086.4125   1008.5829  ...  1672.114    1700.2799\n",
      "   1723.6967 ]\n",
      " [ 7058.532    7220.5293   7389.5566  ...  9336.039    9578.053\n",
      "   9823.707  ]\n",
      " ...\n",
      " [ 1215.5361   1275.2872   1707.7887  ...  1071.1835   1122.9613\n",
      "   1166.5062 ]\n",
      " [ 3535.2842   3298.8735   3997.9946  ...  6818.029    7115.9976\n",
      "   7318.022  ]\n",
      " [ 7372.747    7513.4126   7765.463   ...  9614.338    9829.178\n",
      "  10051.791  ]]\n",
      "[[7267.4395 7281.776  7394.7393 ... 7445.176  7485.199  7521.444 ]\n",
      " [1042.1207 1069.1105 1042.9104 ... 1696.6196 1727.2847 1755.9297]\n",
      " [7096.4106 7252.8154 7391.0547 ... 9321.506  9548.922  9772.08  ]\n",
      " ...\n",
      " [1223.5765 1322.986  1568.2767 ... 1080.4634 1133.1211 1171.7501]\n",
      " [3560.091  3327.3677 4322.352  ... 6963.294  7114.581  7267.075 ]\n",
      " [7366.927  7526.1987 7746.421  ... 9420.193  9586.973  9741.601 ]]\n",
      "[[7240.7285  7239.149   7376.5327  ... 7435.162   7494.4404  7537.1865 ]\n",
      " [ 996.98804 1014.8852  1016.4308  ... 1738.3451  1755.4902  1766.5011 ]\n",
      " [7031.3584  7207.6055  7332.45    ... 9332.708   9588.721   9841.186  ]\n",
      " ...\n",
      " [1182.5969  1310.4645  1565.5806  ... 1128.8254  1187.8806  1241.1207 ]\n",
      " [3703.3523  3356.1562  3914.9468  ... 7150.425   7410.9155  7573.9053 ]\n",
      " [7343.182   7496.8965  7714.5386  ... 9507.1875  9702.025   9899.542  ]]\n",
      "[[7254.7925  7280.501   7406.342   ... 7399.007   7448.2407  7488.4414 ]\n",
      " [ 994.2148  1068.4241  1017.22546 ... 1676.7526  1705.301   1713.5278 ]\n",
      " [7090.014   7234.6807  7452.6763  ... 9279.75    9494.99    9716.487  ]\n",
      " ...\n",
      " [1223.502   1293.9375  1743.853   ... 1085.9178  1147.1144  1199.4991 ]\n",
      " [3403.7559  3045.0122  4005.5955  ... 6739.112   6977.6143  7084.0894 ]\n",
      " [7366.164   7530.2046  7804.366   ... 9486.919   9672.641   9858.046  ]]\n",
      "[[7258.2114  7254.7124  7366.6265  ... 7356.902   7401.615   7441.6177 ]\n",
      " [ 991.52454 1023.70715 1016.5316  ... 1667.6243  1710.4198  1729.2795 ]\n",
      " [7052.71    7210.7676  7366.078   ... 9183.873   9397.548   9594.981  ]\n",
      " ...\n",
      " [1189.3333  1274.9995  1661.4633  ... 1063.6787  1104.2506  1148.662  ]\n",
      " [3377.118   2821.8057  4136.1685  ... 6869.039   7112.4136  7164.9336 ]\n",
      " [7335.185   7487.8623  7715.8677  ... 9384.738   9533.016   9668.589  ]]\n",
      "[[7240.1353 7274.0073 7412.759  ... 7385.3413 7436.5615 7469.9326]\n",
      " [ 994.3464 1056.779  1044.2751 ... 1666.948  1693.26   1716.4333]\n",
      " [7018.8403 7215.045  7458.895  ... 9253.007  9484.07   9713.449 ]\n",
      " ...\n",
      " [1165.466  1288.0994 1639.1097 ... 1038.9523 1101.6711 1143.0146]\n",
      " [3359.974  3231.3357 4113.2305 ... 6688.92   6916.013  7104.757 ]\n",
      " [7336.0884 7526.4644 7789.9214 ... 9382.927  9547.583  9694.266 ]]\n",
      "[[7229.174   7264.4917  7382.8496  ... 7294.657   7344.935   7376.577  ]\n",
      " [ 981.35956 1046.2366  1014.148   ... 1697.3633  1719.3156  1743.5552 ]\n",
      " [7051.0366  7178.672   7431.2627  ... 9186.879   9397.854   9599.845  ]\n",
      " ...\n",
      " [1229.9222  1252.9318  1721.5415  ... 1035.5883  1093.6597  1123.1395 ]\n",
      " [3547.015   3160.4814  4132.6255  ... 6479.7983  6615.6636  6776.4634 ]\n",
      " [7348.87    7505.4814  7781.006   ... 9211.95    9327.691   9451.936  ]]\n",
      "[[7228.755   7252.1133  7388.301   ... 7357.366   7404.153   7432.8857 ]\n",
      " [ 970.8418  1010.93427 1015.2658  ... 1756.7542  1774.9767  1808.5168 ]\n",
      " [7000.374   7193.4136  7376.0293  ... 9191.785   9400.8     9604.996  ]\n",
      " ...\n",
      " [1110.4897  1308.5793  1613.4115  ... 1017.2379  1056.4548  1073.6157 ]\n",
      " [3044.253   2998.9321  3794.9092  ... 6595.926   6734.097   6908.2183 ]\n",
      " [7319.787   7478.915   7734.4204  ... 9434.796   9613.714   9800.059  ]]\n",
      "[[7217.464  7278.623  7363.876  ... 7410.409  7451.546  7491.6343]\n",
      " [ 979.8588 1066.3467  995.6172 ... 1705.4417 1716.3276 1732.69  ]\n",
      " [7013.0767 7199.064  7369.1772 ... 9243.017  9461.719  9678.203 ]\n",
      " ...\n",
      " [1194.0679 1282.0608 1678.7532 ... 1104.2538 1152.536  1199.7644]\n",
      " [3061.361  3254.433  3879.527  ... 7277.901  7433.659  7651.3594]\n",
      " [7356.288  7513.7695 7740.209  ... 9549.223  9763.841  9954.156 ]]\n",
      "[[7247.55    7300.7095  7418.1943  ... 7402.101   7451.0273  7492.158  ]\n",
      " [ 993.01434 1056.5104  1009.4428  ... 1619.9425  1645.7549  1663.719  ]\n",
      " [7062.9595  7245.7944  7471.3037  ... 9236.839   9460.934   9689.877  ]\n",
      " ...\n",
      " [1223.8362  1274.7101  1765.1266  ... 1115.7593  1179.4031  1228.9169 ]\n",
      " [3294.1128  3250.8208  4116.328   ... 6745.6675  6962.405   7140.1514 ]\n",
      " [7322.6714  7522.835   7790.6333  ... 9257.251   9404.034   9546.29   ]]\n",
      "[[ 7264.9766   7282.7715   7404.6855  ...  7390.559    7475.078\n",
      "   7531.6494 ]\n",
      " [ 1013.73303  1036.0513    993.35126 ...  1648.7728   1679.7416\n",
      "   1713.0156 ]\n",
      " [ 7074.6084   7227.2075   7424.3896  ...  9329.106    9597.508\n",
      "   9861.963  ]\n",
      " ...\n",
      " [ 1207.7816   1348.0914   1648.6168  ...  1044.4458   1126.756\n",
      "   1182.1124 ]\n",
      " [ 3534.716    3023.6575   4305.7227  ...  7176.983    7374.7944\n",
      "   7596.465  ]\n",
      " [ 7370.4663   7521.146    7749.012   ...  9590.85     9815.739\n",
      "  10029.808  ]]\n",
      "[[7302.6855 7282.645  7365.9287 ... 7438.9414 7482.992  7521.5396]\n",
      " [1014.6604 1085.4987 1058.9799 ... 1545.6282 1549.015  1560.7029]\n",
      " [7118.9814 7286.875  7399.9746 ... 9217.894  9428.107  9646.27  ]\n",
      " ...\n",
      " [1307.9211 1356.374  1534.6019 ... 1100.4045 1144.9783 1185.3857]\n",
      " [3247.073  3248.001  4609.0977 ... 7051.422  7289.9307 7489.1753]\n",
      " [7375.5884 7522.815  7738.7446 ... 9341.537  9503.691  9664.207 ]]\n",
      "[[7262.4536  7308.871   7394.681   ... 7388.      7460.521   7480.7363 ]\n",
      " [1008.35406 1064.1725   989.71497 ... 1729.5432  1754.5859  1778.0549 ]\n",
      " [7069.674   7272.823   7448.388   ... 9346.8125  9570.758   9807.     ]\n",
      " ...\n",
      " [1235.4971  1321.9059  1707.283   ...  996.1642  1072.7463  1090.2511 ]\n",
      " [3409.0732  3370.589   3825.4019  ... 6911.5654  7274.0884  7341.228  ]\n",
      " [7371.239   7547.3604  7768.112   ... 9570.78    9771.752   9967.511  ]]\n",
      "[[7235.515   7300.8286  7377.572   ... 7399.131   7443.103   7477.32   ]\n",
      " [ 977.3252  1041.1863  1018.99475 ... 1728.4424  1751.5605  1767.6086 ]\n",
      " [6975.3833  7235.25    7395.3223  ... 9266.961   9500.058   9733.256  ]\n",
      " ...\n",
      " [1167.3561  1271.1096  1680.6533  ... 1060.1415  1106.6747  1143.5461 ]\n",
      " [3236.7021  3162.5735  4013.3188  ... 6883.096   7095.5005  7278.7524 ]\n",
      " [7308.8447  7495.6123  7706.0635  ... 9492.503   9662.732   9830.541  ]]\n",
      "[[7254.909   7277.8413  7420.034   ... 7373.06    7410.245   7460.359  ]\n",
      " [ 993.67725 1047.0656  1032.3776  ... 1674.3334  1699.3059  1713.7603 ]\n",
      " [7028.728   7176.4536  7464.699   ... 9283.743   9518.858   9742.52   ]\n",
      " ...\n",
      " [1211.6128  1256.2034  1771.3953  ... 1090.4067  1124.5302  1167.2649 ]\n",
      " [3494.3555  3139.4636  4042.8845  ... 7032.8438  7227.3325  7479.269  ]\n",
      " [7321.085   7490.1494  7799.132   ... 9346.704   9491.467   9626.469  ]]\n",
      "[[7287.411   7328.224   7433.0547  ... 7363.8965  7415.7676  7452.247  ]\n",
      " [1000.94403 1058.9336  1011.3929  ... 1682.3716  1699.5491  1717.6931 ]\n",
      " [7127.98    7292.5723  7514.949   ... 9316.453   9548.939   9783.543  ]\n",
      " ...\n",
      " [1254.0726  1265.7489  1800.1691  ... 1056.8861  1111.5887  1153.5507 ]\n",
      " [3439.9597  3188.3423  3981.6548  ... 6941.21    7164.29    7331.893  ]\n",
      " [7359.8525  7544.835   7794.901   ... 9499.691   9700.855   9895.068  ]]\n",
      "[[7217.2393  7276.3164  7374.1123  ... 7354.428   7400.7817  7439.459  ]\n",
      " [1001.73584 1048.4055  1015.2253  ... 1732.8362  1766.3198  1791.099  ]\n",
      " [7023.726   7216.3447  7400.341   ... 9215.577   9428.951   9635.383  ]\n",
      " ...\n",
      " [1190.1128  1250.35    1716.0151  ... 1034.3143  1084.5571  1142.4592 ]\n",
      " [3351.3877  3093.0693  3800.902   ... 6972.7007  7253.0806  7446.1963 ]\n",
      " [7314.8296  7512.139   7754.046   ... 9469.999   9654.103   9835.984  ]]\n",
      "[[7302.5645  7306.625   7425.4756  ... 7401.6772  7432.1763  7470.908  ]\n",
      " [1007.51074 1068.2006  1008.65436 ... 1722.209   1734.7036  1767.8333 ]\n",
      " [7164.0947  7292.4736  7509.1987  ... 9266.375   9478.1875  9671.082  ]\n",
      " ...\n",
      " [1264.6511  1310.1664  1791.2408  ... 1095.5616  1129.5337  1167.9666 ]\n",
      " [3629.915   3362.381   4057.7207  ... 6867.137   6938.089   7053.0303 ]\n",
      " [7390.4844  7543.2026  7804.6797  ... 9307.705   9428.959   9549.811  ]]\n"
     ]
    },
    {
     "name": "stderr",
     "output_type": "stream",
     "text": [
      "100%|██████████| 1/1 [11:38<00:00, 698.13s/it]"
     ]
    },
    {
     "name": "stdout",
     "output_type": "stream",
     "text": [
      "[[ 7251.8213   7311.756    7392.299   ...  7480.209    7527.0015\n",
      "   7565.2095 ]\n",
      " [ 1002.79114  1053.1974   1014.38165 ...  1631.4526   1656.3208\n",
      "   1665.5491 ]\n",
      " [ 7057.8745   7296.591    7389.5293  ...  9364.358    9616.242\n",
      "   9882.51   ]\n",
      " ...\n",
      " [ 1192.764    1336.1271   1720.793   ...  1210.7579   1258.7166\n",
      "   1296.8344 ]\n",
      " [ 3573.225    3512.858    3923.8896  ...  7210.657    7341.8774\n",
      "   7526.8247 ]\n",
      " [ 7348.3613   7562.161    7746.419   ...  9695.481    9932.172\n",
      "  10159.959  ]]\n"
     ]
    },
    {
     "name": "stderr",
     "output_type": "stream",
     "text": [
      "\n"
     ]
    }
   ],
   "source": [
    "for inp in num_inputs:\n",
    "    X_test = np.array([get_last_N(ser[1], N=int(inp)) for ser in train.iterrows()])\n",
    "    y_test = test.values\n",
    "\n",
    "    curr_family_list = [(f, m) for f, m in zip(families, num_models) if f.name[10:12] == inp]\n",
    "\n",
    "    results = evaluate_model_ensembles(curr_family_list, X_test, y_test)"
   ]
  },
  {
   "cell_type": "code",
   "execution_count": 16,
   "metadata": {},
   "outputs": [
    {
     "data": {
      "text/plain": [
       "{'line__inp_18__out_14__loss_mae__bksize_200__bkact_relu__dir_bi__0': 13.385204909280153,\n",
       " 'line__inp_18__out_14__loss_mae__bksize_200__bkact_relu__dir_bi__1': 13.148536178370128,\n",
       " 'line__inp_18__out_14__loss_mae__bksize_200__bkact_relu__dir_bi__2': 13.331064902475836,\n",
       " 'line__inp_18__out_14__loss_mae__bksize_200__bkact_relu__dir_bi__3': 13.183959215252354,\n",
       " 'line__inp_18__out_14__loss_mae__bksize_200__bkact_relu__dir_bi__4': 13.348886275323277,\n",
       " 'line__inp_18__out_14__loss_mae__bksize_200__bkact_relu__dir_bi__5': 13.121486991957624,\n",
       " 'line__inp_18__out_14__loss_mae__bksize_200__bkact_relu__dir_bi__6': 13.155546758821867,\n",
       " 'line__inp_18__out_14__loss_mae__bksize_200__bkact_relu__dir_bi__7': 13.142061376165861,\n",
       " 'line__inp_18__out_14__loss_mae__bksize_200__bkact_relu__dir_bi__8': 13.195802938517588,\n",
       " 'line__inp_18__out_14__loss_mae__bksize_200__bkact_relu__dir_bi__9': 13.052679514189103,\n",
       " 'line__inp_18__out_14__loss_mae__bksize_200__bkact_relu__dir_bi__10': 13.546431877090294,\n",
       " 'line__inp_18__out_14__loss_mae__bksize_200__bkact_relu__dir_bi__11': 13.023481947554526,\n",
       " 'line__inp_18__out_14__loss_mae__bksize_200__bkact_relu__dir_bi__12': 13.340624859647992,\n",
       " 'line__inp_18__out_14__loss_mae__bksize_200__bkact_relu__dir_bi__13': 13.365382710975084,\n",
       " 'line__inp_18__out_14__loss_mae__bksize_200__bkact_relu__dir_bi__14': 13.11105899500786,\n",
       " 'line__inp_18__out_14__loss_mae__bksize_200__bkact_relu__dir_bi__15': 13.211532275692432,\n",
       " 'line__inp_18__out_14__loss_mae__bksize_200__bkact_relu__dir_bi__16': 13.121948989723707,\n",
       " 'line__inp_18__out_14__loss_mae__bksize_200__bkact_relu__dir_bi__17': 13.076235337685125,\n",
       " 'line__inp_18__out_14__loss_mae__bksize_200__bkact_relu__dir_bi__18': 13.567212979287062,\n",
       " 'line__inp_18__out_14__loss_mae__bksize_200__bkact_relu__dir_bi': 13.112696925951804}"
      ]
     },
     "execution_count": 16,
     "metadata": {},
     "output_type": "execute_result"
    }
   ],
   "source": [
    "results['smape']"
   ]
  },
  {
   "cell_type": "code",
   "execution_count": 31,
   "metadata": {},
   "outputs": [
    {
     "data": {
      "text/plain": [
       "(12.9, 13.3)"
      ]
     },
     "execution_count": 31,
     "metadata": {},
     "output_type": "execute_result"
    },
    {
     "data": {
      "image/png": "[encoded data removed]",
      "text/plain": [
       "<Figure size 432x288 with 1 Axes>"
      ]
     },
     "metadata": {
      "needs_background": "light"
     },
     "output_type": "display_data"
    }
   ],
   "source": [
    "r = list(df[(df['input_len'] == 18) & (df['output_len'] == 14)]['smape']) + [results['smape']['line__inp_18__out_14__loss_mae__bksize_200__bkact_relu__dir_bi']]\n",
    "\n",
    "plt.bar(range(len(r)), height=r)\n",
    "plt.ylim([12.9, 13.3])"
   ]
  }
 ],
 "metadata": {
  "kernelspec": {
   "display_name": "fsu",
   "language": "python",
   "name": "fsu"
  },
  "language_info": {
   "codemirror_mode": {
    "name": "ipython",
    "version": 3
   },
   "file_extension": ".py",
   "mimetype": "text/x-python",
   "name": "python",
   "nbconvert_exporter": "python",
   "pygments_lexer": "ipython3",
   "version": "3.6.9"
  }
 },
 "nbformat": 4,
 "nbformat_minor": 4
}
