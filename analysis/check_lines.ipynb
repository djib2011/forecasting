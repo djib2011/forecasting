{
 "cells": [
  {
   "cell_type": "code",
   "execution_count": 79,
   "metadata": {
    "scrolled": true
   },
   "outputs": [],
   "source": [
    "import pickle as pkl\n",
    "import matplotlib.pyplot as plt\n",
    "from pathlib import Path\n",
    "import pandas as pd\n",
    "import numpy as np\n",
    "import seaborn as sns\n",
    "\n",
    "import os\n",
    "import sys\n",
    "\n",
    "os.environ['CUDA_VISIBLE_DEVICES'] = ''\n",
    "sys.path.append('..')\n",
    "\n",
    "from evaluate import get_last_N, get_predictions, evaluate_model_ensembles\n",
    "\n",
    "%matplotlib inline"
   ]
  },
  {
   "cell_type": "code",
   "execution_count": 80,
   "metadata": {},
   "outputs": [
    {
     "name": "stdout",
     "output_type": "stream",
     "text": [
      "(2710, 9)\n",
      "(159, 8)\n"
     ]
    }
   ],
   "source": [
    "df_full = pd.read_csv('../reports/result_df.csv')\n",
    "print(df_full.shape)\n",
    "df = df_full[df_full['num'].isna()].dropna(axis=1)\n",
    "df = df[df['loss'] != 'mse']\n",
    "print(df.shape)"
   ]
  },
  {
   "cell_type": "code",
   "execution_count": 81,
   "metadata": {},
   "outputs": [
    {
     "data": {
      "text/plain": [
       "((176595, 18), (176595, 6))"
      ]
     },
     "execution_count": 81,
     "metadata": {},
     "output_type": "execute_result"
    }
   ],
   "source": [
    "x, y = pkl.load(open('../data/yearly_24_train_line.pkl', 'rb'))\n",
    "\n",
    "x.shape, y.shape"
   ]
  },
  {
   "cell_type": "code",
   "execution_count": 82,
   "metadata": {},
   "outputs": [
    {
     "data": {
      "text/plain": [
       "[<matplotlib.lines.Line2D at 0x7f33e0652b70>]"
      ]
     },
     "execution_count": 82,
     "metadata": {},
     "output_type": "execute_result"
    },
    {
     "data": {
      "image/png": "[encoded data removed]",
      "text/plain": [
       "<Figure size 432x288 with 1 Axes>"
      ]
     },
     "metadata": {
      "needs_background": "light"
     },
     "output_type": "display_data"
    }
   ],
   "source": [
    "i = 8\n",
    "plt.plot(range(18), x[i])\n",
    "plt.plot(range(18, 24), y[i])"
   ]
  },
  {
   "cell_type": "code",
   "execution_count": 83,
   "metadata": {},
   "outputs": [],
   "source": [
    "# Read test data\n",
    "train_path = Path('../data/Yearly-train.csv')\n",
    "test_path = Path('../data/Yearly-test.csv')\n",
    "\n",
    "train = pd.read_csv(train_path).drop('V1', axis=1)\n",
    "test = pd.read_csv(test_path).drop('V1', axis=1)"
   ]
  },
  {
   "cell_type": "code",
   "execution_count": 84,
   "metadata": {},
   "outputs": [],
   "source": [
    "# Read experiments\n",
    "p = Path('../results').absolute()\n",
    "\n",
    "trials = [t for t in p.glob('*') if t.name.startswith('line')]\n",
    "families = set([p / '__'.join(t.name.split('__')[:-1]) for t in trials])\n",
    "num_models = [len(list(p.glob(f.name + '*'))) for f in families]\n",
    "\n",
    "num_inputs = np.unique([f.name[10:12] for f in families])"
   ]
  },
  {
   "cell_type": "code",
   "execution_count": 85,
   "metadata": {
    "scrolled": true
   },
   "outputs": [
    {
     "name": "stderr",
     "output_type": "stream",
     "text": [
      "100%|██████████| 2/2 [19:18<00:00, 579.06s/it]\n"
     ]
    }
   ],
   "source": [
    "for inp in num_inputs:\n",
    "    X_test = np.array([get_last_N(ser[1], N=int(inp)) for ser in train.iterrows()])\n",
    "    y_test = test.values\n",
    "\n",
    "    curr_family_list = [(f, m) for f, m in zip(families, num_models) if f.name[10:12] == inp]\n",
    "\n",
    "    results = evaluate_model_ensembles(curr_family_list, X_test, y_test)"
   ]
  },
  {
   "cell_type": "code",
   "execution_count": 86,
   "metadata": {},
   "outputs": [
    {
     "data": {
      "text/plain": [
       "{'line__inp_18__out_12__loss_mae__bksize_200__bkact_relu__dir_bi__0': 13.166046679319738,\n",
       " 'line__inp_18__out_12__loss_mae__bksize_200__bkact_relu__dir_bi__1': 13.27679715802299,\n",
       " 'line__inp_18__out_12__loss_mae__bksize_200__bkact_relu__dir_bi__2': 13.094774175255164,\n",
       " 'line__inp_18__out_12__loss_mae__bksize_200__bkact_relu__dir_bi__3': 13.226936539920262,\n",
       " 'line__inp_18__out_12__loss_mae__bksize_200__bkact_relu__dir_bi__4': 13.153242687603031,\n",
       " 'line__inp_18__out_12__loss_mae__bksize_200__bkact_relu__dir_bi__5': 13.10424919806909,\n",
       " 'line__inp_18__out_12__loss_mae__bksize_200__bkact_relu__dir_bi__6': 13.257587730543992,\n",
       " 'line__inp_18__out_12__loss_mae__bksize_200__bkact_relu__dir_bi__7': 13.063778438262778,\n",
       " 'line__inp_18__out_12__loss_mae__bksize_200__bkact_relu__dir_bi__8': 13.181133358748715,\n",
       " 'line__inp_18__out_12__loss_mae__bksize_200__bkact_relu__dir_bi__9': 13.518153157954242,\n",
       " 'line__inp_18__out_12__loss_mae__bksize_200__bkact_relu__dir_bi__10': 13.22858879679163,\n",
       " 'line__inp_18__out_12__loss_mae__bksize_200__bkact_relu__dir_bi__11': 13.08015631313173,\n",
       " 'line__inp_18__out_12__loss_mae__bksize_200__bkact_relu__dir_bi__12': 13.186107572488785,\n",
       " 'line__inp_18__out_12__loss_mae__bksize_200__bkact_relu__dir_bi__13': 13.125745314473443,\n",
       " 'line__inp_18__out_12__loss_mae__bksize_200__bkact_relu__dir_bi__14': 13.369411452784732,\n",
       " 'line__inp_18__out_12__loss_mae__bksize_200__bkact_relu__dir_bi__15': 13.406809156042494,\n",
       " 'line__inp_18__out_12__loss_mae__bksize_200__bkact_relu__dir_bi__16': 13.154317278573616,\n",
       " 'line__inp_18__out_12__loss_mae__bksize_200__bkact_relu__dir_bi__17': 13.275456583718652,\n",
       " 'line__inp_18__out_12__loss_mae__bksize_200__bkact_relu__dir_bi__18': 13.313473549808506,\n",
       " 'line__inp_18__out_12__loss_mae__bksize_200__bkact_relu__dir_bi__19': 13.24828141005425,\n",
       " 'line__inp_18__out_12__loss_mae__bksize_200__bkact_relu__dir_bi__20': 13.317147762275807,\n",
       " 'line__inp_18__out_12__loss_mae__bksize_200__bkact_relu__dir_bi__21': 13.3338329852057,\n",
       " 'line__inp_18__out_12__loss_mae__bksize_200__bkact_relu__dir_bi__22': 13.339772230420747,\n",
       " 'line__inp_18__out_12__loss_mae__bksize_200__bkact_relu__dir_bi__23': 13.193663719734536,\n",
       " 'line__inp_18__out_12__loss_mae__bksize_200__bkact_relu__dir_bi__24': 13.17428572851336,\n",
       " 'line__inp_18__out_12__loss_mae__bksize_200__bkact_relu__dir_bi__25': 13.163583154777367,\n",
       " 'line__inp_18__out_12__loss_mae__bksize_200__bkact_relu__dir_bi__26': 13.1131271886837,\n",
       " 'line__inp_18__out_12__loss_mae__bksize_200__bkact_relu__dir_bi__27': 13.115970056336689,\n",
       " 'line__inp_18__out_12__loss_mae__bksize_200__bkact_relu__dir_bi__28': 13.215426399511632,\n",
       " 'line__inp_18__out_12__loss_mae__bksize_200__bkact_relu__dir_bi__29': 13.421371873830921,\n",
       " 'line__inp_18__out_12__loss_mae__bksize_200__bkact_relu__dir_bi': 13.11562477024984,\n",
       " 'line__inp_18__out_12__loss_mae__bksize_250__bkact_relu__dir_bi__0': 13.214182754391329,\n",
       " 'line__inp_18__out_12__loss_mae__bksize_250__bkact_relu__dir_bi__1': 13.16490086608451,\n",
       " 'line__inp_18__out_12__loss_mae__bksize_250__bkact_relu__dir_bi__2': 13.203703781639941,\n",
       " 'line__inp_18__out_12__loss_mae__bksize_250__bkact_relu__dir_bi__3': 13.137795235859388,\n",
       " 'line__inp_18__out_12__loss_mae__bksize_250__bkact_relu__dir_bi__4': 13.04549901023134,\n",
       " 'line__inp_18__out_12__loss_mae__bksize_250__bkact_relu__dir_bi__5': 13.268666800912781,\n",
       " 'line__inp_18__out_12__loss_mae__bksize_250__bkact_relu__dir_bi__6': 13.241239154700025,\n",
       " 'line__inp_18__out_12__loss_mae__bksize_250__bkact_relu__dir_bi__7': 13.246313052024746,\n",
       " 'line__inp_18__out_12__loss_mae__bksize_250__bkact_relu__dir_bi__8': 13.231150407868146,\n",
       " 'line__inp_18__out_12__loss_mae__bksize_250__bkact_relu__dir_bi__9': 13.298380320926217,\n",
       " 'line__inp_18__out_12__loss_mae__bksize_250__bkact_relu__dir_bi__10': 13.176832670468801,\n",
       " 'line__inp_18__out_12__loss_mae__bksize_250__bkact_relu__dir_bi__11': 13.082541413841636,\n",
       " 'line__inp_18__out_12__loss_mae__bksize_250__bkact_relu__dir_bi__12': 13.2790400585849,\n",
       " 'line__inp_18__out_12__loss_mae__bksize_250__bkact_relu__dir_bi__13': 13.243831782643667,\n",
       " 'line__inp_18__out_12__loss_mae__bksize_250__bkact_relu__dir_bi__14': 13.256500637557432,\n",
       " 'line__inp_18__out_12__loss_mae__bksize_250__bkact_relu__dir_bi__15': 13.318954764087552,\n",
       " 'line__inp_18__out_12__loss_mae__bksize_250__bkact_relu__dir_bi__16': 13.22116990334609,\n",
       " 'line__inp_18__out_12__loss_mae__bksize_250__bkact_relu__dir_bi__17': 13.446234488012605,\n",
       " 'line__inp_18__out_12__loss_mae__bksize_250__bkact_relu__dir_bi__18': 13.576182054374746,\n",
       " 'line__inp_18__out_12__loss_mae__bksize_250__bkact_relu__dir_bi__19': 13.413609016043923,\n",
       " 'line__inp_18__out_12__loss_mae__bksize_250__bkact_relu__dir_bi__20': 13.180725072906874,\n",
       " 'line__inp_18__out_12__loss_mae__bksize_250__bkact_relu__dir_bi__21': 13.07667154021224,\n",
       " 'line__inp_18__out_12__loss_mae__bksize_250__bkact_relu__dir_bi__22': 13.322549197230233,\n",
       " 'line__inp_18__out_12__loss_mae__bksize_250__bkact_relu__dir_bi__23': 13.17368961233305,\n",
       " 'line__inp_18__out_12__loss_mae__bksize_250__bkact_relu__dir_bi__24': 13.06260946520609,\n",
       " 'line__inp_18__out_12__loss_mae__bksize_250__bkact_relu__dir_bi__25': 13.22551017830304,\n",
       " 'line__inp_18__out_12__loss_mae__bksize_250__bkact_relu__dir_bi__26': 13.303720843237075,\n",
       " 'line__inp_18__out_12__loss_mae__bksize_250__bkact_relu__dir_bi__27': 13.252343923455257,\n",
       " 'line__inp_18__out_12__loss_mae__bksize_250__bkact_relu__dir_bi__28': 13.11952408533194,\n",
       " 'line__inp_18__out_12__loss_mae__bksize_250__bkact_relu__dir_bi__29': 13.082574816378937,\n",
       " 'line__inp_18__out_12__loss_mae__bksize_250__bkact_relu__dir_bi': 13.124338110057359}"
      ]
     },
     "execution_count": 86,
     "metadata": {},
     "output_type": "execute_result"
    }
   ],
   "source": [
    "results['smape']"
   ]
  },
  {
   "cell_type": "code",
   "execution_count": 94,
   "metadata": {},
   "outputs": [
    {
     "data": {
      "text/plain": [
       "Text(0.5, 1.0, 'Ensembles with:\\nInput: 18 and Output: 12')"
      ]
     },
     "execution_count": 94,
     "metadata": {},
     "output_type": "execute_result"
    },
    {
     "data": {
      "image/png": "[encoded data removed]",
      "text/plain": [
       "<Figure size 432x288 with 1 Axes>"
      ]
     },
     "metadata": {
      "needs_background": "light"
     },
     "output_type": "display_data"
    }
   ],
   "source": [
    "r = list(df[(df['input_len'] == 18) & (df['output_len'] == 14)]['smape']) \\\n",
    "+ [results['smape']['line__inp_18__out_12__loss_mae__bksize_200__bkact_relu__dir_bi']] \\\n",
    "+ [results['smape']['line__inp_18__out_12__loss_mae__bksize_250__bkact_relu__dir_bi']]\n",
    "\n",
    "colors = ['C0'] * (len(r) - 2) + ['C1'] * 2\n",
    "\n",
    "plt.bar(range(len(r)), height=r, color=colors)\n",
    "plt.ylim([12.9, 13.3])\n",
    "plt.title('Ensembles with:\\nInput: 18 and Output: 12')"
   ]
  },
  {
   "cell_type": "code",
   "execution_count": 102,
   "metadata": {},
   "outputs": [],
   "source": [
    "a = df_full[(df_full['input_len'] == 18) & (df_full['output_len'] == 12) & (df_full['bottleneck_size'] == 200) & \n",
    "            (df_full['bottleneck_activation'] == 'relu') & (df_full['LSTM_type'] == 'bi') & (df_full['loss'] == 'mae')].dropna()"
   ]
  },
  {
   "cell_type": "code",
   "execution_count": 103,
   "metadata": {},
   "outputs": [],
   "source": [
    "a['out_type'] = 'regular'\n",
    "b = a[['out_type', 'smape']]"
   ]
  },
  {
   "cell_type": "code",
   "execution_count": 104,
   "metadata": {},
   "outputs": [],
   "source": [
    "c = pd.DataFrame({'out_type': ['line']*30, 'smape': pd.DataFrame(results)[:30]['smape'].values})"
   ]
  },
  {
   "cell_type": "code",
   "execution_count": 105,
   "metadata": {},
   "outputs": [
    {
     "data": {
      "text/plain": [
       "Text(0.5, 1.0, 'Input: 18 - Output: 12 - Bottleneck: 200')"
      ]
     },
     "execution_count": 105,
     "metadata": {},
     "output_type": "execute_result"
    },
    {
     "data": {
      "image/png": "[encoded data removed]",
      "text/plain": [
       "<Figure size 432x288 with 1 Axes>"
      ]
     },
     "metadata": {
      "needs_background": "light"
     },
     "output_type": "display_data"
    }
   ],
   "source": [
    "sns.boxplot(x='out_type', y='smape', data=pd.concat([b, c]))\n",
    "plt.title('Input: 18 - Output: 12 - Bottleneck: 200')"
   ]
  },
  {
   "cell_type": "code",
   "execution_count": 101,
   "metadata": {},
   "outputs": [
    {
     "data": {
      "text/plain": [
       "Text(0.5, 1.0, 'Input: 18 - Output: 12 - Bottleneck: 250')"
      ]
     },
     "execution_count": 101,
     "metadata": {},
     "output_type": "execute_result"
    },
    {
     "data": {
      "image/png": "[encoded data removed]",
      "text/plain": [
       "<Figure size 432x288 with 1 Axes>"
      ]
     },
     "metadata": {
      "needs_background": "light"
     },
     "output_type": "display_data"
    }
   ],
   "source": [
    "a = df_full[(df_full['input_len'] == 18) & (df_full['output_len'] == 14) & (df_full['bottleneck_size'] == 250) & \n",
    "            (df_full['bottleneck_activation'] == 'relu') & (df_full['LSTM_type'] == 'bi') & (df_full['loss'] == 'mae')].dropna()\n",
    "a['out_type'] = 'regular'\n",
    "b = a[['out_type', 'smape']]\n",
    "c = pd.DataFrame({'out_type': ['line']*30, 'smape': pd.DataFrame(results)[31:-1]['smape'].values})\n",
    "\n",
    "sns.boxplot(x='out_type', y='smape', data=pd.concat([b, c]))\n",
    "plt.title('Input: 18 - Output: 12 - Bottleneck: 250')"
   ]
  },
  {
   "cell_type": "code",
   "execution_count": null,
   "metadata": {},
   "outputs": [],
   "source": []
  }
 ],
 "metadata": {
  "kernelspec": {
   "display_name": "Python 3",
   "language": "python",
   "name": "python3"
  },
  "language_info": {
   "codemirror_mode": {
    "name": "ipython",
    "version": 3
   },
   "file_extension": ".py",
   "mimetype": "text/x-python",
   "name": "python",
   "nbconvert_exporter": "python",
   "pygments_lexer": "ipython3",
   "version": "3.6.9"
  }
 },
 "nbformat": 4,
 "nbformat_minor": 4
}
