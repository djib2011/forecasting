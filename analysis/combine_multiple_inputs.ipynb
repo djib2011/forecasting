{
 "cells": [
  {
   "cell_type": "code",
   "execution_count": 3,
   "metadata": {},
   "outputs": [],
   "source": [
    "from pathlib import Path\n",
    "import numpy as np\n",
    "import pandas as pd\n",
    "import matplotlib.pyplot as plt\n",
    "import seaborn as sns\n",
    "from tqdm import tqdm\n",
    "from sklearn.model_selection import train_test_split\n",
    "import pickle as pkl\n",
    "import tensorflow as tf\n",
    "\n",
    "import sys\n",
    "sys.path.append('..')\n",
    "\n",
    "import metrics\n",
    "\n",
    "import warnings\n",
    "warnings.filterwarnings('once')"
   ]
  },
  {
   "cell_type": "code",
   "execution_count": 25,
   "metadata": {},
   "outputs": [],
   "source": [
    "best_18_model_params = 'inp_18__out_12__loss_mae__bksize_200__bkact_leaky__dir_bi__'\n",
    "best_12_model_params = 'inp_12__out_12__loss_mae__bksize_100__bkact_leaky__dir_bi__'\n",
    "\n",
    "p = Path('../results').absolute()\n",
    "\n",
    "models_dirs_12 = [str(p / best_12_model_params) + str(i) for i in range(10)]\n",
    "models_dirs_18 = [str(p / best_18_model_params) + str(i) for i in range(10)]\n",
    "\n",
    "ind = 2\n",
    "\n",
    "best_12 = models_dirs_12[ind]\n",
    "best_18 = models_dirs_12[ind]"
   ]
  },
  {
   "cell_type": "code",
   "execution_count": 26,
   "metadata": {},
   "outputs": [],
   "source": [
    "train_path = Path('../data/Yearly-train.csv')\n",
    "test_path = Path('../data/Yearly-test.csv')"
   ]
  },
  {
   "cell_type": "code",
   "execution_count": 27,
   "metadata": {},
   "outputs": [],
   "source": [
    "train = pd.read_csv(train_path).drop('V1', axis=1)\n",
    "test = pd.read_csv(test_path).drop('V1', axis=1)"
   ]
  },
  {
   "cell_type": "code",
   "execution_count": 28,
   "metadata": {},
   "outputs": [],
   "source": [
    "np.seterr(all='ignore')\n",
    "\n",
    "def get_last_N_valid(series, N=18):\n",
    "    ser_N = series.dropna().iloc[-N:].values\n",
    "    if len(ser_N) < N:\n",
    "        return pd.Series([np.nan] * N)\n",
    "    return ser_N"
   ]
  },
  {
   "cell_type": "code",
   "execution_count": 29,
   "metadata": {},
   "outputs": [],
   "source": [
    "X_test_18 = np.array([get_last_N_valid(ser[1], N=18) for ser in train.iterrows()])\n",
    "X_test_12 = np.array([get_last_N_valid(ser[1], N=12) for ser in train.iterrows()])\n",
    "y_test = test.values\n",
    "\n",
    "use_12 = np.isnan(X_test_18).any(axis=1)"
   ]
  },
  {
   "cell_type": "code",
   "execution_count": 31,
   "metadata": {},
   "outputs": [],
   "source": [
    "def get_predictions(model_18, model_12, X_18, X_12, use_12):\n",
    "    \n",
    "    preds = []\n",
    "    \n",
    "    for i in range(len(use_12)):\n",
    "        \n",
    "        if use_12:\n",
    "            model = model_12\n",
    "            x = X_12[i]\n",
    "        else:\n",
    "            model = model_18\n",
    "            x = X_18[i]\n",
    "\n",
    "        mn, mx = x.min(axis=1).reshape(-1, 1), x.max(axis=1).reshape(-1, 1)\n",
    "\n",
    "        x_sc = (x - mn) / (mx - mn)\n",
    "        pred = model(x_sc[..., np.newaxis]) \n",
    "        preds.append(pred[..., 0] * (mx - mn) + mn)\n",
    "\n",
    "    return np.vstack(preds)"
   ]
  },
  {
   "cell_type": "code",
   "execution_count": 32,
   "metadata": {},
   "outputs": [
    {
     "ename": "OSError",
     "evalue": "SavedModel file does not exist at: /home/thanos/projects/ae_pred/analysis/../results/inp_12__out_12__loss_mae__bksize_100__bkact_leaky__dir_bi__2/{saved_model.pbtxt|saved_model.pb}",
     "output_type": "error",
     "traceback": [
      "\u001b[0;31m---------------------------------------------------------------------------\u001b[0m",
      "\u001b[0;31mOSError\u001b[0m                                   Traceback (most recent call last)",
      "\u001b[0;32m<ipython-input-32-54e6507297a1>\u001b[0m in \u001b[0;36m<module>\u001b[0;34m\u001b[0m\n\u001b[1;32m     10\u001b[0m                                                                \u001b[0;34m'MASE_estimate'\u001b[0m\u001b[0;34m:\u001b[0m \u001b[0mmase_estimate\u001b[0m\u001b[0;34m,\u001b[0m\u001b[0;34m\u001b[0m\u001b[0;34m\u001b[0m\u001b[0m\n\u001b[1;32m     11\u001b[0m                                                                \u001b[0;34m'OWA_estimate'\u001b[0m\u001b[0;34m:\u001b[0m \u001b[0mowa_estimate\u001b[0m\u001b[0;34m,\u001b[0m\u001b[0;34m\u001b[0m\u001b[0;34m\u001b[0m\u001b[0m\n\u001b[0;32m---> 12\u001b[0;31m                                                                'reconstruction_loss': reconstruction_loss})\n\u001b[0m\u001b[1;32m     13\u001b[0m \u001b[0;34m\u001b[0m\u001b[0m\n\u001b[1;32m     14\u001b[0m model_12 = tf.keras.models.load_model(best_12, custom_objects={'SMAPE': smape,\n",
      "\u001b[0;32m~/.envs/fsu/lib/python3.6/site-packages/tensorflow_core/python/keras/saving/save.py\u001b[0m in \u001b[0;36mload_model\u001b[0;34m(filepath, custom_objects, compile)\u001b[0m\n\u001b[1;32m    147\u001b[0m \u001b[0;34m\u001b[0m\u001b[0m\n\u001b[1;32m    148\u001b[0m   \u001b[0;32mif\u001b[0m \u001b[0misinstance\u001b[0m\u001b[0;34m(\u001b[0m\u001b[0mfilepath\u001b[0m\u001b[0;34m,\u001b[0m \u001b[0msix\u001b[0m\u001b[0;34m.\u001b[0m\u001b[0mstring_types\u001b[0m\u001b[0;34m)\u001b[0m\u001b[0;34m:\u001b[0m\u001b[0;34m\u001b[0m\u001b[0;34m\u001b[0m\u001b[0m\n\u001b[0;32m--> 149\u001b[0;31m     \u001b[0mloader_impl\u001b[0m\u001b[0;34m.\u001b[0m\u001b[0mparse_saved_model\u001b[0m\u001b[0;34m(\u001b[0m\u001b[0mfilepath\u001b[0m\u001b[0;34m)\u001b[0m\u001b[0;34m\u001b[0m\u001b[0;34m\u001b[0m\u001b[0m\n\u001b[0m\u001b[1;32m    150\u001b[0m     \u001b[0;32mreturn\u001b[0m \u001b[0msaved_model_load\u001b[0m\u001b[0;34m.\u001b[0m\u001b[0mload\u001b[0m\u001b[0;34m(\u001b[0m\u001b[0mfilepath\u001b[0m\u001b[0;34m,\u001b[0m \u001b[0mcompile\u001b[0m\u001b[0;34m)\u001b[0m\u001b[0;34m\u001b[0m\u001b[0;34m\u001b[0m\u001b[0m\n\u001b[1;32m    151\u001b[0m \u001b[0;34m\u001b[0m\u001b[0m\n",
      "\u001b[0;32m~/.envs/fsu/lib/python3.6/site-packages/tensorflow_core/python/saved_model/loader_impl.py\u001b[0m in \u001b[0;36mparse_saved_model\u001b[0;34m(export_dir)\u001b[0m\n\u001b[1;32m     81\u001b[0m                   (export_dir,\n\u001b[1;32m     82\u001b[0m                    \u001b[0mconstants\u001b[0m\u001b[0;34m.\u001b[0m\u001b[0mSAVED_MODEL_FILENAME_PBTXT\u001b[0m\u001b[0;34m,\u001b[0m\u001b[0;34m\u001b[0m\u001b[0;34m\u001b[0m\u001b[0m\n\u001b[0;32m---> 83\u001b[0;31m                    constants.SAVED_MODEL_FILENAME_PB))\n\u001b[0m\u001b[1;32m     84\u001b[0m \u001b[0;34m\u001b[0m\u001b[0m\n\u001b[1;32m     85\u001b[0m \u001b[0;34m\u001b[0m\u001b[0m\n",
      "\u001b[0;31mOSError\u001b[0m: SavedModel file does not exist at: /home/thanos/projects/ae_pred/analysis/../results/inp_12__out_12__loss_mae__bksize_100__bkact_leaky__dir_bi__2/{saved_model.pbtxt|saved_model.pb}"
     ]
    }
   ],
   "source": [
    "results = {}\n",
    "\n",
    "mape = metrics.build_mape(overlap=6)\n",
    "smape = metrics.build_smape(overlap=6)\n",
    "mase_estimate = metrics.build_mase(overlap=6)\n",
    "owa_estimate = metrics.build_owa(overlap=6)\n",
    "reconstruction_loss = metrics.build_reconstruction_loss(overlap=6)\n",
    "\n",
    "model_18 = tf.keras.models.load_model(best_18, custom_objects={'SMAPE': smape,\n",
    "                                                               'MASE_estimate': mase_estimate,\n",
    "                                                               'OWA_estimate': owa_estimate,\n",
    "                                                               'reconstruction_loss': reconstruction_loss})\n",
    "\n",
    "model_12 = tf.keras.models.load_model(best_12, custom_objects={'SMAPE': smape,\n",
    "                                                               'MASE_estimate': mase_estimate,\n",
    "                                                               'OWA_estimate': owa_estimate,\n",
    "                                                               'reconstruction_loss': reconstruction_loss})\n",
    "\n",
    "preds = get_predictions(model_18, model_12, X_test_18, X_test_12, use_12)\n",
    "\n",
    "tf.keras.backend.clear_session()\n",
    "\n",
    "results['smape'] = np.nanmean(metircs.SMAPE(y_test, preds[:, 6:]))\n",
    "results['mase*'] = np.nanmean(metircs.MASE(y_test, preds[:, 6:]))"
   ]
  }
 ],
 "metadata": {
  "kernelspec": {
   "display_name": "Python 3",
   "language": "python",
   "name": "python3"
  },
  "language_info": {
   "codemirror_mode": {
    "name": "ipython",
    "version": 3
   },
   "file_extension": ".py",
   "mimetype": "text/x-python",
   "name": "python",
   "nbconvert_exporter": "python",
   "pygments_lexer": "ipython3",
   "version": "3.6.9"
  }
 },
 "nbformat": 4,
 "nbformat_minor": 4
}
