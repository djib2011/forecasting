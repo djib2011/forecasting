{
 "cells": [
  {
   "cell_type": "code",
   "execution_count": 1,
   "metadata": {},
   "outputs": [],
   "source": [
    "import tensorflow as tf\n",
    "import metrics\n",
    "from datasets import seq2seq_generator\n",
    "import numpy as np\n",
    "import pickle as pkl\n",
    "import matplotlib.pyplot as plt\n",
    "%matplotlib inline"
   ]
  },
  {
   "cell_type": "code",
   "execution_count": 2,
   "metadata": {},
   "outputs": [],
   "source": [
    "mape = metrics.build_mape(overlap=6)\n",
    "smape = metrics.build_smape(overlap=6)\n",
    "mase = metrics.build_mase(overlap=6)\n",
    "owa_estimate = metrics.build_owa(overlap=6)\n",
    "reconstruction_loss = metrics.build_reconstruction_loss(overlap=6)"
   ]
  },
  {
   "cell_type": "code",
   "execution_count": 3,
   "metadata": {},
   "outputs": [],
   "source": [
    "with open('../data/yearly_scales.pkl', 'rb') as f:\n",
    "    scaler = pkl.load(f)"
   ]
  },
  {
   "cell_type": "code",
   "execution_count": 4,
   "metadata": {},
   "outputs": [],
   "source": [
    "with open('../data/yearly_validation.pkl', 'rb') as f:\n",
    "    x_test, y_test = pkl.load(f)\n",
    "    \n",
    "y_test = np.c_[x_test[:, -6:], y_test]"
   ]
  },
  {
   "cell_type": "code",
   "execution_count": 5,
   "metadata": {},
   "outputs": [
    {
     "name": "stdout",
     "output_type": "stream",
     "text": [
      "\n",
      "Evaluating model 1\n",
      "smape 5.3431587\n",
      "mase 2.0411959\n",
      "owa 0.76945055\n",
      "reconstruction 445.78162\n",
      "mse 146849.12\n",
      "\n",
      "Evaluating model 2\n",
      "smape 5.3731923\n",
      "mase 2.0104218\n",
      "owa 0.77414143\n",
      "reconstruction 1758.1492\n",
      "mse 144984.03\n",
      "\n",
      "Evaluating model 3\n",
      "smape 5.3158464\n",
      "mase 2.0363836\n",
      "owa 0.7717435\n",
      "reconstruction 478.1649\n",
      "mse 143285.45\n",
      "\n",
      "Evaluating model 4\n",
      "smape 5.3291407\n",
      "mase 2.0315757\n",
      "owa 0.77638507\n",
      "reconstruction 501.0088\n",
      "mse 142706.0\n",
      "\n",
      "Evaluating model 5\n",
      "smape 5.3658214\n",
      "mase 2.0291681\n",
      "owa 0.7720751\n",
      "reconstruction 632.9737\n",
      "mse 142277.22\n",
      "\n",
      "Evaluating model 6\n",
      "smape 5.362952\n",
      "mase 2.0316265\n",
      "owa 0.7778505\n",
      "reconstruction 2735.1802\n",
      "mse 146648.52\n",
      "\n",
      "Evaluating model 7\n",
      "smape 5.328504\n",
      "mase 2.027214\n",
      "owa 0.7706969\n",
      "reconstruction 525.5313\n",
      "mse 142978.78\n",
      "\n",
      "Evaluating model 8\n",
      "smape 5.3547034\n",
      "mase 2.0465217\n",
      "owa 0.7713008\n",
      "reconstruction 333.0329\n",
      "mse 142096.97\n",
      "\n",
      "Evaluating model 9\n",
      "smape 5.3157654\n",
      "mase 2.0391197\n",
      "owa 0.77518076\n",
      "reconstruction 417.05713\n",
      "mse 145860.81\n",
      "\n",
      "Evaluating model 10\n",
      "smape 5.378541\n",
      "mase 2.0337405\n",
      "owa 0.7733648\n",
      "reconstruction 5753.298\n",
      "mse 150124.47\n",
      "\n",
      "Evaluating model 11\n",
      "smape 5.3622665\n",
      "mase 2.0421996\n",
      "owa 0.78211987\n",
      "reconstruction 1099.3469\n",
      "mse 145599.4\n",
      "\n",
      "Evaluating model 12\n",
      "smape 5.392803\n",
      "mase 2.0220056\n",
      "owa 0.78032404\n",
      "reconstruction 519.76294\n",
      "mse 145365.39\n"
     ]
    }
   ],
   "source": [
    "results = {'smape': {k: [] for k in range(12)},\n",
    "           'mase': {k: [] for k in range(12)},\n",
    "           'owa': {k: [] for k in range(12)},\n",
    "           'reconstruction': {k: [] for k in range(12)},\n",
    "           'mse': {k: [] for k in range(12)},\n",
    "           }\n",
    "\n",
    "for i in range(12):\n",
    "    model_dir = 'results/' + str(i) + '/best_weights.h5'\n",
    "\n",
    "    model = tf.keras.models.load_model(model_dir, custom_objects={'SMAPE': smape,\n",
    "                                                                  'MASE_estimate': mase,\n",
    "                                                                  'OWA_estimate': owa_estimate,\n",
    "                                                                  'reconstruction_loss': reconstruction_loss})\n",
    "    print('\\nEvaluating model', i+1)\n",
    "    for ind in range(len(x_test) // 256):\n",
    "        \n",
    "        x = x_test[ind * 256 : (ind + 1) * 256, :, np.newaxis]\n",
    "        y = y_test[ind * 256 : (ind + 1) * 256, :, np.newaxis]\n",
    "       \n",
    "        y_ = model(x)\n",
    "\n",
    "        start_ind = 588782 + ind * 256\n",
    "        try:\n",
    "            batch_min = np.array([scaler[i][0] for i in range(start_ind, start_ind + 256)])[:, np.newaxis, np.newaxis]\n",
    "            batch_max = np.array([scaler[i][1] for i in range(start_ind, start_ind + 256)])[:, np.newaxis, np.newaxis]\n",
    "            batch_scale = batch_max - batch_min\n",
    "        except IndexError:\n",
    "            batch_scale = 1\n",
    "\n",
    "        descaled_y = y * batch_scale + batch_min\n",
    "        descaled_p = y_ * batch_scale + batch_min\n",
    "        \n",
    "        \n",
    "        results['smape'][i].append(smape(tf.cast(descaled_y, tf.float32), descaled_p).numpy().mean())\n",
    "        results['mase'][i].append(mase(tf.cast(descaled_y, tf.float32), descaled_p).numpy().mean())\n",
    "        results['owa'][i].append(owa_estimate(tf.cast(descaled_y, tf.float32), descaled_p).numpy().mean())\n",
    "        results['reconstruction'][i].append(reconstruction_loss(tf.cast(descaled_y, tf.float32), descaled_p).numpy().mean())\n",
    "        results['mse'][i].append(tf.keras.metrics.mse(tf.cast(descaled_y, tf.float32), descaled_p).numpy().mean())\n",
    "\n",
    "    for k, v in results.items():\n",
    "        print(k, np.median(v[i]))"
   ]
  },
  {
   "cell_type": "code",
   "execution_count": 57,
   "metadata": {},
   "outputs": [
    {
     "data": {
      "text/plain": [
       "[<matplotlib.lines.Line2D at 0x7f016faf1828>]"
      ]
     },
     "execution_count": 57,
     "metadata": {},
     "output_type": "execute_result"
    },
    {
     "data": {
      "image/png": "[encoded data removed]",
      "text/plain": [
       "<Figure size 432x288 with 1 Axes>"
      ]
     },
     "metadata": {
      "needs_background": "light"
     },
     "output_type": "display_data"
    }
   ],
   "source": [
    "i = 152\n",
    "preds = model(x_test[i][np.newaxis, ..., np.newaxis])\n",
    "plt.plot(range(12), x_test[i, :])\n",
    "plt.plot(range(6, 18), y_test[i, :])\n",
    "plt.plot(range(6, 18), preds[0, :, 0])"
   ]
  },
  {
   "cell_type": "code",
   "execution_count": 58,
   "metadata": {},
   "outputs": [
    {
     "data": {
      "text/plain": [
       "array([0.8559322 , 0.28813559, 0.56779661, 1.        , 0.81355932,\n",
       "       0.3559322 , 0.44067797, 0.27118644, 0.5       , 0.31355932,\n",
       "       0.        , 0.01694915])"
      ]
     },
     "execution_count": 58,
     "metadata": {},
     "output_type": "execute_result"
    }
   ],
   "source": [
    "x_test[i]"
   ]
  },
  {
   "cell_type": "code",
   "execution_count": 13,
   "metadata": {},
   "outputs": [],
   "source": [
    "y_ = model(x)"
   ]
  },
  {
   "cell_type": "code",
   "execution_count": 15,
   "metadata": {},
   "outputs": [
    {
     "data": {
      "text/plain": [
       "[<matplotlib.lines.Line2D at 0x7f01882f3588>]"
      ]
     },
     "execution_count": 15,
     "metadata": {},
     "output_type": "execute_result"
    },
    {
     "data": {
      "image/png": "[encoded data removed]",
      "text/plain": [
       "<Figure size 432x288 with 1 Axes>"
      ]
     },
     "metadata": {
      "needs_background": "light"
     },
     "output_type": "display_data"
    }
   ],
   "source": [
    "plt.plot(range(12), x[0, :, 0])\n",
    "plt.plot(range(6, 18), y_[0, :, 0])"
   ]
  },
  {
   "cell_type": "code",
   "execution_count": null,
   "metadata": {},
   "outputs": [],
   "source": []
  }
 ],
 "metadata": {
  "kernelspec": {
   "display_name": "fsu",
   "language": "python",
   "name": "fsu"
  },
  "language_info": {
   "codemirror_mode": {
    "name": "ipython",
    "version": 3
   },
   "file_extension": ".py",
   "mimetype": "text/x-python",
   "name": "python",
   "nbconvert_exporter": "python",
   "pygments_lexer": "ipython3",
   "version": "3.6.9"
  }
 },
 "nbformat": 4,
 "nbformat_minor": 4
}
