{
 "cells": [
  {
   "cell_type": "code",
   "execution_count": 10,
   "metadata": {},
   "outputs": [],
   "source": [
    "import sys\n",
    "\n",
    "sys.path.append('..')\n",
    "\n",
    "from evaluate import *"
   ]
  },
  {
   "cell_type": "code",
   "execution_count": 5,
   "metadata": {},
   "outputs": [],
   "source": [
    "with open('../reports/tracked.pkl', 'rb') as f:\n",
    "    tracked = pkl.load(f)"
   ]
  },
  {
   "cell_type": "code",
   "execution_count": 8,
   "metadata": {},
   "outputs": [
    {
     "data": {
      "text/plain": [
       "226"
      ]
     },
     "execution_count": 8,
     "metadata": {},
     "output_type": "execute_result"
    }
   ],
   "source": [
    "len(tracked)"
   ]
  },
  {
   "cell_type": "code",
   "execution_count": 12,
   "metadata": {},
   "outputs": [],
   "source": [
    "df = pd.read_csv('../reports/result_df.csv')"
   ]
  },
  {
   "cell_type": "code",
   "execution_count": 15,
   "metadata": {},
   "outputs": [
    {
     "data": {
      "text/plain": [
       "False"
      ]
     },
     "execution_count": 15,
     "metadata": {},
     "output_type": "execute_result"
    }
   ],
   "source": [
    "df['aug'].any()"
   ]
  },
  {
   "cell_type": "code",
   "execution_count": 17,
   "metadata": {},
   "outputs": [],
   "source": [
    "target_dir = Path('../reports')"
   ]
  },
  {
   "cell_type": "code",
   "execution_count": 18,
   "metadata": {},
   "outputs": [],
   "source": [
    "df = None"
   ]
  },
  {
   "cell_type": "code",
   "execution_count": 19,
   "metadata": {},
   "outputs": [
    {
     "data": {
      "text/plain": [
       "{'divide': 'warn', 'over': 'warn', 'under': 'ignore', 'invalid': 'warn'}"
      ]
     },
     "execution_count": 19,
     "metadata": {},
     "output_type": "execute_result"
    }
   ],
   "source": [
    "np.seterr(all='ignore')"
   ]
  },
  {
   "cell_type": "code",
   "execution_count": 21,
   "metadata": {},
   "outputs": [],
   "source": [
    "train_path = Path('../data/Yearly-train.csv')\n",
    "test_path = Path('../data/Yearly-test.csv')\n",
    "\n",
    "train = pd.read_csv(train_path).drop('V1', axis=1)\n",
    "test = pd.read_csv(test_path).drop('V1', axis=1)"
   ]
  },
  {
   "cell_type": "code",
   "execution_count": 22,
   "metadata": {},
   "outputs": [],
   "source": [
    "tracked = {}"
   ]
  },
  {
   "cell_type": "code",
   "execution_count": 26,
   "metadata": {},
   "outputs": [],
   "source": [
    "p = Path('../results').absolute()\n",
    "trials = list(p.glob('*'))"
   ]
  },
  {
   "cell_type": "code",
   "execution_count": 27,
   "metadata": {},
   "outputs": [
    {
     "data": {
      "text/plain": [
       "3201"
      ]
     },
     "execution_count": 27,
     "metadata": {},
     "output_type": "execute_result"
    }
   ],
   "source": [
    "len(trials)"
   ]
  },
  {
   "cell_type": "code",
   "execution_count": 28,
   "metadata": {},
   "outputs": [],
   "source": [
    "trials = check_for_errors(trials, fix=False)"
   ]
  },
  {
   "cell_type": "code",
   "execution_count": 29,
   "metadata": {},
   "outputs": [
    {
     "data": {
      "text/plain": [
       "3199"
      ]
     },
     "execution_count": 29,
     "metadata": {},
     "output_type": "execute_result"
    }
   ],
   "source": [
    "len(trials)"
   ]
  },
  {
   "cell_type": "code",
   "execution_count": 31,
   "metadata": {},
   "outputs": [],
   "source": [
    "def filter_tracked(candidate_names, tracked_dict):\n",
    "    candidate_families = list(set([Path('__'.join(str(t).split('__')[:-1])) for t in candidate_names]))\n",
    "    candidate_models = [len(list(p.glob(f.name + '*'))) for f in candidate_families]\n",
    "\n",
    "    untracked_families, untracked_nums = [], []\n",
    "\n",
    "    for i in range(len(candidate_families)):\n",
    "        if candidate_families[i] in tracked_dict.keys():\n",
    "            if candidate_models[i] == tracked_dict[candidate_families[i]]:\n",
    "                continue\n",
    "        untracked_families.append(candidate_families[i])\n",
    "        untracked_nums.append(candidate_models[i])\n",
    "\n",
    "    filtered = check_families_for_errors(untracked_families, untracked_nums)\n",
    "    if filtered:\n",
    "        untracked_families, untracked_nums = zip(*filtered)\n",
    "        return untracked_families, untracked_nums\n",
    "    else:\n",
    "        return [], []"
   ]
  },
  {
   "cell_type": "code",
   "execution_count": 32,
   "metadata": {},
   "outputs": [],
   "source": [
    "families, num_models = filter_tracked(trials, tracked)"
   ]
  },
  {
   "cell_type": "code",
   "execution_count": 37,
   "metadata": {},
   "outputs": [],
   "source": [
    "aug_fams = [(f, m) for f, m in zip(families, num_models) if 'aug__' in f.name]"
   ]
  },
  {
   "cell_type": "code",
   "execution_count": 39,
   "metadata": {},
   "outputs": [],
   "source": [
    "fam, mod = zip(*aug_fams)"
   ]
  },
  {
   "cell_type": "code",
   "execution_count": 40,
   "metadata": {
    "scrolled": true
   },
   "outputs": [
    {
     "data": {
      "text/plain": [
       "(PosixPath('/home/thanos/projects/ae_pred/analysis/../results/aug__inp_18__out_14__loss_mae__bksize_200__bkact_leaky__dir_bi2'),\n",
       " PosixPath('/home/thanos/projects/ae_pred/analysis/../results/aug__inp_18__out_14__loss_mae__bksize_250__bkact_tanh__dir_bi2'),\n",
       " PosixPath('/home/thanos/projects/ae_pred/analysis/../results/aug__inp_18__out_14__loss_mae__bksize_200__bkact_tanh__dir_bi2'),\n",
       " PosixPath('/home/thanos/projects/ae_pred/analysis/../results/aug__inp_18__out_14__loss_mae__bksize_300__bkact_tanh__dir_bi2'),\n",
       " PosixPath('/home/thanos/projects/ae_pred/analysis/../results/aug__inp_18__out_14__loss_mae__bksize_200__bkact_relu__dir_bi2'),\n",
       " PosixPath('/home/thanos/projects/ae_pred/analysis/../results/aug__inp_18__out_14__loss_mae__bksize_250__bkact_leaky__dir_bi2'),\n",
       " PosixPath('/home/thanos/projects/ae_pred/analysis/../results/aug__inp_18__out_14__loss_mae__bksize_300__bkact_leaky__dir_bi2'),\n",
       " PosixPath('/home/thanos/projects/ae_pred/analysis/../results/aug__inp_18__out_14__loss_mae__bksize_250__bkact_relu__dir_bi2'),\n",
       " PosixPath('/home/thanos/projects/ae_pred/analysis/../results/aug__inp_18__out_14__loss_mae__bksize_300__bkact_relu__dir_bi2'))"
      ]
     },
     "execution_count": 40,
     "metadata": {},
     "output_type": "execute_result"
    }
   ],
   "source": [
    "fam"
   ]
  },
  {
   "cell_type": "code",
   "execution_count": 76,
   "metadata": {},
   "outputs": [],
   "source": [
    "num_inputs = np.unique([f.name.replace('aug__', '').replace('line__', '')[4:6] for f in fam if not f.name.isdigit()])"
   ]
  },
  {
   "cell_type": "code",
   "execution_count": 77,
   "metadata": {},
   "outputs": [
    {
     "data": {
      "text/plain": [
       "array(['18'], dtype='<U2')"
      ]
     },
     "execution_count": 77,
     "metadata": {},
     "output_type": "execute_result"
    }
   ],
   "source": [
    "num_inputs"
   ]
  },
  {
   "cell_type": "code",
   "execution_count": 79,
   "metadata": {},
   "outputs": [],
   "source": [
    "X_test = np.array([get_last_N(ser[1], N=int(18)) for ser in train.iterrows()])\n",
    "y_test = test.values"
   ]
  },
  {
   "cell_type": "code",
   "execution_count": 88,
   "metadata": {},
   "outputs": [],
   "source": [
    "curr_family_list = [(f, m) for f, m in zip(fam, mod) if f.name[4:6] == '18']"
   ]
  },
  {
   "cell_type": "code",
   "execution_count": 89,
   "metadata": {},
   "outputs": [
    {
     "data": {
      "text/plain": [
       "[]"
      ]
     },
     "execution_count": 89,
     "metadata": {},
     "output_type": "execute_result"
    }
   ],
   "source": [
    "curr_family_list"
   ]
  },
  {
   "cell_type": "code",
   "execution_count": 90,
   "metadata": {},
   "outputs": [
    {
     "data": {
      "text/plain": [
       "[(PosixPath('/home/thanos/projects/ae_pred/analysis/../results/aug__inp_18__out_14__loss_mae__bksize_200__bkact_leaky__dir_bi2'),\n",
       "  30),\n",
       " (PosixPath('/home/thanos/projects/ae_pred/analysis/../results/aug__inp_18__out_14__loss_mae__bksize_250__bkact_tanh__dir_bi2'),\n",
       "  30),\n",
       " (PosixPath('/home/thanos/projects/ae_pred/analysis/../results/aug__inp_18__out_14__loss_mae__bksize_200__bkact_tanh__dir_bi2'),\n",
       "  30),\n",
       " (PosixPath('/home/thanos/projects/ae_pred/analysis/../results/aug__inp_18__out_14__loss_mae__bksize_300__bkact_tanh__dir_bi2'),\n",
       "  30),\n",
       " (PosixPath('/home/thanos/projects/ae_pred/analysis/../results/aug__inp_18__out_14__loss_mae__bksize_200__bkact_relu__dir_bi2'),\n",
       "  30),\n",
       " (PosixPath('/home/thanos/projects/ae_pred/analysis/../results/aug__inp_18__out_14__loss_mae__bksize_250__bkact_leaky__dir_bi2'),\n",
       "  30),\n",
       " (PosixPath('/home/thanos/projects/ae_pred/analysis/../results/aug__inp_18__out_14__loss_mae__bksize_300__bkact_leaky__dir_bi2'),\n",
       "  30),\n",
       " (PosixPath('/home/thanos/projects/ae_pred/analysis/../results/aug__inp_18__out_14__loss_mae__bksize_250__bkact_relu__dir_bi2'),\n",
       "  30),\n",
       " (PosixPath('/home/thanos/projects/ae_pred/analysis/../results/aug__inp_18__out_14__loss_mae__bksize_300__bkact_relu__dir_bi2'),\n",
       "  30)]"
      ]
     },
     "execution_count": 90,
     "metadata": {},
     "output_type": "execute_result"
    }
   ],
   "source": [
    "curr_family_list = [(f, m) for f, m in zip(fam, mod)\n",
    "                            if f.name.replace('aug__', '').replace('line__', '')[4:6] == '18']\n",
    "curr_family_list"
   ]
  },
  {
   "cell_type": "code",
   "execution_count": 91,
   "metadata": {},
   "outputs": [
    {
     "data": {
      "text/plain": [
       "'18'"
      ]
     },
     "execution_count": 91,
     "metadata": {},
     "output_type": "execute_result"
    }
   ],
   "source": [
    "fam[0].name.replace('aug__', '').replace('line__', '')[4:6]"
   ]
  },
  {
   "cell_type": "code",
   "execution_count": 93,
   "metadata": {},
   "outputs": [],
   "source": [
    "with open('../reports/tracked.pkl', 'rb') as f:\n",
    "    tracked = pkl.load(f)"
   ]
  },
  {
   "cell_type": "code",
   "execution_count": 95,
   "metadata": {},
   "outputs": [],
   "source": [
    "new_tracked = [t for t in tracked if 'line__' in t.name or 'aug__' in t.name]"
   ]
  },
  {
   "cell_type": "code",
   "execution_count": 98,
   "metadata": {},
   "outputs": [],
   "source": [
    "for t in new_tracked:\n",
    "    del tracked[t]"
   ]
  },
  {
   "cell_type": "code",
   "execution_count": 100,
   "metadata": {},
   "outputs": [
    {
     "data": {
      "text/plain": [
       "{PosixPath('/home/thanos/projects/ae_pred/results/inp_18__out_10__loss_mae__bksize_100__bkact_tanh__dir_bi'): 10,\n",
       " PosixPath('/home/thanos/projects/ae_pred/results/inp_18__out_20__loss_mae__bksize_250__bkact_relu__dir_bi'): 30,\n",
       " PosixPath('/home/thanos/projects/ae_pred/results/inp_12__out_14__loss_mae__bksize_50__bkact_leaky__dir_bi'): 10,\n",
       " PosixPath('/home/thanos/projects/ae_pred/results/inp_12__out_14__loss_mae__bksize_25__bkact_leaky__dir_bi'): 10,\n",
       " PosixPath('/home/thanos/projects/ae_pred/results/inp_12__out_18__loss_mae__bksize_200__bkact_relu__dir_bi'): 30,\n",
       " PosixPath('/home/thanos/projects/ae_pred/results/inp_18__out_10__loss_mae__bksize_100__bkact_relu__dir_bi'): 10,\n",
       " PosixPath('/home/thanos/projects/ae_pred/results/inp_18__out_16__loss_mae__bksize_250__bkact_relu__dir_bi'): 30,\n",
       " PosixPath('/home/thanos/projects/ae_pred/results/inp_24__out_6__loss_mae__bksize_50__bkact_relu__dir_bi'): 10,\n",
       " PosixPath('/home/thanos/projects/ae_pred/results/inp_18__out_10__loss_mae__bksize_50__bkact_tanh__dir_bi'): 10,\n",
       " PosixPath('/home/thanos/projects/ae_pred/results/inp_18__out_12__loss_mae__bksize_250__bkact_relu__dir_bi'): 100,\n",
       " PosixPath('/home/thanos/projects/ae_pred/results/inp_18__out_10__loss_mae__bksize_50__bkact_relu__dir_bi'): 10,\n",
       " PosixPath('/home/thanos/projects/ae_pred/results/inp_18__out_14__loss_mae__bksize_250__bkact_relu__dir_conv'): 30,\n",
       " PosixPath('/home/thanos/projects/ae_pred/results/inp_18__out_14__loss_mae__bksize_250__bkact_relu__dir_bi'): 30,\n",
       " PosixPath('/home/thanos/projects/ae_pred/results/inp_24__out_6__loss_mae__bksize_25__bkact_relu__dir_bi'): 10,\n",
       " PosixPath('/home/thanos/projects/ae_pred/results/inp_12__out_14__loss_mae__bksize_100__bkact_tanh__dir_bi'): 10,\n",
       " PosixPath('/home/thanos/projects/ae_pred/results/inp_24__out_6__loss_mae__bksize_25__bkact_leaky__dir_bi'): 10,\n",
       " PosixPath('/home/thanos/projects/ae_pred/results/inp_12__out_14__loss_mae__bksize_250__bkact_relu__dir_fc'): 30,\n",
       " PosixPath('/home/thanos/projects/ae_pred/results/inp_24__out_6__loss_mae__bksize_200__bkact_leaky__dir_bi'): 10,\n",
       " PosixPath('/home/thanos/projects/ae_pred/results/inp_18__out_14__loss_mae__bksize_200__bkact_relu__dir_bi'): 30,\n",
       " PosixPath('/home/thanos/projects/ae_pred/results/inp_12__out_14__loss_mae__bksize_200__bkact_relu__dir_fc'): 30,\n",
       " PosixPath('/home/thanos/projects/ae_pred/results/inp_18__out_10__loss_mae__bksize_100__bkact_leaky__dir_bi'): 10,\n",
       " PosixPath('/home/thanos/projects/ae_pred/results/inp_18__out_22__loss_mae__bksize_250__bkact_relu__dir_bi'): 30,\n",
       " PosixPath('/home/thanos/projects/ae_pred/results/inp_12__out_12__loss_mae__bksize_200__bkact_relu__dir_fc'): 30,\n",
       " PosixPath('/home/thanos/projects/ae_pred/results/inp_12__out_12__loss_mae__bksize_250__bkact_relu__dir_conv'): 30,\n",
       " PosixPath('/home/thanos/projects/ae_pred/results/inp_24__out_6__loss_mae__bksize_250__bkact_leaky__dir_bi'): 10,\n",
       " PosixPath('/home/thanos/projects/ae_pred/results/inp_18__out_14__loss_mae__bksize_250__bkact_relu__dir_fc'): 30,\n",
       " PosixPath('/home/thanos/projects/ae_pred/results/inp_18__out_12__loss_mae__bksize_200__bkact_relu__dir_bi'): 100,\n",
       " PosixPath('/home/thanos/projects/ae_pred/results/inp_18__out_20__loss_mae__bksize_200__bkact_relu__dir_bi'): 30,\n",
       " PosixPath('/home/thanos/projects/ae_pred/results/inp_24__out_6__loss_mae__bksize_200__bkact_relu__dir_bi'): 10,\n",
       " PosixPath('/home/thanos/projects/ae_pred/results/inp_12__out_14__loss_mae__bksize_200__bkact_relu__dir_bi'): 10,\n",
       " PosixPath('/home/thanos/projects/ae_pred/results/inp_12__out_14__loss_mae__bksize_200__bkact_leaky__dir_bi'): 10,\n",
       " PosixPath('/home/thanos/projects/ae_pred/results/inp_18__out_10__loss_mae__bksize_25__bkact_leaky__dir_bi'): 10,\n",
       " PosixPath('/home/thanos/projects/ae_pred/results/inp_24__out_14__loss_mae__bksize_250__bkact_relu__dir_bi'): 30,\n",
       " PosixPath('/home/thanos/projects/ae_pred/results/inp_12__out_14__loss_mae__bksize_250__bkact_relu__dir_bi'): 30,\n",
       " PosixPath('/home/thanos/projects/ae_pred/results/inp_18__out_22__loss_mae__bksize_200__bkact_relu__dir_bi'): 30,\n",
       " PosixPath('/home/thanos/projects/ae_pred/results/inp_12__out_14__loss_mae__bksize_100__bkact_leaky__dir_bi'): 10,\n",
       " PosixPath('/home/thanos/projects/ae_pred/results/inp_12__out_12__loss_mae__bksize_200__bkact_relu__dir_conv'): 30,\n",
       " PosixPath('/home/thanos/projects/ae_pred/results/inp_18__out_16__loss_mae__bksize_200__bkact_relu__dir_bi'): 30,\n",
       " PosixPath('/home/thanos/projects/ae_pred/results/inp_24__out_6__loss_mae__bksize_100__bkact_leaky__dir_bi'): 10,\n",
       " PosixPath('/home/thanos/projects/ae_pred/results/inp_18__out_10__loss_mae__bksize_200__bkact_tanh__dir_bi'): 10,\n",
       " PosixPath('/home/thanos/projects/ae_pred/results/inp_18__out_10__loss_mae__bksize_200__bkact_leaky__dir_bi'): 10,\n",
       " PosixPath('/home/thanos/projects/ae_pred/results/inp_24__out_12__loss_mae__bksize_200__bkact_leaky__dir_bi'): 10,\n",
       " PosixPath('/home/thanos/projects/ae_pred/results/inp_12__out_18__loss_mae__bksize_250__bkact_relu__dir_bi'): 30,\n",
       " PosixPath('/home/thanos/projects/ae_pred/results/inp_12__out_14__loss_mae__bksize_200__bkact_relu__dir_conv'): 30,\n",
       " PosixPath('/home/thanos/projects/ae_pred/results/inp_12__out_14__loss_mae__bksize_50__bkact_relu__dir_bi'): 10,\n",
       " PosixPath('/home/thanos/projects/ae_pred/results/inp_24__out_12__loss_mae__bksize_100__bkact_relu__dir_bi'): 10,\n",
       " PosixPath('/home/thanos/projects/ae_pred/results/inp_18__out_10__loss_mae__bksize_25__bkact_relu__dir_bi'): 10,\n",
       " PosixPath('/home/thanos/projects/ae_pred/results/inp_12__out_14__loss_mae__bksize_250__bkact_leaky__dir_bi'): 10,\n",
       " PosixPath('/home/thanos/projects/ae_pred/results/inp_18__out_10__loss_mae__bksize_25__bkact_tanh__dir_bi'): 10,\n",
       " PosixPath('/home/thanos/projects/ae_pred/results/inp_24__out_12__loss_mae__bksize_100__bkact_tanh__dir_bi'): 10,\n",
       " PosixPath('/home/thanos/projects/ae_pred/results/inp_24__out_6__loss_mae__bksize_50__bkact_leaky__dir_bi'): 10,\n",
       " PosixPath('/home/thanos/projects/ae_pred/results/inp_18__out_18__loss_mae__bksize_200__bkact_relu__dir_bi'): 30,\n",
       " PosixPath('/home/thanos/projects/ae_pred/results/inp_24__out_6__loss_mae__bksize_100__bkact_relu__dir_bi'): 10,\n",
       " PosixPath('/home/thanos/projects/ae_pred/results/inp_18__out_14__loss_mae__bksize_200__bkact_relu__dir_fc'): 30,\n",
       " PosixPath('/home/thanos/projects/ae_pred/results/inp_24__out_12__loss_mae__bksize_50__bkact_leaky__dir_bi'): 10,\n",
       " PosixPath('/home/thanos/projects/ae_pred/results/inp_24__out_12__loss_mae__bksize_25__bkact_relu__dir_bi'): 10,\n",
       " PosixPath('/home/thanos/projects/ae_pred/results/inp_12__out_12__loss_mae__bksize_250__bkact_relu__dir_fc'): 30,\n",
       " PosixPath('/home/thanos/projects/ae_pred/results/inp_24__out_6__loss_mae__bksize_50__bkact_tanh__dir_bi'): 10,\n",
       " PosixPath('/home/thanos/projects/ae_pred/results/inp_24__out_14__loss_mae__bksize_200__bkact_relu__dir_bi'): 30,\n",
       " PosixPath('/home/thanos/projects/ae_pred/results/inp_24__out_12__loss_mae__bksize_50__bkact_tanh__dir_bi'): 10,\n",
       " PosixPath('/home/thanos/projects/ae_pred/results/inp_18__out_14__loss_mae__bksize_200__bkact_relu__dir_conv'): 30,\n",
       " PosixPath('/home/thanos/projects/ae_pred/results/inp_12__out_14__loss_mae__bksize_25__bkact_tanh__dir_bi'): 10,\n",
       " PosixPath('/home/thanos/projects/ae_pred/results/inp_18__out_10__loss_mae__bksize_50__bkact_leaky__dir_bi'): 10,\n",
       " PosixPath('/home/thanos/projects/ae_pred/results/inp_18__out_18__loss_mae__bksize_250__bkact_relu__dir_bi'): 30,\n",
       " PosixPath('/home/thanos/projects/ae_pred/results/inp_24__out_6__loss_mae__bksize_100__bkact_tanh__dir_bi'): 10,\n",
       " PosixPath('/home/thanos/projects/ae_pred/results/inp_12__out_14__loss_mae__bksize_25__bkact_relu__dir_bi'): 10,\n",
       " PosixPath('/home/thanos/projects/ae_pred/results/inp_12__out_14__loss_mae__bksize_200__bkact_tanh__dir_bi'): 10,\n",
       " PosixPath('/home/thanos/projects/ae_pred/results/inp_12__out_14__loss_mae__bksize_100__bkact_relu__dir_bi'): 10,\n",
       " PosixPath('/home/thanos/projects/ae_pred/results/inp_12__out_14__loss_mae__bksize_50__bkact_tanh__dir_bi'): 10,\n",
       " PosixPath('/home/thanos/projects/ae_pred/results/inp_18__out_10__loss_mae__bksize_200__bkact_relu__dir_bi'): 10,\n",
       " PosixPath('/home/thanos/projects/ae_pred/results/inp_24__out_6__loss_mae__bksize_200__bkact_tanh__dir_bi'): 10,\n",
       " PosixPath('/home/thanos/projects/ae_pred/results/inp_24__out_12__loss_mae__bksize_25__bkact_leaky__dir_bi'): 10,\n",
       " PosixPath('/home/thanos/projects/ae_pred/results/inp_18__out_24__loss_mae__bksize_250__bkact_relu__dir_bi'): 30,\n",
       " PosixPath('/home/thanos/projects/ae_pred/results/inp_24__out_6__loss_mae__bksize_25__bkact_tanh__dir_bi'): 10,\n",
       " PosixPath('/home/thanos/projects/ae_pred/results/inp_12__out_14__loss_mae__bksize_250__bkact_relu__dir_conv'): 30,\n",
       " PosixPath('/home/thanos/projects/ae_pred/results/inp_18__out_24__loss_mae__bksize_200__bkact_relu__dir_bi'): 30,\n",
       " PosixPath('/home/thanos/projects/ae_pred/results/inp_24__out_12__loss_mae__bksize_50__bkact_relu__dir_bi'): 10,\n",
       " PosixPath('/home/thanos/projects/ae_pred/results/inp_24__out_12__loss_mae__bksize_100__bkact_leaky__dir_bi'): 10,\n",
       " PosixPath('/home/thanos/projects/ae_pred/results/inp_24__out_12__loss_mae__bksize_25__bkact_tanh__dir_bi'): 10,\n",
       " PosixPath('/home/thanos/projects/ae_pred/results/inp_30__out_12__loss_mae__bksize_250__bkact_tanh__dir_bi'): 10,\n",
       " PosixPath('/home/thanos/projects/ae_pred/results/inp_18__out_12__loss_mse__bksize_200__bkact_leaky__dir_bi'): 10,\n",
       " PosixPath('/home/thanos/projects/ae_pred/results/inp_18__out_12__loss_mse__bksize_25__bkact_relu__dir_bi'): 10,\n",
       " PosixPath('/home/thanos/projects/ae_pred/results/inp_18__out_12__loss_mse__bksize_100__bkact_tanh__dir_bi'): 10,\n",
       " PosixPath('/home/thanos/projects/ae_pred/results/inp_18__out_14__loss_mae__bksize_200__bkact_tanh__dir_bi'): 30,\n",
       " PosixPath('/home/thanos/projects/ae_pred/results/inp_18__out_12__loss_mse__bksize_200__bkact_relu__dir_bi'): 10,\n",
       " PosixPath('/home/thanos/projects/ae_pred/results/inp_18__out_6__loss_mae__bksize_200__bkact_relu__dir_bi'): 10,\n",
       " PosixPath('/home/thanos/projects/ae_pred/results/inp_18__out_12__loss_mse__bksize_200__bkact_tanh__dir_bi'): 10,\n",
       " PosixPath('/home/thanos/projects/ae_pred/results/inp_18__out_12__loss_mae__bksize_25__bkact_tanh__dir_uni'): 10,\n",
       " PosixPath('/home/thanos/projects/ae_pred/results/inp_18__out_12__loss_mae__bksize_250__bkact_leaky__dir_uni'): 10,\n",
       " PosixPath('/home/thanos/projects/ae_pred/results/inp_18__out_12__loss_mse__bksize_25__bkact_tanh__dir_bi'): 10,\n",
       " PosixPath('/home/thanos/projects/ae_pred/results/inp_18__out_12__loss_mse__bksize_250__bkact_tanh__dir_uni'): 10,\n",
       " PosixPath('/home/thanos/projects/ae_pred/results/inp_30__out_12__loss_mae__bksize_100__bkact_relu__dir_bi'): 10,\n",
       " PosixPath('/home/thanos/projects/ae_pred/results/inp_12__out_12__loss_mae__bksize_50__bkact_leaky__dir_uni'): 10,\n",
       " PosixPath('/home/thanos/projects/ae_pred/results/inp_18__out_12__loss_mae__bksize_50__bkact_leaky__dir_bi'): 10,\n",
       " PosixPath('/home/thanos/projects/ae_pred/results/inp_18__out_12__loss_mae__bksize_200__bkact_leaky__dir_uni'): 10,\n",
       " PosixPath('/home/thanos/projects/ae_pred/results/inp_18__out_8__loss_mae__bksize_50__bkact_relu__dir_bi'): 10,\n",
       " PosixPath('/home/thanos/projects/ae_pred/results/inp_24__out_12__loss_mae__bksize_250__bkact_relu__dir_bi'): 30,\n",
       " PosixPath('/home/thanos/projects/ae_pred/results/inp_18__out_12__loss_mae__bksize_100__bkact_tanh__dir_bi'): 10,\n",
       " PosixPath('/home/thanos/projects/ae_pred/results/inp_18__out_8__loss_mae__bksize_50__bkact_tanh__dir_bi'): 10,\n",
       " PosixPath('/home/thanos/projects/ae_pred/results/inp_18__out_12__loss_mae__bksize_25__bkact_leaky__dir_bi'): 10,\n",
       " PosixPath('/home/thanos/projects/ae_pred/results/inp_18__out_12__loss_mse__bksize_250__bkact_tanh__dir_bi'): 10,\n",
       " PosixPath('/home/thanos/projects/ae_pred/results/inp_18__out_12__loss_mae__bksize_25__bkact_leaky__dir_uni'): 10,\n",
       " PosixPath('/home/thanos/projects/ae_pred/results/inp_18__out_8__loss_mae__bksize_50__bkact_leaky__dir_bi'): 10,\n",
       " PosixPath('/home/thanos/projects/ae_pred/results/inp_18__out_14__loss_mae__bksize_50__bkact_tanh__dir_bi'): 10,\n",
       " PosixPath('/home/thanos/projects/ae_pred/results/inp_30__out_12__loss_mae__bksize_50__bkact_tanh__dir_bi'): 10,\n",
       " PosixPath('/home/thanos/projects/ae_pred/results/inp_12__out_12__loss_mae__bksize_50__bkact_tanh__dir_bi'): 10,\n",
       " PosixPath('/home/thanos/projects/ae_pred/results/inp_18__out_12__loss_mse__bksize_200__bkact_relu__dir_uni'): 10,\n",
       " PosixPath('/home/thanos/projects/ae_pred/results/inp_18__out_6__loss_mae__bksize_250__bkact_tanh__dir_bi'): 10,\n",
       " PosixPath('/home/thanos/projects/ae_pred/results/inp_18__out_12__loss_mae__bksize_250__bkact_tanh__dir_uni'): 10,\n",
       " PosixPath('/home/thanos/projects/ae_pred/results/inp_18__out_12__loss_mae__bksize_50__bkact_relu__dir_uni'): 10,\n",
       " PosixPath('/home/thanos/projects/ae_pred/results/inp_18__out_12__loss_mae__bksize_250__bkact_leaky__dir_bi'): 100,\n",
       " PosixPath('/home/thanos/projects/ae_pred/results/inp_12__out_12__loss_mae__bksize_25__bkact_relu__dir_uni'): 10,\n",
       " PosixPath('/home/thanos/projects/ae_pred/results/inp_18__out_14__loss_mae__bksize_25__bkact_relu__dir_bi'): 10,\n",
       " PosixPath('/home/thanos/projects/ae_pred/results/inp_18__out_12__loss_mae__bksize_25__bkact_relu__dir_bi'): 10,\n",
       " PosixPath('/home/thanos/projects/ae_pred/results/inp_18__out_12__loss_mae__bksize_200__bkact_tanh__dir_bi'): 100,\n",
       " PosixPath('/home/thanos/projects/ae_pred/results/inp_18__out_12__loss_mae__bksize_100__bkact_tanh__dir_uni'): 10,\n",
       " PosixPath('/home/thanos/projects/ae_pred/results/inp_30__out_12__loss_mae__bksize_50__bkact_relu__dir_bi'): 10,\n",
       " PosixPath('/home/thanos/projects/ae_pred/results/inp_12__out_12__loss_mae__bksize_25__bkact_leaky__dir_uni'): 10,\n",
       " PosixPath('/home/thanos/projects/ae_pred/results/inp_30__out_12__loss_mae__bksize_25__bkact_leaky__dir_bi'): 10,\n",
       " PosixPath('/home/thanos/projects/ae_pred/results/inp_18__out_6__loss_mae__bksize_100__bkact_tanh__dir_bi'): 10,\n",
       " PosixPath('/home/thanos/projects/ae_pred/results/inp_18__out_12__loss_mae__bksize_25__bkact_relu__dir_uni'): 10,\n",
       " PosixPath('/home/thanos/projects/ae_pred/results/inp_18__out_12__loss_mae__bksize_250__bkact_relu__dir_uni'): 10,\n",
       " PosixPath('/home/thanos/projects/ae_pred/results/inp_18__out_8__loss_mae__bksize_25__bkact_relu__dir_bi'): 10,\n",
       " PosixPath('/home/thanos/projects/ae_pred/results/inp_18__out_14__loss_mae__bksize_100__bkact_relu__dir_bi'): 10,\n",
       " PosixPath('/home/thanos/projects/ae_pred/results/inp_18__out_14__loss_mae__bksize_250__bkact_leaky__dir_bi'): 30,\n",
       " PosixPath('/home/thanos/projects/ae_pred/results/inp_18__out_12__loss_mse__bksize_250__bkact_leaky__dir_uni'): 10,\n",
       " PosixPath('/home/thanos/projects/ae_pred/results/inp_30__out_12__loss_mae__bksize_250__bkact_leaky__dir_bi'): 10,\n",
       " PosixPath('/home/thanos/projects/ae_pred/results/inp_18__out_12__loss_mse__bksize_50__bkact_tanh__dir_bi'): 10,\n",
       " PosixPath('/home/thanos/projects/ae_pred/results/inp_18__out_12__loss_mse__bksize_250__bkact_leaky__dir_bi'): 10,\n",
       " PosixPath('/home/thanos/projects/ae_pred/results/inp_18__out_12__loss_mae__bksize_200__bkact_tanh__dir_uni'): 10,\n",
       " PosixPath('/home/thanos/projects/ae_pred/results/inp_12__out_12__loss_mae__bksize_250__bkact_relu__dir_bi'): 30,\n",
       " PosixPath('/home/thanos/projects/ae_pred/results/inp_18__out_14__loss_mae__bksize_300__bkact_tanh__dir_bi'): 30,\n",
       " PosixPath('/home/thanos/projects/ae_pred/results/inp_18__out_12__loss_mae__bksize_250__bkact_tanh__dir_bi'): 100,\n",
       " PosixPath('/home/thanos/projects/ae_pred/results/inp_18__out_8__loss_mae__bksize_250__bkact_relu__dir_bi'): 10,\n",
       " PosixPath('/home/thanos/projects/ae_pred/results/inp_18__out_12__loss_mse__bksize_100__bkact_leaky__dir_bi'): 10,\n",
       " PosixPath('/home/thanos/projects/ae_pred/results/inp_18__out_8__loss_mae__bksize_200__bkact_leaky__dir_bi'): 10,\n",
       " PosixPath('/home/thanos/projects/ae_pred/results/inp_18__out_12__loss_mse__bksize_25__bkact_relu__dir_uni'): 10,\n",
       " PosixPath('/home/thanos/projects/ae_pred/results/inp_18__out_12__loss_mse__bksize_200__bkact_leaky__dir_uni'): 10,\n",
       " PosixPath('/home/thanos/projects/ae_pred/results/inp_12__out_12__loss_mae__bksize_50__bkact_leaky__dir_bi'): 10,\n",
       " PosixPath('/home/thanos/projects/ae_pred/results/inp_18__out_12__loss_mae__bksize_50__bkact_relu__dir_bi'): 10,\n",
       " PosixPath('/home/thanos/projects/ae_pred/results/inp_18__out_6__loss_mae__bksize_250__bkact_relu__dir_bi'): 10,\n",
       " PosixPath('/home/thanos/projects/ae_pred/results/inp_18__out_14__loss_mae__bksize_300__bkact_relu__dir_bi'): 30,\n",
       " PosixPath('/home/thanos/projects/ae_pred/results/inp_30__out_12__loss_mae__bksize_200__bkact_tanh__dir_bi'): 10,\n",
       " PosixPath('/home/thanos/projects/ae_pred/results/inp_12__out_12__loss_mae__bksize_100__bkact_leaky__dir_bi'): 10,\n",
       " PosixPath('/home/thanos/projects/ae_pred/results/inp_30__out_12__loss_mae__bksize_50__bkact_leaky__dir_bi'): 10,\n",
       " PosixPath('/home/thanos/projects/ae_pred/results/inp_18__out_14__loss_mae__bksize_250__bkact_tanh__dir_bi'): 30,\n",
       " PosixPath('/home/thanos/projects/ae_pred/results/inp_18__out_8__loss_mae__bksize_250__bkact_tanh__dir_bi'): 10,\n",
       " PosixPath('/home/thanos/projects/ae_pred/results/inp_18__out_12__loss_mae__bksize_50__bkact_leaky__dir_uni'): 10,\n",
       " PosixPath('/home/thanos/projects/ae_pred/results/inp_18__out_14__loss_mae__bksize_300__bkact_leaky__dir_bi'): 30,\n",
       " PosixPath('/home/thanos/projects/ae_pred/results/inp_18__out_12__loss_mae__bksize_100__bkact_relu__dir_uni'): 10,\n",
       " PosixPath('/home/thanos/projects/ae_pred/results/inp_18__out_14__loss_mae__bksize_25__bkact_leaky__dir_bi'): 10,\n",
       " PosixPath('/home/thanos/projects/ae_pred/results/inp_18__out_12__loss_mse__bksize_100__bkact_relu__dir_bi'): 10,\n",
       " PosixPath('/home/thanos/projects/ae_pred/results/inp_18__out_6__loss_mae__bksize_200__bkact_tanh__dir_bi'): 10,\n",
       " PosixPath('/home/thanos/projects/ae_pred/results/inp_18__out_6__loss_mae__bksize_50__bkact_relu__dir_bi'): 10,\n",
       " PosixPath('/home/thanos/projects/ae_pred/results/inp_18__out_8__loss_mae__bksize_100__bkact_relu__dir_bi'): 10,\n",
       " PosixPath('/home/thanos/projects/ae_pred/results/inp_18__out_12__loss_mae__bksize_100__bkact_relu__dir_bi'): 10,\n",
       " PosixPath('/home/thanos/projects/ae_pred/results/inp_18__out_12__loss_mse__bksize_50__bkact_relu__dir_uni'): 10,\n",
       " PosixPath('/home/thanos/projects/ae_pred/results/inp_12__out_12__loss_mae__bksize_25__bkact_tanh__dir_bi'): 10,\n",
       " PosixPath('/home/thanos/projects/ae_pred/results/inp_12__out_12__loss_mae__bksize_50__bkact_relu__dir_bi'): 10,\n",
       " PosixPath('/home/thanos/projects/ae_pred/results/inp_18__out_12__loss_mse__bksize_50__bkact_tanh__dir_uni'): 10,\n",
       " PosixPath('/home/thanos/projects/ae_pred/results/inp_24__out_12__loss_mae__bksize_200__bkact_relu__dir_bi'): 30,\n",
       " PosixPath('/home/thanos/projects/ae_pred/results/inp_18__out_8__loss_mae__bksize_25__bkact_tanh__dir_bi'): 10,\n",
       " PosixPath('/home/thanos/projects/ae_pred/results/inp_12__out_12__loss_mae__bksize_200__bkact_relu__dir_bi'): 30,\n",
       " PosixPath('/home/thanos/projects/ae_pred/results/inp_18__out_12__loss_mse__bksize_250__bkact_relu__dir_bi'): 10,\n",
       " PosixPath('/home/thanos/projects/ae_pred/results/inp_18__out_12__loss_mse__bksize_25__bkact_leaky__dir_uni'): 10,\n",
       " PosixPath('/home/thanos/projects/ae_pred/results/inp_30__out_12__loss_mae__bksize_25__bkact_relu__dir_bi'): 10,\n",
       " PosixPath('/home/thanos/projects/ae_pred/results/inp_18__out_6__loss_mae__bksize_200__bkact_leaky__dir_bi'): 10,\n",
       " PosixPath('/home/thanos/projects/ae_pred/results/inp_18__out_12__loss_mse__bksize_50__bkact_relu__dir_bi'): 10,\n",
       " PosixPath('/home/thanos/projects/ae_pred/results/inp_18__out_12__loss_mse__bksize_100__bkact_leaky__dir_uni'): 10,\n",
       " PosixPath('/home/thanos/projects/ae_pred/results/inp_12__out_12__loss_mae__bksize_25__bkact_tanh__dir_uni'): 10,\n",
       " PosixPath('/home/thanos/projects/ae_pred/results/inp_18__out_6__loss_mae__bksize_100__bkact_relu__dir_bi'): 10,\n",
       " PosixPath('/home/thanos/projects/ae_pred/results/inp_18__out_8__loss_mae__bksize_200__bkact_relu__dir_bi'): 10,\n",
       " PosixPath('/home/thanos/projects/ae_pred/results/inp_30__out_12__loss_mae__bksize_250__bkact_relu__dir_bi'): 10,\n",
       " PosixPath('/home/thanos/projects/ae_pred/results/inp_18__out_6__loss_mae__bksize_100__bkact_leaky__dir_bi'): 10,\n",
       " PosixPath('/home/thanos/projects/ae_pred/results/inp_30__out_12__loss_mae__bksize_100__bkact_leaky__dir_bi'): 10,\n",
       " PosixPath('/home/thanos/projects/ae_pred/results/inp_30__out_12__loss_mae__bksize_200__bkact_leaky__dir_bi'): 10,\n",
       " PosixPath('/home/thanos/projects/ae_pred/results/inp_12__out_12__loss_mae__bksize_25__bkact_leaky__dir_bi'): 10,\n",
       " PosixPath('/home/thanos/projects/ae_pred/results/inp_30__out_12__loss_mae__bksize_25__bkact_tanh__dir_bi'): 10,\n",
       " PosixPath('/home/thanos/projects/ae_pred/results/inp_18__out_6__loss_mae__bksize_25__bkact_tanh__dir_bi'): 10,\n",
       " PosixPath('/home/thanos/projects/ae_pred/results/inp_18__out_8__loss_mae__bksize_25__bkact_leaky__dir_bi'): 10,\n",
       " PosixPath('/home/thanos/projects/ae_pred/results/inp_18__out_8__loss_mae__bksize_200__bkact_tanh__dir_bi'): 10,\n",
       " PosixPath('/home/thanos/projects/ae_pred/results/inp_18__out_14__loss_mae__bksize_100__bkact_tanh__dir_bi'): 10,\n",
       " PosixPath('/home/thanos/projects/ae_pred/results/inp_18__out_12__loss_mae__bksize_25__bkact_tanh__dir_bi'): 10,\n",
       " PosixPath('/home/thanos/projects/ae_pred/results/inp_18__out_6__loss_mae__bksize_250__bkact_leaky__dir_bi'): 10,\n",
       " PosixPath('/home/thanos/projects/ae_pred/results/inp_18__out_12__loss_mae__bksize_200__bkact_leaky__dir_bi'): 100,\n",
       " PosixPath('/home/thanos/projects/ae_pred/results/inp_18__out_12__loss_mae__bksize_100__bkact_leaky__dir_uni'): 10,\n",
       " PosixPath('/home/thanos/projects/ae_pred/results/inp_18__out_6__loss_mae__bksize_25__bkact_leaky__dir_bi'): 10,\n",
       " PosixPath('/home/thanos/projects/ae_pred/results/inp_18__out_8__loss_mae__bksize_100__bkact_leaky__dir_bi'): 10,\n",
       " PosixPath('/home/thanos/projects/ae_pred/results/inp_18__out_12__loss_mae__bksize_100__bkact_leaky__dir_bi'): 10,\n",
       " PosixPath('/home/thanos/projects/ae_pred/results/inp_18__out_12__loss_mse__bksize_50__bkact_leaky__dir_bi'): 10,\n",
       " PosixPath('/home/thanos/projects/ae_pred/results/inp_18__out_14__loss_mae__bksize_200__bkact_leaky__dir_bi'): 30,\n",
       " PosixPath('/home/thanos/projects/ae_pred/results/inp_18__out_14__loss_mae__bksize_50__bkact_relu__dir_bi'): 10,\n",
       " PosixPath('/home/thanos/projects/ae_pred/results/inp_18__out_12__loss_mae__bksize_50__bkact_tanh__dir_bi'): 10,\n",
       " PosixPath('/home/thanos/projects/ae_pred/results/inp_18__out_8__loss_mae__bksize_250__bkact_leaky__dir_bi'): 10,\n",
       " PosixPath('/home/thanos/projects/ae_pred/results/inp_18__out_14__loss_mae__bksize_100__bkact_leaky__dir_bi'): 10,\n",
       " PosixPath('/home/thanos/projects/ae_pred/results/inp_12__out_12__loss_mae__bksize_50__bkact_relu__dir_uni'): 10,\n",
       " PosixPath('/home/thanos/projects/ae_pred/results/inp_18__out_12__loss_mse__bksize_250__bkact_relu__dir_uni'): 10,\n",
       " PosixPath('/home/thanos/projects/ae_pred/results/inp_18__out_12__loss_mse__bksize_100__bkact_tanh__dir_uni'): 10,\n",
       " PosixPath('/home/thanos/projects/ae_pred/results/inp_18__out_12__loss_mse__bksize_100__bkact_relu__dir_uni'): 10,\n",
       " PosixPath('/home/thanos/projects/ae_pred/results/inp_18__out_12__loss_mse__bksize_25__bkact_tanh__dir_uni'): 10,\n",
       " PosixPath('/home/thanos/projects/ae_pred/results/inp_18__out_12__loss_mse__bksize_50__bkact_leaky__dir_uni'): 10,\n",
       " PosixPath('/home/thanos/projects/ae_pred/results/inp_18__out_12__loss_mae__bksize_200__bkact_relu__dir_uni'): 10,\n",
       " PosixPath('/home/thanos/projects/ae_pred/results/inp_18__out_8__loss_mae__bksize_100__bkact_tanh__dir_bi'): 10,\n",
       " PosixPath('/home/thanos/projects/ae_pred/results/inp_12__out_12__loss_mae__bksize_25__bkact_relu__dir_bi'): 10,\n",
       " PosixPath('/home/thanos/projects/ae_pred/results/inp_18__out_12__loss_mae__bksize_50__bkact_tanh__dir_uni'): 10,\n",
       " PosixPath('/home/thanos/projects/ae_pred/results/inp_18__out_6__loss_mae__bksize_50__bkact_tanh__dir_bi'): 10,\n",
       " PosixPath('/home/thanos/projects/ae_pred/results/inp_30__out_12__loss_mae__bksize_100__bkact_tanh__dir_bi'): 10,\n",
       " PosixPath('/home/thanos/projects/ae_pred/results/inp_18__out_6__loss_mae__bksize_25__bkact_relu__dir_bi'): 10,\n",
       " PosixPath('/home/thanos/projects/ae_pred/results/inp_18__out_12__loss_mse__bksize_200__bkact_tanh__dir_uni'): 10,\n",
       " PosixPath('/home/thanos/projects/ae_pred/results/inp_18__out_12__loss_mse__bksize_25__bkact_leaky__dir_bi'): 10,\n",
       " PosixPath('/home/thanos/projects/ae_pred/results/inp_12__out_12__loss_mae__bksize_50__bkact_tanh__dir_uni'): 10,\n",
       " PosixPath('/home/thanos/projects/ae_pred/results/inp_18__out_6__loss_mae__bksize_50__bkact_leaky__dir_bi'): 10,\n",
       " PosixPath('/home/thanos/projects/ae_pred/results/inp_30__out_12__loss_mae__bksize_200__bkact_relu__dir_bi'): 10,\n",
       " PosixPath('/home/thanos/projects/ae_pred/results/inp_18__out_14__loss_mae__bksize_25__bkact_tanh__dir_bi'): 10,\n",
       " PosixPath('/home/thanos/projects/ae_pred/results/inp_18__out_14__loss_mae__bksize_50__bkact_leaky__dir_bi'): 10}"
      ]
     },
     "execution_count": 100,
     "metadata": {},
     "output_type": "execute_result"
    }
   ],
   "source": [
    "tracked"
   ]
  },
  {
   "cell_type": "code",
   "execution_count": 102,
   "metadata": {},
   "outputs": [
    {
     "data": {
      "text/html": [
       "<div>\n",
       "<style scoped>\n",
       "    .dataframe tbody tr th:only-of-type {\n",
       "        vertical-align: middle;\n",
       "    }\n",
       "\n",
       "    .dataframe tbody tr th {\n",
       "        vertical-align: top;\n",
       "    }\n",
       "\n",
       "    .dataframe thead th {\n",
       "        text-align: right;\n",
       "    }\n",
       "</style>\n",
       "<table border=\"1\" class=\"dataframe\">\n",
       "  <thead>\n",
       "    <tr style=\"text-align: right;\">\n",
       "      <th></th>\n",
       "      <th>input_len</th>\n",
       "      <th>output_len</th>\n",
       "      <th>loss</th>\n",
       "      <th>bottleneck_size</th>\n",
       "      <th>bottleneck_activation</th>\n",
       "      <th>model_type</th>\n",
       "      <th>num</th>\n",
       "      <th>smape</th>\n",
       "      <th>mase*</th>\n",
       "      <th>line</th>\n",
       "      <th>aug</th>\n",
       "    </tr>\n",
       "  </thead>\n",
       "  <tbody>\n",
       "    <tr>\n",
       "      <th>0</th>\n",
       "      <td>12</td>\n",
       "      <td>14</td>\n",
       "      <td>mae</td>\n",
       "      <td>50</td>\n",
       "      <td>leaky</td>\n",
       "      <td>bi</td>\n",
       "      <td>0.0</td>\n",
       "      <td>13.405300</td>\n",
       "      <td>2.532372</td>\n",
       "      <td>NaN</td>\n",
       "      <td>NaN</td>\n",
       "    </tr>\n",
       "    <tr>\n",
       "      <th>1</th>\n",
       "      <td>12</td>\n",
       "      <td>14</td>\n",
       "      <td>mae</td>\n",
       "      <td>50</td>\n",
       "      <td>leaky</td>\n",
       "      <td>bi</td>\n",
       "      <td>1.0</td>\n",
       "      <td>13.445699</td>\n",
       "      <td>2.544040</td>\n",
       "      <td>NaN</td>\n",
       "      <td>NaN</td>\n",
       "    </tr>\n",
       "    <tr>\n",
       "      <th>2</th>\n",
       "      <td>12</td>\n",
       "      <td>14</td>\n",
       "      <td>mae</td>\n",
       "      <td>50</td>\n",
       "      <td>leaky</td>\n",
       "      <td>bi</td>\n",
       "      <td>2.0</td>\n",
       "      <td>13.662304</td>\n",
       "      <td>2.522017</td>\n",
       "      <td>NaN</td>\n",
       "      <td>NaN</td>\n",
       "    </tr>\n",
       "    <tr>\n",
       "      <th>3</th>\n",
       "      <td>12</td>\n",
       "      <td>14</td>\n",
       "      <td>mae</td>\n",
       "      <td>50</td>\n",
       "      <td>leaky</td>\n",
       "      <td>bi</td>\n",
       "      <td>3.0</td>\n",
       "      <td>13.194567</td>\n",
       "      <td>2.481089</td>\n",
       "      <td>NaN</td>\n",
       "      <td>NaN</td>\n",
       "    </tr>\n",
       "    <tr>\n",
       "      <th>4</th>\n",
       "      <td>12</td>\n",
       "      <td>14</td>\n",
       "      <td>mae</td>\n",
       "      <td>50</td>\n",
       "      <td>leaky</td>\n",
       "      <td>bi</td>\n",
       "      <td>4.0</td>\n",
       "      <td>13.441853</td>\n",
       "      <td>2.509974</td>\n",
       "      <td>NaN</td>\n",
       "      <td>NaN</td>\n",
       "    </tr>\n",
       "    <tr>\n",
       "      <th>...</th>\n",
       "      <td>...</td>\n",
       "      <td>...</td>\n",
       "      <td>...</td>\n",
       "      <td>...</td>\n",
       "      <td>...</td>\n",
       "      <td>...</td>\n",
       "      <td>...</td>\n",
       "      <td>...</td>\n",
       "      <td>...</td>\n",
       "      <td>...</td>\n",
       "      <td>...</td>\n",
       "    </tr>\n",
       "    <tr>\n",
       "      <th>3793</th>\n",
       "      <td>30</td>\n",
       "      <td>12</td>\n",
       "      <td>mae</td>\n",
       "      <td>200</td>\n",
       "      <td>relu</td>\n",
       "      <td>bi</td>\n",
       "      <td>6.0</td>\n",
       "      <td>13.281983</td>\n",
       "      <td>3.701355</td>\n",
       "      <td>False</td>\n",
       "      <td>False</td>\n",
       "    </tr>\n",
       "    <tr>\n",
       "      <th>3794</th>\n",
       "      <td>30</td>\n",
       "      <td>12</td>\n",
       "      <td>mae</td>\n",
       "      <td>200</td>\n",
       "      <td>relu</td>\n",
       "      <td>bi</td>\n",
       "      <td>7.0</td>\n",
       "      <td>13.521954</td>\n",
       "      <td>3.731049</td>\n",
       "      <td>False</td>\n",
       "      <td>False</td>\n",
       "    </tr>\n",
       "    <tr>\n",
       "      <th>3795</th>\n",
       "      <td>30</td>\n",
       "      <td>12</td>\n",
       "      <td>mae</td>\n",
       "      <td>200</td>\n",
       "      <td>relu</td>\n",
       "      <td>bi</td>\n",
       "      <td>8.0</td>\n",
       "      <td>13.483885</td>\n",
       "      <td>3.775949</td>\n",
       "      <td>False</td>\n",
       "      <td>False</td>\n",
       "    </tr>\n",
       "    <tr>\n",
       "      <th>3796</th>\n",
       "      <td>30</td>\n",
       "      <td>12</td>\n",
       "      <td>mae</td>\n",
       "      <td>200</td>\n",
       "      <td>relu</td>\n",
       "      <td>bi</td>\n",
       "      <td>9.0</td>\n",
       "      <td>13.309139</td>\n",
       "      <td>3.711472</td>\n",
       "      <td>False</td>\n",
       "      <td>False</td>\n",
       "    </tr>\n",
       "    <tr>\n",
       "      <th>3797</th>\n",
       "      <td>30</td>\n",
       "      <td>12</td>\n",
       "      <td>mae</td>\n",
       "      <td>200</td>\n",
       "      <td>relu</td>\n",
       "      <td>bi</td>\n",
       "      <td>NaN</td>\n",
       "      <td>13.245076</td>\n",
       "      <td>3.711206</td>\n",
       "      <td>False</td>\n",
       "      <td>False</td>\n",
       "    </tr>\n",
       "  </tbody>\n",
       "</table>\n",
       "<p>3798 rows × 11 columns</p>\n",
       "</div>"
      ],
      "text/plain": [
       "      input_len  output_len loss  bottleneck_size bottleneck_activation  \\\n",
       "0            12          14  mae               50                 leaky   \n",
       "1            12          14  mae               50                 leaky   \n",
       "2            12          14  mae               50                 leaky   \n",
       "3            12          14  mae               50                 leaky   \n",
       "4            12          14  mae               50                 leaky   \n",
       "...         ...         ...  ...              ...                   ...   \n",
       "3793         30          12  mae              200                  relu   \n",
       "3794         30          12  mae              200                  relu   \n",
       "3795         30          12  mae              200                  relu   \n",
       "3796         30          12  mae              200                  relu   \n",
       "3797         30          12  mae              200                  relu   \n",
       "\n",
       "     model_type  num      smape     mase*   line    aug  \n",
       "0            bi  0.0  13.405300  2.532372    NaN    NaN  \n",
       "1            bi  1.0  13.445699  2.544040    NaN    NaN  \n",
       "2            bi  2.0  13.662304  2.522017    NaN    NaN  \n",
       "3            bi  3.0  13.194567  2.481089    NaN    NaN  \n",
       "4            bi  4.0  13.441853  2.509974    NaN    NaN  \n",
       "...         ...  ...        ...       ...    ...    ...  \n",
       "3793         bi  6.0  13.281983  3.701355  False  False  \n",
       "3794         bi  7.0  13.521954  3.731049  False  False  \n",
       "3795         bi  8.0  13.483885  3.775949  False  False  \n",
       "3796         bi  9.0  13.309139  3.711472  False  False  \n",
       "3797         bi  NaN  13.245076  3.711206  False  False  \n",
       "\n",
       "[3798 rows x 11 columns]"
      ]
     },
     "execution_count": 102,
     "metadata": {},
     "output_type": "execute_result"
    }
   ],
   "source": [
    "df = pd.read_csv('../reports/result_df.csv')\n",
    "df"
   ]
  },
  {
   "cell_type": "code",
   "execution_count": 107,
   "metadata": {},
   "outputs": [
    {
     "data": {
      "text/html": [
       "<div>\n",
       "<style scoped>\n",
       "    .dataframe tbody tr th:only-of-type {\n",
       "        vertical-align: middle;\n",
       "    }\n",
       "\n",
       "    .dataframe tbody tr th {\n",
       "        vertical-align: top;\n",
       "    }\n",
       "\n",
       "    .dataframe thead th {\n",
       "        text-align: right;\n",
       "    }\n",
       "</style>\n",
       "<table border=\"1\" class=\"dataframe\">\n",
       "  <thead>\n",
       "    <tr style=\"text-align: right;\">\n",
       "      <th></th>\n",
       "      <th>input_len</th>\n",
       "      <th>output_len</th>\n",
       "      <th>loss</th>\n",
       "      <th>bottleneck_size</th>\n",
       "      <th>bottleneck_activation</th>\n",
       "      <th>model_type</th>\n",
       "      <th>num</th>\n",
       "      <th>smape</th>\n",
       "      <th>mase*</th>\n",
       "      <th>line</th>\n",
       "      <th>aug</th>\n",
       "    </tr>\n",
       "  </thead>\n",
       "  <tbody>\n",
       "    <tr>\n",
       "      <th>1509</th>\n",
       "      <td>12</td>\n",
       "      <td>12</td>\n",
       "      <td>mae</td>\n",
       "      <td>50</td>\n",
       "      <td>leaky</td>\n",
       "      <td>uni</td>\n",
       "      <td>0.0</td>\n",
       "      <td>13.443880</td>\n",
       "      <td>2.550529</td>\n",
       "      <td>False</td>\n",
       "      <td>False</td>\n",
       "    </tr>\n",
       "    <tr>\n",
       "      <th>1510</th>\n",
       "      <td>12</td>\n",
       "      <td>12</td>\n",
       "      <td>mae</td>\n",
       "      <td>50</td>\n",
       "      <td>leaky</td>\n",
       "      <td>uni</td>\n",
       "      <td>1.0</td>\n",
       "      <td>13.466812</td>\n",
       "      <td>2.554271</td>\n",
       "      <td>False</td>\n",
       "      <td>False</td>\n",
       "    </tr>\n",
       "    <tr>\n",
       "      <th>1511</th>\n",
       "      <td>12</td>\n",
       "      <td>12</td>\n",
       "      <td>mae</td>\n",
       "      <td>50</td>\n",
       "      <td>leaky</td>\n",
       "      <td>uni</td>\n",
       "      <td>2.0</td>\n",
       "      <td>13.380401</td>\n",
       "      <td>2.522995</td>\n",
       "      <td>False</td>\n",
       "      <td>False</td>\n",
       "    </tr>\n",
       "    <tr>\n",
       "      <th>1512</th>\n",
       "      <td>12</td>\n",
       "      <td>12</td>\n",
       "      <td>mae</td>\n",
       "      <td>50</td>\n",
       "      <td>leaky</td>\n",
       "      <td>uni</td>\n",
       "      <td>3.0</td>\n",
       "      <td>13.638560</td>\n",
       "      <td>2.610401</td>\n",
       "      <td>False</td>\n",
       "      <td>False</td>\n",
       "    </tr>\n",
       "    <tr>\n",
       "      <th>1513</th>\n",
       "      <td>12</td>\n",
       "      <td>12</td>\n",
       "      <td>mae</td>\n",
       "      <td>50</td>\n",
       "      <td>leaky</td>\n",
       "      <td>uni</td>\n",
       "      <td>4.0</td>\n",
       "      <td>13.580578</td>\n",
       "      <td>2.583391</td>\n",
       "      <td>False</td>\n",
       "      <td>False</td>\n",
       "    </tr>\n",
       "    <tr>\n",
       "      <th>...</th>\n",
       "      <td>...</td>\n",
       "      <td>...</td>\n",
       "      <td>...</td>\n",
       "      <td>...</td>\n",
       "      <td>...</td>\n",
       "      <td>...</td>\n",
       "      <td>...</td>\n",
       "      <td>...</td>\n",
       "      <td>...</td>\n",
       "      <td>...</td>\n",
       "      <td>...</td>\n",
       "    </tr>\n",
       "    <tr>\n",
       "      <th>3793</th>\n",
       "      <td>30</td>\n",
       "      <td>12</td>\n",
       "      <td>mae</td>\n",
       "      <td>200</td>\n",
       "      <td>relu</td>\n",
       "      <td>bi</td>\n",
       "      <td>6.0</td>\n",
       "      <td>13.281983</td>\n",
       "      <td>3.701355</td>\n",
       "      <td>False</td>\n",
       "      <td>False</td>\n",
       "    </tr>\n",
       "    <tr>\n",
       "      <th>3794</th>\n",
       "      <td>30</td>\n",
       "      <td>12</td>\n",
       "      <td>mae</td>\n",
       "      <td>200</td>\n",
       "      <td>relu</td>\n",
       "      <td>bi</td>\n",
       "      <td>7.0</td>\n",
       "      <td>13.521954</td>\n",
       "      <td>3.731049</td>\n",
       "      <td>False</td>\n",
       "      <td>False</td>\n",
       "    </tr>\n",
       "    <tr>\n",
       "      <th>3795</th>\n",
       "      <td>30</td>\n",
       "      <td>12</td>\n",
       "      <td>mae</td>\n",
       "      <td>200</td>\n",
       "      <td>relu</td>\n",
       "      <td>bi</td>\n",
       "      <td>8.0</td>\n",
       "      <td>13.483885</td>\n",
       "      <td>3.775949</td>\n",
       "      <td>False</td>\n",
       "      <td>False</td>\n",
       "    </tr>\n",
       "    <tr>\n",
       "      <th>3796</th>\n",
       "      <td>30</td>\n",
       "      <td>12</td>\n",
       "      <td>mae</td>\n",
       "      <td>200</td>\n",
       "      <td>relu</td>\n",
       "      <td>bi</td>\n",
       "      <td>9.0</td>\n",
       "      <td>13.309139</td>\n",
       "      <td>3.711472</td>\n",
       "      <td>False</td>\n",
       "      <td>False</td>\n",
       "    </tr>\n",
       "    <tr>\n",
       "      <th>3797</th>\n",
       "      <td>30</td>\n",
       "      <td>12</td>\n",
       "      <td>mae</td>\n",
       "      <td>200</td>\n",
       "      <td>relu</td>\n",
       "      <td>bi</td>\n",
       "      <td>NaN</td>\n",
       "      <td>13.245076</td>\n",
       "      <td>3.711206</td>\n",
       "      <td>False</td>\n",
       "      <td>False</td>\n",
       "    </tr>\n",
       "  </tbody>\n",
       "</table>\n",
       "<p>2289 rows × 11 columns</p>\n",
       "</div>"
      ],
      "text/plain": [
       "      input_len  output_len loss  bottleneck_size bottleneck_activation  \\\n",
       "1509         12          12  mae               50                 leaky   \n",
       "1510         12          12  mae               50                 leaky   \n",
       "1511         12          12  mae               50                 leaky   \n",
       "1512         12          12  mae               50                 leaky   \n",
       "1513         12          12  mae               50                 leaky   \n",
       "...         ...         ...  ...              ...                   ...   \n",
       "3793         30          12  mae              200                  relu   \n",
       "3794         30          12  mae              200                  relu   \n",
       "3795         30          12  mae              200                  relu   \n",
       "3796         30          12  mae              200                  relu   \n",
       "3797         30          12  mae              200                  relu   \n",
       "\n",
       "     model_type  num      smape     mase*   line    aug  \n",
       "1509        uni  0.0  13.443880  2.550529  False  False  \n",
       "1510        uni  1.0  13.466812  2.554271  False  False  \n",
       "1511        uni  2.0  13.380401  2.522995  False  False  \n",
       "1512        uni  3.0  13.638560  2.610401  False  False  \n",
       "1513        uni  4.0  13.580578  2.583391  False  False  \n",
       "...         ...  ...        ...       ...    ...    ...  \n",
       "3793         bi  6.0  13.281983  3.701355  False  False  \n",
       "3794         bi  7.0  13.521954  3.731049  False  False  \n",
       "3795         bi  8.0  13.483885  3.775949  False  False  \n",
       "3796         bi  9.0  13.309139  3.711472  False  False  \n",
       "3797         bi  NaN  13.245076  3.711206  False  False  \n",
       "\n",
       "[2289 rows x 11 columns]"
      ]
     },
     "execution_count": 107,
     "metadata": {},
     "output_type": "execute_result"
    }
   ],
   "source": [
    "df[df['aug'] == False]"
   ]
  },
  {
   "cell_type": "code",
   "execution_count": 108,
   "metadata": {},
   "outputs": [],
   "source": [
    "df['line'] = df['line'].fillna(False)\n",
    "df['aug'] = df['aug'].fillna(False)"
   ]
  },
  {
   "cell_type": "code",
   "execution_count": 109,
   "metadata": {},
   "outputs": [],
   "source": [
    "df.to_csv('../reports/result_df.csv', index=False)"
   ]
  },
  {
   "cell_type": "code",
   "execution_count": 112,
   "metadata": {},
   "outputs": [],
   "source": [
    "with open('../reports/tracked.pkl', 'wb') as f:\n",
    "    pkl.dump(tracked, f)"
   ]
  },
  {
   "cell_type": "code",
   "execution_count": null,
   "metadata": {},
   "outputs": [],
   "source": []
  }
 ],
 "metadata": {
  "kernelspec": {
   "display_name": "Python 3",
   "language": "python",
   "name": "python3"
  },
  "language_info": {
   "codemirror_mode": {
    "name": "ipython",
    "version": 3
   },
   "file_extension": ".py",
   "mimetype": "text/x-python",
   "name": "python",
   "nbconvert_exporter": "python",
   "pygments_lexer": "ipython3",
   "version": "3.6.9"
  }
 },
 "nbformat": 4,
 "nbformat_minor": 4
}
