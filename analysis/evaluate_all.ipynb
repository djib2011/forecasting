{
 "cells": [
  {
   "cell_type": "code",
   "execution_count": 1,
   "metadata": {},
   "outputs": [],
   "source": [
    "from pathlib import Path\n",
    "import numpy as np\n",
    "import pandas as pd\n",
    "import matplotlib.pyplot as plt\n",
    "import seaborn as sns\n",
    "from tqdm import tqdm\n",
    "from sklearn.model_selection import train_test_split\n",
    "import pickle as pkl\n",
    "import tensorflow as tf\n",
    "import metrics\n",
    "\n",
    "import warnings\n",
    "warnings.filterwarnings('once')"
   ]
  },
  {
   "cell_type": "code",
   "execution_count": 2,
   "metadata": {},
   "outputs": [],
   "source": [
    "mape = metrics.build_mape(overlap=6)\n",
    "smape = metrics.build_smape(overlap=6)\n",
    "mase_estimate = metrics.build_mase(overlap=6)\n",
    "owa_estimate = metrics.build_owa(overlap=6)\n",
    "reconstruction_loss = metrics.build_reconstruction_loss(overlap=6)"
   ]
  },
  {
   "cell_type": "code",
   "execution_count": 3,
   "metadata": {},
   "outputs": [],
   "source": [
    "def MASE(x, y, p):\n",
    "    nom = np.mean(np.abs(y - p), axis=1)\n",
    "    denom = np.mean(np.abs(x[:, 1:] - x[:, :-1]), axis=1) + np.finfo('float').eps\n",
    "    return nom / denom\n",
    "\n",
    "def SMAPE(y, p):\n",
    "    nom = np.abs(y - p)\n",
    "    denom = np.abs(y) + np.abs(p) + np.finfo('float').eps\n",
    "    return 2 * np.mean(nom / denom, axis=1) * 100\n",
    "\n",
    "def OWA(x, y, p):\n",
    "    rel_smape = SMAPE(y, p) / 15.201\n",
    "    rel_mase = MASE(x, y, p) / 1.685\n",
    "    return (rel_smape + rel_mase) / 2"
   ]
  },
  {
   "cell_type": "code",
   "execution_count": 4,
   "metadata": {},
   "outputs": [],
   "source": [
    "train_path = Path('../M4-methods/Dataset/Train/Yearly-train.csv')\n",
    "test_path = Path('../M4-methods/Dataset/Test/Yearly-test.csv')"
   ]
  },
  {
   "cell_type": "code",
   "execution_count": 5,
   "metadata": {},
   "outputs": [],
   "source": [
    "train = pd.read_csv(train_path).drop('V1', axis=1)\n",
    "test = pd.read_csv(test_path).drop('V1', axis=1)"
   ]
  },
  {
   "cell_type": "code",
   "execution_count": 6,
   "metadata": {},
   "outputs": [],
   "source": [
    "def get_last_12(series):\n",
    "    return series.dropna().iloc[-12:].values"
   ]
  },
  {
   "cell_type": "code",
   "execution_count": 7,
   "metadata": {},
   "outputs": [],
   "source": [
    "X_test = np.array([get_last_12(ser[1]) for ser in train.iterrows()])\n",
    "y_test = test.values"
   ]
  },
  {
   "cell_type": "code",
   "execution_count": 8,
   "metadata": {},
   "outputs": [],
   "source": [
    "def get_predictions(model, X):\n",
    "    \n",
    "    preds = []\n",
    "    \n",
    "    for i in range(len(X) // 256):\n",
    "        x = X[i * 256:(i+1) * 256]\n",
    "\n",
    "        mn, mx = x.min(axis=1).reshape(-1, 1), x.max(axis=1).reshape(-1, 1) \n",
    "        x_sc = (x - mn) / (mx - mn)\n",
    "        pred = model(x_sc[..., np.newaxis]) \n",
    "        preds.append(pred[..., 0] * (mx - mn) + mn)\n",
    "\n",
    "    x = X[(i+1) * 256:]\n",
    "    mn, mx = x.min(axis=1).reshape(-1, 1), x.max(axis=1).reshape(-1, 1) \n",
    "    x_sc = (x - mn) / (mx - mn)\n",
    "    pred = model(x_sc[..., np.newaxis]) \n",
    "    preds.append(pred[..., 0] * (mx - mn) + mn)\n",
    "\n",
    "    return np.vstack(preds)"
   ]
  },
  {
   "cell_type": "code",
   "execution_count": 9,
   "metadata": {},
   "outputs": [
    {
     "name": "stderr",
     "output_type": "stream",
     "text": [
      "/home/thanos/.envs/fsu/lib/python3.6/site-packages/ipykernel_launcher.py:9: RuntimeWarning: invalid value encountered in true_divide\n",
      "  if __name__ == '__main__':\n",
      "/home/thanos/.envs/fsu/lib/python3.6/site-packages/ipykernel_launcher.py:9: RuntimeWarning: invalid value encountered in true_divide\n",
      "  if __name__ == '__main__':\n",
      "/home/thanos/.envs/fsu/lib/python3.6/site-packages/ipykernel_launcher.py:9: RuntimeWarning: invalid value encountered in true_divide\n",
      "  if __name__ == '__main__':\n",
      "/home/thanos/.envs/fsu/lib/python3.6/site-packages/ipykernel_launcher.py:9: RuntimeWarning: invalid value encountered in true_divide\n",
      "  if __name__ == '__main__':\n",
      "/home/thanos/.envs/fsu/lib/python3.6/site-packages/ipykernel_launcher.py:9: RuntimeWarning: invalid value encountered in true_divide\n",
      "  if __name__ == '__main__':\n",
      "/home/thanos/.envs/fsu/lib/python3.6/site-packages/ipykernel_launcher.py:9: RuntimeWarning: invalid value encountered in true_divide\n",
      "  if __name__ == '__main__':\n",
      "/home/thanos/.envs/fsu/lib/python3.6/site-packages/ipykernel_launcher.py:9: RuntimeWarning: invalid value encountered in true_divide\n",
      "  if __name__ == '__main__':\n",
      "/home/thanos/.envs/fsu/lib/python3.6/site-packages/ipykernel_launcher.py:9: RuntimeWarning: invalid value encountered in true_divide\n",
      "  if __name__ == '__main__':\n",
      "/home/thanos/.envs/fsu/lib/python3.6/site-packages/ipykernel_launcher.py:9: RuntimeWarning: invalid value encountered in true_divide\n",
      "  if __name__ == '__main__':\n",
      "/home/thanos/.envs/fsu/lib/python3.6/site-packages/ipykernel_launcher.py:9: RuntimeWarning: invalid value encountered in true_divide\n",
      "  if __name__ == '__main__':\n",
      "/home/thanos/.envs/fsu/lib/python3.6/site-packages/ipykernel_launcher.py:9: RuntimeWarning: invalid value encountered in true_divide\n",
      "  if __name__ == '__main__':\n",
      "/home/thanos/.envs/fsu/lib/python3.6/site-packages/ipykernel_launcher.py:9: RuntimeWarning: invalid value encountered in true_divide\n",
      "  if __name__ == '__main__':\n",
      "/home/thanos/.envs/fsu/lib/python3.6/site-packages/ipykernel_launcher.py:9: RuntimeWarning: invalid value encountered in true_divide\n",
      "  if __name__ == '__main__':\n",
      "/home/thanos/.envs/fsu/lib/python3.6/site-packages/ipykernel_launcher.py:9: RuntimeWarning: invalid value encountered in true_divide\n",
      "  if __name__ == '__main__':\n",
      "/home/thanos/.envs/fsu/lib/python3.6/site-packages/ipykernel_launcher.py:9: RuntimeWarning: invalid value encountered in true_divide\n",
      "  if __name__ == '__main__':\n",
      "/home/thanos/.envs/fsu/lib/python3.6/site-packages/ipykernel_launcher.py:9: RuntimeWarning: invalid value encountered in true_divide\n",
      "  if __name__ == '__main__':\n",
      "/home/thanos/.envs/fsu/lib/python3.6/site-packages/ipykernel_launcher.py:9: RuntimeWarning: invalid value encountered in true_divide\n",
      "  if __name__ == '__main__':\n",
      "/home/thanos/.envs/fsu/lib/python3.6/site-packages/ipykernel_launcher.py:9: RuntimeWarning: invalid value encountered in true_divide\n",
      "  if __name__ == '__main__':\n",
      "/home/thanos/.envs/fsu/lib/python3.6/site-packages/ipykernel_launcher.py:9: RuntimeWarning: invalid value encountered in true_divide\n",
      "  if __name__ == '__main__':\n",
      "/home/thanos/.envs/fsu/lib/python3.6/site-packages/ipykernel_launcher.py:9: RuntimeWarning: invalid value encountered in true_divide\n",
      "  if __name__ == '__main__':\n",
      "/home/thanos/.envs/fsu/lib/python3.6/site-packages/ipykernel_launcher.py:9: RuntimeWarning: invalid value encountered in true_divide\n",
      "  if __name__ == '__main__':\n",
      "/home/thanos/.envs/fsu/lib/python3.6/site-packages/ipykernel_launcher.py:9: RuntimeWarning: invalid value encountered in true_divide\n",
      "  if __name__ == '__main__':\n",
      "/home/thanos/.envs/fsu/lib/python3.6/site-packages/ipykernel_launcher.py:9: RuntimeWarning: invalid value encountered in true_divide\n",
      "  if __name__ == '__main__':\n",
      "/home/thanos/.envs/fsu/lib/python3.6/site-packages/ipykernel_launcher.py:9: RuntimeWarning: invalid value encountered in true_divide\n",
      "  if __name__ == '__main__':\n",
      "/home/thanos/.envs/fsu/lib/python3.6/site-packages/ipykernel_launcher.py:9: RuntimeWarning: invalid value encountered in true_divide\n",
      "  if __name__ == '__main__':\n",
      "/home/thanos/.envs/fsu/lib/python3.6/site-packages/ipykernel_launcher.py:9: RuntimeWarning: invalid value encountered in true_divide\n",
      "  if __name__ == '__main__':\n",
      "/home/thanos/.envs/fsu/lib/python3.6/site-packages/ipykernel_launcher.py:9: RuntimeWarning: invalid value encountered in true_divide\n",
      "  if __name__ == '__main__':\n",
      "/home/thanos/.envs/fsu/lib/python3.6/site-packages/ipykernel_launcher.py:9: RuntimeWarning: invalid value encountered in true_divide\n",
      "  if __name__ == '__main__':\n",
      "/home/thanos/.envs/fsu/lib/python3.6/site-packages/ipykernel_launcher.py:9: RuntimeWarning: invalid value encountered in true_divide\n",
      "  if __name__ == '__main__':\n",
      "/home/thanos/.envs/fsu/lib/python3.6/site-packages/ipykernel_launcher.py:9: RuntimeWarning: invalid value encountered in true_divide\n",
      "  if __name__ == '__main__':\n",
      "/home/thanos/.envs/fsu/lib/python3.6/site-packages/ipykernel_launcher.py:9: RuntimeWarning: invalid value encountered in true_divide\n",
      "  if __name__ == '__main__':\n",
      "/home/thanos/.envs/fsu/lib/python3.6/site-packages/ipykernel_launcher.py:9: RuntimeWarning: invalid value encountered in true_divide\n",
      "  if __name__ == '__main__':\n",
      "/home/thanos/.envs/fsu/lib/python3.6/site-packages/ipykernel_launcher.py:9: RuntimeWarning: invalid value encountered in true_divide\n",
      "  if __name__ == '__main__':\n",
      "/home/thanos/.envs/fsu/lib/python3.6/site-packages/ipykernel_launcher.py:9: RuntimeWarning: invalid value encountered in true_divide\n",
      "  if __name__ == '__main__':\n",
      "/home/thanos/.envs/fsu/lib/python3.6/site-packages/ipykernel_launcher.py:9: RuntimeWarning: invalid value encountered in true_divide\n",
      "  if __name__ == '__main__':\n",
      "/home/thanos/.envs/fsu/lib/python3.6/site-packages/ipykernel_launcher.py:9: RuntimeWarning: invalid value encountered in true_divide\n",
      "  if __name__ == '__main__':\n",
      "/home/thanos/.envs/fsu/lib/python3.6/site-packages/ipykernel_launcher.py:9: RuntimeWarning: invalid value encountered in true_divide\n",
      "  if __name__ == '__main__':\n",
      "/home/thanos/.envs/fsu/lib/python3.6/site-packages/ipykernel_launcher.py:9: RuntimeWarning: invalid value encountered in true_divide\n",
      "  if __name__ == '__main__':\n",
      "/home/thanos/.envs/fsu/lib/python3.6/site-packages/ipykernel_launcher.py:9: RuntimeWarning: invalid value encountered in true_divide\n",
      "  if __name__ == '__main__':\n",
      "/home/thanos/.envs/fsu/lib/python3.6/site-packages/ipykernel_launcher.py:9: RuntimeWarning: invalid value encountered in true_divide\n",
      "  if __name__ == '__main__':\n",
      "/home/thanos/.envs/fsu/lib/python3.6/site-packages/ipykernel_launcher.py:9: RuntimeWarning: invalid value encountered in true_divide\n",
      "  if __name__ == '__main__':\n",
      "/home/thanos/.envs/fsu/lib/python3.6/site-packages/ipykernel_launcher.py:9: RuntimeWarning: invalid value encountered in true_divide\n",
      "  if __name__ == '__main__':\n",
      "/home/thanos/.envs/fsu/lib/python3.6/site-packages/ipykernel_launcher.py:9: RuntimeWarning: invalid value encountered in true_divide\n",
      "  if __name__ == '__main__':\n",
      "/home/thanos/.envs/fsu/lib/python3.6/site-packages/ipykernel_launcher.py:9: RuntimeWarning: invalid value encountered in true_divide\n",
      "  if __name__ == '__main__':\n",
      "/home/thanos/.envs/fsu/lib/python3.6/site-packages/ipykernel_launcher.py:9: RuntimeWarning: invalid value encountered in true_divide\n",
      "  if __name__ == '__main__':\n",
      "/home/thanos/.envs/fsu/lib/python3.6/site-packages/ipykernel_launcher.py:9: RuntimeWarning: invalid value encountered in true_divide\n",
      "  if __name__ == '__main__':\n",
      "/home/thanos/.envs/fsu/lib/python3.6/site-packages/ipykernel_launcher.py:9: RuntimeWarning: invalid value encountered in true_divide\n",
      "  if __name__ == '__main__':\n",
      "/home/thanos/.envs/fsu/lib/python3.6/site-packages/ipykernel_launcher.py:9: RuntimeWarning: invalid value encountered in true_divide\n",
      "  if __name__ == '__main__':\n",
      "/home/thanos/.envs/fsu/lib/python3.6/site-packages/ipykernel_launcher.py:9: RuntimeWarning: invalid value encountered in true_divide\n",
      "  if __name__ == '__main__':\n",
      "/home/thanos/.envs/fsu/lib/python3.6/site-packages/ipykernel_launcher.py:9: RuntimeWarning: invalid value encountered in true_divide\n",
      "  if __name__ == '__main__':\n",
      "/home/thanos/.envs/fsu/lib/python3.6/site-packages/ipykernel_launcher.py:9: RuntimeWarning: invalid value encountered in true_divide\n",
      "  if __name__ == '__main__':\n"
     ]
    },
    {
     "name": "stderr",
     "output_type": "stream",
     "text": [
      "/home/thanos/.envs/fsu/lib/python3.6/site-packages/ipykernel_launcher.py:9: RuntimeWarning: invalid value encountered in true_divide\n",
      "  if __name__ == '__main__':\n",
      "/home/thanos/.envs/fsu/lib/python3.6/site-packages/ipykernel_launcher.py:9: RuntimeWarning: invalid value encountered in true_divide\n",
      "  if __name__ == '__main__':\n",
      "/home/thanos/.envs/fsu/lib/python3.6/site-packages/ipykernel_launcher.py:9: RuntimeWarning: invalid value encountered in true_divide\n",
      "  if __name__ == '__main__':\n",
      "/home/thanos/.envs/fsu/lib/python3.6/site-packages/ipykernel_launcher.py:9: RuntimeWarning: invalid value encountered in true_divide\n",
      "  if __name__ == '__main__':\n",
      "/home/thanos/.envs/fsu/lib/python3.6/site-packages/ipykernel_launcher.py:9: RuntimeWarning: invalid value encountered in true_divide\n",
      "  if __name__ == '__main__':\n",
      "/home/thanos/.envs/fsu/lib/python3.6/site-packages/ipykernel_launcher.py:9: RuntimeWarning: invalid value encountered in true_divide\n",
      "  if __name__ == '__main__':\n",
      "/home/thanos/.envs/fsu/lib/python3.6/site-packages/ipykernel_launcher.py:9: RuntimeWarning: invalid value encountered in true_divide\n",
      "  if __name__ == '__main__':\n",
      "/home/thanos/.envs/fsu/lib/python3.6/site-packages/ipykernel_launcher.py:9: RuntimeWarning: invalid value encountered in true_divide\n",
      "  if __name__ == '__main__':\n",
      "/home/thanos/.envs/fsu/lib/python3.6/site-packages/ipykernel_launcher.py:9: RuntimeWarning: invalid value encountered in true_divide\n",
      "  if __name__ == '__main__':\n",
      "/home/thanos/.envs/fsu/lib/python3.6/site-packages/ipykernel_launcher.py:9: RuntimeWarning: invalid value encountered in true_divide\n",
      "  if __name__ == '__main__':\n",
      "/home/thanos/.envs/fsu/lib/python3.6/site-packages/ipykernel_launcher.py:9: RuntimeWarning: invalid value encountered in true_divide\n",
      "  if __name__ == '__main__':\n",
      "/home/thanos/.envs/fsu/lib/python3.6/site-packages/ipykernel_launcher.py:9: RuntimeWarning: invalid value encountered in true_divide\n",
      "  if __name__ == '__main__':\n",
      "/home/thanos/.envs/fsu/lib/python3.6/site-packages/ipykernel_launcher.py:9: RuntimeWarning: invalid value encountered in true_divide\n",
      "  if __name__ == '__main__':\n",
      "/home/thanos/.envs/fsu/lib/python3.6/site-packages/ipykernel_launcher.py:9: RuntimeWarning: invalid value encountered in true_divide\n",
      "  if __name__ == '__main__':\n",
      "/home/thanos/.envs/fsu/lib/python3.6/site-packages/ipykernel_launcher.py:9: RuntimeWarning: invalid value encountered in true_divide\n",
      "  if __name__ == '__main__':\n",
      "/home/thanos/.envs/fsu/lib/python3.6/site-packages/ipykernel_launcher.py:9: RuntimeWarning: invalid value encountered in true_divide\n",
      "  if __name__ == '__main__':\n"
     ]
    }
   ],
   "source": [
    "num_trials = 67\n",
    "results = {'smape': {k: [] for k in range(num_trials)},\n",
    "           'mase': {k: [] for k in range(num_trials)},\n",
    "           'owa': {k: [] for k in range(num_trials)}}\n",
    "\n",
    "for i in range(num_trials):\n",
    "    model_dir = 'results/' + str(i) + '/best_weights.h5'\n",
    "\n",
    "    model = tf.keras.models.load_model(model_dir, custom_objects={'SMAPE': smape,\n",
    "                                                                  'MASE_estimate': mase_estimate,\n",
    "                                                                  'OWA_estimate': owa_estimate,\n",
    "                                                                  'reconstruction_loss': reconstruction_loss})\n",
    "    \n",
    "    preds = get_predictions(model, X_test)\n",
    "    \n",
    "    results['smape'][i].append(np.nanmean(SMAPE(y_test, preds[:, 6:])))\n",
    "    results['mase'][i].append(np.nanmean(MASE(X_test, y_test, preds[:, 6:])))\n",
    "    results['owa'][i].append(np.nanmean(OWA(X_test, y_test, preds[:, 6:])))"
   ]
  },
  {
   "cell_type": "code",
   "execution_count": 10,
   "metadata": {},
   "outputs": [
    {
     "data": {
      "text/plain": [
       "{'smape': {0: [13.307012008856603],\n",
       "  1: [13.312890132023561],\n",
       "  2: [13.412372811814334],\n",
       "  3: [13.448974783492273],\n",
       "  4: [13.600577810297244],\n",
       "  5: [13.462200834565762],\n",
       "  6: [13.479048722286926],\n",
       "  7: [13.474238634632872],\n",
       "  8: [13.436619184876152],\n",
       "  9: [13.211644733815417],\n",
       "  10: [13.412307646974234],\n",
       "  11: [13.341309835606527],\n",
       "  12: [13.544526150932686],\n",
       "  13: [13.42191613944829],\n",
       "  14: [13.55584441425587],\n",
       "  15: [13.577313984547008],\n",
       "  16: [13.288620847689229],\n",
       "  17: [13.473308879904668],\n",
       "  18: [13.498858812325222],\n",
       "  19: [13.431355782473911],\n",
       "  20: [13.485225348845969],\n",
       "  21: [13.24007036221369],\n",
       "  22: [13.525727730629205],\n",
       "  23: [13.434776971088448],\n",
       "  24: [13.634195508570903],\n",
       "  25: [13.40024659870089],\n",
       "  26: [13.682413247205925],\n",
       "  27: [13.430494286281084],\n",
       "  28: [13.356475290755085],\n",
       "  29: [13.366788671204178],\n",
       "  30: [13.488420235800458],\n",
       "  31: [13.550911099115558],\n",
       "  32: [13.577373989292298],\n",
       "  33: [13.557370795872986],\n",
       "  34: [13.475417194438092],\n",
       "  35: [13.354336301197236],\n",
       "  36: [13.330584481400637],\n",
       "  37: [13.175348506531154],\n",
       "  38: [13.287825463700873],\n",
       "  39: [13.345801764874452],\n",
       "  40: [13.240147563354622],\n",
       "  41: [13.493539116819628],\n",
       "  42: [13.286235133947777],\n",
       "  43: [13.305938025088846],\n",
       "  44: [13.416072660544149],\n",
       "  45: [13.31439631459302],\n",
       "  46: [13.57125522726703],\n",
       "  47: [13.236227450233754],\n",
       "  48: [13.388529165422742],\n",
       "  49: [13.286393300566056],\n",
       "  50: [13.624452811215383],\n",
       "  51: [13.387686627768698],\n",
       "  52: [13.408356621427908],\n",
       "  53: [13.396058174252486],\n",
       "  54: [13.445124246428378],\n",
       "  55: [13.318565662424044],\n",
       "  56: [13.600037347169277],\n",
       "  57: [13.432890090112474],\n",
       "  58: [13.553056431855168],\n",
       "  59: [13.27649365963863],\n",
       "  60: [13.327952826843093],\n",
       "  61: [13.550334578424938],\n",
       "  62: [13.34157401990288],\n",
       "  63: [13.50892476760814],\n",
       "  64: [13.357723092253973],\n",
       "  65: [13.32566759405855],\n",
       "  66: [13.536913225535857]},\n",
       " 'mase': {0: [2.5100305402060012],\n",
       "  1: [2.48067277779466],\n",
       "  2: [2.4940301072348428],\n",
       "  3: [2.4947787603959],\n",
       "  4: [2.599860932934271],\n",
       "  5: [2.5526864456959415],\n",
       "  6: [2.5494623668666927],\n",
       "  7: [2.5602966634769895],\n",
       "  8: [2.5510840518170332],\n",
       "  9: [2.470802343828664],\n",
       "  10: [2.533969710325493],\n",
       "  11: [2.513098226603675],\n",
       "  12: [2.5775131368604116],\n",
       "  13: [2.5434316746212007],\n",
       "  14: [2.549216465481972],\n",
       "  15: [2.5305880341846074],\n",
       "  16: [2.5018477371592387],\n",
       "  17: [2.514294065477041],\n",
       "  18: [2.533395626884801],\n",
       "  19: [2.4960001853540223],\n",
       "  20: [2.563005356810824],\n",
       "  21: [2.488125000010031],\n",
       "  22: [2.5891141585442896],\n",
       "  23: [2.5189630043684823],\n",
       "  24: [2.506761926523724],\n",
       "  25: [2.508723723945072],\n",
       "  26: [2.6177729259900064],\n",
       "  27: [2.5332473850750152],\n",
       "  28: [2.511016925662656],\n",
       "  29: [2.4876245943315634],\n",
       "  30: [2.538852762530085],\n",
       "  31: [2.5117050968984893],\n",
       "  32: [2.5506380743104],\n",
       "  33: [2.558864594877247],\n",
       "  34: [2.5164433837055977],\n",
       "  35: [2.4887801762303776],\n",
       "  36: [2.5081349266180215],\n",
       "  37: [2.473241526273387],\n",
       "  38: [2.504588271008389],\n",
       "  39: [2.500825222579805],\n",
       "  40: [2.4971437120402817],\n",
       "  41: [2.5114701531496304],\n",
       "  42: [2.5110464680341686],\n",
       "  43: [2.493888724776234],\n",
       "  44: [2.5226633366926707],\n",
       "  45: [2.4915938805713576],\n",
       "  46: [2.557266773011879],\n",
       "  47: [2.493564742915076],\n",
       "  48: [2.53557563315972],\n",
       "  49: [2.501464338901374],\n",
       "  50: [2.5360744169371516],\n",
       "  51: [2.5200317684090514],\n",
       "  52: [2.528521270719883],\n",
       "  53: [2.535302525652999],\n",
       "  54: [2.5418720025108703],\n",
       "  55: [2.523985824731434],\n",
       "  56: [2.531766887280915],\n",
       "  57: [2.5337762005566558],\n",
       "  58: [2.573845203660676],\n",
       "  59: [2.4954312199014272],\n",
       "  60: [2.5303807765701674],\n",
       "  61: [2.5747098963692494],\n",
       "  62: [2.52936636859578],\n",
       "  63: [2.578960069419703],\n",
       "  64: [2.533991916134762],\n",
       "  65: [2.526970736148342],\n",
       "  66: [2.577636153208619]},\n",
       " 'owa': {0: [1.182518046048329],\n",
       "  1: [1.17399989044365],\n",
       "  2: [1.181235730977093],\n",
       "  3: [1.1826618162705318],\n",
       "  4: [1.2188300834472803],\n",
       "  5: [1.2002801445256182],\n",
       "  6: [1.1998776149506418],\n",
       "  7: [1.202934323602209],\n",
       "  8: [1.1989632104515036],\n",
       "  9: [1.1677407566505662],\n",
       "  10: [1.1930851018080646],\n",
       "  11: [1.1845564825131458],\n",
       "  12: [1.2103550066641462],\n",
       "  13: [1.1962088543855998],\n",
       "  14: [1.2023306550738908],\n",
       "  15: [1.197509120058319],\n",
       "  16: [1.1794849819718236],\n",
       "  17: [1.1892531190251592],\n",
       "  18: [1.19576164115089],\n",
       "  19: [1.1824447226362593],\n",
       "  20: [1.2040994714678266],\n",
       "  21: [1.1738160027634164],\n",
       "  22: [1.2131791179235232],\n",
       "  23: [1.1893711472146498],\n",
       "  24: [1.1923100381110545],\n",
       "  25: [1.185196992281666],\n",
       "  26: [1.2268369929886322],\n",
       "  27: [1.193468967329553],\n",
       "  28: [1.184437716633127],\n",
       "  29: [1.1778356056423183],\n",
       "  30: [1.197037617596679],\n",
       "  31: [1.1910374157401338],\n",
       "  32: [1.2034606605716807],\n",
       "  33: [1.205243808100533],\n",
       "  34: [1.1899602468043349],\n",
       "  35: [1.1777689177952197],\n",
       "  36: [1.1827309087052609],\n",
       "  37: [1.1672706733604856],\n",
       "  38: [1.1802720345380702],\n",
       "  39: [1.181062392667222],\n",
       "  40: [1.1764947177842011],\n",
       "  41: [1.1890805873865589],\n",
       "  42: [1.1821361034402],\n",
       "  43: [1.1776928637483874],\n",
       "  44: [1.189853935778514],\n",
       "  45: [1.1772901159800795],\n",
       "  46: [1.2052263716544205],\n",
       "  47: [1.175303766535271],\n",
       "  48: [1.1927795013368485],\n",
       "  49: [1.1792979441867422],\n",
       "  50: [1.2006876441004009],\n",
       "  51: [1.1881393653309986],\n",
       "  52: [1.1913383947549712],\n",
       "  53: [1.1929461090051408],\n",
       "  54: [1.1965094180200848],\n",
       "  55: [1.1870391094238695],\n",
       "  56: [1.1986063579593762],\n",
       "  57: [1.1937046900221746],\n",
       "  58: [1.209547182073214],\n",
       "  59: [1.1771820764995877],\n",
       "  60: [1.1892454892350266],\n",
       "  61: [1.2097142386844175],\n",
       "  62: [1.1893925140517814],\n",
       "  63: [1.2096133424118514],\n",
       "  64: [1.1912962646259695],\n",
       "  65: [1.1881584406183567],\n",
       "  66: [1.2101411013282968]}}"
      ]
     },
     "execution_count": 10,
     "metadata": {},
     "output_type": "execute_result"
    }
   ],
   "source": [
    "results"
   ]
  },
  {
   "cell_type": "code",
   "execution_count": 11,
   "metadata": {},
   "outputs": [],
   "source": [
    "def m4_smape(a, b):\n",
    "    \"\"\"\n",
    "    Calculates sMAPE\n",
    "    :param a: actual values\n",
    "    :param b: predicted values\n",
    "    :return: sMAPE\n",
    "    \"\"\"\n",
    "    a = np.reshape(a, (-1,))\n",
    "    b = np.reshape(b, (-1,))\n",
    "    return np.nanmean(2.0 * np.abs(a - b) / (np.abs(a) + np.abs(b))).item()\n",
    "\n",
    "\n",
    "def m4_mase(insample, y_test, y_hat_test, freq):\n",
    "    \"\"\"\n",
    "    Calculates MAsE\n",
    "    :param insample: insample data\n",
    "    :param y_test: out of sample target values\n",
    "    :param y_hat_test: predicted values\n",
    "    :param freq: data frequency\n",
    "    :return:\n",
    "    \"\"\"\n",
    "    y_hat_naive = []\n",
    "    for i in range(freq, len(insample)):\n",
    "        y_hat_naive.append(insample[(i - freq)])\n",
    "\n",
    "    masep = np.mean(abs(insample[freq:] - y_hat_naive))\n",
    "\n",
    "    return np.nanmean(abs(y_test - y_hat_test)) / masep"
   ]
  },
  {
   "cell_type": "code",
   "execution_count": 12,
   "metadata": {},
   "outputs": [
    {
     "data": {
      "text/plain": [
       "0.1353691322553586"
      ]
     },
     "execution_count": 12,
     "metadata": {},
     "output_type": "execute_result"
    }
   ],
   "source": [
    "m4_smape(y_test, preds[:, 6:])"
   ]
  },
  {
   "cell_type": "code",
   "execution_count": 13,
   "metadata": {},
   "outputs": [
    {
     "data": {
      "text/plain": [
       "0.25680578088560957"
      ]
     },
     "execution_count": 13,
     "metadata": {},
     "output_type": "execute_result"
    }
   ],
   "source": [
    "m4_mase(X_test, y_test, preds[:, 6:], 6)"
   ]
  },
  {
   "cell_type": "markdown",
   "metadata": {},
   "source": [
    "### fix nan"
   ]
  },
  {
   "cell_type": "code",
   "execution_count": 14,
   "metadata": {},
   "outputs": [
    {
     "data": {
      "text/plain": [
       "(array([15087, 15087, 15087, 15087, 15087, 15087, 15087, 15087, 15087,\n",
       "        15087, 15087, 15087]),\n",
       " array([ 0,  1,  2,  3,  4,  5,  6,  7,  8,  9, 10, 11]))"
      ]
     },
     "execution_count": 14,
     "metadata": {},
     "output_type": "execute_result"
    }
   ],
   "source": [
    "np.where(np.isnan(preds))"
   ]
  },
  {
   "cell_type": "code",
   "execution_count": 15,
   "metadata": {},
   "outputs": [
    {
     "data": {
      "text/plain": [
       "[<matplotlib.lines.Line2D at 0x7fe7571645c0>]"
      ]
     },
     "execution_count": 15,
     "metadata": {},
     "output_type": "execute_result"
    },
    {
     "data": {
      "image/png": "[encoded data removed]",
      "text/plain": [
       "<Figure size 432x288 with 1 Axes>"
      ]
     },
     "metadata": {
      "needs_background": "light"
     },
     "output_type": "display_data"
    }
   ],
   "source": [
    "plt.plot(range(12), X_test[15087])\n",
    "plt.plot(range(12, 18), y_test[15087])"
   ]
  },
  {
   "cell_type": "code",
   "execution_count": 16,
   "metadata": {},
   "outputs": [],
   "source": [
    "preds_fixed = preds.copy()"
   ]
  },
  {
   "cell_type": "code",
   "execution_count": 17,
   "metadata": {},
   "outputs": [],
   "source": [
    "preds_fixed[15087] = X_test[15087, -1]"
   ]
  },
  {
   "cell_type": "code",
   "execution_count": 18,
   "metadata": {},
   "outputs": [
    {
     "data": {
      "text/plain": [
       "False"
      ]
     },
     "execution_count": 18,
     "metadata": {},
     "output_type": "execute_result"
    }
   ],
   "source": [
    "np.any(np.isnan(preds_fixed))"
   ]
  },
  {
   "cell_type": "code",
   "execution_count": 19,
   "metadata": {},
   "outputs": [
    {
     "data": {
      "text/plain": [
       "[<matplotlib.lines.Line2D at 0x7fe6769039e8>]"
      ]
     },
     "execution_count": 19,
     "metadata": {},
     "output_type": "execute_result"
    },
    {
     "data": {
      "image/png": "[encoded data removed]",
      "text/plain": [
       "<Figure size 432x288 with 1 Axes>"
      ]
     },
     "metadata": {
      "needs_background": "light"
     },
     "output_type": "display_data"
    }
   ],
   "source": [
    "plt.plot(range(12), X_test[15087])\n",
    "plt.plot(range(12, 18), y_test[15087])\n",
    "plt.plot(range(6, 18), preds_fixed[15087])"
   ]
  },
  {
   "cell_type": "code",
   "execution_count": 20,
   "metadata": {},
   "outputs": [],
   "source": [
    "def m4_smape(a, b):\n",
    "    \"\"\"\n",
    "    Calculates sMAPE\n",
    "    :param a: actual values\n",
    "    :param b: predicted values\n",
    "    :return: sMAPE\n",
    "    \"\"\"\n",
    "    a = np.reshape(a, (-1,))\n",
    "    b = np.reshape(b, (-1,))\n",
    "    return np.mean(2.0 * np.abs(a - b) / (np.abs(a) + np.abs(b))).item()\n",
    "\n",
    "\n",
    "def m4_mase(insample, y_test, y_hat_test, freq):\n",
    "    \"\"\"\n",
    "    Calculates MAsE\n",
    "    :param insample: insample data\n",
    "    :param y_test: out of sample target values\n",
    "    :param y_hat_test: predicted values\n",
    "    :param freq: data frequency\n",
    "    :return:\n",
    "    \"\"\"\n",
    "    y_hat_naive = []\n",
    "    for i in range(freq, len(insample)):\n",
    "        y_hat_naive.append(insample[(i - freq)])\n",
    "\n",
    "    masep = np.mean(abs(insample[freq:] - y_hat_naive))\n",
    "\n",
    "    return np.mean(abs(y_test - y_hat_test)) / masep"
   ]
  },
  {
   "cell_type": "code",
   "execution_count": 22,
   "metadata": {},
   "outputs": [
    {
     "data": {
      "text/plain": [
       "0.2568097820044437"
      ]
     },
     "execution_count": 22,
     "metadata": {},
     "output_type": "execute_result"
    }
   ],
   "source": [
    "m4_mase(X_test, y_test, preds_fixed[:, 6:], 6)"
   ]
  },
  {
   "cell_type": "markdown",
   "metadata": {},
   "source": [
    "### find best"
   ]
  },
  {
   "cell_type": "code",
   "execution_count": 26,
   "metadata": {},
   "outputs": [],
   "source": [
    "smapes = [s[0] for s in results['smape'].values() if s]\n",
    "mases = [s[0] for s in results['mase'].values() if s]"
   ]
  },
  {
   "cell_type": "code",
   "execution_count": 27,
   "metadata": {},
   "outputs": [
    {
     "data": {
      "text/plain": [
       "37"
      ]
     },
     "execution_count": 27,
     "metadata": {},
     "output_type": "execute_result"
    }
   ],
   "source": [
    "np.argmin(smapes)"
   ]
  },
  {
   "cell_type": "code",
   "execution_count": 28,
   "metadata": {},
   "outputs": [
    {
     "data": {
      "text/plain": [
       "9"
      ]
     },
     "execution_count": 28,
     "metadata": {},
     "output_type": "execute_result"
    }
   ],
   "source": [
    "np.argmin(mases)"
   ]
  },
  {
   "cell_type": "code",
   "execution_count": 31,
   "metadata": {},
   "outputs": [
    {
     "data": {
      "text/plain": [
       "(13.175348506531154, 2.473241526273387)"
      ]
     },
     "execution_count": 31,
     "metadata": {},
     "output_type": "execute_result"
    }
   ],
   "source": [
    "smapes[37], mases[37]"
   ]
  },
  {
   "cell_type": "code",
   "execution_count": 32,
   "metadata": {},
   "outputs": [
    {
     "data": {
      "text/plain": [
       "(13.211644733815417, 2.470802343828664)"
      ]
     },
     "execution_count": 32,
     "metadata": {},
     "output_type": "execute_result"
    }
   ],
   "source": [
    "smapes[9], mases[9]"
   ]
  },
  {
   "cell_type": "code",
   "execution_count": 39,
   "metadata": {},
   "outputs": [
    {
     "name": "stderr",
     "output_type": "stream",
     "text": [
      "/home/thanos/.envs/fsu/lib/python3.6/site-packages/ipykernel_launcher.py:9: RuntimeWarning: invalid value encountered in true_divide\n",
      "  if __name__ == '__main__':\n"
     ]
    }
   ],
   "source": [
    "model_dir = 'results/37/best_weights.h5'\n",
    "\n",
    "model = tf.keras.models.load_model(model_dir, custom_objects={'SMAPE': smape,\n",
    "                                                              'MASE_estimate': mase_estimate,\n",
    "                                                              'OWA_estimate': owa_estimate,\n",
    "                                                              'reconstruction_loss': reconstruction_loss})\n",
    "\n",
    "best_preds = get_predictions(model, X_test)"
   ]
  },
  {
   "cell_type": "code",
   "execution_count": 47,
   "metadata": {},
   "outputs": [],
   "source": [
    "best_preds[15087] = X_test[15087, -1]"
   ]
  },
  {
   "cell_type": "code",
   "execution_count": 58,
   "metadata": {},
   "outputs": [],
   "source": [
    "np.savetxt('m4_predictions.csv', best_preds[:, 6:], delimiter=',')"
   ]
  },
  {
   "cell_type": "code",
   "execution_count": 81,
   "metadata": {},
   "outputs": [],
   "source": [
    "smapes = [m4_smape(y_test[i], best_preds[i, 6:]) for i in range(len(y_test))]"
   ]
  },
  {
   "cell_type": "code",
   "execution_count": 82,
   "metadata": {},
   "outputs": [
    {
     "data": {
      "text/plain": [
       "0.1317516584416001"
      ]
     },
     "execution_count": 82,
     "metadata": {},
     "output_type": "execute_result"
    }
   ],
   "source": [
    "np.mean(smapes)"
   ]
  }
 ],
 "metadata": {
  "kernelspec": {
   "display_name": "fsu",
   "language": "python",
   "name": "fsu"
  },
  "language_info": {
   "codemirror_mode": {
    "name": "ipython",
    "version": 3
   },
   "file_extension": ".py",
   "mimetype": "text/x-python",
   "name": "python",
   "nbconvert_exporter": "python",
   "pygments_lexer": "ipython3",
   "version": "3.6.9"
  }
 },
 "nbformat": 4,
 "nbformat_minor": 4
}
