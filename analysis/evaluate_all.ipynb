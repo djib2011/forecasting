{
 "cells": [
  {
   "cell_type": "code",
   "execution_count": 1,
   "metadata": {},
   "outputs": [],
   "source": [
    "from pathlib import Path\n",
    "import numpy as np\n",
    "import pandas as pd\n",
    "import matplotlib.pyplot as plt\n",
    "import seaborn as sns\n",
    "from tqdm import tqdm\n",
    "from sklearn.model_selection import train_test_split\n",
    "import pickle as pkl\n",
    "import tensorflow as tf\n",
    "\n",
    "import sys\n",
    "sys.path.append('..')\n",
    "\n",
    "import metrics\n",
    "\n",
    "import warnings\n",
    "warnings.filterwarnings('once')"
   ]
  },
  {
   "cell_type": "code",
   "execution_count": 2,
   "metadata": {},
   "outputs": [],
   "source": [
    "def MASE(x, y, p):\n",
    "    nom = np.mean(np.abs(y - p), axis=1)\n",
    "    denom = np.mean(np.abs(x[:, 1:] - x[:, :-1]), axis=1) + np.finfo('float').eps\n",
    "    return nom / denom\n",
    "\n",
    "def SMAPE(y, p):\n",
    "    nom = np.abs(y - p)\n",
    "    denom = np.abs(y) + np.abs(p) + np.finfo('float').eps\n",
    "    return 2 * np.mean(nom / denom, axis=1) * 100\n",
    "\n",
    "def OWA(x, y, p):\n",
    "    rel_smape = SMAPE(y, p) / 15.201\n",
    "    rel_mase = MASE(x, y, p) / 1.685\n",
    "    return (rel_smape + rel_mase) / 2"
   ]
  },
  {
   "cell_type": "code",
   "execution_count": 3,
   "metadata": {},
   "outputs": [],
   "source": [
    "train_path = Path('../data/Yearly-train.csv')\n",
    "test_path = Path('../data/Yearly-test.csv')"
   ]
  },
  {
   "cell_type": "code",
   "execution_count": 4,
   "metadata": {},
   "outputs": [],
   "source": [
    "train = pd.read_csv(train_path).drop('V1', axis=1)\n",
    "test = pd.read_csv(test_path).drop('V1', axis=1)"
   ]
  },
  {
   "cell_type": "code",
   "execution_count": 5,
   "metadata": {},
   "outputs": [],
   "source": [
    "def get_last_12(series):\n",
    "    return series.dropna().iloc[-12:].values"
   ]
  },
  {
   "cell_type": "code",
   "execution_count": 6,
   "metadata": {},
   "outputs": [],
   "source": [
    "X_test = np.array([get_last_12(ser[1]) for ser in train.iterrows()])\n",
    "y_test = test.values"
   ]
  },
  {
   "cell_type": "code",
   "execution_count": 7,
   "metadata": {},
   "outputs": [],
   "source": [
    "def get_predictions(model, X):\n",
    "    \n",
    "    preds = []\n",
    "    \n",
    "    for i in range(len(X) // 256):\n",
    "        x = X[i * 256:(i+1) * 256]\n",
    "\n",
    "        mn, mx = x.min(axis=1).reshape(-1, 1), x.max(axis=1).reshape(-1, 1) \n",
    "        x_sc = (x - mn) / (mx - mn)\n",
    "        pred = model(x_sc[..., np.newaxis]) \n",
    "        preds.append(pred[..., 0] * (mx - mn) + mn)\n",
    "\n",
    "    x = X[(i+1) * 256:]\n",
    "    mn, mx = x.min(axis=1).reshape(-1, 1), x.max(axis=1).reshape(-1, 1) \n",
    "    x_sc = (x - mn) / (mx - mn)\n",
    "    pred = model(x_sc[..., np.newaxis]) \n",
    "    preds.append(pred[..., 0] * (mx - mn) + mn)\n",
    "\n",
    "    return np.vstack(preds)"
   ]
  },
  {
   "cell_type": "code",
   "execution_count": 8,
   "metadata": {},
   "outputs": [],
   "source": [
    "p = Path('../results').absolute()"
   ]
  },
  {
   "cell_type": "code",
   "execution_count": 9,
   "metadata": {},
   "outputs": [],
   "source": [
    "trials = list(p.glob('*'))\n",
    "trial_names = [t.name for t in trials]"
   ]
  },
  {
   "cell_type": "code",
   "execution_count": 10,
   "metadata": {},
   "outputs": [
    {
     "name": "stderr",
     "output_type": "stream",
     "text": [
      "  0%|          | 0/203 [00:00<?, ?it/s]/home/thanos/.envs/fsu/lib/python3.6/site-packages/ipykernel_launcher.py:9: RuntimeWarning: invalid value encountered in true_divide\n",
      "  if __name__ == '__main__':\n",
      "  0%|          | 1/203 [00:13<44:02, 13.08s/it]/home/thanos/.envs/fsu/lib/python3.6/site-packages/ipykernel_launcher.py:9: RuntimeWarning: invalid value encountered in true_divide\n",
      "  if __name__ == '__main__':\n",
      "  1%|          | 2/203 [00:19<36:53, 11.01s/it]/home/thanos/.envs/fsu/lib/python3.6/site-packages/ipykernel_launcher.py:9: RuntimeWarning: invalid value encountered in true_divide\n",
      "  if __name__ == '__main__':\n",
      "  1%|▏         | 3/203 [00:25<32:01,  9.61s/it]/home/thanos/.envs/fsu/lib/python3.6/site-packages/ipykernel_launcher.py:9: RuntimeWarning: invalid value encountered in true_divide\n",
      "  if __name__ == '__main__':\n",
      "  2%|▏         | 4/203 [00:38<34:44, 10.47s/it]/home/thanos/.envs/fsu/lib/python3.6/site-packages/ipykernel_launcher.py:9: RuntimeWarning: invalid value encountered in true_divide\n",
      "  if __name__ == '__main__':\n",
      "  2%|▏         | 5/203 [00:44<30:27,  9.23s/it]/home/thanos/.envs/fsu/lib/python3.6/site-packages/ipykernel_launcher.py:9: RuntimeWarning: invalid value encountered in true_divide\n",
      "  if __name__ == '__main__':\n",
      "  3%|▎         | 6/203 [00:57<33:46, 10.29s/it]/home/thanos/.envs/fsu/lib/python3.6/site-packages/ipykernel_launcher.py:9: RuntimeWarning: invalid value encountered in true_divide\n",
      "  if __name__ == '__main__':\n",
      "  3%|▎         | 7/203 [01:09<36:01, 11.03s/it]/home/thanos/.envs/fsu/lib/python3.6/site-packages/ipykernel_launcher.py:9: RuntimeWarning: invalid value encountered in true_divide\n",
      "  if __name__ == '__main__':\n",
      "  4%|▍         | 8/203 [01:22<37:20, 11.49s/it]/home/thanos/.envs/fsu/lib/python3.6/site-packages/ipykernel_launcher.py:9: RuntimeWarning: invalid value encountered in true_divide\n",
      "  if __name__ == '__main__':\n",
      "  4%|▍         | 9/203 [01:35<38:30, 11.91s/it]/home/thanos/.envs/fsu/lib/python3.6/site-packages/ipykernel_launcher.py:9: RuntimeWarning: invalid value encountered in true_divide\n",
      "  if __name__ == '__main__':\n",
      "  5%|▍         | 10/203 [01:41<33:09, 10.31s/it]/home/thanos/.envs/fsu/lib/python3.6/site-packages/ipykernel_launcher.py:9: RuntimeWarning: invalid value encountered in true_divide\n",
      "  if __name__ == '__main__':\n",
      "  5%|▌         | 11/203 [01:48<29:05,  9.09s/it]/home/thanos/.envs/fsu/lib/python3.6/site-packages/ipykernel_launcher.py:9: RuntimeWarning: invalid value encountered in true_divide\n",
      "  if __name__ == '__main__':\n",
      "  6%|▌         | 12/203 [01:54<26:24,  8.29s/it]/home/thanos/.envs/fsu/lib/python3.6/site-packages/ipykernel_launcher.py:9: RuntimeWarning: invalid value encountered in true_divide\n",
      "  if __name__ == '__main__':\n",
      "  6%|▋         | 13/203 [02:07<30:26,  9.61s/it]/home/thanos/.envs/fsu/lib/python3.6/site-packages/ipykernel_launcher.py:9: RuntimeWarning: invalid value encountered in true_divide\n",
      "  if __name__ == '__main__':\n",
      "  7%|▋         | 14/203 [02:20<33:13, 10.55s/it]/home/thanos/.envs/fsu/lib/python3.6/site-packages/ipykernel_launcher.py:9: RuntimeWarning: invalid value encountered in true_divide\n",
      "  if __name__ == '__main__':\n",
      "  7%|▋         | 15/203 [02:32<34:55, 11.15s/it]/home/thanos/.envs/fsu/lib/python3.6/site-packages/ipykernel_launcher.py:9: RuntimeWarning: invalid value encountered in true_divide\n",
      "  if __name__ == '__main__':\n",
      "  8%|▊         | 16/203 [02:45<36:21, 11.66s/it]/home/thanos/.envs/fsu/lib/python3.6/site-packages/ipykernel_launcher.py:9: RuntimeWarning: invalid value encountered in true_divide\n",
      "  if __name__ == '__main__':\n",
      "  8%|▊         | 17/203 [02:51<31:10, 10.05s/it]/home/thanos/.envs/fsu/lib/python3.6/site-packages/ipykernel_launcher.py:9: RuntimeWarning: invalid value encountered in true_divide\n",
      "  if __name__ == '__main__':\n",
      "  9%|▉         | 18/203 [03:04<33:33, 10.88s/it]/home/thanos/.envs/fsu/lib/python3.6/site-packages/ipykernel_launcher.py:9: RuntimeWarning: invalid value encountered in true_divide\n",
      "  if __name__ == '__main__':\n",
      "  9%|▉         | 19/203 [03:10<29:01,  9.47s/it]/home/thanos/.envs/fsu/lib/python3.6/site-packages/ipykernel_launcher.py:9: RuntimeWarning: invalid value encountered in true_divide\n",
      "  if __name__ == '__main__':\n",
      " 10%|▉         | 20/203 [03:17<26:03,  8.54s/it]/home/thanos/.envs/fsu/lib/python3.6/site-packages/ipykernel_launcher.py:9: RuntimeWarning: invalid value encountered in true_divide\n",
      "  if __name__ == '__main__':\n",
      " 10%|█         | 21/203 [03:29<29:46,  9.81s/it]/home/thanos/.envs/fsu/lib/python3.6/site-packages/ipykernel_launcher.py:9: RuntimeWarning: invalid value encountered in true_divide\n",
      "  if __name__ == '__main__':\n",
      " 11%|█         | 22/203 [03:36<26:18,  8.72s/it]/home/thanos/.envs/fsu/lib/python3.6/site-packages/ipykernel_launcher.py:9: RuntimeWarning: invalid value encountered in true_divide\n",
      "  if __name__ == '__main__':\n",
      " 11%|█▏        | 23/203 [03:42<23:54,  7.97s/it]/home/thanos/.envs/fsu/lib/python3.6/site-packages/ipykernel_launcher.py:9: RuntimeWarning: invalid value encountered in true_divide\n",
      "  if __name__ == '__main__':\n",
      " 12%|█▏        | 24/203 [03:55<28:08,  9.43s/it]/home/thanos/.envs/fsu/lib/python3.6/site-packages/ipykernel_launcher.py:9: RuntimeWarning: invalid value encountered in true_divide\n",
      "  if __name__ == '__main__':\n",
      " 12%|█▏        | 25/203 [04:07<30:53, 10.41s/it]/home/thanos/.envs/fsu/lib/python3.6/site-packages/ipykernel_launcher.py:9: RuntimeWarning: invalid value encountered in true_divide\n",
      "  if __name__ == '__main__':\n",
      " 13%|█▎        | 26/203 [04:14<27:06,  9.19s/it]/home/thanos/.envs/fsu/lib/python3.6/site-packages/ipykernel_launcher.py:9: RuntimeWarning: invalid value encountered in true_divide\n",
      "  if __name__ == '__main__':\n",
      " 13%|█▎        | 27/203 [04:20<24:17,  8.28s/it]/home/thanos/.envs/fsu/lib/python3.6/site-packages/ipykernel_launcher.py:9: RuntimeWarning: invalid value encountered in true_divide\n",
      "  if __name__ == '__main__':\n",
      " 14%|█▍        | 28/203 [04:33<28:05,  9.63s/it]/home/thanos/.envs/fsu/lib/python3.6/site-packages/ipykernel_launcher.py:9: RuntimeWarning: invalid value encountered in true_divide\n",
      "  if __name__ == '__main__':\n",
      " 14%|█▍        | 29/203 [04:45<30:31, 10.53s/it]/home/thanos/.envs/fsu/lib/python3.6/site-packages/ipykernel_launcher.py:9: RuntimeWarning: invalid value encountered in true_divide\n",
      "  if __name__ == '__main__':\n",
      " 15%|█▍        | 30/203 [04:52<26:44,  9.27s/it]/home/thanos/.envs/fsu/lib/python3.6/site-packages/ipykernel_launcher.py:9: RuntimeWarning: invalid value encountered in true_divide\n",
      "  if __name__ == '__main__':\n",
      " 15%|█▌        | 31/203 [05:05<29:44, 10.38s/it]/home/thanos/.envs/fsu/lib/python3.6/site-packages/ipykernel_launcher.py:9: RuntimeWarning: invalid value encountered in true_divide\n",
      "  if __name__ == '__main__':\n",
      " 16%|█▌        | 32/203 [05:17<31:23, 11.01s/it]/home/thanos/.envs/fsu/lib/python3.6/site-packages/ipykernel_launcher.py:9: RuntimeWarning: invalid value encountered in true_divide\n",
      "  if __name__ == '__main__':\n",
      " 16%|█▋        | 33/203 [05:30<32:46, 11.57s/it]/home/thanos/.envs/fsu/lib/python3.6/site-packages/ipykernel_launcher.py:9: RuntimeWarning: invalid value encountered in true_divide\n",
      "  if __name__ == '__main__':\n",
      " 17%|█▋        | 34/203 [05:43<33:31, 11.90s/it]/home/thanos/.envs/fsu/lib/python3.6/site-packages/ipykernel_launcher.py:9: RuntimeWarning: invalid value encountered in true_divide\n",
      "  if __name__ == '__main__':\n",
      " 17%|█▋        | 35/203 [05:55<33:58, 12.13s/it]/home/thanos/.envs/fsu/lib/python3.6/site-packages/ipykernel_launcher.py:9: RuntimeWarning: invalid value encountered in true_divide\n",
      "  if __name__ == '__main__':\n",
      " 18%|█▊        | 36/203 [06:01<28:43, 10.32s/it]/home/thanos/.envs/fsu/lib/python3.6/site-packages/ipykernel_launcher.py:9: RuntimeWarning: invalid value encountered in true_divide\n",
      "  if __name__ == '__main__':\n",
      " 18%|█▊        | 37/203 [06:08<25:17,  9.14s/it]/home/thanos/.envs/fsu/lib/python3.6/site-packages/ipykernel_launcher.py:9: RuntimeWarning: invalid value encountered in true_divide\n",
      "  if __name__ == '__main__':\n",
      " 19%|█▊        | 38/203 [06:20<28:02, 10.19s/it]/home/thanos/.envs/fsu/lib/python3.6/site-packages/ipykernel_launcher.py:9: RuntimeWarning: invalid value encountered in true_divide\n",
      "  if __name__ == '__main__':\n"
     ]
    },
    {
     "name": "stderr",
     "output_type": "stream",
     "text": [
      " 19%|█▉        | 39/203 [06:27<24:35,  9.00s/it]/home/thanos/.envs/fsu/lib/python3.6/site-packages/ipykernel_launcher.py:9: RuntimeWarning: invalid value encountered in true_divide\n",
      "  if __name__ == '__main__':\n",
      " 20%|█▉        | 40/203 [06:40<28:00, 10.31s/it]/home/thanos/.envs/fsu/lib/python3.6/site-packages/ipykernel_launcher.py:9: RuntimeWarning: invalid value encountered in true_divide\n",
      "  if __name__ == '__main__':\n",
      " 20%|██        | 41/203 [06:46<24:45,  9.17s/it]/home/thanos/.envs/fsu/lib/python3.6/site-packages/ipykernel_launcher.py:9: RuntimeWarning: invalid value encountered in true_divide\n",
      "  if __name__ == '__main__':\n",
      " 21%|██        | 42/203 [06:53<22:14,  8.29s/it]/home/thanos/.envs/fsu/lib/python3.6/site-packages/ipykernel_launcher.py:9: RuntimeWarning: invalid value encountered in true_divide\n",
      "  if __name__ == '__main__':\n",
      " 21%|██        | 43/203 [07:05<25:41,  9.63s/it]/home/thanos/.envs/fsu/lib/python3.6/site-packages/ipykernel_launcher.py:9: RuntimeWarning: invalid value encountered in true_divide\n",
      "  if __name__ == '__main__':\n",
      " 22%|██▏       | 44/203 [07:12<22:52,  8.63s/it]/home/thanos/.envs/fsu/lib/python3.6/site-packages/ipykernel_launcher.py:9: RuntimeWarning: invalid value encountered in true_divide\n",
      "  if __name__ == '__main__':\n",
      " 22%|██▏       | 45/203 [07:25<26:02,  9.89s/it]/home/thanos/.envs/fsu/lib/python3.6/site-packages/ipykernel_launcher.py:9: RuntimeWarning: invalid value encountered in true_divide\n",
      "  if __name__ == '__main__':\n",
      " 23%|██▎       | 46/203 [07:31<22:59,  8.79s/it]/home/thanos/.envs/fsu/lib/python3.6/site-packages/ipykernel_launcher.py:9: RuntimeWarning: invalid value encountered in true_divide\n",
      "  if __name__ == '__main__':\n",
      " 23%|██▎       | 47/203 [07:37<21:05,  8.11s/it]/home/thanos/.envs/fsu/lib/python3.6/site-packages/ipykernel_launcher.py:9: RuntimeWarning: invalid value encountered in true_divide\n",
      "  if __name__ == '__main__':\n",
      " 24%|██▎       | 48/203 [07:50<24:37,  9.53s/it]/home/thanos/.envs/fsu/lib/python3.6/site-packages/ipykernel_launcher.py:9: RuntimeWarning: invalid value encountered in true_divide\n",
      "  if __name__ == '__main__':\n",
      " 24%|██▍       | 49/203 [07:57<22:01,  8.58s/it]/home/thanos/.envs/fsu/lib/python3.6/site-packages/ipykernel_launcher.py:9: RuntimeWarning: invalid value encountered in true_divide\n",
      "  if __name__ == '__main__':\n",
      " 25%|██▍       | 50/203 [08:03<20:16,  7.95s/it]/home/thanos/.envs/fsu/lib/python3.6/site-packages/ipykernel_launcher.py:9: RuntimeWarning: invalid value encountered in true_divide\n",
      "  if __name__ == '__main__':\n",
      " 25%|██▌       | 51/203 [08:09<18:44,  7.40s/it]/home/thanos/.envs/fsu/lib/python3.6/site-packages/ipykernel_launcher.py:9: RuntimeWarning: invalid value encountered in true_divide\n",
      "  if __name__ == '__main__':\n",
      " 26%|██▌       | 52/203 [08:22<22:39,  9.00s/it]/home/thanos/.envs/fsu/lib/python3.6/site-packages/ipykernel_launcher.py:9: RuntimeWarning: invalid value encountered in true_divide\n",
      "  if __name__ == '__main__':\n",
      " 26%|██▌       | 53/203 [08:35<25:15, 10.11s/it]/home/thanos/.envs/fsu/lib/python3.6/site-packages/ipykernel_launcher.py:9: RuntimeWarning: invalid value encountered in true_divide\n",
      "  if __name__ == '__main__':\n",
      " 27%|██▋       | 54/203 [08:41<22:08,  8.91s/it]/home/thanos/.envs/fsu/lib/python3.6/site-packages/ipykernel_launcher.py:9: RuntimeWarning: invalid value encountered in true_divide\n",
      "  if __name__ == '__main__':\n",
      " 27%|██▋       | 55/203 [08:47<20:10,  8.18s/it]/home/thanos/.envs/fsu/lib/python3.6/site-packages/ipykernel_launcher.py:9: RuntimeWarning: invalid value encountered in true_divide\n",
      "  if __name__ == '__main__':\n",
      " 28%|██▊       | 56/203 [08:54<18:41,  7.63s/it]/home/thanos/.envs/fsu/lib/python3.6/site-packages/ipykernel_launcher.py:9: RuntimeWarning: invalid value encountered in true_divide\n",
      "  if __name__ == '__main__':\n",
      " 28%|██▊       | 57/203 [09:06<22:24,  9.21s/it]/home/thanos/.envs/fsu/lib/python3.6/site-packages/ipykernel_launcher.py:9: RuntimeWarning: invalid value encountered in true_divide\n",
      "  if __name__ == '__main__':\n",
      " 29%|██▊       | 58/203 [09:13<20:15,  8.38s/it]/home/thanos/.envs/fsu/lib/python3.6/site-packages/ipykernel_launcher.py:9: RuntimeWarning: invalid value encountered in true_divide\n",
      "  if __name__ == '__main__':\n",
      " 29%|██▉       | 59/203 [09:19<18:30,  7.71s/it]/home/thanos/.envs/fsu/lib/python3.6/site-packages/ipykernel_launcher.py:9: RuntimeWarning: invalid value encountered in true_divide\n",
      "  if __name__ == '__main__':\n",
      " 30%|██▉       | 60/203 [09:32<22:00,  9.24s/it]/home/thanos/.envs/fsu/lib/python3.6/site-packages/ipykernel_launcher.py:9: RuntimeWarning: invalid value encountered in true_divide\n",
      "  if __name__ == '__main__':\n",
      " 30%|███       | 61/203 [09:38<19:39,  8.31s/it]/home/thanos/.envs/fsu/lib/python3.6/site-packages/ipykernel_launcher.py:9: RuntimeWarning: invalid value encountered in true_divide\n",
      "  if __name__ == '__main__':\n",
      " 31%|███       | 62/203 [09:44<18:12,  7.75s/it]/home/thanos/.envs/fsu/lib/python3.6/site-packages/ipykernel_launcher.py:9: RuntimeWarning: invalid value encountered in true_divide\n",
      "  if __name__ == '__main__':\n",
      " 31%|███       | 63/203 [09:57<21:32,  9.24s/it]/home/thanos/.envs/fsu/lib/python3.6/site-packages/ipykernel_launcher.py:9: RuntimeWarning: invalid value encountered in true_divide\n",
      "  if __name__ == '__main__':\n",
      " 32%|███▏      | 64/203 [10:10<23:51, 10.30s/it]/home/thanos/.envs/fsu/lib/python3.6/site-packages/ipykernel_launcher.py:9: RuntimeWarning: invalid value encountered in true_divide\n",
      "  if __name__ == '__main__':\n",
      " 32%|███▏      | 65/203 [10:23<25:25, 11.05s/it]/home/thanos/.envs/fsu/lib/python3.6/site-packages/ipykernel_launcher.py:9: RuntimeWarning: invalid value encountered in true_divide\n",
      "  if __name__ == '__main__':\n",
      " 33%|███▎      | 66/203 [10:36<26:33, 11.63s/it]/home/thanos/.envs/fsu/lib/python3.6/site-packages/ipykernel_launcher.py:9: RuntimeWarning: invalid value encountered in true_divide\n",
      "  if __name__ == '__main__':\n",
      " 33%|███▎      | 67/203 [10:42<22:48, 10.06s/it]/home/thanos/.envs/fsu/lib/python3.6/site-packages/ipykernel_launcher.py:9: RuntimeWarning: invalid value encountered in true_divide\n",
      "  if __name__ == '__main__':\n",
      " 33%|███▎      | 68/203 [10:55<24:45, 11.00s/it]/home/thanos/.envs/fsu/lib/python3.6/site-packages/ipykernel_launcher.py:9: RuntimeWarning: invalid value encountered in true_divide\n",
      "  if __name__ == '__main__':\n",
      " 34%|███▍      | 69/203 [11:01<21:19,  9.55s/it]/home/thanos/.envs/fsu/lib/python3.6/site-packages/ipykernel_launcher.py:9: RuntimeWarning: invalid value encountered in true_divide\n",
      "  if __name__ == '__main__':\n",
      " 34%|███▍      | 70/203 [11:15<23:33, 10.62s/it]/home/thanos/.envs/fsu/lib/python3.6/site-packages/ipykernel_launcher.py:9: RuntimeWarning: invalid value encountered in true_divide\n",
      "  if __name__ == '__main__':\n",
      " 35%|███▍      | 71/203 [11:21<20:27,  9.30s/it]/home/thanos/.envs/fsu/lib/python3.6/site-packages/ipykernel_launcher.py:9: RuntimeWarning: invalid value encountered in true_divide\n",
      "  if __name__ == '__main__':\n",
      " 35%|███▌      | 72/203 [11:27<18:26,  8.45s/it]/home/thanos/.envs/fsu/lib/python3.6/site-packages/ipykernel_launcher.py:9: RuntimeWarning: invalid value encountered in true_divide\n",
      "  if __name__ == '__main__':\n",
      " 36%|███▌      | 73/203 [11:40<21:08,  9.76s/it]/home/thanos/.envs/fsu/lib/python3.6/site-packages/ipykernel_launcher.py:9: RuntimeWarning: invalid value encountered in true_divide\n",
      "  if __name__ == '__main__':\n",
      " 36%|███▋      | 74/203 [11:46<18:41,  8.70s/it]/home/thanos/.envs/fsu/lib/python3.6/site-packages/ipykernel_launcher.py:9: RuntimeWarning: invalid value encountered in true_divide\n",
      "  if __name__ == '__main__':\n",
      " 37%|███▋      | 75/203 [11:53<17:07,  8.03s/it]/home/thanos/.envs/fsu/lib/python3.6/site-packages/ipykernel_launcher.py:9: RuntimeWarning: invalid value encountered in true_divide\n",
      "  if __name__ == '__main__':\n",
      " 37%|███▋      | 76/203 [12:06<20:00,  9.45s/it]/home/thanos/.envs/fsu/lib/python3.6/site-packages/ipykernel_launcher.py:9: RuntimeWarning: invalid value encountered in true_divide\n",
      "  if __name__ == '__main__':\n",
      " 38%|███▊      | 77/203 [12:19<22:09, 10.55s/it]/home/thanos/.envs/fsu/lib/python3.6/site-packages/ipykernel_launcher.py:9: RuntimeWarning: invalid value encountered in true_divide\n",
      "  if __name__ == '__main__':\n"
     ]
    },
    {
     "name": "stderr",
     "output_type": "stream",
     "text": [
      " 38%|███▊      | 78/203 [12:25<19:20,  9.28s/it]/home/thanos/.envs/fsu/lib/python3.6/site-packages/ipykernel_launcher.py:9: RuntimeWarning: invalid value encountered in true_divide\n",
      "  if __name__ == '__main__':\n",
      " 39%|███▉      | 79/203 [12:38<21:30, 10.41s/it]/home/thanos/.envs/fsu/lib/python3.6/site-packages/ipykernel_launcher.py:9: RuntimeWarning: invalid value encountered in true_divide\n",
      "  if __name__ == '__main__':\n",
      " 39%|███▉      | 80/203 [12:51<22:42, 11.08s/it]/home/thanos/.envs/fsu/lib/python3.6/site-packages/ipykernel_launcher.py:9: RuntimeWarning: invalid value encountered in true_divide\n",
      "  if __name__ == '__main__':\n",
      " 40%|███▉      | 81/203 [12:57<19:34,  9.63s/it]/home/thanos/.envs/fsu/lib/python3.6/site-packages/ipykernel_launcher.py:9: RuntimeWarning: invalid value encountered in true_divide\n",
      "  if __name__ == '__main__':\n",
      " 40%|████      | 82/203 [13:10<21:23, 10.61s/it]/home/thanos/.envs/fsu/lib/python3.6/site-packages/ipykernel_launcher.py:9: RuntimeWarning: invalid value encountered in true_divide\n",
      "  if __name__ == '__main__':\n",
      " 41%|████      | 83/203 [13:23<22:36, 11.31s/it]/home/thanos/.envs/fsu/lib/python3.6/site-packages/ipykernel_launcher.py:9: RuntimeWarning: invalid value encountered in true_divide\n",
      "  if __name__ == '__main__':\n",
      " 41%|████▏     | 84/203 [13:36<23:23, 11.79s/it]/home/thanos/.envs/fsu/lib/python3.6/site-packages/ipykernel_launcher.py:9: RuntimeWarning: invalid value encountered in true_divide\n",
      "  if __name__ == '__main__':\n",
      " 42%|████▏     | 85/203 [13:42<19:58, 10.16s/it]/home/thanos/.envs/fsu/lib/python3.6/site-packages/ipykernel_launcher.py:9: RuntimeWarning: invalid value encountered in true_divide\n",
      "  if __name__ == '__main__':\n",
      " 42%|████▏     | 86/203 [13:55<21:37, 11.09s/it]/home/thanos/.envs/fsu/lib/python3.6/site-packages/ipykernel_launcher.py:9: RuntimeWarning: invalid value encountered in true_divide\n",
      "  if __name__ == '__main__':\n",
      " 43%|████▎     | 87/203 [14:02<18:43,  9.69s/it]/home/thanos/.envs/fsu/lib/python3.6/site-packages/ipykernel_launcher.py:9: RuntimeWarning: invalid value encountered in true_divide\n",
      "  if __name__ == '__main__':\n",
      " 43%|████▎     | 88/203 [14:15<20:29, 10.69s/it]/home/thanos/.envs/fsu/lib/python3.6/site-packages/ipykernel_launcher.py:9: RuntimeWarning: invalid value encountered in true_divide\n",
      "  if __name__ == '__main__':\n",
      " 44%|████▍     | 89/203 [14:21<17:41,  9.31s/it]/home/thanos/.envs/fsu/lib/python3.6/site-packages/ipykernel_launcher.py:9: RuntimeWarning: invalid value encountered in true_divide\n",
      "  if __name__ == '__main__':\n",
      " 44%|████▍     | 90/203 [14:34<19:31, 10.37s/it]/home/thanos/.envs/fsu/lib/python3.6/site-packages/ipykernel_launcher.py:9: RuntimeWarning: invalid value encountered in true_divide\n",
      "  if __name__ == '__main__':\n",
      " 45%|████▍     | 91/203 [14:47<20:46, 11.13s/it]/home/thanos/.envs/fsu/lib/python3.6/site-packages/ipykernel_launcher.py:9: RuntimeWarning: invalid value encountered in true_divide\n",
      "  if __name__ == '__main__':\n",
      " 45%|████▌     | 92/203 [15:00<21:56, 11.86s/it]/home/thanos/.envs/fsu/lib/python3.6/site-packages/ipykernel_launcher.py:9: RuntimeWarning: invalid value encountered in true_divide\n",
      "  if __name__ == '__main__':\n",
      " 46%|████▌     | 93/203 [15:07<18:50, 10.27s/it]/home/thanos/.envs/fsu/lib/python3.6/site-packages/ipykernel_launcher.py:9: RuntimeWarning: invalid value encountered in true_divide\n",
      "  if __name__ == '__main__':\n",
      " 46%|████▋     | 94/203 [15:14<16:59,  9.35s/it]/home/thanos/.envs/fsu/lib/python3.6/site-packages/ipykernel_launcher.py:9: RuntimeWarning: invalid value encountered in true_divide\n",
      "  if __name__ == '__main__':\n",
      " 47%|████▋     | 95/203 [15:27<19:03, 10.59s/it]/home/thanos/.envs/fsu/lib/python3.6/site-packages/ipykernel_launcher.py:9: RuntimeWarning: invalid value encountered in true_divide\n",
      "  if __name__ == '__main__':\n",
      " 47%|████▋     | 96/203 [15:41<20:28, 11.48s/it]/home/thanos/.envs/fsu/lib/python3.6/site-packages/ipykernel_launcher.py:9: RuntimeWarning: invalid value encountered in true_divide\n",
      "  if __name__ == '__main__':\n",
      " 48%|████▊     | 97/203 [15:47<17:39, 10.00s/it]/home/thanos/.envs/fsu/lib/python3.6/site-packages/ipykernel_launcher.py:9: RuntimeWarning: invalid value encountered in true_divide\n",
      "  if __name__ == '__main__':\n",
      " 48%|████▊     | 98/203 [16:01<19:22, 11.07s/it]/home/thanos/.envs/fsu/lib/python3.6/site-packages/ipykernel_launcher.py:9: RuntimeWarning: invalid value encountered in true_divide\n",
      "  if __name__ == '__main__':\n",
      " 49%|████▉     | 99/203 [16:14<20:19, 11.73s/it]/home/thanos/.envs/fsu/lib/python3.6/site-packages/ipykernel_launcher.py:9: RuntimeWarning: invalid value encountered in true_divide\n",
      "  if __name__ == '__main__':\n",
      " 49%|████▉     | 100/203 [16:27<20:50, 12.14s/it]/home/thanos/.envs/fsu/lib/python3.6/site-packages/ipykernel_launcher.py:9: RuntimeWarning: invalid value encountered in true_divide\n",
      "  if __name__ == '__main__':\n",
      " 50%|████▉     | 101/203 [16:40<20:55, 12.31s/it]/home/thanos/.envs/fsu/lib/python3.6/site-packages/ipykernel_launcher.py:9: RuntimeWarning: invalid value encountered in true_divide\n",
      "  if __name__ == '__main__':\n",
      " 50%|█████     | 102/203 [16:47<17:46, 10.56s/it]/home/thanos/.envs/fsu/lib/python3.6/site-packages/ipykernel_launcher.py:9: RuntimeWarning: invalid value encountered in true_divide\n",
      "  if __name__ == '__main__':\n",
      " 51%|█████     | 103/203 [16:53<15:28,  9.28s/it]/home/thanos/.envs/fsu/lib/python3.6/site-packages/ipykernel_launcher.py:9: RuntimeWarning: invalid value encountered in true_divide\n",
      "  if __name__ == '__main__':\n",
      " 51%|█████     | 104/203 [17:06<17:13, 10.44s/it]/home/thanos/.envs/fsu/lib/python3.6/site-packages/ipykernel_launcher.py:9: RuntimeWarning: invalid value encountered in true_divide\n",
      "  if __name__ == '__main__':\n",
      " 52%|█████▏    | 105/203 [17:13<15:10,  9.29s/it]/home/thanos/.envs/fsu/lib/python3.6/site-packages/ipykernel_launcher.py:9: RuntimeWarning: invalid value encountered in true_divide\n",
      "  if __name__ == '__main__':\n",
      " 52%|█████▏    | 106/203 [17:19<13:35,  8.41s/it]/home/thanos/.envs/fsu/lib/python3.6/site-packages/ipykernel_launcher.py:9: RuntimeWarning: invalid value encountered in true_divide\n",
      "  if __name__ == '__main__':\n",
      " 53%|█████▎    | 107/203 [17:25<12:33,  7.85s/it]/home/thanos/.envs/fsu/lib/python3.6/site-packages/ipykernel_launcher.py:9: RuntimeWarning: invalid value encountered in true_divide\n",
      "  if __name__ == '__main__':\n",
      " 53%|█████▎    | 108/203 [17:32<11:53,  7.51s/it]/home/thanos/.envs/fsu/lib/python3.6/site-packages/ipykernel_launcher.py:9: RuntimeWarning: invalid value encountered in true_divide\n",
      "  if __name__ == '__main__':\n",
      " 54%|█████▎    | 109/203 [17:45<14:16,  9.12s/it]/home/thanos/.envs/fsu/lib/python3.6/site-packages/ipykernel_launcher.py:9: RuntimeWarning: invalid value encountered in true_divide\n",
      "  if __name__ == '__main__':\n",
      " 54%|█████▍    | 110/203 [17:52<12:57,  8.36s/it]/home/thanos/.envs/fsu/lib/python3.6/site-packages/ipykernel_launcher.py:9: RuntimeWarning: invalid value encountered in true_divide\n",
      "  if __name__ == '__main__':\n",
      " 55%|█████▍    | 111/203 [17:58<11:49,  7.71s/it]/home/thanos/.envs/fsu/lib/python3.6/site-packages/ipykernel_launcher.py:9: RuntimeWarning: invalid value encountered in true_divide\n",
      "  if __name__ == '__main__':\n",
      " 55%|█████▌    | 112/203 [18:11<14:04,  9.28s/it]/home/thanos/.envs/fsu/lib/python3.6/site-packages/ipykernel_launcher.py:9: RuntimeWarning: invalid value encountered in true_divide\n",
      "  if __name__ == '__main__':\n",
      " 56%|█████▌    | 113/203 [18:24<15:40, 10.45s/it]/home/thanos/.envs/fsu/lib/python3.6/site-packages/ipykernel_launcher.py:9: RuntimeWarning: invalid value encountered in true_divide\n",
      "  if __name__ == '__main__':\n",
      " 56%|█████▌    | 114/203 [18:30<13:44,  9.26s/it]/home/thanos/.envs/fsu/lib/python3.6/site-packages/ipykernel_launcher.py:9: RuntimeWarning: invalid value encountered in true_divide\n",
      "  if __name__ == '__main__':\n",
      " 57%|█████▋    | 115/203 [18:44<15:16, 10.42s/it]/home/thanos/.envs/fsu/lib/python3.6/site-packages/ipykernel_launcher.py:9: RuntimeWarning: invalid value encountered in true_divide\n",
      "  if __name__ == '__main__':\n",
      " 57%|█████▋    | 116/203 [18:50<13:18,  9.18s/it]/home/thanos/.envs/fsu/lib/python3.6/site-packages/ipykernel_launcher.py:9: RuntimeWarning: invalid value encountered in true_divide\n",
      "  if __name__ == '__main__':\n"
     ]
    },
    {
     "name": "stderr",
     "output_type": "stream",
     "text": [
      " 58%|█████▊    | 117/203 [19:03<14:56, 10.42s/it]/home/thanos/.envs/fsu/lib/python3.6/site-packages/ipykernel_launcher.py:9: RuntimeWarning: invalid value encountered in true_divide\n",
      "  if __name__ == '__main__':\n",
      " 58%|█████▊    | 118/203 [19:16<15:45, 11.12s/it]/home/thanos/.envs/fsu/lib/python3.6/site-packages/ipykernel_launcher.py:9: RuntimeWarning: invalid value encountered in true_divide\n",
      "  if __name__ == '__main__':\n",
      " 59%|█████▊    | 119/203 [19:29<16:20, 11.67s/it]/home/thanos/.envs/fsu/lib/python3.6/site-packages/ipykernel_launcher.py:9: RuntimeWarning: invalid value encountered in true_divide\n",
      "  if __name__ == '__main__':\n",
      " 59%|█████▉    | 120/203 [19:42<16:35, 11.99s/it]/home/thanos/.envs/fsu/lib/python3.6/site-packages/ipykernel_launcher.py:9: RuntimeWarning: invalid value encountered in true_divide\n",
      "  if __name__ == '__main__':\n",
      " 60%|█████▉    | 121/203 [19:55<16:46, 12.28s/it]/home/thanos/.envs/fsu/lib/python3.6/site-packages/ipykernel_launcher.py:9: RuntimeWarning: invalid value encountered in true_divide\n",
      "  if __name__ == '__main__':\n",
      " 60%|██████    | 122/203 [20:07<16:49, 12.46s/it]/home/thanos/.envs/fsu/lib/python3.6/site-packages/ipykernel_launcher.py:9: RuntimeWarning: invalid value encountered in true_divide\n",
      "  if __name__ == '__main__':\n",
      " 61%|██████    | 123/203 [20:20<16:49, 12.62s/it]/home/thanos/.envs/fsu/lib/python3.6/site-packages/ipykernel_launcher.py:9: RuntimeWarning: invalid value encountered in true_divide\n",
      "  if __name__ == '__main__':\n",
      " 61%|██████    | 124/203 [20:34<16:51, 12.81s/it]/home/thanos/.envs/fsu/lib/python3.6/site-packages/ipykernel_launcher.py:9: RuntimeWarning: invalid value encountered in true_divide\n",
      "  if __name__ == '__main__':\n",
      " 62%|██████▏   | 125/203 [20:40<14:05, 10.84s/it]/home/thanos/.envs/fsu/lib/python3.6/site-packages/ipykernel_launcher.py:9: RuntimeWarning: invalid value encountered in true_divide\n",
      "  if __name__ == '__main__':\n",
      " 62%|██████▏   | 126/203 [20:47<12:15,  9.55s/it]/home/thanos/.envs/fsu/lib/python3.6/site-packages/ipykernel_launcher.py:9: RuntimeWarning: invalid value encountered in true_divide\n",
      "  if __name__ == '__main__':\n",
      " 63%|██████▎   | 127/203 [21:00<13:24, 10.58s/it]/home/thanos/.envs/fsu/lib/python3.6/site-packages/ipykernel_launcher.py:9: RuntimeWarning: invalid value encountered in true_divide\n",
      "  if __name__ == '__main__':\n",
      " 63%|██████▎   | 128/203 [21:06<11:39,  9.33s/it]/home/thanos/.envs/fsu/lib/python3.6/site-packages/ipykernel_launcher.py:9: RuntimeWarning: invalid value encountered in true_divide\n",
      "  if __name__ == '__main__':\n",
      " 64%|██████▎   | 129/203 [21:19<12:56, 10.49s/it]/home/thanos/.envs/fsu/lib/python3.6/site-packages/ipykernel_launcher.py:9: RuntimeWarning: invalid value encountered in true_divide\n",
      "  if __name__ == '__main__':\n",
      " 64%|██████▍   | 130/203 [21:26<11:16,  9.26s/it]/home/thanos/.envs/fsu/lib/python3.6/site-packages/ipykernel_launcher.py:9: RuntimeWarning: invalid value encountered in true_divide\n",
      "  if __name__ == '__main__':\n",
      " 65%|██████▍   | 131/203 [21:32<10:02,  8.37s/it]/home/thanos/.envs/fsu/lib/python3.6/site-packages/ipykernel_launcher.py:9: RuntimeWarning: invalid value encountered in true_divide\n",
      "  if __name__ == '__main__':\n",
      " 65%|██████▌   | 132/203 [21:45<11:31,  9.74s/it]/home/thanos/.envs/fsu/lib/python3.6/site-packages/ipykernel_launcher.py:9: RuntimeWarning: invalid value encountered in true_divide\n",
      "  if __name__ == '__main__':\n",
      " 66%|██████▌   | 133/203 [21:57<12:25, 10.64s/it]/home/thanos/.envs/fsu/lib/python3.6/site-packages/ipykernel_launcher.py:9: RuntimeWarning: invalid value encountered in true_divide\n",
      "  if __name__ == '__main__':\n",
      " 66%|██████▌   | 134/203 [22:11<13:06, 11.40s/it]/home/thanos/.envs/fsu/lib/python3.6/site-packages/ipykernel_launcher.py:9: RuntimeWarning: invalid value encountered in true_divide\n",
      "  if __name__ == '__main__':\n",
      " 67%|██████▋   | 135/203 [22:17<11:11,  9.87s/it]/home/thanos/.envs/fsu/lib/python3.6/site-packages/ipykernel_launcher.py:9: RuntimeWarning: invalid value encountered in true_divide\n",
      "  if __name__ == '__main__':\n",
      " 67%|██████▋   | 136/203 [22:23<09:48,  8.78s/it]/home/thanos/.envs/fsu/lib/python3.6/site-packages/ipykernel_launcher.py:9: RuntimeWarning: invalid value encountered in true_divide\n",
      "  if __name__ == '__main__':\n",
      " 67%|██████▋   | 137/203 [22:36<11:05, 10.08s/it]/home/thanos/.envs/fsu/lib/python3.6/site-packages/ipykernel_launcher.py:9: RuntimeWarning: invalid value encountered in true_divide\n",
      "  if __name__ == '__main__':\n",
      " 68%|██████▊   | 138/203 [22:49<11:46, 10.87s/it]/home/thanos/.envs/fsu/lib/python3.6/site-packages/ipykernel_launcher.py:9: RuntimeWarning: invalid value encountered in true_divide\n",
      "  if __name__ == '__main__':\n",
      " 68%|██████▊   | 139/203 [22:55<10:09,  9.52s/it]/home/thanos/.envs/fsu/lib/python3.6/site-packages/ipykernel_launcher.py:9: RuntimeWarning: invalid value encountered in true_divide\n",
      "  if __name__ == '__main__':\n",
      " 69%|██████▉   | 140/203 [23:08<10:58, 10.46s/it]/home/thanos/.envs/fsu/lib/python3.6/site-packages/ipykernel_launcher.py:9: RuntimeWarning: invalid value encountered in true_divide\n",
      "  if __name__ == '__main__':\n",
      " 69%|██████▉   | 141/203 [23:14<09:28,  9.17s/it]/home/thanos/.envs/fsu/lib/python3.6/site-packages/ipykernel_launcher.py:9: RuntimeWarning: invalid value encountered in true_divide\n",
      "  if __name__ == '__main__':\n",
      " 70%|██████▉   | 142/203 [23:27<10:30, 10.33s/it]/home/thanos/.envs/fsu/lib/python3.6/site-packages/ipykernel_launcher.py:9: RuntimeWarning: invalid value encountered in true_divide\n",
      "  if __name__ == '__main__':\n",
      " 70%|███████   | 143/203 [23:33<09:06,  9.10s/it]/home/thanos/.envs/fsu/lib/python3.6/site-packages/ipykernel_launcher.py:9: RuntimeWarning: invalid value encountered in true_divide\n",
      "  if __name__ == '__main__':\n",
      " 71%|███████   | 144/203 [23:46<10:02, 10.21s/it]/home/thanos/.envs/fsu/lib/python3.6/site-packages/ipykernel_launcher.py:9: RuntimeWarning: invalid value encountered in true_divide\n",
      "  if __name__ == '__main__':\n",
      " 71%|███████▏  | 145/203 [23:53<08:44,  9.04s/it]/home/thanos/.envs/fsu/lib/python3.6/site-packages/ipykernel_launcher.py:9: RuntimeWarning: invalid value encountered in true_divide\n",
      "  if __name__ == '__main__':\n",
      " 72%|███████▏  | 146/203 [24:06<09:42, 10.22s/it]/home/thanos/.envs/fsu/lib/python3.6/site-packages/ipykernel_launcher.py:9: RuntimeWarning: invalid value encountered in true_divide\n",
      "  if __name__ == '__main__':\n",
      " 72%|███████▏  | 147/203 [24:12<08:24,  9.00s/it]/home/thanos/.envs/fsu/lib/python3.6/site-packages/ipykernel_launcher.py:9: RuntimeWarning: invalid value encountered in true_divide\n",
      "  if __name__ == '__main__':\n",
      " 73%|███████▎  | 148/203 [24:25<09:21, 10.20s/it]/home/thanos/.envs/fsu/lib/python3.6/site-packages/ipykernel_launcher.py:9: RuntimeWarning: invalid value encountered in true_divide\n",
      "  if __name__ == '__main__':\n",
      " 73%|███████▎  | 149/203 [24:38<09:55, 11.02s/it]/home/thanos/.envs/fsu/lib/python3.6/site-packages/ipykernel_launcher.py:9: RuntimeWarning: invalid value encountered in true_divide\n",
      "  if __name__ == '__main__':\n",
      " 74%|███████▍  | 150/203 [24:44<08:27,  9.57s/it]/home/thanos/.envs/fsu/lib/python3.6/site-packages/ipykernel_launcher.py:9: RuntimeWarning: invalid value encountered in true_divide\n",
      "  if __name__ == '__main__':\n",
      " 74%|███████▍  | 151/203 [24:57<09:10, 10.59s/it]/home/thanos/.envs/fsu/lib/python3.6/site-packages/ipykernel_launcher.py:9: RuntimeWarning: invalid value encountered in true_divide\n",
      "  if __name__ == '__main__':\n",
      " 75%|███████▍  | 152/203 [25:03<07:55,  9.32s/it]/home/thanos/.envs/fsu/lib/python3.6/site-packages/ipykernel_launcher.py:9: RuntimeWarning: invalid value encountered in true_divide\n",
      "  if __name__ == '__main__':\n",
      " 75%|███████▌  | 153/203 [25:09<07:00,  8.41s/it]/home/thanos/.envs/fsu/lib/python3.6/site-packages/ipykernel_launcher.py:9: RuntimeWarning: invalid value encountered in true_divide\n",
      "  if __name__ == '__main__':\n",
      " 76%|███████▌  | 154/203 [25:22<07:58,  9.76s/it]/home/thanos/.envs/fsu/lib/python3.6/site-packages/ipykernel_launcher.py:9: RuntimeWarning: invalid value encountered in true_divide\n",
      "  if __name__ == '__main__':\n",
      " 76%|███████▋  | 155/203 [25:35<08:31, 10.65s/it]/home/thanos/.envs/fsu/lib/python3.6/site-packages/ipykernel_launcher.py:9: RuntimeWarning: invalid value encountered in true_divide\n",
      "  if __name__ == '__main__':\n"
     ]
    },
    {
     "name": "stderr",
     "output_type": "stream",
     "text": [
      " 77%|███████▋  | 156/203 [25:48<08:51, 11.32s/it]/home/thanos/.envs/fsu/lib/python3.6/site-packages/ipykernel_launcher.py:9: RuntimeWarning: invalid value encountered in true_divide\n",
      "  if __name__ == '__main__':\n",
      " 77%|███████▋  | 157/203 [25:54<07:33,  9.85s/it]/home/thanos/.envs/fsu/lib/python3.6/site-packages/ipykernel_launcher.py:9: RuntimeWarning: invalid value encountered in true_divide\n",
      "  if __name__ == '__main__':\n",
      " 78%|███████▊  | 158/203 [26:07<08:05, 10.79s/it]/home/thanos/.envs/fsu/lib/python3.6/site-packages/ipykernel_launcher.py:9: RuntimeWarning: invalid value encountered in true_divide\n",
      "  if __name__ == '__main__':\n",
      " 78%|███████▊  | 159/203 [26:20<08:22, 11.41s/it]/home/thanos/.envs/fsu/lib/python3.6/site-packages/ipykernel_launcher.py:9: RuntimeWarning: invalid value encountered in true_divide\n",
      "  if __name__ == '__main__':\n",
      " 79%|███████▉  | 160/203 [26:27<07:05,  9.89s/it]/home/thanos/.envs/fsu/lib/python3.6/site-packages/ipykernel_launcher.py:9: RuntimeWarning: invalid value encountered in true_divide\n",
      "  if __name__ == '__main__':\n",
      " 79%|███████▉  | 161/203 [26:40<07:36, 10.87s/it]/home/thanos/.envs/fsu/lib/python3.6/site-packages/ipykernel_launcher.py:9: RuntimeWarning: invalid value encountered in true_divide\n",
      "  if __name__ == '__main__':\n",
      " 80%|███████▉  | 162/203 [26:52<07:48, 11.43s/it]/home/thanos/.envs/fsu/lib/python3.6/site-packages/ipykernel_launcher.py:9: RuntimeWarning: invalid value encountered in true_divide\n",
      "  if __name__ == '__main__':\n",
      " 80%|████████  | 163/203 [27:06<07:57, 11.95s/it]/home/thanos/.envs/fsu/lib/python3.6/site-packages/ipykernel_launcher.py:9: RuntimeWarning: invalid value encountered in true_divide\n",
      "  if __name__ == '__main__':\n",
      " 81%|████████  | 164/203 [27:12<06:42, 10.33s/it]/home/thanos/.envs/fsu/lib/python3.6/site-packages/ipykernel_launcher.py:9: RuntimeWarning: invalid value encountered in true_divide\n",
      "  if __name__ == '__main__':\n",
      " 81%|████████▏ | 165/203 [27:25<07:04, 11.18s/it]/home/thanos/.envs/fsu/lib/python3.6/site-packages/ipykernel_launcher.py:9: RuntimeWarning: invalid value encountered in true_divide\n",
      "  if __name__ == '__main__':\n",
      " 82%|████████▏ | 166/203 [27:38<07:11, 11.67s/it]/home/thanos/.envs/fsu/lib/python3.6/site-packages/ipykernel_launcher.py:9: RuntimeWarning: invalid value encountered in true_divide\n",
      "  if __name__ == '__main__':\n",
      " 82%|████████▏ | 167/203 [27:45<06:05, 10.15s/it]/home/thanos/.envs/fsu/lib/python3.6/site-packages/ipykernel_launcher.py:9: RuntimeWarning: invalid value encountered in true_divide\n",
      "  if __name__ == '__main__':\n",
      " 83%|████████▎ | 168/203 [27:58<06:26, 11.06s/it]/home/thanos/.envs/fsu/lib/python3.6/site-packages/ipykernel_launcher.py:9: RuntimeWarning: invalid value encountered in true_divide\n",
      "  if __name__ == '__main__':\n",
      " 83%|████████▎ | 169/203 [28:11<06:39, 11.74s/it]/home/thanos/.envs/fsu/lib/python3.6/site-packages/ipykernel_launcher.py:9: RuntimeWarning: invalid value encountered in true_divide\n",
      "  if __name__ == '__main__':\n",
      " 84%|████████▎ | 170/203 [28:24<06:41, 12.15s/it]/home/thanos/.envs/fsu/lib/python3.6/site-packages/ipykernel_launcher.py:9: RuntimeWarning: invalid value encountered in true_divide\n",
      "  if __name__ == '__main__':\n",
      " 84%|████████▍ | 171/203 [28:38<06:39, 12.49s/it]/home/thanos/.envs/fsu/lib/python3.6/site-packages/ipykernel_launcher.py:9: RuntimeWarning: invalid value encountered in true_divide\n",
      "  if __name__ == '__main__':\n",
      " 85%|████████▍ | 172/203 [28:51<06:31, 12.62s/it]/home/thanos/.envs/fsu/lib/python3.6/site-packages/ipykernel_launcher.py:9: RuntimeWarning: invalid value encountered in true_divide\n",
      "  if __name__ == '__main__':\n",
      " 85%|████████▌ | 173/203 [29:04<06:22, 12.76s/it]/home/thanos/.envs/fsu/lib/python3.6/site-packages/ipykernel_launcher.py:9: RuntimeWarning: invalid value encountered in true_divide\n",
      "  if __name__ == '__main__':\n",
      " 86%|████████▌ | 174/203 [29:17<06:12, 12.85s/it]/home/thanos/.envs/fsu/lib/python3.6/site-packages/ipykernel_launcher.py:9: RuntimeWarning: invalid value encountered in true_divide\n",
      "  if __name__ == '__main__':\n",
      " 86%|████████▌ | 175/203 [29:29<05:58, 12.80s/it]/home/thanos/.envs/fsu/lib/python3.6/site-packages/ipykernel_launcher.py:9: RuntimeWarning: invalid value encountered in true_divide\n",
      "  if __name__ == '__main__':\n",
      " 87%|████████▋ | 176/203 [29:36<04:54, 10.92s/it]/home/thanos/.envs/fsu/lib/python3.6/site-packages/ipykernel_launcher.py:9: RuntimeWarning: invalid value encountered in true_divide\n",
      "  if __name__ == '__main__':\n",
      " 87%|████████▋ | 177/203 [29:42<04:07,  9.50s/it]/home/thanos/.envs/fsu/lib/python3.6/site-packages/ipykernel_launcher.py:9: RuntimeWarning: invalid value encountered in true_divide\n",
      "  if __name__ == '__main__':\n",
      " 88%|████████▊ | 178/203 [29:49<03:35,  8.62s/it]/home/thanos/.envs/fsu/lib/python3.6/site-packages/ipykernel_launcher.py:9: RuntimeWarning: invalid value encountered in true_divide\n",
      "  if __name__ == '__main__':\n",
      " 88%|████████▊ | 179/203 [29:55<03:10,  7.94s/it]/home/thanos/.envs/fsu/lib/python3.6/site-packages/ipykernel_launcher.py:9: RuntimeWarning: invalid value encountered in true_divide\n",
      "  if __name__ == '__main__':\n",
      " 89%|████████▊ | 180/203 [30:08<03:36,  9.42s/it]/home/thanos/.envs/fsu/lib/python3.6/site-packages/ipykernel_launcher.py:9: RuntimeWarning: invalid value encountered in true_divide\n",
      "  if __name__ == '__main__':\n",
      " 89%|████████▉ | 181/203 [30:21<03:50, 10.46s/it]/home/thanos/.envs/fsu/lib/python3.6/site-packages/ipykernel_launcher.py:9: RuntimeWarning: invalid value encountered in true_divide\n",
      "  if __name__ == '__main__':\n",
      " 90%|████████▉ | 182/203 [30:27<03:14,  9.27s/it]/home/thanos/.envs/fsu/lib/python3.6/site-packages/ipykernel_launcher.py:9: RuntimeWarning: invalid value encountered in true_divide\n",
      "  if __name__ == '__main__':\n",
      " 90%|█████████ | 183/203 [30:34<02:46,  8.34s/it]/home/thanos/.envs/fsu/lib/python3.6/site-packages/ipykernel_launcher.py:9: RuntimeWarning: invalid value encountered in true_divide\n",
      "  if __name__ == '__main__':\n",
      " 91%|█████████ | 184/203 [30:40<02:27,  7.78s/it]/home/thanos/.envs/fsu/lib/python3.6/site-packages/ipykernel_launcher.py:9: RuntimeWarning: invalid value encountered in true_divide\n",
      "  if __name__ == '__main__':\n",
      " 91%|█████████ | 185/203 [30:53<02:47,  9.28s/it]/home/thanos/.envs/fsu/lib/python3.6/site-packages/ipykernel_launcher.py:9: RuntimeWarning: invalid value encountered in true_divide\n",
      "  if __name__ == '__main__':\n",
      " 92%|█████████▏| 186/203 [31:05<02:55, 10.31s/it]/home/thanos/.envs/fsu/lib/python3.6/site-packages/ipykernel_launcher.py:9: RuntimeWarning: invalid value encountered in true_divide\n",
      "  if __name__ == '__main__':\n",
      " 92%|█████████▏| 187/203 [31:12<02:26,  9.14s/it]/home/thanos/.envs/fsu/lib/python3.6/site-packages/ipykernel_launcher.py:9: RuntimeWarning: invalid value encountered in true_divide\n",
      "  if __name__ == '__main__':\n",
      " 93%|█████████▎| 188/203 [31:18<02:03,  8.25s/it]/home/thanos/.envs/fsu/lib/python3.6/site-packages/ipykernel_launcher.py:9: RuntimeWarning: invalid value encountered in true_divide\n",
      "  if __name__ == '__main__':\n",
      " 93%|█████████▎| 189/203 [31:25<01:48,  7.73s/it]/home/thanos/.envs/fsu/lib/python3.6/site-packages/ipykernel_launcher.py:9: RuntimeWarning: invalid value encountered in true_divide\n",
      "  if __name__ == '__main__':\n",
      " 94%|█████████▎| 190/203 [31:31<01:34,  7.28s/it]/home/thanos/.envs/fsu/lib/python3.6/site-packages/ipykernel_launcher.py:9: RuntimeWarning: invalid value encountered in true_divide\n",
      "  if __name__ == '__main__':\n",
      " 94%|█████████▍| 191/203 [31:37<01:23,  7.00s/it]/home/thanos/.envs/fsu/lib/python3.6/site-packages/ipykernel_launcher.py:9: RuntimeWarning: invalid value encountered in true_divide\n",
      "  if __name__ == '__main__':\n",
      " 95%|█████████▍| 192/203 [31:43<01:14,  6.79s/it]/home/thanos/.envs/fsu/lib/python3.6/site-packages/ipykernel_launcher.py:9: RuntimeWarning: invalid value encountered in true_divide\n",
      "  if __name__ == '__main__':\n",
      " 95%|█████████▌| 193/203 [31:50<01:06,  6.61s/it]/home/thanos/.envs/fsu/lib/python3.6/site-packages/ipykernel_launcher.py:9: RuntimeWarning: invalid value encountered in true_divide\n",
      "  if __name__ == '__main__':\n",
      " 96%|█████████▌| 194/203 [32:02<01:16,  8.46s/it]/home/thanos/.envs/fsu/lib/python3.6/site-packages/ipykernel_launcher.py:9: RuntimeWarning: invalid value encountered in true_divide\n",
      "  if __name__ == '__main__':\n"
     ]
    },
    {
     "name": "stderr",
     "output_type": "stream",
     "text": [
      " 96%|█████████▌| 195/203 [32:09<01:02,  7.83s/it]/home/thanos/.envs/fsu/lib/python3.6/site-packages/ipykernel_launcher.py:9: RuntimeWarning: invalid value encountered in true_divide\n",
      "  if __name__ == '__main__':\n",
      " 97%|█████████▋| 196/203 [32:15<00:51,  7.34s/it]/home/thanos/.envs/fsu/lib/python3.6/site-packages/ipykernel_launcher.py:9: RuntimeWarning: invalid value encountered in true_divide\n",
      "  if __name__ == '__main__':\n",
      " 97%|█████████▋| 197/203 [32:22<00:42,  7.11s/it]/home/thanos/.envs/fsu/lib/python3.6/site-packages/ipykernel_launcher.py:9: RuntimeWarning: invalid value encountered in true_divide\n",
      "  if __name__ == '__main__':\n",
      " 98%|█████████▊| 198/203 [32:34<00:44,  8.81s/it]/home/thanos/.envs/fsu/lib/python3.6/site-packages/ipykernel_launcher.py:9: RuntimeWarning: invalid value encountered in true_divide\n",
      "  if __name__ == '__main__':\n",
      " 98%|█████████▊| 199/203 [32:47<00:40, 10.01s/it]/home/thanos/.envs/fsu/lib/python3.6/site-packages/ipykernel_launcher.py:9: RuntimeWarning: invalid value encountered in true_divide\n",
      "  if __name__ == '__main__':\n",
      " 99%|█████████▊| 200/203 [32:54<00:26,  8.94s/it]/home/thanos/.envs/fsu/lib/python3.6/site-packages/ipykernel_launcher.py:9: RuntimeWarning: invalid value encountered in true_divide\n",
      "  if __name__ == '__main__':\n",
      " 99%|█████████▉| 201/203 [33:00<00:16,  8.12s/it]/home/thanos/.envs/fsu/lib/python3.6/site-packages/ipykernel_launcher.py:9: RuntimeWarning: invalid value encountered in true_divide\n",
      "  if __name__ == '__main__':\n",
      "100%|█████████▉| 202/203 [33:06<00:07,  7.63s/it]/home/thanos/.envs/fsu/lib/python3.6/site-packages/ipykernel_launcher.py:9: RuntimeWarning: invalid value encountered in true_divide\n",
      "  if __name__ == '__main__':\n",
      "100%|██████████| 203/203 [33:19<00:00,  9.85s/it]\n"
     ]
    }
   ],
   "source": [
    "results = {'smape': {k: [] for k in trial_names},\n",
    "           'mase': {k: [] for k in trial_names},\n",
    "           'owa': {k: [] for k in trial_names}}\n",
    "\n",
    "for trial in tqdm(trials):\n",
    "    model_dir = str(trial / 'best_weights.h5')\n",
    "    \n",
    "    mape = metrics.build_mape(overlap=6)\n",
    "    smape = metrics.build_smape(overlap=6)\n",
    "    mase_estimate = metrics.build_mase(overlap=6)\n",
    "    owa_estimate = metrics.build_owa(overlap=6)\n",
    "    reconstruction_loss = metrics.build_reconstruction_loss(overlap=6)\n",
    "\n",
    "    model = tf.keras.models.load_model(model_dir, custom_objects={'SMAPE': smape,\n",
    "                                                                  'MASE_estimate': mase_estimate,\n",
    "                                                                  'OWA_estimate': owa_estimate,\n",
    "                                                                  'reconstruction_loss': reconstruction_loss})\n",
    "    \n",
    "    preds = get_predictions(model, X_test)\n",
    "    \n",
    "    tf.keras.backend.clear_session()\n",
    "    \n",
    "    results['smape'][trial.name].append(np.nanmean(SMAPE(y_test, preds[:, 6:])))\n",
    "    results['mase'][trial.name].append(np.nanmean(MASE(X_test, y_test, preds[:, 6:])))\n",
    "    results['owa'][trial.name].append(np.nanmean(OWA(X_test, y_test, preds[:, 6:])))"
   ]
  },
  {
   "cell_type": "code",
   "execution_count": 54,
   "metadata": {},
   "outputs": [],
   "source": [
    "def create_results_df(results, ensemble=False):\n",
    "    new_keys = [k for k in results['smape'].keys() if not k.isdigit()]\n",
    "    columns = ['input_len', 'output_len', 'loss', 'bottleneck_size',\n",
    "               'bottleneck_activation', 'LSTM_type', 'num']\n",
    "    if ensemble:\n",
    "        columns.pop()\n",
    "        \n",
    "    df = pd.DataFrame([k.split('__') for k in new_keys],\n",
    "                   columns=columns)\n",
    "    \n",
    "    for column in ('input_len', 'output_len', 'loss',\n",
    "                    'bottleneck_size', 'bottleneck_activation',\n",
    "                    'LSTM_type'):\n",
    "        \n",
    "        df[column] = df[column].apply(lambda x: x.split('_')[1])\n",
    "            \n",
    "    df['smape'] = [results['smape'][k][0] if results['smape'][k] else np.nan for k in new_keys]\n",
    "    df['mase*'] = [results['mase'][k][0] if results['mase'][k] else np.nan for k in new_keys]\n",
    "    \n",
    "    return df"
   ]
  },
  {
   "cell_type": "code",
   "execution_count": 55,
   "metadata": {},
   "outputs": [],
   "source": [
    "df = create_results_df(results)"
   ]
  },
  {
   "cell_type": "code",
   "execution_count": 56,
   "metadata": {},
   "outputs": [
    {
     "data": {
      "text/html": [
       "<div>\n",
       "<style scoped>\n",
       "    .dataframe tbody tr th:only-of-type {\n",
       "        vertical-align: middle;\n",
       "    }\n",
       "\n",
       "    .dataframe tbody tr th {\n",
       "        vertical-align: top;\n",
       "    }\n",
       "\n",
       "    .dataframe thead th {\n",
       "        text-align: right;\n",
       "    }\n",
       "</style>\n",
       "<table border=\"1\" class=\"dataframe\">\n",
       "  <thead>\n",
       "    <tr style=\"text-align: right;\">\n",
       "      <th></th>\n",
       "      <th>input_len</th>\n",
       "      <th>output_len</th>\n",
       "      <th>loss</th>\n",
       "      <th>bottleneck_size</th>\n",
       "      <th>bottleneck_activation</th>\n",
       "      <th>LSTM_type</th>\n",
       "      <th>num</th>\n",
       "      <th>smape</th>\n",
       "      <th>mase*</th>\n",
       "    </tr>\n",
       "  </thead>\n",
       "  <tbody>\n",
       "    <tr>\n",
       "      <th>83</th>\n",
       "      <td>12</td>\n",
       "      <td>12</td>\n",
       "      <td>mae</td>\n",
       "      <td>50</td>\n",
       "      <td>leaky</td>\n",
       "      <td>bi</td>\n",
       "      <td>5</td>\n",
       "      <td>13.150599</td>\n",
       "      <td>2.463560</td>\n",
       "    </tr>\n",
       "    <tr>\n",
       "      <th>21</th>\n",
       "      <td>12</td>\n",
       "      <td>12</td>\n",
       "      <td>mae</td>\n",
       "      <td>50</td>\n",
       "      <td>relu</td>\n",
       "      <td>bi</td>\n",
       "      <td>1</td>\n",
       "      <td>13.204066</td>\n",
       "      <td>2.486077</td>\n",
       "    </tr>\n",
       "    <tr>\n",
       "      <th>104</th>\n",
       "      <td>12</td>\n",
       "      <td>12</td>\n",
       "      <td>mae</td>\n",
       "      <td>100</td>\n",
       "      <td>leaky</td>\n",
       "      <td>bi</td>\n",
       "      <td>3</td>\n",
       "      <td>13.220715</td>\n",
       "      <td>2.488784</td>\n",
       "    </tr>\n",
       "    <tr>\n",
       "      <th>53</th>\n",
       "      <td>12</td>\n",
       "      <td>12</td>\n",
       "      <td>mae</td>\n",
       "      <td>25</td>\n",
       "      <td>tanh</td>\n",
       "      <td>bi</td>\n",
       "      <td>2</td>\n",
       "      <td>13.222986</td>\n",
       "      <td>2.488183</td>\n",
       "    </tr>\n",
       "    <tr>\n",
       "      <th>56</th>\n",
       "      <td>12</td>\n",
       "      <td>12</td>\n",
       "      <td>mae</td>\n",
       "      <td>25</td>\n",
       "      <td>relu</td>\n",
       "      <td>bi</td>\n",
       "      <td>3</td>\n",
       "      <td>13.223019</td>\n",
       "      <td>2.485225</td>\n",
       "    </tr>\n",
       "    <tr>\n",
       "      <th>...</th>\n",
       "      <td>...</td>\n",
       "      <td>...</td>\n",
       "      <td>...</td>\n",
       "      <td>...</td>\n",
       "      <td>...</td>\n",
       "      <td>...</td>\n",
       "      <td>...</td>\n",
       "      <td>...</td>\n",
       "      <td>...</td>\n",
       "    </tr>\n",
       "    <tr>\n",
       "      <th>41</th>\n",
       "      <td>12</td>\n",
       "      <td>12</td>\n",
       "      <td>mae</td>\n",
       "      <td>50</td>\n",
       "      <td>leaky</td>\n",
       "      <td>uni</td>\n",
       "      <td>3</td>\n",
       "      <td>13.638560</td>\n",
       "      <td>2.610401</td>\n",
       "    </tr>\n",
       "    <tr>\n",
       "      <th>27</th>\n",
       "      <td>12</td>\n",
       "      <td>12</td>\n",
       "      <td>mae</td>\n",
       "      <td>25</td>\n",
       "      <td>leaky</td>\n",
       "      <td>uni</td>\n",
       "      <td>7</td>\n",
       "      <td>13.648280</td>\n",
       "      <td>2.520414</td>\n",
       "    </tr>\n",
       "    <tr>\n",
       "      <th>91</th>\n",
       "      <td>12</td>\n",
       "      <td>12</td>\n",
       "      <td>mae</td>\n",
       "      <td>50</td>\n",
       "      <td>relu</td>\n",
       "      <td>bi</td>\n",
       "      <td>4</td>\n",
       "      <td>13.747935</td>\n",
       "      <td>2.573454</td>\n",
       "    </tr>\n",
       "    <tr>\n",
       "      <th>114</th>\n",
       "      <td>12</td>\n",
       "      <td>12</td>\n",
       "      <td>mae</td>\n",
       "      <td>25</td>\n",
       "      <td>tanh</td>\n",
       "      <td>uni</td>\n",
       "      <td>3</td>\n",
       "      <td>13.784612</td>\n",
       "      <td>2.611486</td>\n",
       "    </tr>\n",
       "    <tr>\n",
       "      <th>33</th>\n",
       "      <td>12</td>\n",
       "      <td>12</td>\n",
       "      <td>mae</td>\n",
       "      <td>25</td>\n",
       "      <td>relu</td>\n",
       "      <td>uni</td>\n",
       "      <td>7</td>\n",
       "      <td>13.920817</td>\n",
       "      <td>2.615967</td>\n",
       "    </tr>\n",
       "  </tbody>\n",
       "</table>\n",
       "<p>135 rows × 9 columns</p>\n",
       "</div>"
      ],
      "text/plain": [
       "    input_len output_len loss bottleneck_size bottleneck_activation LSTM_type  \\\n",
       "83         12         12  mae              50                 leaky        bi   \n",
       "21         12         12  mae              50                  relu        bi   \n",
       "104        12         12  mae             100                 leaky        bi   \n",
       "53         12         12  mae              25                  tanh        bi   \n",
       "56         12         12  mae              25                  relu        bi   \n",
       "..        ...        ...  ...             ...                   ...       ...   \n",
       "41         12         12  mae              50                 leaky       uni   \n",
       "27         12         12  mae              25                 leaky       uni   \n",
       "91         12         12  mae              50                  relu        bi   \n",
       "114        12         12  mae              25                  tanh       uni   \n",
       "33         12         12  mae              25                  relu       uni   \n",
       "\n",
       "    num      smape     mase*  \n",
       "83    5  13.150599  2.463560  \n",
       "21    1  13.204066  2.486077  \n",
       "104   3  13.220715  2.488784  \n",
       "53    2  13.222986  2.488183  \n",
       "56    3  13.223019  2.485225  \n",
       "..   ..        ...       ...  \n",
       "41    3  13.638560  2.610401  \n",
       "27    7  13.648280  2.520414  \n",
       "91    4  13.747935  2.573454  \n",
       "114   3  13.784612  2.611486  \n",
       "33    7  13.920817  2.615967  \n",
       "\n",
       "[135 rows x 9 columns]"
      ]
     },
     "execution_count": 56,
     "metadata": {},
     "output_type": "execute_result"
    }
   ],
   "source": [
    "df.sort_values('smape')"
   ]
  },
  {
   "cell_type": "code",
   "execution_count": 42,
   "metadata": {},
   "outputs": [
    {
     "data": {
      "text/plain": [
       "loss  bottleneck_size  bottleneck_activation  LSTM_type\n",
       "mae   100              leaky                  bi           13.385511\n",
       "                                              uni          13.374092\n",
       "      25               leaky                  bi           13.434750\n",
       "                                              uni          13.485872\n",
       "                       relu                   bi           13.356209\n",
       "                                              uni          13.486923\n",
       "                       tanh                   bi           13.407217\n",
       "                                              uni          13.395098\n",
       "      50               leaky                  bi           13.381620\n",
       "                                              uni          13.458044\n",
       "                       relu                   bi           13.383894\n",
       "                                              uni          13.394240\n",
       "                       tanh                   bi           13.342429\n",
       "                                              uni          13.400151\n",
       "Name: smape, dtype: float64"
      ]
     },
     "execution_count": 42,
     "metadata": {},
     "output_type": "execute_result"
    }
   ],
   "source": [
    "df.groupby(['loss', 'bottleneck_size', 'bottleneck_activation', 'LSTM_type'])['smape'].mean()"
   ]
  },
  {
   "cell_type": "code",
   "execution_count": 23,
   "metadata": {},
   "outputs": [],
   "source": [
    "df.to_csv('../reports/result_df.csv', index=False)"
   ]
  },
  {
   "cell_type": "markdown",
   "metadata": {},
   "source": [
    "### 10 models median"
   ]
  },
  {
   "cell_type": "code",
   "execution_count": 15,
   "metadata": {},
   "outputs": [
    {
     "name": "stderr",
     "output_type": "stream",
     "text": [
      "\r",
      "  0%|          | 0/135 [00:00<?, ?it/s]"
     ]
    },
    {
     "name": "stdout",
     "output_type": "stream",
     "text": [
      "inp_12__out_12__loss_mae__bksize_25__bkact_leaky__dir_bi 0\n",
      "/home/thanos/projects/ae_pred/analysis/../results/inp_12__out_12__loss_mae__bksize_25__bkact_leaky__dir_bi__0/best_weights.h5\n"
     ]
    },
    {
     "name": "stderr",
     "output_type": "stream",
     "text": [
      "/home/thanos/.envs/fsu/lib/python3.6/site-packages/ipykernel_launcher.py:9: RuntimeWarning: invalid value encountered in true_divide\n",
      "  if __name__ == '__main__':\n"
     ]
    },
    {
     "name": "stdout",
     "output_type": "stream",
     "text": [
      "inp_12__out_12__loss_mae__bksize_25__bkact_leaky__dir_bi 1\n",
      "/home/thanos/projects/ae_pred/analysis/../results/inp_12__out_12__loss_mae__bksize_25__bkact_leaky__dir_bi__1/best_weights.h5\n"
     ]
    },
    {
     "name": "stderr",
     "output_type": "stream",
     "text": [
      "/home/thanos/.envs/fsu/lib/python3.6/site-packages/ipykernel_launcher.py:9: RuntimeWarning: invalid value encountered in true_divide\n",
      "  if __name__ == '__main__':\n"
     ]
    },
    {
     "name": "stdout",
     "output_type": "stream",
     "text": [
      "inp_12__out_12__loss_mae__bksize_25__bkact_leaky__dir_bi 2\n",
      "/home/thanos/projects/ae_pred/analysis/../results/inp_12__out_12__loss_mae__bksize_25__bkact_leaky__dir_bi__2/best_weights.h5\n"
     ]
    },
    {
     "name": "stderr",
     "output_type": "stream",
     "text": [
      "/home/thanos/.envs/fsu/lib/python3.6/site-packages/ipykernel_launcher.py:9: RuntimeWarning: invalid value encountered in true_divide\n",
      "  if __name__ == '__main__':\n"
     ]
    },
    {
     "name": "stdout",
     "output_type": "stream",
     "text": [
      "inp_12__out_12__loss_mae__bksize_25__bkact_leaky__dir_bi 3\n",
      "/home/thanos/projects/ae_pred/analysis/../results/inp_12__out_12__loss_mae__bksize_25__bkact_leaky__dir_bi__3/best_weights.h5\n"
     ]
    },
    {
     "name": "stderr",
     "output_type": "stream",
     "text": [
      "/home/thanos/.envs/fsu/lib/python3.6/site-packages/ipykernel_launcher.py:9: RuntimeWarning: invalid value encountered in true_divide\n",
      "  if __name__ == '__main__':\n"
     ]
    },
    {
     "name": "stdout",
     "output_type": "stream",
     "text": [
      "inp_12__out_12__loss_mae__bksize_25__bkact_leaky__dir_bi 4\n",
      "/home/thanos/projects/ae_pred/analysis/../results/inp_12__out_12__loss_mae__bksize_25__bkact_leaky__dir_bi__4/best_weights.h5\n"
     ]
    },
    {
     "name": "stderr",
     "output_type": "stream",
     "text": [
      "/home/thanos/.envs/fsu/lib/python3.6/site-packages/ipykernel_launcher.py:9: RuntimeWarning: invalid value encountered in true_divide\n",
      "  if __name__ == '__main__':\n"
     ]
    },
    {
     "name": "stdout",
     "output_type": "stream",
     "text": [
      "inp_12__out_12__loss_mae__bksize_25__bkact_leaky__dir_bi 5\n",
      "/home/thanos/projects/ae_pred/analysis/../results/inp_12__out_12__loss_mae__bksize_25__bkact_leaky__dir_bi__5/best_weights.h5\n"
     ]
    },
    {
     "name": "stderr",
     "output_type": "stream",
     "text": [
      "/home/thanos/.envs/fsu/lib/python3.6/site-packages/ipykernel_launcher.py:9: RuntimeWarning: invalid value encountered in true_divide\n",
      "  if __name__ == '__main__':\n"
     ]
    },
    {
     "name": "stdout",
     "output_type": "stream",
     "text": [
      "inp_12__out_12__loss_mae__bksize_25__bkact_leaky__dir_bi 6\n",
      "/home/thanos/projects/ae_pred/analysis/../results/inp_12__out_12__loss_mae__bksize_25__bkact_leaky__dir_bi__6/best_weights.h5\n"
     ]
    },
    {
     "name": "stderr",
     "output_type": "stream",
     "text": [
      "/home/thanos/.envs/fsu/lib/python3.6/site-packages/ipykernel_launcher.py:9: RuntimeWarning: invalid value encountered in true_divide\n",
      "  if __name__ == '__main__':\n"
     ]
    },
    {
     "name": "stdout",
     "output_type": "stream",
     "text": [
      "inp_12__out_12__loss_mae__bksize_25__bkact_leaky__dir_bi 7\n",
      "/home/thanos/projects/ae_pred/analysis/../results/inp_12__out_12__loss_mae__bksize_25__bkact_leaky__dir_bi__7/best_weights.h5\n"
     ]
    },
    {
     "name": "stderr",
     "output_type": "stream",
     "text": [
      "/home/thanos/.envs/fsu/lib/python3.6/site-packages/ipykernel_launcher.py:9: RuntimeWarning: invalid value encountered in true_divide\n",
      "  if __name__ == '__main__':\n"
     ]
    },
    {
     "name": "stdout",
     "output_type": "stream",
     "text": [
      "inp_12__out_12__loss_mae__bksize_25__bkact_leaky__dir_bi 8\n",
      "/home/thanos/projects/ae_pred/analysis/../results/inp_12__out_12__loss_mae__bksize_25__bkact_leaky__dir_bi__8/best_weights.h5\n"
     ]
    },
    {
     "name": "stderr",
     "output_type": "stream",
     "text": [
      "/home/thanos/.envs/fsu/lib/python3.6/site-packages/ipykernel_launcher.py:9: RuntimeWarning: invalid value encountered in true_divide\n",
      "  if __name__ == '__main__':\n"
     ]
    },
    {
     "name": "stdout",
     "output_type": "stream",
     "text": [
      "inp_12__out_12__loss_mae__bksize_25__bkact_leaky__dir_bi 9\n",
      "/home/thanos/projects/ae_pred/analysis/../results/inp_12__out_12__loss_mae__bksize_25__bkact_leaky__dir_bi__9/best_weights.h5\n"
     ]
    },
    {
     "name": "stderr",
     "output_type": "stream",
     "text": [
      "/home/thanos/.envs/fsu/lib/python3.6/site-packages/ipykernel_launcher.py:9: RuntimeWarning: invalid value encountered in true_divide\n",
      "  if __name__ == '__main__':\n",
      "  1%|          | 1/135 [02:09<4:50:14, 129.96s/it]"
     ]
    },
    {
     "name": "stdout",
     "output_type": "stream",
     "text": [
      "inp_12__out_12__loss_mae__bksize_50__bkact_tanh__dir_uni 0\n",
      "/home/thanos/projects/ae_pred/analysis/../results/inp_12__out_12__loss_mae__bksize_50__bkact_tanh__dir_uni__0/best_weights.h5\n"
     ]
    },
    {
     "name": "stderr",
     "output_type": "stream",
     "text": [
      "/home/thanos/.envs/fsu/lib/python3.6/site-packages/ipykernel_launcher.py:9: RuntimeWarning: invalid value encountered in true_divide\n",
      "  if __name__ == '__main__':\n"
     ]
    },
    {
     "name": "stdout",
     "output_type": "stream",
     "text": [
      "inp_12__out_12__loss_mae__bksize_50__bkact_tanh__dir_uni 1\n",
      "/home/thanos/projects/ae_pred/analysis/../results/inp_12__out_12__loss_mae__bksize_50__bkact_tanh__dir_uni__1/best_weights.h5\n"
     ]
    },
    {
     "name": "stderr",
     "output_type": "stream",
     "text": [
      "/home/thanos/.envs/fsu/lib/python3.6/site-packages/ipykernel_launcher.py:9: RuntimeWarning: invalid value encountered in true_divide\n",
      "  if __name__ == '__main__':\n"
     ]
    },
    {
     "name": "stdout",
     "output_type": "stream",
     "text": [
      "inp_12__out_12__loss_mae__bksize_50__bkact_tanh__dir_uni 2\n",
      "/home/thanos/projects/ae_pred/analysis/../results/inp_12__out_12__loss_mae__bksize_50__bkact_tanh__dir_uni__2/best_weights.h5\n"
     ]
    },
    {
     "name": "stderr",
     "output_type": "stream",
     "text": [
      "/home/thanos/.envs/fsu/lib/python3.6/site-packages/ipykernel_launcher.py:9: RuntimeWarning: invalid value encountered in true_divide\n",
      "  if __name__ == '__main__':\n"
     ]
    },
    {
     "name": "stdout",
     "output_type": "stream",
     "text": [
      "inp_12__out_12__loss_mae__bksize_50__bkact_tanh__dir_uni 3\n",
      "/home/thanos/projects/ae_pred/analysis/../results/inp_12__out_12__loss_mae__bksize_50__bkact_tanh__dir_uni__3/best_weights.h5\n"
     ]
    },
    {
     "name": "stderr",
     "output_type": "stream",
     "text": [
      "/home/thanos/.envs/fsu/lib/python3.6/site-packages/ipykernel_launcher.py:9: RuntimeWarning: invalid value encountered in true_divide\n",
      "  if __name__ == '__main__':\n"
     ]
    },
    {
     "name": "stdout",
     "output_type": "stream",
     "text": [
      "inp_12__out_12__loss_mae__bksize_50__bkact_tanh__dir_uni 4\n",
      "/home/thanos/projects/ae_pred/analysis/../results/inp_12__out_12__loss_mae__bksize_50__bkact_tanh__dir_uni__4/best_weights.h5\n"
     ]
    },
    {
     "name": "stderr",
     "output_type": "stream",
     "text": [
      "/home/thanos/.envs/fsu/lib/python3.6/site-packages/ipykernel_launcher.py:9: RuntimeWarning: invalid value encountered in true_divide\n",
      "  if __name__ == '__main__':\n"
     ]
    },
    {
     "name": "stdout",
     "output_type": "stream",
     "text": [
      "inp_12__out_12__loss_mae__bksize_50__bkact_tanh__dir_uni 5\n",
      "/home/thanos/projects/ae_pred/analysis/../results/inp_12__out_12__loss_mae__bksize_50__bkact_tanh__dir_uni__5/best_weights.h5\n"
     ]
    },
    {
     "name": "stderr",
     "output_type": "stream",
     "text": [
      "/home/thanos/.envs/fsu/lib/python3.6/site-packages/ipykernel_launcher.py:9: RuntimeWarning: invalid value encountered in true_divide\n",
      "  if __name__ == '__main__':\n"
     ]
    },
    {
     "name": "stdout",
     "output_type": "stream",
     "text": [
      "inp_12__out_12__loss_mae__bksize_50__bkact_tanh__dir_uni 6\n",
      "/home/thanos/projects/ae_pred/analysis/../results/inp_12__out_12__loss_mae__bksize_50__bkact_tanh__dir_uni__6/best_weights.h5\n"
     ]
    },
    {
     "name": "stderr",
     "output_type": "stream",
     "text": [
      "/home/thanos/.envs/fsu/lib/python3.6/site-packages/ipykernel_launcher.py:9: RuntimeWarning: invalid value encountered in true_divide\n",
      "  if __name__ == '__main__':\n"
     ]
    },
    {
     "name": "stdout",
     "output_type": "stream",
     "text": [
      "inp_12__out_12__loss_mae__bksize_50__bkact_tanh__dir_uni 7\n",
      "/home/thanos/projects/ae_pred/analysis/../results/inp_12__out_12__loss_mae__bksize_50__bkact_tanh__dir_uni__7/best_weights.h5\n"
     ]
    },
    {
     "name": "stderr",
     "output_type": "stream",
     "text": [
      "/home/thanos/.envs/fsu/lib/python3.6/site-packages/ipykernel_launcher.py:9: RuntimeWarning: invalid value encountered in true_divide\n",
      "  if __name__ == '__main__':\n"
     ]
    },
    {
     "name": "stdout",
     "output_type": "stream",
     "text": [
      "inp_12__out_12__loss_mae__bksize_50__bkact_tanh__dir_uni 8\n",
      "/home/thanos/projects/ae_pred/analysis/../results/inp_12__out_12__loss_mae__bksize_50__bkact_tanh__dir_uni__8/best_weights.h5\n"
     ]
    },
    {
     "name": "stderr",
     "output_type": "stream",
     "text": [
      "/home/thanos/.envs/fsu/lib/python3.6/site-packages/ipykernel_launcher.py:9: RuntimeWarning: invalid value encountered in true_divide\n",
      "  if __name__ == '__main__':\n"
     ]
    },
    {
     "name": "stdout",
     "output_type": "stream",
     "text": [
      "inp_12__out_12__loss_mae__bksize_50__bkact_tanh__dir_uni 9\n",
      "/home/thanos/projects/ae_pred/analysis/../results/inp_12__out_12__loss_mae__bksize_50__bkact_tanh__dir_uni__9/best_weights.h5\n"
     ]
    },
    {
     "name": "stderr",
     "output_type": "stream",
     "text": [
      "/home/thanos/.envs/fsu/lib/python3.6/site-packages/ipykernel_launcher.py:9: RuntimeWarning: invalid value encountered in true_divide\n",
      "  if __name__ == '__main__':\n",
      "  1%|▏         | 2/135 [03:13<4:04:01, 110.08s/it]"
     ]
    },
    {
     "name": "stdout",
     "output_type": "stream",
     "text": [
      "inp_12__out_12__loss_mae__bksize_50__bkact_relu__dir_uni 0\n",
      "/home/thanos/projects/ae_pred/analysis/../results/inp_12__out_12__loss_mae__bksize_50__bkact_relu__dir_uni__0/best_weights.h5\n"
     ]
    },
    {
     "name": "stderr",
     "output_type": "stream",
     "text": [
      "/home/thanos/.envs/fsu/lib/python3.6/site-packages/ipykernel_launcher.py:9: RuntimeWarning: invalid value encountered in true_divide\n",
      "  if __name__ == '__main__':\n"
     ]
    },
    {
     "name": "stdout",
     "output_type": "stream",
     "text": [
      "inp_12__out_12__loss_mae__bksize_50__bkact_relu__dir_uni 1\n",
      "/home/thanos/projects/ae_pred/analysis/../results/inp_12__out_12__loss_mae__bksize_50__bkact_relu__dir_uni__1/best_weights.h5\n"
     ]
    },
    {
     "name": "stderr",
     "output_type": "stream",
     "text": [
      "/home/thanos/.envs/fsu/lib/python3.6/site-packages/ipykernel_launcher.py:9: RuntimeWarning: invalid value encountered in true_divide\n",
      "  if __name__ == '__main__':\n"
     ]
    },
    {
     "name": "stdout",
     "output_type": "stream",
     "text": [
      "inp_12__out_12__loss_mae__bksize_50__bkact_relu__dir_uni 2\n",
      "/home/thanos/projects/ae_pred/analysis/../results/inp_12__out_12__loss_mae__bksize_50__bkact_relu__dir_uni__2/best_weights.h5\n"
     ]
    },
    {
     "name": "stderr",
     "output_type": "stream",
     "text": [
      "/home/thanos/.envs/fsu/lib/python3.6/site-packages/ipykernel_launcher.py:9: RuntimeWarning: invalid value encountered in true_divide\n",
      "  if __name__ == '__main__':\n"
     ]
    },
    {
     "name": "stdout",
     "output_type": "stream",
     "text": [
      "inp_12__out_12__loss_mae__bksize_50__bkact_relu__dir_uni 3\n",
      "/home/thanos/projects/ae_pred/analysis/../results/inp_12__out_12__loss_mae__bksize_50__bkact_relu__dir_uni__3/best_weights.h5\n"
     ]
    },
    {
     "name": "stderr",
     "output_type": "stream",
     "text": [
      "/home/thanos/.envs/fsu/lib/python3.6/site-packages/ipykernel_launcher.py:9: RuntimeWarning: invalid value encountered in true_divide\n",
      "  if __name__ == '__main__':\n"
     ]
    },
    {
     "name": "stdout",
     "output_type": "stream",
     "text": [
      "inp_12__out_12__loss_mae__bksize_50__bkact_relu__dir_uni 4\n",
      "/home/thanos/projects/ae_pred/analysis/../results/inp_12__out_12__loss_mae__bksize_50__bkact_relu__dir_uni__4/best_weights.h5\n"
     ]
    },
    {
     "name": "stderr",
     "output_type": "stream",
     "text": [
      "/home/thanos/.envs/fsu/lib/python3.6/site-packages/ipykernel_launcher.py:9: RuntimeWarning: invalid value encountered in true_divide\n",
      "  if __name__ == '__main__':\n"
     ]
    },
    {
     "name": "stdout",
     "output_type": "stream",
     "text": [
      "inp_12__out_12__loss_mae__bksize_50__bkact_relu__dir_uni 5\n",
      "/home/thanos/projects/ae_pred/analysis/../results/inp_12__out_12__loss_mae__bksize_50__bkact_relu__dir_uni__5/best_weights.h5\n"
     ]
    },
    {
     "name": "stderr",
     "output_type": "stream",
     "text": [
      "/home/thanos/.envs/fsu/lib/python3.6/site-packages/ipykernel_launcher.py:9: RuntimeWarning: invalid value encountered in true_divide\n",
      "  if __name__ == '__main__':\n"
     ]
    },
    {
     "name": "stdout",
     "output_type": "stream",
     "text": [
      "inp_12__out_12__loss_mae__bksize_50__bkact_relu__dir_uni 6\n",
      "/home/thanos/projects/ae_pred/analysis/../results/inp_12__out_12__loss_mae__bksize_50__bkact_relu__dir_uni__6/best_weights.h5\n"
     ]
    },
    {
     "name": "stderr",
     "output_type": "stream",
     "text": [
      "/home/thanos/.envs/fsu/lib/python3.6/site-packages/ipykernel_launcher.py:9: RuntimeWarning: invalid value encountered in true_divide\n",
      "  if __name__ == '__main__':\n"
     ]
    },
    {
     "name": "stdout",
     "output_type": "stream",
     "text": [
      "inp_12__out_12__loss_mae__bksize_50__bkact_relu__dir_uni 7\n",
      "/home/thanos/projects/ae_pred/analysis/../results/inp_12__out_12__loss_mae__bksize_50__bkact_relu__dir_uni__7/best_weights.h5\n"
     ]
    },
    {
     "name": "stderr",
     "output_type": "stream",
     "text": [
      "/home/thanos/.envs/fsu/lib/python3.6/site-packages/ipykernel_launcher.py:9: RuntimeWarning: invalid value encountered in true_divide\n",
      "  if __name__ == '__main__':\n"
     ]
    },
    {
     "name": "stdout",
     "output_type": "stream",
     "text": [
      "inp_12__out_12__loss_mae__bksize_50__bkact_relu__dir_uni 8\n",
      "/home/thanos/projects/ae_pred/analysis/../results/inp_12__out_12__loss_mae__bksize_50__bkact_relu__dir_uni__8/best_weights.h5\n"
     ]
    },
    {
     "name": "stderr",
     "output_type": "stream",
     "text": [
      "/home/thanos/.envs/fsu/lib/python3.6/site-packages/ipykernel_launcher.py:9: RuntimeWarning: invalid value encountered in true_divide\n",
      "  if __name__ == '__main__':\n"
     ]
    },
    {
     "name": "stdout",
     "output_type": "stream",
     "text": [
      "inp_12__out_12__loss_mae__bksize_50__bkact_relu__dir_uni 9\n",
      "/home/thanos/projects/ae_pred/analysis/../results/inp_12__out_12__loss_mae__bksize_50__bkact_relu__dir_uni__9/best_weights.h5\n"
     ]
    },
    {
     "name": "stderr",
     "output_type": "stream",
     "text": [
      "/home/thanos/.envs/fsu/lib/python3.6/site-packages/ipykernel_launcher.py:9: RuntimeWarning: invalid value encountered in true_divide\n",
      "  if __name__ == '__main__':\n",
      "  2%|▏         | 3/135 [04:17<3:31:54, 96.32s/it] "
     ]
    },
    {
     "name": "stdout",
     "output_type": "stream",
     "text": [
      "inp_12__out_12__loss_mae__bksize_50__bkact_tanh__dir_bi 0\n",
      "/home/thanos/projects/ae_pred/analysis/../results/inp_12__out_12__loss_mae__bksize_50__bkact_tanh__dir_bi__0/best_weights.h5\n"
     ]
    },
    {
     "name": "stderr",
     "output_type": "stream",
     "text": [
      "/home/thanos/.envs/fsu/lib/python3.6/site-packages/ipykernel_launcher.py:9: RuntimeWarning: invalid value encountered in true_divide\n",
      "  if __name__ == '__main__':\n"
     ]
    },
    {
     "name": "stdout",
     "output_type": "stream",
     "text": [
      "inp_12__out_12__loss_mae__bksize_50__bkact_tanh__dir_bi 1\n",
      "/home/thanos/projects/ae_pred/analysis/../results/inp_12__out_12__loss_mae__bksize_50__bkact_tanh__dir_bi__1/best_weights.h5\n"
     ]
    },
    {
     "name": "stderr",
     "output_type": "stream",
     "text": [
      "/home/thanos/.envs/fsu/lib/python3.6/site-packages/ipykernel_launcher.py:9: RuntimeWarning: invalid value encountered in true_divide\n",
      "  if __name__ == '__main__':\n"
     ]
    },
    {
     "name": "stdout",
     "output_type": "stream",
     "text": [
      "inp_12__out_12__loss_mae__bksize_50__bkact_tanh__dir_bi 2\n",
      "/home/thanos/projects/ae_pred/analysis/../results/inp_12__out_12__loss_mae__bksize_50__bkact_tanh__dir_bi__2/best_weights.h5\n"
     ]
    },
    {
     "name": "stderr",
     "output_type": "stream",
     "text": [
      "/home/thanos/.envs/fsu/lib/python3.6/site-packages/ipykernel_launcher.py:9: RuntimeWarning: invalid value encountered in true_divide\n",
      "  if __name__ == '__main__':\n"
     ]
    },
    {
     "name": "stdout",
     "output_type": "stream",
     "text": [
      "inp_12__out_12__loss_mae__bksize_50__bkact_tanh__dir_bi 3\n",
      "/home/thanos/projects/ae_pred/analysis/../results/inp_12__out_12__loss_mae__bksize_50__bkact_tanh__dir_bi__3/best_weights.h5\n"
     ]
    },
    {
     "name": "stderr",
     "output_type": "stream",
     "text": [
      "/home/thanos/.envs/fsu/lib/python3.6/site-packages/ipykernel_launcher.py:9: RuntimeWarning: invalid value encountered in true_divide\n",
      "  if __name__ == '__main__':\n"
     ]
    },
    {
     "name": "stdout",
     "output_type": "stream",
     "text": [
      "inp_12__out_12__loss_mae__bksize_50__bkact_tanh__dir_bi 4\n",
      "/home/thanos/projects/ae_pred/analysis/../results/inp_12__out_12__loss_mae__bksize_50__bkact_tanh__dir_bi__4/best_weights.h5\n"
     ]
    },
    {
     "name": "stderr",
     "output_type": "stream",
     "text": [
      "/home/thanos/.envs/fsu/lib/python3.6/site-packages/ipykernel_launcher.py:9: RuntimeWarning: invalid value encountered in true_divide\n",
      "  if __name__ == '__main__':\n"
     ]
    },
    {
     "name": "stdout",
     "output_type": "stream",
     "text": [
      "inp_12__out_12__loss_mae__bksize_50__bkact_tanh__dir_bi 5\n",
      "/home/thanos/projects/ae_pred/analysis/../results/inp_12__out_12__loss_mae__bksize_50__bkact_tanh__dir_bi__5/best_weights.h5\n"
     ]
    },
    {
     "name": "stderr",
     "output_type": "stream",
     "text": [
      "/home/thanos/.envs/fsu/lib/python3.6/site-packages/ipykernel_launcher.py:9: RuntimeWarning: invalid value encountered in true_divide\n",
      "  if __name__ == '__main__':\n"
     ]
    },
    {
     "name": "stdout",
     "output_type": "stream",
     "text": [
      "inp_12__out_12__loss_mae__bksize_50__bkact_tanh__dir_bi 6\n",
      "/home/thanos/projects/ae_pred/analysis/../results/inp_12__out_12__loss_mae__bksize_50__bkact_tanh__dir_bi__6/best_weights.h5\n"
     ]
    },
    {
     "name": "stderr",
     "output_type": "stream",
     "text": [
      "/home/thanos/.envs/fsu/lib/python3.6/site-packages/ipykernel_launcher.py:9: RuntimeWarning: invalid value encountered in true_divide\n",
      "  if __name__ == '__main__':\n"
     ]
    },
    {
     "name": "stdout",
     "output_type": "stream",
     "text": [
      "inp_12__out_12__loss_mae__bksize_50__bkact_tanh__dir_bi 7\n",
      "/home/thanos/projects/ae_pred/analysis/../results/inp_12__out_12__loss_mae__bksize_50__bkact_tanh__dir_bi__7/best_weights.h5\n"
     ]
    },
    {
     "name": "stderr",
     "output_type": "stream",
     "text": [
      "/home/thanos/.envs/fsu/lib/python3.6/site-packages/ipykernel_launcher.py:9: RuntimeWarning: invalid value encountered in true_divide\n",
      "  if __name__ == '__main__':\n"
     ]
    },
    {
     "name": "stdout",
     "output_type": "stream",
     "text": [
      "inp_12__out_12__loss_mae__bksize_50__bkact_tanh__dir_bi 8\n",
      "/home/thanos/projects/ae_pred/analysis/../results/inp_12__out_12__loss_mae__bksize_50__bkact_tanh__dir_bi__8/best_weights.h5\n"
     ]
    },
    {
     "name": "stderr",
     "output_type": "stream",
     "text": [
      "/home/thanos/.envs/fsu/lib/python3.6/site-packages/ipykernel_launcher.py:9: RuntimeWarning: invalid value encountered in true_divide\n",
      "  if __name__ == '__main__':\n"
     ]
    },
    {
     "name": "stdout",
     "output_type": "stream",
     "text": [
      "inp_12__out_12__loss_mae__bksize_50__bkact_tanh__dir_bi 9\n",
      "/home/thanos/projects/ae_pred/analysis/../results/inp_12__out_12__loss_mae__bksize_50__bkact_tanh__dir_bi__9/best_weights.h5\n"
     ]
    },
    {
     "name": "stderr",
     "output_type": "stream",
     "text": [
      "/home/thanos/.envs/fsu/lib/python3.6/site-packages/ipykernel_launcher.py:9: RuntimeWarning: invalid value encountered in true_divide\n",
      "  if __name__ == '__main__':\n",
      "  3%|▎         | 4/135 [06:30<3:54:15, 107.29s/it]"
     ]
    },
    {
     "name": "stdout",
     "output_type": "stream",
     "text": [
      "inp_12__out_12__loss_mae__bksize_50__bkact_tanh__dir_bi 0\n",
      "/home/thanos/projects/ae_pred/analysis/../results/inp_12__out_12__loss_mae__bksize_50__bkact_tanh__dir_bi__0/best_weights.h5\n"
     ]
    },
    {
     "name": "stderr",
     "output_type": "stream",
     "text": [
      "/home/thanos/.envs/fsu/lib/python3.6/site-packages/ipykernel_launcher.py:9: RuntimeWarning: invalid value encountered in true_divide\n",
      "  if __name__ == '__main__':\n"
     ]
    },
    {
     "name": "stdout",
     "output_type": "stream",
     "text": [
      "inp_12__out_12__loss_mae__bksize_50__bkact_tanh__dir_bi 1\n",
      "/home/thanos/projects/ae_pred/analysis/../results/inp_12__out_12__loss_mae__bksize_50__bkact_tanh__dir_bi__1/best_weights.h5\n"
     ]
    },
    {
     "name": "stderr",
     "output_type": "stream",
     "text": [
      "/home/thanos/.envs/fsu/lib/python3.6/site-packages/ipykernel_launcher.py:9: RuntimeWarning: invalid value encountered in true_divide\n",
      "  if __name__ == '__main__':\n"
     ]
    },
    {
     "name": "stdout",
     "output_type": "stream",
     "text": [
      "inp_12__out_12__loss_mae__bksize_50__bkact_tanh__dir_bi 2\n",
      "/home/thanos/projects/ae_pred/analysis/../results/inp_12__out_12__loss_mae__bksize_50__bkact_tanh__dir_bi__2/best_weights.h5\n"
     ]
    },
    {
     "name": "stderr",
     "output_type": "stream",
     "text": [
      "/home/thanos/.envs/fsu/lib/python3.6/site-packages/ipykernel_launcher.py:9: RuntimeWarning: invalid value encountered in true_divide\n",
      "  if __name__ == '__main__':\n"
     ]
    },
    {
     "name": "stdout",
     "output_type": "stream",
     "text": [
      "inp_12__out_12__loss_mae__bksize_50__bkact_tanh__dir_bi 3\n",
      "/home/thanos/projects/ae_pred/analysis/../results/inp_12__out_12__loss_mae__bksize_50__bkact_tanh__dir_bi__3/best_weights.h5\n"
     ]
    },
    {
     "name": "stderr",
     "output_type": "stream",
     "text": [
      "/home/thanos/.envs/fsu/lib/python3.6/site-packages/ipykernel_launcher.py:9: RuntimeWarning: invalid value encountered in true_divide\n",
      "  if __name__ == '__main__':\n"
     ]
    },
    {
     "name": "stdout",
     "output_type": "stream",
     "text": [
      "inp_12__out_12__loss_mae__bksize_50__bkact_tanh__dir_bi 4\n",
      "/home/thanos/projects/ae_pred/analysis/../results/inp_12__out_12__loss_mae__bksize_50__bkact_tanh__dir_bi__4/best_weights.h5\n"
     ]
    },
    {
     "name": "stderr",
     "output_type": "stream",
     "text": [
      "/home/thanos/.envs/fsu/lib/python3.6/site-packages/ipykernel_launcher.py:9: RuntimeWarning: invalid value encountered in true_divide\n",
      "  if __name__ == '__main__':\n"
     ]
    },
    {
     "name": "stdout",
     "output_type": "stream",
     "text": [
      "inp_12__out_12__loss_mae__bksize_50__bkact_tanh__dir_bi 5\n",
      "/home/thanos/projects/ae_pred/analysis/../results/inp_12__out_12__loss_mae__bksize_50__bkact_tanh__dir_bi__5/best_weights.h5\n"
     ]
    },
    {
     "name": "stderr",
     "output_type": "stream",
     "text": [
      "/home/thanos/.envs/fsu/lib/python3.6/site-packages/ipykernel_launcher.py:9: RuntimeWarning: invalid value encountered in true_divide\n",
      "  if __name__ == '__main__':\n"
     ]
    },
    {
     "name": "stdout",
     "output_type": "stream",
     "text": [
      "inp_12__out_12__loss_mae__bksize_50__bkact_tanh__dir_bi 6\n",
      "/home/thanos/projects/ae_pred/analysis/../results/inp_12__out_12__loss_mae__bksize_50__bkact_tanh__dir_bi__6/best_weights.h5\n"
     ]
    },
    {
     "name": "stderr",
     "output_type": "stream",
     "text": [
      "/home/thanos/.envs/fsu/lib/python3.6/site-packages/ipykernel_launcher.py:9: RuntimeWarning: invalid value encountered in true_divide\n",
      "  if __name__ == '__main__':\n"
     ]
    },
    {
     "name": "stdout",
     "output_type": "stream",
     "text": [
      "inp_12__out_12__loss_mae__bksize_50__bkact_tanh__dir_bi 7\n",
      "/home/thanos/projects/ae_pred/analysis/../results/inp_12__out_12__loss_mae__bksize_50__bkact_tanh__dir_bi__7/best_weights.h5\n"
     ]
    },
    {
     "name": "stderr",
     "output_type": "stream",
     "text": [
      "/home/thanos/.envs/fsu/lib/python3.6/site-packages/ipykernel_launcher.py:9: RuntimeWarning: invalid value encountered in true_divide\n",
      "  if __name__ == '__main__':\n"
     ]
    },
    {
     "name": "stdout",
     "output_type": "stream",
     "text": [
      "inp_12__out_12__loss_mae__bksize_50__bkact_tanh__dir_bi 8\n",
      "/home/thanos/projects/ae_pred/analysis/../results/inp_12__out_12__loss_mae__bksize_50__bkact_tanh__dir_bi__8/best_weights.h5\n"
     ]
    },
    {
     "name": "stderr",
     "output_type": "stream",
     "text": [
      "/home/thanos/.envs/fsu/lib/python3.6/site-packages/ipykernel_launcher.py:9: RuntimeWarning: invalid value encountered in true_divide\n",
      "  if __name__ == '__main__':\n"
     ]
    },
    {
     "name": "stdout",
     "output_type": "stream",
     "text": [
      "inp_12__out_12__loss_mae__bksize_50__bkact_tanh__dir_bi 9\n",
      "/home/thanos/projects/ae_pred/analysis/../results/inp_12__out_12__loss_mae__bksize_50__bkact_tanh__dir_bi__9/best_weights.h5\n"
     ]
    },
    {
     "name": "stderr",
     "output_type": "stream",
     "text": [
      "/home/thanos/.envs/fsu/lib/python3.6/site-packages/ipykernel_launcher.py:9: RuntimeWarning: invalid value encountered in true_divide\n",
      "  if __name__ == '__main__':\n",
      "  4%|▎         | 5/135 [08:40<4:06:51, 113.93s/it]"
     ]
    },
    {
     "name": "stdout",
     "output_type": "stream",
     "text": [
      "inp_12__out_12__loss_mae__bksize_50__bkact_relu__dir_bi 0\n",
      "/home/thanos/projects/ae_pred/analysis/../results/inp_12__out_12__loss_mae__bksize_50__bkact_relu__dir_bi__0/best_weights.h5\n"
     ]
    },
    {
     "name": "stderr",
     "output_type": "stream",
     "text": [
      "/home/thanos/.envs/fsu/lib/python3.6/site-packages/ipykernel_launcher.py:9: RuntimeWarning: invalid value encountered in true_divide\n",
      "  if __name__ == '__main__':\n"
     ]
    },
    {
     "name": "stdout",
     "output_type": "stream",
     "text": [
      "inp_12__out_12__loss_mae__bksize_50__bkact_relu__dir_bi 1\n",
      "/home/thanos/projects/ae_pred/analysis/../results/inp_12__out_12__loss_mae__bksize_50__bkact_relu__dir_bi__1/best_weights.h5\n"
     ]
    },
    {
     "name": "stderr",
     "output_type": "stream",
     "text": [
      "/home/thanos/.envs/fsu/lib/python3.6/site-packages/ipykernel_launcher.py:9: RuntimeWarning: invalid value encountered in true_divide\n",
      "  if __name__ == '__main__':\n"
     ]
    },
    {
     "name": "stdout",
     "output_type": "stream",
     "text": [
      "inp_12__out_12__loss_mae__bksize_50__bkact_relu__dir_bi 2\n",
      "/home/thanos/projects/ae_pred/analysis/../results/inp_12__out_12__loss_mae__bksize_50__bkact_relu__dir_bi__2/best_weights.h5\n"
     ]
    },
    {
     "name": "stderr",
     "output_type": "stream",
     "text": [
      "/home/thanos/.envs/fsu/lib/python3.6/site-packages/ipykernel_launcher.py:9: RuntimeWarning: invalid value encountered in true_divide\n",
      "  if __name__ == '__main__':\n"
     ]
    },
    {
     "name": "stdout",
     "output_type": "stream",
     "text": [
      "inp_12__out_12__loss_mae__bksize_50__bkact_relu__dir_bi 3\n",
      "/home/thanos/projects/ae_pred/analysis/../results/inp_12__out_12__loss_mae__bksize_50__bkact_relu__dir_bi__3/best_weights.h5\n"
     ]
    },
    {
     "name": "stderr",
     "output_type": "stream",
     "text": [
      "/home/thanos/.envs/fsu/lib/python3.6/site-packages/ipykernel_launcher.py:9: RuntimeWarning: invalid value encountered in true_divide\n",
      "  if __name__ == '__main__':\n"
     ]
    },
    {
     "name": "stdout",
     "output_type": "stream",
     "text": [
      "inp_12__out_12__loss_mae__bksize_50__bkact_relu__dir_bi 4\n",
      "/home/thanos/projects/ae_pred/analysis/../results/inp_12__out_12__loss_mae__bksize_50__bkact_relu__dir_bi__4/best_weights.h5\n"
     ]
    },
    {
     "name": "stderr",
     "output_type": "stream",
     "text": [
      "/home/thanos/.envs/fsu/lib/python3.6/site-packages/ipykernel_launcher.py:9: RuntimeWarning: invalid value encountered in true_divide\n",
      "  if __name__ == '__main__':\n"
     ]
    },
    {
     "name": "stdout",
     "output_type": "stream",
     "text": [
      "inp_12__out_12__loss_mae__bksize_50__bkact_relu__dir_bi 5\n",
      "/home/thanos/projects/ae_pred/analysis/../results/inp_12__out_12__loss_mae__bksize_50__bkact_relu__dir_bi__5/best_weights.h5\n"
     ]
    },
    {
     "name": "stderr",
     "output_type": "stream",
     "text": [
      "/home/thanos/.envs/fsu/lib/python3.6/site-packages/ipykernel_launcher.py:9: RuntimeWarning: invalid value encountered in true_divide\n",
      "  if __name__ == '__main__':\n"
     ]
    },
    {
     "name": "stdout",
     "output_type": "stream",
     "text": [
      "inp_12__out_12__loss_mae__bksize_50__bkact_relu__dir_bi 6\n",
      "/home/thanos/projects/ae_pred/analysis/../results/inp_12__out_12__loss_mae__bksize_50__bkact_relu__dir_bi__6/best_weights.h5\n"
     ]
    },
    {
     "name": "stderr",
     "output_type": "stream",
     "text": [
      "/home/thanos/.envs/fsu/lib/python3.6/site-packages/ipykernel_launcher.py:9: RuntimeWarning: invalid value encountered in true_divide\n",
      "  if __name__ == '__main__':\n"
     ]
    },
    {
     "name": "stdout",
     "output_type": "stream",
     "text": [
      "inp_12__out_12__loss_mae__bksize_50__bkact_relu__dir_bi 7\n",
      "/home/thanos/projects/ae_pred/analysis/../results/inp_12__out_12__loss_mae__bksize_50__bkact_relu__dir_bi__7/best_weights.h5\n"
     ]
    },
    {
     "name": "stderr",
     "output_type": "stream",
     "text": [
      "/home/thanos/.envs/fsu/lib/python3.6/site-packages/ipykernel_launcher.py:9: RuntimeWarning: invalid value encountered in true_divide\n",
      "  if __name__ == '__main__':\n"
     ]
    },
    {
     "name": "stdout",
     "output_type": "stream",
     "text": [
      "inp_12__out_12__loss_mae__bksize_50__bkact_relu__dir_bi 8\n",
      "/home/thanos/projects/ae_pred/analysis/../results/inp_12__out_12__loss_mae__bksize_50__bkact_relu__dir_bi__8/best_weights.h5\n"
     ]
    },
    {
     "name": "stderr",
     "output_type": "stream",
     "text": [
      "/home/thanos/.envs/fsu/lib/python3.6/site-packages/ipykernel_launcher.py:9: RuntimeWarning: invalid value encountered in true_divide\n",
      "  if __name__ == '__main__':\n"
     ]
    },
    {
     "name": "stdout",
     "output_type": "stream",
     "text": [
      "inp_12__out_12__loss_mae__bksize_50__bkact_relu__dir_bi 9\n",
      "/home/thanos/projects/ae_pred/analysis/../results/inp_12__out_12__loss_mae__bksize_50__bkact_relu__dir_bi__9/best_weights.h5\n"
     ]
    },
    {
     "name": "stderr",
     "output_type": "stream",
     "text": [
      "/home/thanos/.envs/fsu/lib/python3.6/site-packages/ipykernel_launcher.py:9: RuntimeWarning: invalid value encountered in true_divide\n",
      "  if __name__ == '__main__':\n",
      "  4%|▍         | 6/135 [10:48<4:14:16, 118.27s/it]"
     ]
    },
    {
     "name": "stdout",
     "output_type": "stream",
     "text": [
      "inp_12__out_12__loss_mae__bksize_25__bkact_tanh__dir_bi 0\n",
      "/home/thanos/projects/ae_pred/analysis/../results/inp_12__out_12__loss_mae__bksize_25__bkact_tanh__dir_bi__0/best_weights.h5\n"
     ]
    },
    {
     "name": "stderr",
     "output_type": "stream",
     "text": [
      "/home/thanos/.envs/fsu/lib/python3.6/site-packages/ipykernel_launcher.py:9: RuntimeWarning: invalid value encountered in true_divide\n",
      "  if __name__ == '__main__':\n"
     ]
    },
    {
     "name": "stdout",
     "output_type": "stream",
     "text": [
      "inp_12__out_12__loss_mae__bksize_25__bkact_tanh__dir_bi 1\n",
      "/home/thanos/projects/ae_pred/analysis/../results/inp_12__out_12__loss_mae__bksize_25__bkact_tanh__dir_bi__1/best_weights.h5\n"
     ]
    },
    {
     "name": "stderr",
     "output_type": "stream",
     "text": [
      "/home/thanos/.envs/fsu/lib/python3.6/site-packages/ipykernel_launcher.py:9: RuntimeWarning: invalid value encountered in true_divide\n",
      "  if __name__ == '__main__':\n"
     ]
    },
    {
     "name": "stdout",
     "output_type": "stream",
     "text": [
      "inp_12__out_12__loss_mae__bksize_25__bkact_tanh__dir_bi 2\n",
      "/home/thanos/projects/ae_pred/analysis/../results/inp_12__out_12__loss_mae__bksize_25__bkact_tanh__dir_bi__2/best_weights.h5\n"
     ]
    },
    {
     "name": "stderr",
     "output_type": "stream",
     "text": [
      "/home/thanos/.envs/fsu/lib/python3.6/site-packages/ipykernel_launcher.py:9: RuntimeWarning: invalid value encountered in true_divide\n",
      "  if __name__ == '__main__':\n"
     ]
    },
    {
     "name": "stdout",
     "output_type": "stream",
     "text": [
      "inp_12__out_12__loss_mae__bksize_25__bkact_tanh__dir_bi 3\n",
      "/home/thanos/projects/ae_pred/analysis/../results/inp_12__out_12__loss_mae__bksize_25__bkact_tanh__dir_bi__3/best_weights.h5\n"
     ]
    },
    {
     "name": "stderr",
     "output_type": "stream",
     "text": [
      "/home/thanos/.envs/fsu/lib/python3.6/site-packages/ipykernel_launcher.py:9: RuntimeWarning: invalid value encountered in true_divide\n",
      "  if __name__ == '__main__':\n"
     ]
    },
    {
     "name": "stdout",
     "output_type": "stream",
     "text": [
      "inp_12__out_12__loss_mae__bksize_25__bkact_tanh__dir_bi 4\n",
      "/home/thanos/projects/ae_pred/analysis/../results/inp_12__out_12__loss_mae__bksize_25__bkact_tanh__dir_bi__4/best_weights.h5\n"
     ]
    },
    {
     "name": "stderr",
     "output_type": "stream",
     "text": [
      "/home/thanos/.envs/fsu/lib/python3.6/site-packages/ipykernel_launcher.py:9: RuntimeWarning: invalid value encountered in true_divide\n",
      "  if __name__ == '__main__':\n"
     ]
    },
    {
     "name": "stdout",
     "output_type": "stream",
     "text": [
      "inp_12__out_12__loss_mae__bksize_25__bkact_tanh__dir_bi 5\n",
      "/home/thanos/projects/ae_pred/analysis/../results/inp_12__out_12__loss_mae__bksize_25__bkact_tanh__dir_bi__5/best_weights.h5\n"
     ]
    },
    {
     "name": "stderr",
     "output_type": "stream",
     "text": [
      "/home/thanos/.envs/fsu/lib/python3.6/site-packages/ipykernel_launcher.py:9: RuntimeWarning: invalid value encountered in true_divide\n",
      "  if __name__ == '__main__':\n"
     ]
    },
    {
     "name": "stdout",
     "output_type": "stream",
     "text": [
      "inp_12__out_12__loss_mae__bksize_25__bkact_tanh__dir_bi 6\n",
      "/home/thanos/projects/ae_pred/analysis/../results/inp_12__out_12__loss_mae__bksize_25__bkact_tanh__dir_bi__6/best_weights.h5\n"
     ]
    },
    {
     "name": "stderr",
     "output_type": "stream",
     "text": [
      "/home/thanos/.envs/fsu/lib/python3.6/site-packages/ipykernel_launcher.py:9: RuntimeWarning: invalid value encountered in true_divide\n",
      "  if __name__ == '__main__':\n"
     ]
    },
    {
     "name": "stdout",
     "output_type": "stream",
     "text": [
      "inp_12__out_12__loss_mae__bksize_25__bkact_tanh__dir_bi 7\n",
      "/home/thanos/projects/ae_pred/analysis/../results/inp_12__out_12__loss_mae__bksize_25__bkact_tanh__dir_bi__7/best_weights.h5\n"
     ]
    },
    {
     "name": "stderr",
     "output_type": "stream",
     "text": [
      "/home/thanos/.envs/fsu/lib/python3.6/site-packages/ipykernel_launcher.py:9: RuntimeWarning: invalid value encountered in true_divide\n",
      "  if __name__ == '__main__':\n"
     ]
    },
    {
     "name": "stdout",
     "output_type": "stream",
     "text": [
      "inp_12__out_12__loss_mae__bksize_25__bkact_tanh__dir_bi 8\n",
      "/home/thanos/projects/ae_pred/analysis/../results/inp_12__out_12__loss_mae__bksize_25__bkact_tanh__dir_bi__8/best_weights.h5\n"
     ]
    },
    {
     "name": "stderr",
     "output_type": "stream",
     "text": [
      "/home/thanos/.envs/fsu/lib/python3.6/site-packages/ipykernel_launcher.py:9: RuntimeWarning: invalid value encountered in true_divide\n",
      "  if __name__ == '__main__':\n"
     ]
    },
    {
     "name": "stdout",
     "output_type": "stream",
     "text": [
      "inp_12__out_12__loss_mae__bksize_25__bkact_tanh__dir_bi 9\n",
      "/home/thanos/projects/ae_pred/analysis/../results/inp_12__out_12__loss_mae__bksize_25__bkact_tanh__dir_bi__9/best_weights.h5\n"
     ]
    },
    {
     "name": "stderr",
     "output_type": "stream",
     "text": [
      "/home/thanos/.envs/fsu/lib/python3.6/site-packages/ipykernel_launcher.py:9: RuntimeWarning: invalid value encountered in true_divide\n",
      "  if __name__ == '__main__':\n",
      "  5%|▌         | 7/135 [12:57<4:19:19, 121.56s/it]"
     ]
    },
    {
     "name": "stdout",
     "output_type": "stream",
     "text": [
      "inp_12__out_12__loss_mae__bksize_50__bkact_relu__dir_uni 0\n",
      "/home/thanos/projects/ae_pred/analysis/../results/inp_12__out_12__loss_mae__bksize_50__bkact_relu__dir_uni__0/best_weights.h5\n"
     ]
    },
    {
     "name": "stderr",
     "output_type": "stream",
     "text": [
      "/home/thanos/.envs/fsu/lib/python3.6/site-packages/ipykernel_launcher.py:9: RuntimeWarning: invalid value encountered in true_divide\n",
      "  if __name__ == '__main__':\n"
     ]
    },
    {
     "name": "stdout",
     "output_type": "stream",
     "text": [
      "inp_12__out_12__loss_mae__bksize_50__bkact_relu__dir_uni 1\n",
      "/home/thanos/projects/ae_pred/analysis/../results/inp_12__out_12__loss_mae__bksize_50__bkact_relu__dir_uni__1/best_weights.h5\n"
     ]
    },
    {
     "name": "stderr",
     "output_type": "stream",
     "text": [
      "/home/thanos/.envs/fsu/lib/python3.6/site-packages/ipykernel_launcher.py:9: RuntimeWarning: invalid value encountered in true_divide\n",
      "  if __name__ == '__main__':\n"
     ]
    },
    {
     "name": "stdout",
     "output_type": "stream",
     "text": [
      "inp_12__out_12__loss_mae__bksize_50__bkact_relu__dir_uni 2\n",
      "/home/thanos/projects/ae_pred/analysis/../results/inp_12__out_12__loss_mae__bksize_50__bkact_relu__dir_uni__2/best_weights.h5\n"
     ]
    },
    {
     "name": "stderr",
     "output_type": "stream",
     "text": [
      "/home/thanos/.envs/fsu/lib/python3.6/site-packages/ipykernel_launcher.py:9: RuntimeWarning: invalid value encountered in true_divide\n",
      "  if __name__ == '__main__':\n"
     ]
    },
    {
     "name": "stdout",
     "output_type": "stream",
     "text": [
      "inp_12__out_12__loss_mae__bksize_50__bkact_relu__dir_uni 3\n",
      "/home/thanos/projects/ae_pred/analysis/../results/inp_12__out_12__loss_mae__bksize_50__bkact_relu__dir_uni__3/best_weights.h5\n"
     ]
    },
    {
     "name": "stderr",
     "output_type": "stream",
     "text": [
      "/home/thanos/.envs/fsu/lib/python3.6/site-packages/ipykernel_launcher.py:9: RuntimeWarning: invalid value encountered in true_divide\n",
      "  if __name__ == '__main__':\n"
     ]
    },
    {
     "name": "stdout",
     "output_type": "stream",
     "text": [
      "inp_12__out_12__loss_mae__bksize_50__bkact_relu__dir_uni 4\n",
      "/home/thanos/projects/ae_pred/analysis/../results/inp_12__out_12__loss_mae__bksize_50__bkact_relu__dir_uni__4/best_weights.h5\n"
     ]
    },
    {
     "name": "stderr",
     "output_type": "stream",
     "text": [
      "/home/thanos/.envs/fsu/lib/python3.6/site-packages/ipykernel_launcher.py:9: RuntimeWarning: invalid value encountered in true_divide\n",
      "  if __name__ == '__main__':\n"
     ]
    },
    {
     "name": "stdout",
     "output_type": "stream",
     "text": [
      "inp_12__out_12__loss_mae__bksize_50__bkact_relu__dir_uni 5\n",
      "/home/thanos/projects/ae_pred/analysis/../results/inp_12__out_12__loss_mae__bksize_50__bkact_relu__dir_uni__5/best_weights.h5\n"
     ]
    },
    {
     "name": "stderr",
     "output_type": "stream",
     "text": [
      "/home/thanos/.envs/fsu/lib/python3.6/site-packages/ipykernel_launcher.py:9: RuntimeWarning: invalid value encountered in true_divide\n",
      "  if __name__ == '__main__':\n"
     ]
    },
    {
     "name": "stdout",
     "output_type": "stream",
     "text": [
      "inp_12__out_12__loss_mae__bksize_50__bkact_relu__dir_uni 6\n",
      "/home/thanos/projects/ae_pred/analysis/../results/inp_12__out_12__loss_mae__bksize_50__bkact_relu__dir_uni__6/best_weights.h5\n"
     ]
    },
    {
     "name": "stderr",
     "output_type": "stream",
     "text": [
      "/home/thanos/.envs/fsu/lib/python3.6/site-packages/ipykernel_launcher.py:9: RuntimeWarning: invalid value encountered in true_divide\n",
      "  if __name__ == '__main__':\n"
     ]
    },
    {
     "name": "stdout",
     "output_type": "stream",
     "text": [
      "inp_12__out_12__loss_mae__bksize_50__bkact_relu__dir_uni 7\n",
      "/home/thanos/projects/ae_pred/analysis/../results/inp_12__out_12__loss_mae__bksize_50__bkact_relu__dir_uni__7/best_weights.h5\n"
     ]
    },
    {
     "name": "stderr",
     "output_type": "stream",
     "text": [
      "/home/thanos/.envs/fsu/lib/python3.6/site-packages/ipykernel_launcher.py:9: RuntimeWarning: invalid value encountered in true_divide\n",
      "  if __name__ == '__main__':\n"
     ]
    },
    {
     "name": "stdout",
     "output_type": "stream",
     "text": [
      "inp_12__out_12__loss_mae__bksize_50__bkact_relu__dir_uni 8\n",
      "/home/thanos/projects/ae_pred/analysis/../results/inp_12__out_12__loss_mae__bksize_50__bkact_relu__dir_uni__8/best_weights.h5\n"
     ]
    },
    {
     "name": "stderr",
     "output_type": "stream",
     "text": [
      "/home/thanos/.envs/fsu/lib/python3.6/site-packages/ipykernel_launcher.py:9: RuntimeWarning: invalid value encountered in true_divide\n",
      "  if __name__ == '__main__':\n"
     ]
    },
    {
     "name": "stdout",
     "output_type": "stream",
     "text": [
      "inp_12__out_12__loss_mae__bksize_50__bkact_relu__dir_uni 9\n",
      "/home/thanos/projects/ae_pred/analysis/../results/inp_12__out_12__loss_mae__bksize_50__bkact_relu__dir_uni__9/best_weights.h5\n"
     ]
    },
    {
     "name": "stderr",
     "output_type": "stream",
     "text": [
      "/home/thanos/.envs/fsu/lib/python3.6/site-packages/ipykernel_launcher.py:9: RuntimeWarning: invalid value encountered in true_divide\n",
      "  if __name__ == '__main__':\n",
      "  6%|▌         | 8/135 [14:03<3:41:55, 104.85s/it]"
     ]
    },
    {
     "name": "stdout",
     "output_type": "stream",
     "text": [
      "inp_12__out_12__loss_mae__bksize_25__bkact_tanh__dir_bi 0\n",
      "/home/thanos/projects/ae_pred/analysis/../results/inp_12__out_12__loss_mae__bksize_25__bkact_tanh__dir_bi__0/best_weights.h5\n"
     ]
    },
    {
     "name": "stderr",
     "output_type": "stream",
     "text": [
      "/home/thanos/.envs/fsu/lib/python3.6/site-packages/ipykernel_launcher.py:9: RuntimeWarning: invalid value encountered in true_divide\n",
      "  if __name__ == '__main__':\n"
     ]
    },
    {
     "name": "stdout",
     "output_type": "stream",
     "text": [
      "inp_12__out_12__loss_mae__bksize_25__bkact_tanh__dir_bi 1\n",
      "/home/thanos/projects/ae_pred/analysis/../results/inp_12__out_12__loss_mae__bksize_25__bkact_tanh__dir_bi__1/best_weights.h5\n"
     ]
    },
    {
     "name": "stderr",
     "output_type": "stream",
     "text": [
      "/home/thanos/.envs/fsu/lib/python3.6/site-packages/ipykernel_launcher.py:9: RuntimeWarning: invalid value encountered in true_divide\n",
      "  if __name__ == '__main__':\n"
     ]
    },
    {
     "name": "stdout",
     "output_type": "stream",
     "text": [
      "inp_12__out_12__loss_mae__bksize_25__bkact_tanh__dir_bi 2\n",
      "/home/thanos/projects/ae_pred/analysis/../results/inp_12__out_12__loss_mae__bksize_25__bkact_tanh__dir_bi__2/best_weights.h5\n"
     ]
    },
    {
     "name": "stderr",
     "output_type": "stream",
     "text": [
      "/home/thanos/.envs/fsu/lib/python3.6/site-packages/ipykernel_launcher.py:9: RuntimeWarning: invalid value encountered in true_divide\n",
      "  if __name__ == '__main__':\n"
     ]
    },
    {
     "name": "stdout",
     "output_type": "stream",
     "text": [
      "inp_12__out_12__loss_mae__bksize_25__bkact_tanh__dir_bi 3\n",
      "/home/thanos/projects/ae_pred/analysis/../results/inp_12__out_12__loss_mae__bksize_25__bkact_tanh__dir_bi__3/best_weights.h5\n"
     ]
    },
    {
     "name": "stderr",
     "output_type": "stream",
     "text": [
      "/home/thanos/.envs/fsu/lib/python3.6/site-packages/ipykernel_launcher.py:9: RuntimeWarning: invalid value encountered in true_divide\n",
      "  if __name__ == '__main__':\n"
     ]
    },
    {
     "name": "stdout",
     "output_type": "stream",
     "text": [
      "inp_12__out_12__loss_mae__bksize_25__bkact_tanh__dir_bi 4\n",
      "/home/thanos/projects/ae_pred/analysis/../results/inp_12__out_12__loss_mae__bksize_25__bkact_tanh__dir_bi__4/best_weights.h5\n"
     ]
    },
    {
     "name": "stderr",
     "output_type": "stream",
     "text": [
      "/home/thanos/.envs/fsu/lib/python3.6/site-packages/ipykernel_launcher.py:9: RuntimeWarning: invalid value encountered in true_divide\n",
      "  if __name__ == '__main__':\n"
     ]
    },
    {
     "name": "stdout",
     "output_type": "stream",
     "text": [
      "inp_12__out_12__loss_mae__bksize_25__bkact_tanh__dir_bi 5\n",
      "/home/thanos/projects/ae_pred/analysis/../results/inp_12__out_12__loss_mae__bksize_25__bkact_tanh__dir_bi__5/best_weights.h5\n"
     ]
    },
    {
     "name": "stderr",
     "output_type": "stream",
     "text": [
      "/home/thanos/.envs/fsu/lib/python3.6/site-packages/ipykernel_launcher.py:9: RuntimeWarning: invalid value encountered in true_divide\n",
      "  if __name__ == '__main__':\n"
     ]
    },
    {
     "name": "stdout",
     "output_type": "stream",
     "text": [
      "inp_12__out_12__loss_mae__bksize_25__bkact_tanh__dir_bi 6\n",
      "/home/thanos/projects/ae_pred/analysis/../results/inp_12__out_12__loss_mae__bksize_25__bkact_tanh__dir_bi__6/best_weights.h5\n"
     ]
    },
    {
     "name": "stderr",
     "output_type": "stream",
     "text": [
      "/home/thanos/.envs/fsu/lib/python3.6/site-packages/ipykernel_launcher.py:9: RuntimeWarning: invalid value encountered in true_divide\n",
      "  if __name__ == '__main__':\n"
     ]
    },
    {
     "name": "stdout",
     "output_type": "stream",
     "text": [
      "inp_12__out_12__loss_mae__bksize_25__bkact_tanh__dir_bi 7\n",
      "/home/thanos/projects/ae_pred/analysis/../results/inp_12__out_12__loss_mae__bksize_25__bkact_tanh__dir_bi__7/best_weights.h5\n"
     ]
    },
    {
     "name": "stderr",
     "output_type": "stream",
     "text": [
      "/home/thanos/.envs/fsu/lib/python3.6/site-packages/ipykernel_launcher.py:9: RuntimeWarning: invalid value encountered in true_divide\n",
      "  if __name__ == '__main__':\n"
     ]
    },
    {
     "name": "stdout",
     "output_type": "stream",
     "text": [
      "inp_12__out_12__loss_mae__bksize_25__bkact_tanh__dir_bi 8\n",
      "/home/thanos/projects/ae_pred/analysis/../results/inp_12__out_12__loss_mae__bksize_25__bkact_tanh__dir_bi__8/best_weights.h5\n"
     ]
    },
    {
     "name": "stderr",
     "output_type": "stream",
     "text": [
      "/home/thanos/.envs/fsu/lib/python3.6/site-packages/ipykernel_launcher.py:9: RuntimeWarning: invalid value encountered in true_divide\n",
      "  if __name__ == '__main__':\n"
     ]
    },
    {
     "name": "stdout",
     "output_type": "stream",
     "text": [
      "inp_12__out_12__loss_mae__bksize_25__bkact_tanh__dir_bi 9\n",
      "/home/thanos/projects/ae_pred/analysis/../results/inp_12__out_12__loss_mae__bksize_25__bkact_tanh__dir_bi__9/best_weights.h5\n"
     ]
    },
    {
     "name": "stderr",
     "output_type": "stream",
     "text": [
      "/home/thanos/.envs/fsu/lib/python3.6/site-packages/ipykernel_launcher.py:9: RuntimeWarning: invalid value encountered in true_divide\n",
      "  if __name__ == '__main__':\n",
      "  7%|▋         | 9/135 [16:13<3:56:08, 112.45s/it]"
     ]
    },
    {
     "name": "stdout",
     "output_type": "stream",
     "text": [
      "inp_12__out_12__loss_mae__bksize_100__bkact_leaky__dir_bi 0\n",
      "/home/thanos/projects/ae_pred/analysis/../results/inp_12__out_12__loss_mae__bksize_100__bkact_leaky__dir_bi__0/best_weights.h5\n"
     ]
    },
    {
     "name": "stderr",
     "output_type": "stream",
     "text": [
      "/home/thanos/.envs/fsu/lib/python3.6/site-packages/ipykernel_launcher.py:9: RuntimeWarning: invalid value encountered in true_divide\n",
      "  if __name__ == '__main__':\n"
     ]
    },
    {
     "name": "stdout",
     "output_type": "stream",
     "text": [
      "inp_12__out_12__loss_mae__bksize_100__bkact_leaky__dir_bi 1\n",
      "/home/thanos/projects/ae_pred/analysis/../results/inp_12__out_12__loss_mae__bksize_100__bkact_leaky__dir_bi__1/best_weights.h5\n"
     ]
    },
    {
     "name": "stderr",
     "output_type": "stream",
     "text": [
      "/home/thanos/.envs/fsu/lib/python3.6/site-packages/ipykernel_launcher.py:9: RuntimeWarning: invalid value encountered in true_divide\n",
      "  if __name__ == '__main__':\n"
     ]
    },
    {
     "name": "stdout",
     "output_type": "stream",
     "text": [
      "inp_12__out_12__loss_mae__bksize_100__bkact_leaky__dir_bi 2\n",
      "/home/thanos/projects/ae_pred/analysis/../results/inp_12__out_12__loss_mae__bksize_100__bkact_leaky__dir_bi__2/best_weights.h5\n"
     ]
    },
    {
     "name": "stderr",
     "output_type": "stream",
     "text": [
      "/home/thanos/.envs/fsu/lib/python3.6/site-packages/ipykernel_launcher.py:9: RuntimeWarning: invalid value encountered in true_divide\n",
      "  if __name__ == '__main__':\n"
     ]
    },
    {
     "name": "stdout",
     "output_type": "stream",
     "text": [
      "inp_12__out_12__loss_mae__bksize_100__bkact_leaky__dir_bi 3\n",
      "/home/thanos/projects/ae_pred/analysis/../results/inp_12__out_12__loss_mae__bksize_100__bkact_leaky__dir_bi__3/best_weights.h5\n"
     ]
    },
    {
     "name": "stderr",
     "output_type": "stream",
     "text": [
      "/home/thanos/.envs/fsu/lib/python3.6/site-packages/ipykernel_launcher.py:9: RuntimeWarning: invalid value encountered in true_divide\n",
      "  if __name__ == '__main__':\n"
     ]
    },
    {
     "name": "stdout",
     "output_type": "stream",
     "text": [
      "inp_12__out_12__loss_mae__bksize_100__bkact_leaky__dir_bi 4\n",
      "/home/thanos/projects/ae_pred/analysis/../results/inp_12__out_12__loss_mae__bksize_100__bkact_leaky__dir_bi__4/best_weights.h5\n"
     ]
    },
    {
     "name": "stderr",
     "output_type": "stream",
     "text": [
      "/home/thanos/.envs/fsu/lib/python3.6/site-packages/ipykernel_launcher.py:9: RuntimeWarning: invalid value encountered in true_divide\n",
      "  if __name__ == '__main__':\n"
     ]
    },
    {
     "name": "stdout",
     "output_type": "stream",
     "text": [
      "inp_12__out_12__loss_mae__bksize_100__bkact_leaky__dir_bi 5\n",
      "/home/thanos/projects/ae_pred/analysis/../results/inp_12__out_12__loss_mae__bksize_100__bkact_leaky__dir_bi__5/best_weights.h5\n"
     ]
    },
    {
     "name": "stderr",
     "output_type": "stream",
     "text": [
      "/home/thanos/.envs/fsu/lib/python3.6/site-packages/ipykernel_launcher.py:9: RuntimeWarning: invalid value encountered in true_divide\n",
      "  if __name__ == '__main__':\n"
     ]
    },
    {
     "name": "stdout",
     "output_type": "stream",
     "text": [
      "inp_12__out_12__loss_mae__bksize_100__bkact_leaky__dir_bi 6\n",
      "/home/thanos/projects/ae_pred/analysis/../results/inp_12__out_12__loss_mae__bksize_100__bkact_leaky__dir_bi__6/best_weights.h5\n"
     ]
    },
    {
     "name": "stderr",
     "output_type": "stream",
     "text": [
      "/home/thanos/.envs/fsu/lib/python3.6/site-packages/ipykernel_launcher.py:9: RuntimeWarning: invalid value encountered in true_divide\n",
      "  if __name__ == '__main__':\n"
     ]
    },
    {
     "name": "stdout",
     "output_type": "stream",
     "text": [
      "inp_12__out_12__loss_mae__bksize_100__bkact_leaky__dir_bi 7\n",
      "/home/thanos/projects/ae_pred/analysis/../results/inp_12__out_12__loss_mae__bksize_100__bkact_leaky__dir_bi__7/best_weights.h5\n"
     ]
    },
    {
     "name": "stderr",
     "output_type": "stream",
     "text": [
      "/home/thanos/.envs/fsu/lib/python3.6/site-packages/ipykernel_launcher.py:9: RuntimeWarning: invalid value encountered in true_divide\n",
      "  if __name__ == '__main__':\n"
     ]
    },
    {
     "name": "stdout",
     "output_type": "stream",
     "text": [
      "inp_12__out_12__loss_mae__bksize_100__bkact_leaky__dir_bi 8\n",
      "/home/thanos/projects/ae_pred/analysis/../results/inp_12__out_12__loss_mae__bksize_100__bkact_leaky__dir_bi__8/best_weights.h5\n"
     ]
    },
    {
     "name": "stderr",
     "output_type": "stream",
     "text": [
      "/home/thanos/.envs/fsu/lib/python3.6/site-packages/ipykernel_launcher.py:9: RuntimeWarning: invalid value encountered in true_divide\n",
      "  if __name__ == '__main__':\n"
     ]
    },
    {
     "name": "stdout",
     "output_type": "stream",
     "text": [
      "inp_12__out_12__loss_mae__bksize_100__bkact_leaky__dir_bi 9\n",
      "/home/thanos/projects/ae_pred/analysis/../results/inp_12__out_12__loss_mae__bksize_100__bkact_leaky__dir_bi__9/best_weights.h5\n"
     ]
    },
    {
     "name": "stderr",
     "output_type": "stream",
     "text": [
      "/home/thanos/.envs/fsu/lib/python3.6/site-packages/ipykernel_launcher.py:9: RuntimeWarning: invalid value encountered in true_divide\n",
      "  if __name__ == '__main__':\n",
      "  7%|▋         | 10/135 [18:23<4:04:52, 117.54s/it]"
     ]
    },
    {
     "name": "stdout",
     "output_type": "stream",
     "text": [
      "inp_12__out_12__loss_mae__bksize_25__bkact_tanh__dir_bi 0\n",
      "/home/thanos/projects/ae_pred/analysis/../results/inp_12__out_12__loss_mae__bksize_25__bkact_tanh__dir_bi__0/best_weights.h5\n"
     ]
    },
    {
     "name": "stderr",
     "output_type": "stream",
     "text": [
      "/home/thanos/.envs/fsu/lib/python3.6/site-packages/ipykernel_launcher.py:9: RuntimeWarning: invalid value encountered in true_divide\n",
      "  if __name__ == '__main__':\n"
     ]
    },
    {
     "name": "stdout",
     "output_type": "stream",
     "text": [
      "inp_12__out_12__loss_mae__bksize_25__bkact_tanh__dir_bi 1\n",
      "/home/thanos/projects/ae_pred/analysis/../results/inp_12__out_12__loss_mae__bksize_25__bkact_tanh__dir_bi__1/best_weights.h5\n"
     ]
    },
    {
     "name": "stderr",
     "output_type": "stream",
     "text": [
      "/home/thanos/.envs/fsu/lib/python3.6/site-packages/ipykernel_launcher.py:9: RuntimeWarning: invalid value encountered in true_divide\n",
      "  if __name__ == '__main__':\n"
     ]
    },
    {
     "name": "stdout",
     "output_type": "stream",
     "text": [
      "inp_12__out_12__loss_mae__bksize_25__bkact_tanh__dir_bi 2\n",
      "/home/thanos/projects/ae_pred/analysis/../results/inp_12__out_12__loss_mae__bksize_25__bkact_tanh__dir_bi__2/best_weights.h5\n"
     ]
    },
    {
     "name": "stderr",
     "output_type": "stream",
     "text": [
      "/home/thanos/.envs/fsu/lib/python3.6/site-packages/ipykernel_launcher.py:9: RuntimeWarning: invalid value encountered in true_divide\n",
      "  if __name__ == '__main__':\n"
     ]
    },
    {
     "name": "stdout",
     "output_type": "stream",
     "text": [
      "inp_12__out_12__loss_mae__bksize_25__bkact_tanh__dir_bi 3\n",
      "/home/thanos/projects/ae_pred/analysis/../results/inp_12__out_12__loss_mae__bksize_25__bkact_tanh__dir_bi__3/best_weights.h5\n"
     ]
    },
    {
     "name": "stderr",
     "output_type": "stream",
     "text": [
      "/home/thanos/.envs/fsu/lib/python3.6/site-packages/ipykernel_launcher.py:9: RuntimeWarning: invalid value encountered in true_divide\n",
      "  if __name__ == '__main__':\n"
     ]
    },
    {
     "name": "stdout",
     "output_type": "stream",
     "text": [
      "inp_12__out_12__loss_mae__bksize_25__bkact_tanh__dir_bi 4\n",
      "/home/thanos/projects/ae_pred/analysis/../results/inp_12__out_12__loss_mae__bksize_25__bkact_tanh__dir_bi__4/best_weights.h5\n"
     ]
    },
    {
     "name": "stderr",
     "output_type": "stream",
     "text": [
      "/home/thanos/.envs/fsu/lib/python3.6/site-packages/ipykernel_launcher.py:9: RuntimeWarning: invalid value encountered in true_divide\n",
      "  if __name__ == '__main__':\n"
     ]
    },
    {
     "name": "stdout",
     "output_type": "stream",
     "text": [
      "inp_12__out_12__loss_mae__bksize_25__bkact_tanh__dir_bi 5\n",
      "/home/thanos/projects/ae_pred/analysis/../results/inp_12__out_12__loss_mae__bksize_25__bkact_tanh__dir_bi__5/best_weights.h5\n"
     ]
    },
    {
     "name": "stderr",
     "output_type": "stream",
     "text": [
      "/home/thanos/.envs/fsu/lib/python3.6/site-packages/ipykernel_launcher.py:9: RuntimeWarning: invalid value encountered in true_divide\n",
      "  if __name__ == '__main__':\n"
     ]
    },
    {
     "name": "stdout",
     "output_type": "stream",
     "text": [
      "inp_12__out_12__loss_mae__bksize_25__bkact_tanh__dir_bi 6\n",
      "/home/thanos/projects/ae_pred/analysis/../results/inp_12__out_12__loss_mae__bksize_25__bkact_tanh__dir_bi__6/best_weights.h5\n"
     ]
    },
    {
     "name": "stderr",
     "output_type": "stream",
     "text": [
      "/home/thanos/.envs/fsu/lib/python3.6/site-packages/ipykernel_launcher.py:9: RuntimeWarning: invalid value encountered in true_divide\n",
      "  if __name__ == '__main__':\n"
     ]
    },
    {
     "name": "stdout",
     "output_type": "stream",
     "text": [
      "inp_12__out_12__loss_mae__bksize_25__bkact_tanh__dir_bi 7\n",
      "/home/thanos/projects/ae_pred/analysis/../results/inp_12__out_12__loss_mae__bksize_25__bkact_tanh__dir_bi__7/best_weights.h5\n"
     ]
    },
    {
     "name": "stderr",
     "output_type": "stream",
     "text": [
      "/home/thanos/.envs/fsu/lib/python3.6/site-packages/ipykernel_launcher.py:9: RuntimeWarning: invalid value encountered in true_divide\n",
      "  if __name__ == '__main__':\n"
     ]
    },
    {
     "name": "stdout",
     "output_type": "stream",
     "text": [
      "inp_12__out_12__loss_mae__bksize_25__bkact_tanh__dir_bi 8\n",
      "/home/thanos/projects/ae_pred/analysis/../results/inp_12__out_12__loss_mae__bksize_25__bkact_tanh__dir_bi__8/best_weights.h5\n"
     ]
    },
    {
     "name": "stderr",
     "output_type": "stream",
     "text": [
      "/home/thanos/.envs/fsu/lib/python3.6/site-packages/ipykernel_launcher.py:9: RuntimeWarning: invalid value encountered in true_divide\n",
      "  if __name__ == '__main__':\n"
     ]
    },
    {
     "name": "stdout",
     "output_type": "stream",
     "text": [
      "inp_12__out_12__loss_mae__bksize_25__bkact_tanh__dir_bi 9\n",
      "/home/thanos/projects/ae_pred/analysis/../results/inp_12__out_12__loss_mae__bksize_25__bkact_tanh__dir_bi__9/best_weights.h5\n"
     ]
    },
    {
     "name": "stderr",
     "output_type": "stream",
     "text": [
      "/home/thanos/.envs/fsu/lib/python3.6/site-packages/ipykernel_launcher.py:9: RuntimeWarning: invalid value encountered in true_divide\n",
      "  if __name__ == '__main__':\n",
      "  8%|▊         | 11/135 [20:32<4:09:53, 120.92s/it]"
     ]
    },
    {
     "name": "stdout",
     "output_type": "stream",
     "text": [
      "inp_12__out_12__loss_mae__bksize_100__bkact_leaky__dir_bi 0\n",
      "/home/thanos/projects/ae_pred/analysis/../results/inp_12__out_12__loss_mae__bksize_100__bkact_leaky__dir_bi__0/best_weights.h5\n"
     ]
    },
    {
     "name": "stderr",
     "output_type": "stream",
     "text": [
      "/home/thanos/.envs/fsu/lib/python3.6/site-packages/ipykernel_launcher.py:9: RuntimeWarning: invalid value encountered in true_divide\n",
      "  if __name__ == '__main__':\n"
     ]
    },
    {
     "name": "stdout",
     "output_type": "stream",
     "text": [
      "inp_12__out_12__loss_mae__bksize_100__bkact_leaky__dir_bi 1\n",
      "/home/thanos/projects/ae_pred/analysis/../results/inp_12__out_12__loss_mae__bksize_100__bkact_leaky__dir_bi__1/best_weights.h5\n"
     ]
    },
    {
     "name": "stderr",
     "output_type": "stream",
     "text": [
      "/home/thanos/.envs/fsu/lib/python3.6/site-packages/ipykernel_launcher.py:9: RuntimeWarning: invalid value encountered in true_divide\n",
      "  if __name__ == '__main__':\n"
     ]
    },
    {
     "name": "stdout",
     "output_type": "stream",
     "text": [
      "inp_12__out_12__loss_mae__bksize_100__bkact_leaky__dir_bi 2\n",
      "/home/thanos/projects/ae_pred/analysis/../results/inp_12__out_12__loss_mae__bksize_100__bkact_leaky__dir_bi__2/best_weights.h5\n"
     ]
    },
    {
     "name": "stderr",
     "output_type": "stream",
     "text": [
      "/home/thanos/.envs/fsu/lib/python3.6/site-packages/ipykernel_launcher.py:9: RuntimeWarning: invalid value encountered in true_divide\n",
      "  if __name__ == '__main__':\n"
     ]
    },
    {
     "name": "stdout",
     "output_type": "stream",
     "text": [
      "inp_12__out_12__loss_mae__bksize_100__bkact_leaky__dir_bi 3\n",
      "/home/thanos/projects/ae_pred/analysis/../results/inp_12__out_12__loss_mae__bksize_100__bkact_leaky__dir_bi__3/best_weights.h5\n"
     ]
    },
    {
     "name": "stderr",
     "output_type": "stream",
     "text": [
      "/home/thanos/.envs/fsu/lib/python3.6/site-packages/ipykernel_launcher.py:9: RuntimeWarning: invalid value encountered in true_divide\n",
      "  if __name__ == '__main__':\n"
     ]
    },
    {
     "name": "stdout",
     "output_type": "stream",
     "text": [
      "inp_12__out_12__loss_mae__bksize_100__bkact_leaky__dir_bi 4\n",
      "/home/thanos/projects/ae_pred/analysis/../results/inp_12__out_12__loss_mae__bksize_100__bkact_leaky__dir_bi__4/best_weights.h5\n"
     ]
    },
    {
     "name": "stderr",
     "output_type": "stream",
     "text": [
      "/home/thanos/.envs/fsu/lib/python3.6/site-packages/ipykernel_launcher.py:9: RuntimeWarning: invalid value encountered in true_divide\n",
      "  if __name__ == '__main__':\n"
     ]
    },
    {
     "name": "stdout",
     "output_type": "stream",
     "text": [
      "inp_12__out_12__loss_mae__bksize_100__bkact_leaky__dir_bi 5\n",
      "/home/thanos/projects/ae_pred/analysis/../results/inp_12__out_12__loss_mae__bksize_100__bkact_leaky__dir_bi__5/best_weights.h5\n"
     ]
    },
    {
     "name": "stderr",
     "output_type": "stream",
     "text": [
      "/home/thanos/.envs/fsu/lib/python3.6/site-packages/ipykernel_launcher.py:9: RuntimeWarning: invalid value encountered in true_divide\n",
      "  if __name__ == '__main__':\n"
     ]
    },
    {
     "name": "stdout",
     "output_type": "stream",
     "text": [
      "inp_12__out_12__loss_mae__bksize_100__bkact_leaky__dir_bi 6\n",
      "/home/thanos/projects/ae_pred/analysis/../results/inp_12__out_12__loss_mae__bksize_100__bkact_leaky__dir_bi__6/best_weights.h5\n"
     ]
    },
    {
     "name": "stderr",
     "output_type": "stream",
     "text": [
      "/home/thanos/.envs/fsu/lib/python3.6/site-packages/ipykernel_launcher.py:9: RuntimeWarning: invalid value encountered in true_divide\n",
      "  if __name__ == '__main__':\n"
     ]
    },
    {
     "name": "stdout",
     "output_type": "stream",
     "text": [
      "inp_12__out_12__loss_mae__bksize_100__bkact_leaky__dir_bi 7\n",
      "/home/thanos/projects/ae_pred/analysis/../results/inp_12__out_12__loss_mae__bksize_100__bkact_leaky__dir_bi__7/best_weights.h5\n"
     ]
    },
    {
     "name": "stderr",
     "output_type": "stream",
     "text": [
      "/home/thanos/.envs/fsu/lib/python3.6/site-packages/ipykernel_launcher.py:9: RuntimeWarning: invalid value encountered in true_divide\n",
      "  if __name__ == '__main__':\n"
     ]
    },
    {
     "name": "stdout",
     "output_type": "stream",
     "text": [
      "inp_12__out_12__loss_mae__bksize_100__bkact_leaky__dir_bi 8\n",
      "/home/thanos/projects/ae_pred/analysis/../results/inp_12__out_12__loss_mae__bksize_100__bkact_leaky__dir_bi__8/best_weights.h5\n"
     ]
    },
    {
     "name": "stderr",
     "output_type": "stream",
     "text": [
      "/home/thanos/.envs/fsu/lib/python3.6/site-packages/ipykernel_launcher.py:9: RuntimeWarning: invalid value encountered in true_divide\n",
      "  if __name__ == '__main__':\n"
     ]
    },
    {
     "name": "stdout",
     "output_type": "stream",
     "text": [
      "inp_12__out_12__loss_mae__bksize_100__bkact_leaky__dir_bi 9\n",
      "/home/thanos/projects/ae_pred/analysis/../results/inp_12__out_12__loss_mae__bksize_100__bkact_leaky__dir_bi__9/best_weights.h5\n"
     ]
    },
    {
     "name": "stderr",
     "output_type": "stream",
     "text": [
      "/home/thanos/.envs/fsu/lib/python3.6/site-packages/ipykernel_launcher.py:9: RuntimeWarning: invalid value encountered in true_divide\n",
      "  if __name__ == '__main__':\n",
      "  9%|▉         | 12/135 [22:42<4:13:40, 123.74s/it]"
     ]
    },
    {
     "name": "stdout",
     "output_type": "stream",
     "text": [
      "inp_12__out_12__loss_mae__bksize_25__bkact_leaky__dir_uni 0\n",
      "/home/thanos/projects/ae_pred/analysis/../results/inp_12__out_12__loss_mae__bksize_25__bkact_leaky__dir_uni__0/best_weights.h5\n"
     ]
    },
    {
     "name": "stderr",
     "output_type": "stream",
     "text": [
      "/home/thanos/.envs/fsu/lib/python3.6/site-packages/ipykernel_launcher.py:9: RuntimeWarning: invalid value encountered in true_divide\n",
      "  if __name__ == '__main__':\n"
     ]
    },
    {
     "name": "stdout",
     "output_type": "stream",
     "text": [
      "inp_12__out_12__loss_mae__bksize_25__bkact_leaky__dir_uni 1\n",
      "/home/thanos/projects/ae_pred/analysis/../results/inp_12__out_12__loss_mae__bksize_25__bkact_leaky__dir_uni__1/best_weights.h5\n"
     ]
    },
    {
     "name": "stderr",
     "output_type": "stream",
     "text": [
      "/home/thanos/.envs/fsu/lib/python3.6/site-packages/ipykernel_launcher.py:9: RuntimeWarning: invalid value encountered in true_divide\n",
      "  if __name__ == '__main__':\n"
     ]
    },
    {
     "name": "stdout",
     "output_type": "stream",
     "text": [
      "inp_12__out_12__loss_mae__bksize_25__bkact_leaky__dir_uni 2\n",
      "/home/thanos/projects/ae_pred/analysis/../results/inp_12__out_12__loss_mae__bksize_25__bkact_leaky__dir_uni__2/best_weights.h5\n"
     ]
    },
    {
     "name": "stderr",
     "output_type": "stream",
     "text": [
      "/home/thanos/.envs/fsu/lib/python3.6/site-packages/ipykernel_launcher.py:9: RuntimeWarning: invalid value encountered in true_divide\n",
      "  if __name__ == '__main__':\n"
     ]
    },
    {
     "name": "stdout",
     "output_type": "stream",
     "text": [
      "inp_12__out_12__loss_mae__bksize_25__bkact_leaky__dir_uni 3\n",
      "/home/thanos/projects/ae_pred/analysis/../results/inp_12__out_12__loss_mae__bksize_25__bkact_leaky__dir_uni__3/best_weights.h5\n"
     ]
    },
    {
     "name": "stderr",
     "output_type": "stream",
     "text": [
      "/home/thanos/.envs/fsu/lib/python3.6/site-packages/ipykernel_launcher.py:9: RuntimeWarning: invalid value encountered in true_divide\n",
      "  if __name__ == '__main__':\n"
     ]
    },
    {
     "name": "stdout",
     "output_type": "stream",
     "text": [
      "inp_12__out_12__loss_mae__bksize_25__bkact_leaky__dir_uni 4\n",
      "/home/thanos/projects/ae_pred/analysis/../results/inp_12__out_12__loss_mae__bksize_25__bkact_leaky__dir_uni__4/best_weights.h5\n"
     ]
    },
    {
     "name": "stderr",
     "output_type": "stream",
     "text": [
      "/home/thanos/.envs/fsu/lib/python3.6/site-packages/ipykernel_launcher.py:9: RuntimeWarning: invalid value encountered in true_divide\n",
      "  if __name__ == '__main__':\n"
     ]
    },
    {
     "name": "stdout",
     "output_type": "stream",
     "text": [
      "inp_12__out_12__loss_mae__bksize_25__bkact_leaky__dir_uni 5\n",
      "/home/thanos/projects/ae_pred/analysis/../results/inp_12__out_12__loss_mae__bksize_25__bkact_leaky__dir_uni__5/best_weights.h5\n"
     ]
    },
    {
     "name": "stderr",
     "output_type": "stream",
     "text": [
      "/home/thanos/.envs/fsu/lib/python3.6/site-packages/ipykernel_launcher.py:9: RuntimeWarning: invalid value encountered in true_divide\n",
      "  if __name__ == '__main__':\n"
     ]
    },
    {
     "name": "stdout",
     "output_type": "stream",
     "text": [
      "inp_12__out_12__loss_mae__bksize_25__bkact_leaky__dir_uni 6\n",
      "/home/thanos/projects/ae_pred/analysis/../results/inp_12__out_12__loss_mae__bksize_25__bkact_leaky__dir_uni__6/best_weights.h5\n"
     ]
    },
    {
     "name": "stderr",
     "output_type": "stream",
     "text": [
      "/home/thanos/.envs/fsu/lib/python3.6/site-packages/ipykernel_launcher.py:9: RuntimeWarning: invalid value encountered in true_divide\n",
      "  if __name__ == '__main__':\n"
     ]
    },
    {
     "name": "stdout",
     "output_type": "stream",
     "text": [
      "inp_12__out_12__loss_mae__bksize_25__bkact_leaky__dir_uni 7\n",
      "/home/thanos/projects/ae_pred/analysis/../results/inp_12__out_12__loss_mae__bksize_25__bkact_leaky__dir_uni__7/best_weights.h5\n"
     ]
    },
    {
     "name": "stderr",
     "output_type": "stream",
     "text": [
      "/home/thanos/.envs/fsu/lib/python3.6/site-packages/ipykernel_launcher.py:9: RuntimeWarning: invalid value encountered in true_divide\n",
      "  if __name__ == '__main__':\n"
     ]
    },
    {
     "name": "stdout",
     "output_type": "stream",
     "text": [
      "inp_12__out_12__loss_mae__bksize_25__bkact_leaky__dir_uni 8\n",
      "/home/thanos/projects/ae_pred/analysis/../results/inp_12__out_12__loss_mae__bksize_25__bkact_leaky__dir_uni__8/best_weights.h5\n"
     ]
    },
    {
     "name": "stderr",
     "output_type": "stream",
     "text": [
      "/home/thanos/.envs/fsu/lib/python3.6/site-packages/ipykernel_launcher.py:9: RuntimeWarning: invalid value encountered in true_divide\n",
      "  if __name__ == '__main__':\n"
     ]
    },
    {
     "name": "stdout",
     "output_type": "stream",
     "text": [
      "inp_12__out_12__loss_mae__bksize_25__bkact_leaky__dir_uni 9\n",
      "/home/thanos/projects/ae_pred/analysis/../results/inp_12__out_12__loss_mae__bksize_25__bkact_leaky__dir_uni__9/best_weights.h5\n"
     ]
    },
    {
     "name": "stderr",
     "output_type": "stream",
     "text": [
      "/home/thanos/.envs/fsu/lib/python3.6/site-packages/ipykernel_launcher.py:9: RuntimeWarning: invalid value encountered in true_divide\n",
      "  if __name__ == '__main__':\n",
      " 10%|▉         | 13/135 [23:45<3:34:42, 105.59s/it]"
     ]
    },
    {
     "name": "stdout",
     "output_type": "stream",
     "text": [
      "inp_12__out_12__loss_mae__bksize_25__bkact_tanh__dir_bi 0\n",
      "/home/thanos/projects/ae_pred/analysis/../results/inp_12__out_12__loss_mae__bksize_25__bkact_tanh__dir_bi__0/best_weights.h5\n"
     ]
    },
    {
     "name": "stderr",
     "output_type": "stream",
     "text": [
      "/home/thanos/.envs/fsu/lib/python3.6/site-packages/ipykernel_launcher.py:9: RuntimeWarning: invalid value encountered in true_divide\n",
      "  if __name__ == '__main__':\n"
     ]
    },
    {
     "name": "stdout",
     "output_type": "stream",
     "text": [
      "inp_12__out_12__loss_mae__bksize_25__bkact_tanh__dir_bi 1\n",
      "/home/thanos/projects/ae_pred/analysis/../results/inp_12__out_12__loss_mae__bksize_25__bkact_tanh__dir_bi__1/best_weights.h5\n"
     ]
    },
    {
     "name": "stderr",
     "output_type": "stream",
     "text": [
      "/home/thanos/.envs/fsu/lib/python3.6/site-packages/ipykernel_launcher.py:9: RuntimeWarning: invalid value encountered in true_divide\n",
      "  if __name__ == '__main__':\n"
     ]
    },
    {
     "name": "stdout",
     "output_type": "stream",
     "text": [
      "inp_12__out_12__loss_mae__bksize_25__bkact_tanh__dir_bi 2\n",
      "/home/thanos/projects/ae_pred/analysis/../results/inp_12__out_12__loss_mae__bksize_25__bkact_tanh__dir_bi__2/best_weights.h5\n"
     ]
    },
    {
     "name": "stderr",
     "output_type": "stream",
     "text": [
      "/home/thanos/.envs/fsu/lib/python3.6/site-packages/ipykernel_launcher.py:9: RuntimeWarning: invalid value encountered in true_divide\n",
      "  if __name__ == '__main__':\n"
     ]
    },
    {
     "name": "stdout",
     "output_type": "stream",
     "text": [
      "inp_12__out_12__loss_mae__bksize_25__bkact_tanh__dir_bi 3\n",
      "/home/thanos/projects/ae_pred/analysis/../results/inp_12__out_12__loss_mae__bksize_25__bkact_tanh__dir_bi__3/best_weights.h5\n"
     ]
    },
    {
     "name": "stderr",
     "output_type": "stream",
     "text": [
      "/home/thanos/.envs/fsu/lib/python3.6/site-packages/ipykernel_launcher.py:9: RuntimeWarning: invalid value encountered in true_divide\n",
      "  if __name__ == '__main__':\n"
     ]
    },
    {
     "name": "stdout",
     "output_type": "stream",
     "text": [
      "inp_12__out_12__loss_mae__bksize_25__bkact_tanh__dir_bi 4\n",
      "/home/thanos/projects/ae_pred/analysis/../results/inp_12__out_12__loss_mae__bksize_25__bkact_tanh__dir_bi__4/best_weights.h5\n"
     ]
    },
    {
     "name": "stderr",
     "output_type": "stream",
     "text": [
      "/home/thanos/.envs/fsu/lib/python3.6/site-packages/ipykernel_launcher.py:9: RuntimeWarning: invalid value encountered in true_divide\n",
      "  if __name__ == '__main__':\n"
     ]
    },
    {
     "name": "stdout",
     "output_type": "stream",
     "text": [
      "inp_12__out_12__loss_mae__bksize_25__bkact_tanh__dir_bi 5\n",
      "/home/thanos/projects/ae_pred/analysis/../results/inp_12__out_12__loss_mae__bksize_25__bkact_tanh__dir_bi__5/best_weights.h5\n"
     ]
    },
    {
     "name": "stderr",
     "output_type": "stream",
     "text": [
      "/home/thanos/.envs/fsu/lib/python3.6/site-packages/ipykernel_launcher.py:9: RuntimeWarning: invalid value encountered in true_divide\n",
      "  if __name__ == '__main__':\n"
     ]
    },
    {
     "name": "stdout",
     "output_type": "stream",
     "text": [
      "inp_12__out_12__loss_mae__bksize_25__bkact_tanh__dir_bi 6\n",
      "/home/thanos/projects/ae_pred/analysis/../results/inp_12__out_12__loss_mae__bksize_25__bkact_tanh__dir_bi__6/best_weights.h5\n"
     ]
    },
    {
     "name": "stderr",
     "output_type": "stream",
     "text": [
      "/home/thanos/.envs/fsu/lib/python3.6/site-packages/ipykernel_launcher.py:9: RuntimeWarning: invalid value encountered in true_divide\n",
      "  if __name__ == '__main__':\n"
     ]
    },
    {
     "name": "stdout",
     "output_type": "stream",
     "text": [
      "inp_12__out_12__loss_mae__bksize_25__bkact_tanh__dir_bi 7\n",
      "/home/thanos/projects/ae_pred/analysis/../results/inp_12__out_12__loss_mae__bksize_25__bkact_tanh__dir_bi__7/best_weights.h5\n"
     ]
    },
    {
     "name": "stderr",
     "output_type": "stream",
     "text": [
      "/home/thanos/.envs/fsu/lib/python3.6/site-packages/ipykernel_launcher.py:9: RuntimeWarning: invalid value encountered in true_divide\n",
      "  if __name__ == '__main__':\n"
     ]
    },
    {
     "name": "stdout",
     "output_type": "stream",
     "text": [
      "inp_12__out_12__loss_mae__bksize_25__bkact_tanh__dir_bi 8\n",
      "/home/thanos/projects/ae_pred/analysis/../results/inp_12__out_12__loss_mae__bksize_25__bkact_tanh__dir_bi__8/best_weights.h5\n"
     ]
    },
    {
     "name": "stderr",
     "output_type": "stream",
     "text": [
      "/home/thanos/.envs/fsu/lib/python3.6/site-packages/ipykernel_launcher.py:9: RuntimeWarning: invalid value encountered in true_divide\n",
      "  if __name__ == '__main__':\n"
     ]
    },
    {
     "name": "stdout",
     "output_type": "stream",
     "text": [
      "inp_12__out_12__loss_mae__bksize_25__bkact_tanh__dir_bi 9\n",
      "/home/thanos/projects/ae_pred/analysis/../results/inp_12__out_12__loss_mae__bksize_25__bkact_tanh__dir_bi__9/best_weights.h5\n"
     ]
    },
    {
     "name": "stderr",
     "output_type": "stream",
     "text": [
      "/home/thanos/.envs/fsu/lib/python3.6/site-packages/ipykernel_launcher.py:9: RuntimeWarning: invalid value encountered in true_divide\n",
      "  if __name__ == '__main__':\n",
      " 10%|█         | 14/135 [25:53<3:46:17, 112.21s/it]"
     ]
    },
    {
     "name": "stdout",
     "output_type": "stream",
     "text": [
      "inp_12__out_12__loss_mae__bksize_50__bkact_leaky__dir_bi 0\n",
      "/home/thanos/projects/ae_pred/analysis/../results/inp_12__out_12__loss_mae__bksize_50__bkact_leaky__dir_bi__0/best_weights.h5\n"
     ]
    },
    {
     "name": "stderr",
     "output_type": "stream",
     "text": [
      "/home/thanos/.envs/fsu/lib/python3.6/site-packages/ipykernel_launcher.py:9: RuntimeWarning: invalid value encountered in true_divide\n",
      "  if __name__ == '__main__':\n"
     ]
    },
    {
     "name": "stdout",
     "output_type": "stream",
     "text": [
      "inp_12__out_12__loss_mae__bksize_50__bkact_leaky__dir_bi 1\n",
      "/home/thanos/projects/ae_pred/analysis/../results/inp_12__out_12__loss_mae__bksize_50__bkact_leaky__dir_bi__1/best_weights.h5\n"
     ]
    },
    {
     "name": "stderr",
     "output_type": "stream",
     "text": [
      "/home/thanos/.envs/fsu/lib/python3.6/site-packages/ipykernel_launcher.py:9: RuntimeWarning: invalid value encountered in true_divide\n",
      "  if __name__ == '__main__':\n"
     ]
    },
    {
     "name": "stdout",
     "output_type": "stream",
     "text": [
      "inp_12__out_12__loss_mae__bksize_50__bkact_leaky__dir_bi 2\n",
      "/home/thanos/projects/ae_pred/analysis/../results/inp_12__out_12__loss_mae__bksize_50__bkact_leaky__dir_bi__2/best_weights.h5\n"
     ]
    },
    {
     "name": "stderr",
     "output_type": "stream",
     "text": [
      "/home/thanos/.envs/fsu/lib/python3.6/site-packages/ipykernel_launcher.py:9: RuntimeWarning: invalid value encountered in true_divide\n",
      "  if __name__ == '__main__':\n"
     ]
    },
    {
     "name": "stdout",
     "output_type": "stream",
     "text": [
      "inp_12__out_12__loss_mae__bksize_50__bkact_leaky__dir_bi 3\n",
      "/home/thanos/projects/ae_pred/analysis/../results/inp_12__out_12__loss_mae__bksize_50__bkact_leaky__dir_bi__3/best_weights.h5\n"
     ]
    },
    {
     "name": "stderr",
     "output_type": "stream",
     "text": [
      "/home/thanos/.envs/fsu/lib/python3.6/site-packages/ipykernel_launcher.py:9: RuntimeWarning: invalid value encountered in true_divide\n",
      "  if __name__ == '__main__':\n"
     ]
    },
    {
     "name": "stdout",
     "output_type": "stream",
     "text": [
      "inp_12__out_12__loss_mae__bksize_50__bkact_leaky__dir_bi 4\n",
      "/home/thanos/projects/ae_pred/analysis/../results/inp_12__out_12__loss_mae__bksize_50__bkact_leaky__dir_bi__4/best_weights.h5\n"
     ]
    },
    {
     "name": "stderr",
     "output_type": "stream",
     "text": [
      "/home/thanos/.envs/fsu/lib/python3.6/site-packages/ipykernel_launcher.py:9: RuntimeWarning: invalid value encountered in true_divide\n",
      "  if __name__ == '__main__':\n"
     ]
    },
    {
     "name": "stdout",
     "output_type": "stream",
     "text": [
      "inp_12__out_12__loss_mae__bksize_50__bkact_leaky__dir_bi 5\n",
      "/home/thanos/projects/ae_pred/analysis/../results/inp_12__out_12__loss_mae__bksize_50__bkact_leaky__dir_bi__5/best_weights.h5\n"
     ]
    },
    {
     "name": "stderr",
     "output_type": "stream",
     "text": [
      "/home/thanos/.envs/fsu/lib/python3.6/site-packages/ipykernel_launcher.py:9: RuntimeWarning: invalid value encountered in true_divide\n",
      "  if __name__ == '__main__':\n"
     ]
    },
    {
     "name": "stdout",
     "output_type": "stream",
     "text": [
      "inp_12__out_12__loss_mae__bksize_50__bkact_leaky__dir_bi 6\n",
      "/home/thanos/projects/ae_pred/analysis/../results/inp_12__out_12__loss_mae__bksize_50__bkact_leaky__dir_bi__6/best_weights.h5\n"
     ]
    },
    {
     "name": "stderr",
     "output_type": "stream",
     "text": [
      "/home/thanos/.envs/fsu/lib/python3.6/site-packages/ipykernel_launcher.py:9: RuntimeWarning: invalid value encountered in true_divide\n",
      "  if __name__ == '__main__':\n"
     ]
    },
    {
     "name": "stdout",
     "output_type": "stream",
     "text": [
      "inp_12__out_12__loss_mae__bksize_50__bkact_leaky__dir_bi 7\n",
      "/home/thanos/projects/ae_pred/analysis/../results/inp_12__out_12__loss_mae__bksize_50__bkact_leaky__dir_bi__7/best_weights.h5\n"
     ]
    },
    {
     "name": "stderr",
     "output_type": "stream",
     "text": [
      "/home/thanos/.envs/fsu/lib/python3.6/site-packages/ipykernel_launcher.py:9: RuntimeWarning: invalid value encountered in true_divide\n",
      "  if __name__ == '__main__':\n"
     ]
    },
    {
     "name": "stdout",
     "output_type": "stream",
     "text": [
      "inp_12__out_12__loss_mae__bksize_50__bkact_leaky__dir_bi 8\n",
      "/home/thanos/projects/ae_pred/analysis/../results/inp_12__out_12__loss_mae__bksize_50__bkact_leaky__dir_bi__8/best_weights.h5\n"
     ]
    },
    {
     "name": "stderr",
     "output_type": "stream",
     "text": [
      "/home/thanos/.envs/fsu/lib/python3.6/site-packages/ipykernel_launcher.py:9: RuntimeWarning: invalid value encountered in true_divide\n",
      "  if __name__ == '__main__':\n"
     ]
    },
    {
     "name": "stdout",
     "output_type": "stream",
     "text": [
      "inp_12__out_12__loss_mae__bksize_50__bkact_leaky__dir_bi 9\n",
      "/home/thanos/projects/ae_pred/analysis/../results/inp_12__out_12__loss_mae__bksize_50__bkact_leaky__dir_bi__9/best_weights.h5\n"
     ]
    },
    {
     "name": "stderr",
     "output_type": "stream",
     "text": [
      "/home/thanos/.envs/fsu/lib/python3.6/site-packages/ipykernel_launcher.py:9: RuntimeWarning: invalid value encountered in true_divide\n",
      "  if __name__ == '__main__':\n",
      " 11%|█         | 15/135 [28:01<3:54:01, 117.02s/it]"
     ]
    },
    {
     "name": "stdout",
     "output_type": "stream",
     "text": [
      "inp_12__out_12__loss_mae__bksize_25__bkact_relu__dir_uni 0\n",
      "/home/thanos/projects/ae_pred/analysis/../results/inp_12__out_12__loss_mae__bksize_25__bkact_relu__dir_uni__0/best_weights.h5\n"
     ]
    },
    {
     "name": "stderr",
     "output_type": "stream",
     "text": [
      "/home/thanos/.envs/fsu/lib/python3.6/site-packages/ipykernel_launcher.py:9: RuntimeWarning: invalid value encountered in true_divide\n",
      "  if __name__ == '__main__':\n"
     ]
    },
    {
     "name": "stdout",
     "output_type": "stream",
     "text": [
      "inp_12__out_12__loss_mae__bksize_25__bkact_relu__dir_uni 1\n",
      "/home/thanos/projects/ae_pred/analysis/../results/inp_12__out_12__loss_mae__bksize_25__bkact_relu__dir_uni__1/best_weights.h5\n"
     ]
    },
    {
     "name": "stderr",
     "output_type": "stream",
     "text": [
      "/home/thanos/.envs/fsu/lib/python3.6/site-packages/ipykernel_launcher.py:9: RuntimeWarning: invalid value encountered in true_divide\n",
      "  if __name__ == '__main__':\n"
     ]
    },
    {
     "name": "stdout",
     "output_type": "stream",
     "text": [
      "inp_12__out_12__loss_mae__bksize_25__bkact_relu__dir_uni 2\n",
      "/home/thanos/projects/ae_pred/analysis/../results/inp_12__out_12__loss_mae__bksize_25__bkact_relu__dir_uni__2/best_weights.h5\n"
     ]
    },
    {
     "name": "stderr",
     "output_type": "stream",
     "text": [
      "/home/thanos/.envs/fsu/lib/python3.6/site-packages/ipykernel_launcher.py:9: RuntimeWarning: invalid value encountered in true_divide\n",
      "  if __name__ == '__main__':\n"
     ]
    },
    {
     "name": "stdout",
     "output_type": "stream",
     "text": [
      "inp_12__out_12__loss_mae__bksize_25__bkact_relu__dir_uni 3\n",
      "/home/thanos/projects/ae_pred/analysis/../results/inp_12__out_12__loss_mae__bksize_25__bkact_relu__dir_uni__3/best_weights.h5\n"
     ]
    },
    {
     "name": "stderr",
     "output_type": "stream",
     "text": [
      "/home/thanos/.envs/fsu/lib/python3.6/site-packages/ipykernel_launcher.py:9: RuntimeWarning: invalid value encountered in true_divide\n",
      "  if __name__ == '__main__':\n"
     ]
    },
    {
     "name": "stdout",
     "output_type": "stream",
     "text": [
      "inp_12__out_12__loss_mae__bksize_25__bkact_relu__dir_uni 4\n",
      "/home/thanos/projects/ae_pred/analysis/../results/inp_12__out_12__loss_mae__bksize_25__bkact_relu__dir_uni__4/best_weights.h5\n"
     ]
    },
    {
     "name": "stderr",
     "output_type": "stream",
     "text": [
      "/home/thanos/.envs/fsu/lib/python3.6/site-packages/ipykernel_launcher.py:9: RuntimeWarning: invalid value encountered in true_divide\n",
      "  if __name__ == '__main__':\n"
     ]
    },
    {
     "name": "stdout",
     "output_type": "stream",
     "text": [
      "inp_12__out_12__loss_mae__bksize_25__bkact_relu__dir_uni 5\n",
      "/home/thanos/projects/ae_pred/analysis/../results/inp_12__out_12__loss_mae__bksize_25__bkact_relu__dir_uni__5/best_weights.h5\n"
     ]
    },
    {
     "name": "stderr",
     "output_type": "stream",
     "text": [
      "/home/thanos/.envs/fsu/lib/python3.6/site-packages/ipykernel_launcher.py:9: RuntimeWarning: invalid value encountered in true_divide\n",
      "  if __name__ == '__main__':\n"
     ]
    },
    {
     "name": "stdout",
     "output_type": "stream",
     "text": [
      "inp_12__out_12__loss_mae__bksize_25__bkact_relu__dir_uni 6\n",
      "/home/thanos/projects/ae_pred/analysis/../results/inp_12__out_12__loss_mae__bksize_25__bkact_relu__dir_uni__6/best_weights.h5\n"
     ]
    },
    {
     "name": "stderr",
     "output_type": "stream",
     "text": [
      "/home/thanos/.envs/fsu/lib/python3.6/site-packages/ipykernel_launcher.py:9: RuntimeWarning: invalid value encountered in true_divide\n",
      "  if __name__ == '__main__':\n"
     ]
    },
    {
     "name": "stdout",
     "output_type": "stream",
     "text": [
      "inp_12__out_12__loss_mae__bksize_25__bkact_relu__dir_uni 7\n",
      "/home/thanos/projects/ae_pred/analysis/../results/inp_12__out_12__loss_mae__bksize_25__bkact_relu__dir_uni__7/best_weights.h5\n"
     ]
    },
    {
     "name": "stderr",
     "output_type": "stream",
     "text": [
      "/home/thanos/.envs/fsu/lib/python3.6/site-packages/ipykernel_launcher.py:9: RuntimeWarning: invalid value encountered in true_divide\n",
      "  if __name__ == '__main__':\n"
     ]
    },
    {
     "name": "stdout",
     "output_type": "stream",
     "text": [
      "inp_12__out_12__loss_mae__bksize_25__bkact_relu__dir_uni 8\n",
      "/home/thanos/projects/ae_pred/analysis/../results/inp_12__out_12__loss_mae__bksize_25__bkact_relu__dir_uni__8/best_weights.h5\n"
     ]
    },
    {
     "name": "stderr",
     "output_type": "stream",
     "text": [
      "/home/thanos/.envs/fsu/lib/python3.6/site-packages/ipykernel_launcher.py:9: RuntimeWarning: invalid value encountered in true_divide\n",
      "  if __name__ == '__main__':\n"
     ]
    },
    {
     "name": "stdout",
     "output_type": "stream",
     "text": [
      "inp_12__out_12__loss_mae__bksize_25__bkact_relu__dir_uni 9\n",
      "/home/thanos/projects/ae_pred/analysis/../results/inp_12__out_12__loss_mae__bksize_25__bkact_relu__dir_uni__9/best_weights.h5\n"
     ]
    },
    {
     "name": "stderr",
     "output_type": "stream",
     "text": [
      "/home/thanos/.envs/fsu/lib/python3.6/site-packages/ipykernel_launcher.py:9: RuntimeWarning: invalid value encountered in true_divide\n",
      "  if __name__ == '__main__':\n",
      " 12%|█▏        | 16/135 [29:04<3:19:57, 100.82s/it]"
     ]
    },
    {
     "name": "stdout",
     "output_type": "stream",
     "text": [
      "inp_12__out_12__loss_mae__bksize_25__bkact_relu__dir_uni 0\n",
      "/home/thanos/projects/ae_pred/analysis/../results/inp_12__out_12__loss_mae__bksize_25__bkact_relu__dir_uni__0/best_weights.h5\n"
     ]
    },
    {
     "name": "stderr",
     "output_type": "stream",
     "text": [
      "/home/thanos/.envs/fsu/lib/python3.6/site-packages/ipykernel_launcher.py:9: RuntimeWarning: invalid value encountered in true_divide\n",
      "  if __name__ == '__main__':\n"
     ]
    },
    {
     "name": "stdout",
     "output_type": "stream",
     "text": [
      "inp_12__out_12__loss_mae__bksize_25__bkact_relu__dir_uni 1\n",
      "/home/thanos/projects/ae_pred/analysis/../results/inp_12__out_12__loss_mae__bksize_25__bkact_relu__dir_uni__1/best_weights.h5\n"
     ]
    },
    {
     "name": "stderr",
     "output_type": "stream",
     "text": [
      "/home/thanos/.envs/fsu/lib/python3.6/site-packages/ipykernel_launcher.py:9: RuntimeWarning: invalid value encountered in true_divide\n",
      "  if __name__ == '__main__':\n"
     ]
    },
    {
     "name": "stdout",
     "output_type": "stream",
     "text": [
      "inp_12__out_12__loss_mae__bksize_25__bkact_relu__dir_uni 2\n",
      "/home/thanos/projects/ae_pred/analysis/../results/inp_12__out_12__loss_mae__bksize_25__bkact_relu__dir_uni__2/best_weights.h5\n"
     ]
    },
    {
     "name": "stderr",
     "output_type": "stream",
     "text": [
      "/home/thanos/.envs/fsu/lib/python3.6/site-packages/ipykernel_launcher.py:9: RuntimeWarning: invalid value encountered in true_divide\n",
      "  if __name__ == '__main__':\n"
     ]
    },
    {
     "name": "stdout",
     "output_type": "stream",
     "text": [
      "inp_12__out_12__loss_mae__bksize_25__bkact_relu__dir_uni 3\n",
      "/home/thanos/projects/ae_pred/analysis/../results/inp_12__out_12__loss_mae__bksize_25__bkact_relu__dir_uni__3/best_weights.h5\n"
     ]
    },
    {
     "name": "stderr",
     "output_type": "stream",
     "text": [
      "/home/thanos/.envs/fsu/lib/python3.6/site-packages/ipykernel_launcher.py:9: RuntimeWarning: invalid value encountered in true_divide\n",
      "  if __name__ == '__main__':\n"
     ]
    },
    {
     "name": "stdout",
     "output_type": "stream",
     "text": [
      "inp_12__out_12__loss_mae__bksize_25__bkact_relu__dir_uni 4\n",
      "/home/thanos/projects/ae_pred/analysis/../results/inp_12__out_12__loss_mae__bksize_25__bkact_relu__dir_uni__4/best_weights.h5\n"
     ]
    },
    {
     "name": "stderr",
     "output_type": "stream",
     "text": [
      "/home/thanos/.envs/fsu/lib/python3.6/site-packages/ipykernel_launcher.py:9: RuntimeWarning: invalid value encountered in true_divide\n",
      "  if __name__ == '__main__':\n"
     ]
    },
    {
     "name": "stdout",
     "output_type": "stream",
     "text": [
      "inp_12__out_12__loss_mae__bksize_25__bkact_relu__dir_uni 5\n",
      "/home/thanos/projects/ae_pred/analysis/../results/inp_12__out_12__loss_mae__bksize_25__bkact_relu__dir_uni__5/best_weights.h5\n"
     ]
    },
    {
     "name": "stderr",
     "output_type": "stream",
     "text": [
      "/home/thanos/.envs/fsu/lib/python3.6/site-packages/ipykernel_launcher.py:9: RuntimeWarning: invalid value encountered in true_divide\n",
      "  if __name__ == '__main__':\n"
     ]
    },
    {
     "name": "stdout",
     "output_type": "stream",
     "text": [
      "inp_12__out_12__loss_mae__bksize_25__bkact_relu__dir_uni 6\n",
      "/home/thanos/projects/ae_pred/analysis/../results/inp_12__out_12__loss_mae__bksize_25__bkact_relu__dir_uni__6/best_weights.h5\n"
     ]
    },
    {
     "name": "stderr",
     "output_type": "stream",
     "text": [
      "/home/thanos/.envs/fsu/lib/python3.6/site-packages/ipykernel_launcher.py:9: RuntimeWarning: invalid value encountered in true_divide\n",
      "  if __name__ == '__main__':\n"
     ]
    },
    {
     "name": "stdout",
     "output_type": "stream",
     "text": [
      "inp_12__out_12__loss_mae__bksize_25__bkact_relu__dir_uni 7\n",
      "/home/thanos/projects/ae_pred/analysis/../results/inp_12__out_12__loss_mae__bksize_25__bkact_relu__dir_uni__7/best_weights.h5\n"
     ]
    },
    {
     "name": "stderr",
     "output_type": "stream",
     "text": [
      "/home/thanos/.envs/fsu/lib/python3.6/site-packages/ipykernel_launcher.py:9: RuntimeWarning: invalid value encountered in true_divide\n",
      "  if __name__ == '__main__':\n"
     ]
    },
    {
     "name": "stdout",
     "output_type": "stream",
     "text": [
      "inp_12__out_12__loss_mae__bksize_25__bkact_relu__dir_uni 8\n",
      "/home/thanos/projects/ae_pred/analysis/../results/inp_12__out_12__loss_mae__bksize_25__bkact_relu__dir_uni__8/best_weights.h5\n"
     ]
    },
    {
     "name": "stderr",
     "output_type": "stream",
     "text": [
      "/home/thanos/.envs/fsu/lib/python3.6/site-packages/ipykernel_launcher.py:9: RuntimeWarning: invalid value encountered in true_divide\n",
      "  if __name__ == '__main__':\n"
     ]
    },
    {
     "name": "stdout",
     "output_type": "stream",
     "text": [
      "inp_12__out_12__loss_mae__bksize_25__bkact_relu__dir_uni 9\n",
      "/home/thanos/projects/ae_pred/analysis/../results/inp_12__out_12__loss_mae__bksize_25__bkact_relu__dir_uni__9/best_weights.h5\n"
     ]
    },
    {
     "name": "stderr",
     "output_type": "stream",
     "text": [
      "/home/thanos/.envs/fsu/lib/python3.6/site-packages/ipykernel_launcher.py:9: RuntimeWarning: invalid value encountered in true_divide\n",
      "  if __name__ == '__main__':\n",
      " 13%|█▎        | 17/135 [30:07<2:55:56, 89.46s/it] "
     ]
    },
    {
     "name": "stdout",
     "output_type": "stream",
     "text": [
      "inp_12__out_12__loss_mae__bksize_25__bkact_tanh__dir_bi 0\n",
      "/home/thanos/projects/ae_pred/analysis/../results/inp_12__out_12__loss_mae__bksize_25__bkact_tanh__dir_bi__0/best_weights.h5\n"
     ]
    },
    {
     "name": "stderr",
     "output_type": "stream",
     "text": [
      "/home/thanos/.envs/fsu/lib/python3.6/site-packages/ipykernel_launcher.py:9: RuntimeWarning: invalid value encountered in true_divide\n",
      "  if __name__ == '__main__':\n"
     ]
    },
    {
     "name": "stdout",
     "output_type": "stream",
     "text": [
      "inp_12__out_12__loss_mae__bksize_25__bkact_tanh__dir_bi 1\n",
      "/home/thanos/projects/ae_pred/analysis/../results/inp_12__out_12__loss_mae__bksize_25__bkact_tanh__dir_bi__1/best_weights.h5\n"
     ]
    },
    {
     "name": "stderr",
     "output_type": "stream",
     "text": [
      "/home/thanos/.envs/fsu/lib/python3.6/site-packages/ipykernel_launcher.py:9: RuntimeWarning: invalid value encountered in true_divide\n",
      "  if __name__ == '__main__':\n"
     ]
    },
    {
     "name": "stdout",
     "output_type": "stream",
     "text": [
      "inp_12__out_12__loss_mae__bksize_25__bkact_tanh__dir_bi 2\n",
      "/home/thanos/projects/ae_pred/analysis/../results/inp_12__out_12__loss_mae__bksize_25__bkact_tanh__dir_bi__2/best_weights.h5\n"
     ]
    },
    {
     "name": "stderr",
     "output_type": "stream",
     "text": [
      "/home/thanos/.envs/fsu/lib/python3.6/site-packages/ipykernel_launcher.py:9: RuntimeWarning: invalid value encountered in true_divide\n",
      "  if __name__ == '__main__':\n"
     ]
    },
    {
     "name": "stdout",
     "output_type": "stream",
     "text": [
      "inp_12__out_12__loss_mae__bksize_25__bkact_tanh__dir_bi 3\n",
      "/home/thanos/projects/ae_pred/analysis/../results/inp_12__out_12__loss_mae__bksize_25__bkact_tanh__dir_bi__3/best_weights.h5\n"
     ]
    },
    {
     "name": "stderr",
     "output_type": "stream",
     "text": [
      "/home/thanos/.envs/fsu/lib/python3.6/site-packages/ipykernel_launcher.py:9: RuntimeWarning: invalid value encountered in true_divide\n",
      "  if __name__ == '__main__':\n"
     ]
    },
    {
     "name": "stdout",
     "output_type": "stream",
     "text": [
      "inp_12__out_12__loss_mae__bksize_25__bkact_tanh__dir_bi 4\n",
      "/home/thanos/projects/ae_pred/analysis/../results/inp_12__out_12__loss_mae__bksize_25__bkact_tanh__dir_bi__4/best_weights.h5\n"
     ]
    },
    {
     "name": "stderr",
     "output_type": "stream",
     "text": [
      "/home/thanos/.envs/fsu/lib/python3.6/site-packages/ipykernel_launcher.py:9: RuntimeWarning: invalid value encountered in true_divide\n",
      "  if __name__ == '__main__':\n"
     ]
    },
    {
     "name": "stdout",
     "output_type": "stream",
     "text": [
      "inp_12__out_12__loss_mae__bksize_25__bkact_tanh__dir_bi 5\n",
      "/home/thanos/projects/ae_pred/analysis/../results/inp_12__out_12__loss_mae__bksize_25__bkact_tanh__dir_bi__5/best_weights.h5\n"
     ]
    },
    {
     "name": "stderr",
     "output_type": "stream",
     "text": [
      "/home/thanos/.envs/fsu/lib/python3.6/site-packages/ipykernel_launcher.py:9: RuntimeWarning: invalid value encountered in true_divide\n",
      "  if __name__ == '__main__':\n"
     ]
    },
    {
     "name": "stdout",
     "output_type": "stream",
     "text": [
      "inp_12__out_12__loss_mae__bksize_25__bkact_tanh__dir_bi 6\n",
      "/home/thanos/projects/ae_pred/analysis/../results/inp_12__out_12__loss_mae__bksize_25__bkact_tanh__dir_bi__6/best_weights.h5\n"
     ]
    },
    {
     "name": "stderr",
     "output_type": "stream",
     "text": [
      "/home/thanos/.envs/fsu/lib/python3.6/site-packages/ipykernel_launcher.py:9: RuntimeWarning: invalid value encountered in true_divide\n",
      "  if __name__ == '__main__':\n"
     ]
    },
    {
     "name": "stdout",
     "output_type": "stream",
     "text": [
      "inp_12__out_12__loss_mae__bksize_25__bkact_tanh__dir_bi 7\n",
      "/home/thanos/projects/ae_pred/analysis/../results/inp_12__out_12__loss_mae__bksize_25__bkact_tanh__dir_bi__7/best_weights.h5\n"
     ]
    },
    {
     "name": "stderr",
     "output_type": "stream",
     "text": [
      "/home/thanos/.envs/fsu/lib/python3.6/site-packages/ipykernel_launcher.py:9: RuntimeWarning: invalid value encountered in true_divide\n",
      "  if __name__ == '__main__':\n"
     ]
    },
    {
     "name": "stdout",
     "output_type": "stream",
     "text": [
      "inp_12__out_12__loss_mae__bksize_25__bkact_tanh__dir_bi 8\n",
      "/home/thanos/projects/ae_pred/analysis/../results/inp_12__out_12__loss_mae__bksize_25__bkact_tanh__dir_bi__8/best_weights.h5\n"
     ]
    },
    {
     "name": "stderr",
     "output_type": "stream",
     "text": [
      "/home/thanos/.envs/fsu/lib/python3.6/site-packages/ipykernel_launcher.py:9: RuntimeWarning: invalid value encountered in true_divide\n",
      "  if __name__ == '__main__':\n"
     ]
    },
    {
     "name": "stdout",
     "output_type": "stream",
     "text": [
      "inp_12__out_12__loss_mae__bksize_25__bkact_tanh__dir_bi 9\n",
      "/home/thanos/projects/ae_pred/analysis/../results/inp_12__out_12__loss_mae__bksize_25__bkact_tanh__dir_bi__9/best_weights.h5\n"
     ]
    },
    {
     "name": "stderr",
     "output_type": "stream",
     "text": [
      "/home/thanos/.envs/fsu/lib/python3.6/site-packages/ipykernel_launcher.py:9: RuntimeWarning: invalid value encountered in true_divide\n",
      "  if __name__ == '__main__':\n",
      " 13%|█▎        | 18/135 [32:14<3:16:31, 100.79s/it]"
     ]
    },
    {
     "name": "stdout",
     "output_type": "stream",
     "text": [
      "inp_12__out_12__loss_mae__bksize_100__bkact_leaky__dir_bi 0\n",
      "/home/thanos/projects/ae_pred/analysis/../results/inp_12__out_12__loss_mae__bksize_100__bkact_leaky__dir_bi__0/best_weights.h5\n"
     ]
    },
    {
     "name": "stderr",
     "output_type": "stream",
     "text": [
      "/home/thanos/.envs/fsu/lib/python3.6/site-packages/ipykernel_launcher.py:9: RuntimeWarning: invalid value encountered in true_divide\n",
      "  if __name__ == '__main__':\n"
     ]
    },
    {
     "name": "stdout",
     "output_type": "stream",
     "text": [
      "inp_12__out_12__loss_mae__bksize_100__bkact_leaky__dir_bi 1\n",
      "/home/thanos/projects/ae_pred/analysis/../results/inp_12__out_12__loss_mae__bksize_100__bkact_leaky__dir_bi__1/best_weights.h5\n"
     ]
    },
    {
     "name": "stderr",
     "output_type": "stream",
     "text": [
      "/home/thanos/.envs/fsu/lib/python3.6/site-packages/ipykernel_launcher.py:9: RuntimeWarning: invalid value encountered in true_divide\n",
      "  if __name__ == '__main__':\n"
     ]
    },
    {
     "name": "stdout",
     "output_type": "stream",
     "text": [
      "inp_12__out_12__loss_mae__bksize_100__bkact_leaky__dir_bi 2\n",
      "/home/thanos/projects/ae_pred/analysis/../results/inp_12__out_12__loss_mae__bksize_100__bkact_leaky__dir_bi__2/best_weights.h5\n"
     ]
    },
    {
     "name": "stderr",
     "output_type": "stream",
     "text": [
      "/home/thanos/.envs/fsu/lib/python3.6/site-packages/ipykernel_launcher.py:9: RuntimeWarning: invalid value encountered in true_divide\n",
      "  if __name__ == '__main__':\n"
     ]
    },
    {
     "name": "stdout",
     "output_type": "stream",
     "text": [
      "inp_12__out_12__loss_mae__bksize_100__bkact_leaky__dir_bi 3\n",
      "/home/thanos/projects/ae_pred/analysis/../results/inp_12__out_12__loss_mae__bksize_100__bkact_leaky__dir_bi__3/best_weights.h5\n"
     ]
    },
    {
     "name": "stderr",
     "output_type": "stream",
     "text": [
      "/home/thanos/.envs/fsu/lib/python3.6/site-packages/ipykernel_launcher.py:9: RuntimeWarning: invalid value encountered in true_divide\n",
      "  if __name__ == '__main__':\n"
     ]
    },
    {
     "name": "stdout",
     "output_type": "stream",
     "text": [
      "inp_12__out_12__loss_mae__bksize_100__bkact_leaky__dir_bi 4\n",
      "/home/thanos/projects/ae_pred/analysis/../results/inp_12__out_12__loss_mae__bksize_100__bkact_leaky__dir_bi__4/best_weights.h5\n"
     ]
    },
    {
     "name": "stderr",
     "output_type": "stream",
     "text": [
      "/home/thanos/.envs/fsu/lib/python3.6/site-packages/ipykernel_launcher.py:9: RuntimeWarning: invalid value encountered in true_divide\n",
      "  if __name__ == '__main__':\n"
     ]
    },
    {
     "name": "stdout",
     "output_type": "stream",
     "text": [
      "inp_12__out_12__loss_mae__bksize_100__bkact_leaky__dir_bi 5\n",
      "/home/thanos/projects/ae_pred/analysis/../results/inp_12__out_12__loss_mae__bksize_100__bkact_leaky__dir_bi__5/best_weights.h5\n"
     ]
    },
    {
     "name": "stderr",
     "output_type": "stream",
     "text": [
      "/home/thanos/.envs/fsu/lib/python3.6/site-packages/ipykernel_launcher.py:9: RuntimeWarning: invalid value encountered in true_divide\n",
      "  if __name__ == '__main__':\n"
     ]
    },
    {
     "name": "stdout",
     "output_type": "stream",
     "text": [
      "inp_12__out_12__loss_mae__bksize_100__bkact_leaky__dir_bi 6\n",
      "/home/thanos/projects/ae_pred/analysis/../results/inp_12__out_12__loss_mae__bksize_100__bkact_leaky__dir_bi__6/best_weights.h5\n"
     ]
    },
    {
     "name": "stderr",
     "output_type": "stream",
     "text": [
      "/home/thanos/.envs/fsu/lib/python3.6/site-packages/ipykernel_launcher.py:9: RuntimeWarning: invalid value encountered in true_divide\n",
      "  if __name__ == '__main__':\n"
     ]
    },
    {
     "name": "stdout",
     "output_type": "stream",
     "text": [
      "inp_12__out_12__loss_mae__bksize_100__bkact_leaky__dir_bi 7\n",
      "/home/thanos/projects/ae_pred/analysis/../results/inp_12__out_12__loss_mae__bksize_100__bkact_leaky__dir_bi__7/best_weights.h5\n"
     ]
    },
    {
     "name": "stderr",
     "output_type": "stream",
     "text": [
      "/home/thanos/.envs/fsu/lib/python3.6/site-packages/ipykernel_launcher.py:9: RuntimeWarning: invalid value encountered in true_divide\n",
      "  if __name__ == '__main__':\n"
     ]
    },
    {
     "name": "stdout",
     "output_type": "stream",
     "text": [
      "inp_12__out_12__loss_mae__bksize_100__bkact_leaky__dir_bi 8\n",
      "/home/thanos/projects/ae_pred/analysis/../results/inp_12__out_12__loss_mae__bksize_100__bkact_leaky__dir_bi__8/best_weights.h5\n"
     ]
    },
    {
     "name": "stderr",
     "output_type": "stream",
     "text": [
      "/home/thanos/.envs/fsu/lib/python3.6/site-packages/ipykernel_launcher.py:9: RuntimeWarning: invalid value encountered in true_divide\n",
      "  if __name__ == '__main__':\n"
     ]
    },
    {
     "name": "stdout",
     "output_type": "stream",
     "text": [
      "inp_12__out_12__loss_mae__bksize_100__bkact_leaky__dir_bi 9\n",
      "/home/thanos/projects/ae_pred/analysis/../results/inp_12__out_12__loss_mae__bksize_100__bkact_leaky__dir_bi__9/best_weights.h5\n"
     ]
    },
    {
     "name": "stderr",
     "output_type": "stream",
     "text": [
      "/home/thanos/.envs/fsu/lib/python3.6/site-packages/ipykernel_launcher.py:9: RuntimeWarning: invalid value encountered in true_divide\n",
      "  if __name__ == '__main__':\n",
      " 14%|█▍        | 19/135 [34:23<3:30:51, 109.07s/it]"
     ]
    },
    {
     "name": "stdout",
     "output_type": "stream",
     "text": [
      "inp_12__out_12__loss_mae__bksize_25__bkact_tanh__dir_bi 0\n",
      "/home/thanos/projects/ae_pred/analysis/../results/inp_12__out_12__loss_mae__bksize_25__bkact_tanh__dir_bi__0/best_weights.h5\n"
     ]
    },
    {
     "name": "stderr",
     "output_type": "stream",
     "text": [
      "/home/thanos/.envs/fsu/lib/python3.6/site-packages/ipykernel_launcher.py:9: RuntimeWarning: invalid value encountered in true_divide\n",
      "  if __name__ == '__main__':\n"
     ]
    },
    {
     "name": "stdout",
     "output_type": "stream",
     "text": [
      "inp_12__out_12__loss_mae__bksize_25__bkact_tanh__dir_bi 1\n",
      "/home/thanos/projects/ae_pred/analysis/../results/inp_12__out_12__loss_mae__bksize_25__bkact_tanh__dir_bi__1/best_weights.h5\n"
     ]
    },
    {
     "name": "stderr",
     "output_type": "stream",
     "text": [
      "/home/thanos/.envs/fsu/lib/python3.6/site-packages/ipykernel_launcher.py:9: RuntimeWarning: invalid value encountered in true_divide\n",
      "  if __name__ == '__main__':\n"
     ]
    },
    {
     "name": "stdout",
     "output_type": "stream",
     "text": [
      "inp_12__out_12__loss_mae__bksize_25__bkact_tanh__dir_bi 2\n",
      "/home/thanos/projects/ae_pred/analysis/../results/inp_12__out_12__loss_mae__bksize_25__bkact_tanh__dir_bi__2/best_weights.h5\n"
     ]
    },
    {
     "name": "stderr",
     "output_type": "stream",
     "text": [
      "/home/thanos/.envs/fsu/lib/python3.6/site-packages/ipykernel_launcher.py:9: RuntimeWarning: invalid value encountered in true_divide\n",
      "  if __name__ == '__main__':\n"
     ]
    },
    {
     "name": "stdout",
     "output_type": "stream",
     "text": [
      "inp_12__out_12__loss_mae__bksize_25__bkact_tanh__dir_bi 3\n",
      "/home/thanos/projects/ae_pred/analysis/../results/inp_12__out_12__loss_mae__bksize_25__bkact_tanh__dir_bi__3/best_weights.h5\n"
     ]
    },
    {
     "name": "stderr",
     "output_type": "stream",
     "text": [
      "/home/thanos/.envs/fsu/lib/python3.6/site-packages/ipykernel_launcher.py:9: RuntimeWarning: invalid value encountered in true_divide\n",
      "  if __name__ == '__main__':\n"
     ]
    },
    {
     "name": "stdout",
     "output_type": "stream",
     "text": [
      "inp_12__out_12__loss_mae__bksize_25__bkact_tanh__dir_bi 4\n",
      "/home/thanos/projects/ae_pred/analysis/../results/inp_12__out_12__loss_mae__bksize_25__bkact_tanh__dir_bi__4/best_weights.h5\n"
     ]
    },
    {
     "name": "stderr",
     "output_type": "stream",
     "text": [
      "/home/thanos/.envs/fsu/lib/python3.6/site-packages/ipykernel_launcher.py:9: RuntimeWarning: invalid value encountered in true_divide\n",
      "  if __name__ == '__main__':\n"
     ]
    },
    {
     "name": "stdout",
     "output_type": "stream",
     "text": [
      "inp_12__out_12__loss_mae__bksize_25__bkact_tanh__dir_bi 5\n",
      "/home/thanos/projects/ae_pred/analysis/../results/inp_12__out_12__loss_mae__bksize_25__bkact_tanh__dir_bi__5/best_weights.h5\n"
     ]
    },
    {
     "name": "stderr",
     "output_type": "stream",
     "text": [
      "/home/thanos/.envs/fsu/lib/python3.6/site-packages/ipykernel_launcher.py:9: RuntimeWarning: invalid value encountered in true_divide\n",
      "  if __name__ == '__main__':\n"
     ]
    },
    {
     "name": "stdout",
     "output_type": "stream",
     "text": [
      "inp_12__out_12__loss_mae__bksize_25__bkact_tanh__dir_bi 6\n",
      "/home/thanos/projects/ae_pred/analysis/../results/inp_12__out_12__loss_mae__bksize_25__bkact_tanh__dir_bi__6/best_weights.h5\n"
     ]
    },
    {
     "name": "stderr",
     "output_type": "stream",
     "text": [
      "/home/thanos/.envs/fsu/lib/python3.6/site-packages/ipykernel_launcher.py:9: RuntimeWarning: invalid value encountered in true_divide\n",
      "  if __name__ == '__main__':\n"
     ]
    },
    {
     "name": "stdout",
     "output_type": "stream",
     "text": [
      "inp_12__out_12__loss_mae__bksize_25__bkact_tanh__dir_bi 7\n",
      "/home/thanos/projects/ae_pred/analysis/../results/inp_12__out_12__loss_mae__bksize_25__bkact_tanh__dir_bi__7/best_weights.h5\n"
     ]
    },
    {
     "name": "stderr",
     "output_type": "stream",
     "text": [
      "/home/thanos/.envs/fsu/lib/python3.6/site-packages/ipykernel_launcher.py:9: RuntimeWarning: invalid value encountered in true_divide\n",
      "  if __name__ == '__main__':\n"
     ]
    },
    {
     "name": "stdout",
     "output_type": "stream",
     "text": [
      "inp_12__out_12__loss_mae__bksize_25__bkact_tanh__dir_bi 8\n",
      "/home/thanos/projects/ae_pred/analysis/../results/inp_12__out_12__loss_mae__bksize_25__bkact_tanh__dir_bi__8/best_weights.h5\n"
     ]
    },
    {
     "name": "stderr",
     "output_type": "stream",
     "text": [
      "/home/thanos/.envs/fsu/lib/python3.6/site-packages/ipykernel_launcher.py:9: RuntimeWarning: invalid value encountered in true_divide\n",
      "  if __name__ == '__main__':\n"
     ]
    },
    {
     "name": "stdout",
     "output_type": "stream",
     "text": [
      "inp_12__out_12__loss_mae__bksize_25__bkact_tanh__dir_bi 9\n",
      "/home/thanos/projects/ae_pred/analysis/../results/inp_12__out_12__loss_mae__bksize_25__bkact_tanh__dir_bi__9/best_weights.h5\n"
     ]
    },
    {
     "name": "stderr",
     "output_type": "stream",
     "text": [
      "/home/thanos/.envs/fsu/lib/python3.6/site-packages/ipykernel_launcher.py:9: RuntimeWarning: invalid value encountered in true_divide\n",
      "  if __name__ == '__main__':\n",
      " 15%|█▍        | 20/135 [36:30<3:39:47, 114.67s/it]"
     ]
    },
    {
     "name": "stdout",
     "output_type": "stream",
     "text": [
      "inp_12__out_12__loss_mae__bksize_25__bkact_tanh__dir_uni 0\n",
      "/home/thanos/projects/ae_pred/analysis/../results/inp_12__out_12__loss_mae__bksize_25__bkact_tanh__dir_uni__0/best_weights.h5\n"
     ]
    },
    {
     "name": "stderr",
     "output_type": "stream",
     "text": [
      "/home/thanos/.envs/fsu/lib/python3.6/site-packages/ipykernel_launcher.py:9: RuntimeWarning: invalid value encountered in true_divide\n",
      "  if __name__ == '__main__':\n"
     ]
    },
    {
     "name": "stdout",
     "output_type": "stream",
     "text": [
      "inp_12__out_12__loss_mae__bksize_25__bkact_tanh__dir_uni 1\n",
      "/home/thanos/projects/ae_pred/analysis/../results/inp_12__out_12__loss_mae__bksize_25__bkact_tanh__dir_uni__1/best_weights.h5\n"
     ]
    },
    {
     "name": "stderr",
     "output_type": "stream",
     "text": [
      "/home/thanos/.envs/fsu/lib/python3.6/site-packages/ipykernel_launcher.py:9: RuntimeWarning: invalid value encountered in true_divide\n",
      "  if __name__ == '__main__':\n"
     ]
    },
    {
     "name": "stdout",
     "output_type": "stream",
     "text": [
      "inp_12__out_12__loss_mae__bksize_25__bkact_tanh__dir_uni 2\n",
      "/home/thanos/projects/ae_pred/analysis/../results/inp_12__out_12__loss_mae__bksize_25__bkact_tanh__dir_uni__2/best_weights.h5\n"
     ]
    },
    {
     "name": "stderr",
     "output_type": "stream",
     "text": [
      "/home/thanos/.envs/fsu/lib/python3.6/site-packages/ipykernel_launcher.py:9: RuntimeWarning: invalid value encountered in true_divide\n",
      "  if __name__ == '__main__':\n"
     ]
    },
    {
     "name": "stdout",
     "output_type": "stream",
     "text": [
      "inp_12__out_12__loss_mae__bksize_25__bkact_tanh__dir_uni 3\n",
      "/home/thanos/projects/ae_pred/analysis/../results/inp_12__out_12__loss_mae__bksize_25__bkact_tanh__dir_uni__3/best_weights.h5\n"
     ]
    },
    {
     "name": "stderr",
     "output_type": "stream",
     "text": [
      "/home/thanos/.envs/fsu/lib/python3.6/site-packages/ipykernel_launcher.py:9: RuntimeWarning: invalid value encountered in true_divide\n",
      "  if __name__ == '__main__':\n"
     ]
    },
    {
     "name": "stdout",
     "output_type": "stream",
     "text": [
      "inp_12__out_12__loss_mae__bksize_25__bkact_tanh__dir_uni 4\n",
      "/home/thanos/projects/ae_pred/analysis/../results/inp_12__out_12__loss_mae__bksize_25__bkact_tanh__dir_uni__4/best_weights.h5\n"
     ]
    },
    {
     "name": "stderr",
     "output_type": "stream",
     "text": [
      "/home/thanos/.envs/fsu/lib/python3.6/site-packages/ipykernel_launcher.py:9: RuntimeWarning: invalid value encountered in true_divide\n",
      "  if __name__ == '__main__':\n"
     ]
    },
    {
     "name": "stdout",
     "output_type": "stream",
     "text": [
      "inp_12__out_12__loss_mae__bksize_25__bkact_tanh__dir_uni 5\n",
      "/home/thanos/projects/ae_pred/analysis/../results/inp_12__out_12__loss_mae__bksize_25__bkact_tanh__dir_uni__5/best_weights.h5\n"
     ]
    },
    {
     "name": "stderr",
     "output_type": "stream",
     "text": [
      "/home/thanos/.envs/fsu/lib/python3.6/site-packages/ipykernel_launcher.py:9: RuntimeWarning: invalid value encountered in true_divide\n",
      "  if __name__ == '__main__':\n"
     ]
    },
    {
     "name": "stdout",
     "output_type": "stream",
     "text": [
      "inp_12__out_12__loss_mae__bksize_25__bkact_tanh__dir_uni 6\n",
      "/home/thanos/projects/ae_pred/analysis/../results/inp_12__out_12__loss_mae__bksize_25__bkact_tanh__dir_uni__6/best_weights.h5\n"
     ]
    },
    {
     "name": "stderr",
     "output_type": "stream",
     "text": [
      "/home/thanos/.envs/fsu/lib/python3.6/site-packages/ipykernel_launcher.py:9: RuntimeWarning: invalid value encountered in true_divide\n",
      "  if __name__ == '__main__':\n"
     ]
    },
    {
     "name": "stdout",
     "output_type": "stream",
     "text": [
      "inp_12__out_12__loss_mae__bksize_25__bkact_tanh__dir_uni 7\n",
      "/home/thanos/projects/ae_pred/analysis/../results/inp_12__out_12__loss_mae__bksize_25__bkact_tanh__dir_uni__7/best_weights.h5\n"
     ]
    },
    {
     "name": "stderr",
     "output_type": "stream",
     "text": [
      "/home/thanos/.envs/fsu/lib/python3.6/site-packages/ipykernel_launcher.py:9: RuntimeWarning: invalid value encountered in true_divide\n",
      "  if __name__ == '__main__':\n"
     ]
    },
    {
     "name": "stdout",
     "output_type": "stream",
     "text": [
      "inp_12__out_12__loss_mae__bksize_25__bkact_tanh__dir_uni 8\n",
      "/home/thanos/projects/ae_pred/analysis/../results/inp_12__out_12__loss_mae__bksize_25__bkact_tanh__dir_uni__8/best_weights.h5\n"
     ]
    },
    {
     "name": "stderr",
     "output_type": "stream",
     "text": [
      "/home/thanos/.envs/fsu/lib/python3.6/site-packages/ipykernel_launcher.py:9: RuntimeWarning: invalid value encountered in true_divide\n",
      "  if __name__ == '__main__':\n"
     ]
    },
    {
     "name": "stdout",
     "output_type": "stream",
     "text": [
      "inp_12__out_12__loss_mae__bksize_25__bkact_tanh__dir_uni 9\n",
      "/home/thanos/projects/ae_pred/analysis/../results/inp_12__out_12__loss_mae__bksize_25__bkact_tanh__dir_uni__9/best_weights.h5\n"
     ]
    },
    {
     "name": "stderr",
     "output_type": "stream",
     "text": [
      "/home/thanos/.envs/fsu/lib/python3.6/site-packages/ipykernel_launcher.py:9: RuntimeWarning: invalid value encountered in true_divide\n",
      "  if __name__ == '__main__':\n",
      " 16%|█▌        | 21/135 [37:33<3:08:24, 99.16s/it] "
     ]
    },
    {
     "name": "stdout",
     "output_type": "stream",
     "text": [
      "inp_12__out_12__loss_mae__bksize_50__bkact_relu__dir_bi 0\n",
      "/home/thanos/projects/ae_pred/analysis/../results/inp_12__out_12__loss_mae__bksize_50__bkact_relu__dir_bi__0/best_weights.h5\n"
     ]
    },
    {
     "name": "stderr",
     "output_type": "stream",
     "text": [
      "/home/thanos/.envs/fsu/lib/python3.6/site-packages/ipykernel_launcher.py:9: RuntimeWarning: invalid value encountered in true_divide\n",
      "  if __name__ == '__main__':\n"
     ]
    },
    {
     "name": "stdout",
     "output_type": "stream",
     "text": [
      "inp_12__out_12__loss_mae__bksize_50__bkact_relu__dir_bi 1\n",
      "/home/thanos/projects/ae_pred/analysis/../results/inp_12__out_12__loss_mae__bksize_50__bkact_relu__dir_bi__1/best_weights.h5\n"
     ]
    },
    {
     "name": "stderr",
     "output_type": "stream",
     "text": [
      "/home/thanos/.envs/fsu/lib/python3.6/site-packages/ipykernel_launcher.py:9: RuntimeWarning: invalid value encountered in true_divide\n",
      "  if __name__ == '__main__':\n"
     ]
    },
    {
     "name": "stdout",
     "output_type": "stream",
     "text": [
      "inp_12__out_12__loss_mae__bksize_50__bkact_relu__dir_bi 2\n",
      "/home/thanos/projects/ae_pred/analysis/../results/inp_12__out_12__loss_mae__bksize_50__bkact_relu__dir_bi__2/best_weights.h5\n"
     ]
    },
    {
     "name": "stderr",
     "output_type": "stream",
     "text": [
      "/home/thanos/.envs/fsu/lib/python3.6/site-packages/ipykernel_launcher.py:9: RuntimeWarning: invalid value encountered in true_divide\n",
      "  if __name__ == '__main__':\n"
     ]
    },
    {
     "name": "stdout",
     "output_type": "stream",
     "text": [
      "inp_12__out_12__loss_mae__bksize_50__bkact_relu__dir_bi 3\n",
      "/home/thanos/projects/ae_pred/analysis/../results/inp_12__out_12__loss_mae__bksize_50__bkact_relu__dir_bi__3/best_weights.h5\n"
     ]
    },
    {
     "name": "stderr",
     "output_type": "stream",
     "text": [
      "/home/thanos/.envs/fsu/lib/python3.6/site-packages/ipykernel_launcher.py:9: RuntimeWarning: invalid value encountered in true_divide\n",
      "  if __name__ == '__main__':\n"
     ]
    },
    {
     "name": "stdout",
     "output_type": "stream",
     "text": [
      "inp_12__out_12__loss_mae__bksize_50__bkact_relu__dir_bi 4\n",
      "/home/thanos/projects/ae_pred/analysis/../results/inp_12__out_12__loss_mae__bksize_50__bkact_relu__dir_bi__4/best_weights.h5\n"
     ]
    },
    {
     "name": "stderr",
     "output_type": "stream",
     "text": [
      "/home/thanos/.envs/fsu/lib/python3.6/site-packages/ipykernel_launcher.py:9: RuntimeWarning: invalid value encountered in true_divide\n",
      "  if __name__ == '__main__':\n"
     ]
    },
    {
     "name": "stdout",
     "output_type": "stream",
     "text": [
      "inp_12__out_12__loss_mae__bksize_50__bkact_relu__dir_bi 5\n",
      "/home/thanos/projects/ae_pred/analysis/../results/inp_12__out_12__loss_mae__bksize_50__bkact_relu__dir_bi__5/best_weights.h5\n"
     ]
    },
    {
     "name": "stderr",
     "output_type": "stream",
     "text": [
      "/home/thanos/.envs/fsu/lib/python3.6/site-packages/ipykernel_launcher.py:9: RuntimeWarning: invalid value encountered in true_divide\n",
      "  if __name__ == '__main__':\n"
     ]
    },
    {
     "name": "stdout",
     "output_type": "stream",
     "text": [
      "inp_12__out_12__loss_mae__bksize_50__bkact_relu__dir_bi 6\n",
      "/home/thanos/projects/ae_pred/analysis/../results/inp_12__out_12__loss_mae__bksize_50__bkact_relu__dir_bi__6/best_weights.h5\n"
     ]
    },
    {
     "name": "stderr",
     "output_type": "stream",
     "text": [
      "/home/thanos/.envs/fsu/lib/python3.6/site-packages/ipykernel_launcher.py:9: RuntimeWarning: invalid value encountered in true_divide\n",
      "  if __name__ == '__main__':\n"
     ]
    },
    {
     "name": "stdout",
     "output_type": "stream",
     "text": [
      "inp_12__out_12__loss_mae__bksize_50__bkact_relu__dir_bi 7\n",
      "/home/thanos/projects/ae_pred/analysis/../results/inp_12__out_12__loss_mae__bksize_50__bkact_relu__dir_bi__7/best_weights.h5\n"
     ]
    },
    {
     "name": "stderr",
     "output_type": "stream",
     "text": [
      "/home/thanos/.envs/fsu/lib/python3.6/site-packages/ipykernel_launcher.py:9: RuntimeWarning: invalid value encountered in true_divide\n",
      "  if __name__ == '__main__':\n"
     ]
    },
    {
     "name": "stdout",
     "output_type": "stream",
     "text": [
      "inp_12__out_12__loss_mae__bksize_50__bkact_relu__dir_bi 8\n",
      "/home/thanos/projects/ae_pred/analysis/../results/inp_12__out_12__loss_mae__bksize_50__bkact_relu__dir_bi__8/best_weights.h5\n"
     ]
    },
    {
     "name": "stderr",
     "output_type": "stream",
     "text": [
      "/home/thanos/.envs/fsu/lib/python3.6/site-packages/ipykernel_launcher.py:9: RuntimeWarning: invalid value encountered in true_divide\n",
      "  if __name__ == '__main__':\n"
     ]
    },
    {
     "name": "stdout",
     "output_type": "stream",
     "text": [
      "inp_12__out_12__loss_mae__bksize_50__bkact_relu__dir_bi 9\n",
      "/home/thanos/projects/ae_pred/analysis/../results/inp_12__out_12__loss_mae__bksize_50__bkact_relu__dir_bi__9/best_weights.h5\n"
     ]
    },
    {
     "name": "stderr",
     "output_type": "stream",
     "text": [
      "/home/thanos/.envs/fsu/lib/python3.6/site-packages/ipykernel_launcher.py:9: RuntimeWarning: invalid value encountered in true_divide\n",
      "  if __name__ == '__main__':\n",
      " 16%|█▋        | 22/135 [39:41<3:23:02, 107.81s/it]"
     ]
    },
    {
     "name": "stdout",
     "output_type": "stream",
     "text": [
      "inp_12__out_12__loss_mae__bksize_50__bkact_leaky__dir_uni 0\n",
      "/home/thanos/projects/ae_pred/analysis/../results/inp_12__out_12__loss_mae__bksize_50__bkact_leaky__dir_uni__0/best_weights.h5\n"
     ]
    },
    {
     "name": "stderr",
     "output_type": "stream",
     "text": [
      "/home/thanos/.envs/fsu/lib/python3.6/site-packages/ipykernel_launcher.py:9: RuntimeWarning: invalid value encountered in true_divide\n",
      "  if __name__ == '__main__':\n"
     ]
    },
    {
     "name": "stdout",
     "output_type": "stream",
     "text": [
      "inp_12__out_12__loss_mae__bksize_50__bkact_leaky__dir_uni 1\n",
      "/home/thanos/projects/ae_pred/analysis/../results/inp_12__out_12__loss_mae__bksize_50__bkact_leaky__dir_uni__1/best_weights.h5\n"
     ]
    },
    {
     "name": "stderr",
     "output_type": "stream",
     "text": [
      "/home/thanos/.envs/fsu/lib/python3.6/site-packages/ipykernel_launcher.py:9: RuntimeWarning: invalid value encountered in true_divide\n",
      "  if __name__ == '__main__':\n"
     ]
    },
    {
     "name": "stdout",
     "output_type": "stream",
     "text": [
      "inp_12__out_12__loss_mae__bksize_50__bkact_leaky__dir_uni 2\n",
      "/home/thanos/projects/ae_pred/analysis/../results/inp_12__out_12__loss_mae__bksize_50__bkact_leaky__dir_uni__2/best_weights.h5\n"
     ]
    },
    {
     "name": "stderr",
     "output_type": "stream",
     "text": [
      "/home/thanos/.envs/fsu/lib/python3.6/site-packages/ipykernel_launcher.py:9: RuntimeWarning: invalid value encountered in true_divide\n",
      "  if __name__ == '__main__':\n"
     ]
    },
    {
     "name": "stdout",
     "output_type": "stream",
     "text": [
      "inp_12__out_12__loss_mae__bksize_50__bkact_leaky__dir_uni 3\n",
      "/home/thanos/projects/ae_pred/analysis/../results/inp_12__out_12__loss_mae__bksize_50__bkact_leaky__dir_uni__3/best_weights.h5\n"
     ]
    },
    {
     "name": "stderr",
     "output_type": "stream",
     "text": [
      "/home/thanos/.envs/fsu/lib/python3.6/site-packages/ipykernel_launcher.py:9: RuntimeWarning: invalid value encountered in true_divide\n",
      "  if __name__ == '__main__':\n"
     ]
    },
    {
     "name": "stdout",
     "output_type": "stream",
     "text": [
      "inp_12__out_12__loss_mae__bksize_50__bkact_leaky__dir_uni 4\n",
      "/home/thanos/projects/ae_pred/analysis/../results/inp_12__out_12__loss_mae__bksize_50__bkact_leaky__dir_uni__4/best_weights.h5\n"
     ]
    },
    {
     "name": "stderr",
     "output_type": "stream",
     "text": [
      "/home/thanos/.envs/fsu/lib/python3.6/site-packages/ipykernel_launcher.py:9: RuntimeWarning: invalid value encountered in true_divide\n",
      "  if __name__ == '__main__':\n"
     ]
    },
    {
     "name": "stdout",
     "output_type": "stream",
     "text": [
      "inp_12__out_12__loss_mae__bksize_50__bkact_leaky__dir_uni 5\n",
      "/home/thanos/projects/ae_pred/analysis/../results/inp_12__out_12__loss_mae__bksize_50__bkact_leaky__dir_uni__5/best_weights.h5\n"
     ]
    },
    {
     "name": "stderr",
     "output_type": "stream",
     "text": [
      "/home/thanos/.envs/fsu/lib/python3.6/site-packages/ipykernel_launcher.py:9: RuntimeWarning: invalid value encountered in true_divide\n",
      "  if __name__ == '__main__':\n"
     ]
    },
    {
     "name": "stdout",
     "output_type": "stream",
     "text": [
      "inp_12__out_12__loss_mae__bksize_50__bkact_leaky__dir_uni 6\n",
      "/home/thanos/projects/ae_pred/analysis/../results/inp_12__out_12__loss_mae__bksize_50__bkact_leaky__dir_uni__6/best_weights.h5\n"
     ]
    },
    {
     "name": "stderr",
     "output_type": "stream",
     "text": [
      "/home/thanos/.envs/fsu/lib/python3.6/site-packages/ipykernel_launcher.py:9: RuntimeWarning: invalid value encountered in true_divide\n",
      "  if __name__ == '__main__':\n"
     ]
    },
    {
     "name": "stdout",
     "output_type": "stream",
     "text": [
      "inp_12__out_12__loss_mae__bksize_50__bkact_leaky__dir_uni 7\n",
      "/home/thanos/projects/ae_pred/analysis/../results/inp_12__out_12__loss_mae__bksize_50__bkact_leaky__dir_uni__7/best_weights.h5\n"
     ]
    },
    {
     "name": "stderr",
     "output_type": "stream",
     "text": [
      "/home/thanos/.envs/fsu/lib/python3.6/site-packages/ipykernel_launcher.py:9: RuntimeWarning: invalid value encountered in true_divide\n",
      "  if __name__ == '__main__':\n"
     ]
    },
    {
     "name": "stdout",
     "output_type": "stream",
     "text": [
      "inp_12__out_12__loss_mae__bksize_50__bkact_leaky__dir_uni 8\n",
      "/home/thanos/projects/ae_pred/analysis/../results/inp_12__out_12__loss_mae__bksize_50__bkact_leaky__dir_uni__8/best_weights.h5\n"
     ]
    },
    {
     "name": "stderr",
     "output_type": "stream",
     "text": [
      "/home/thanos/.envs/fsu/lib/python3.6/site-packages/ipykernel_launcher.py:9: RuntimeWarning: invalid value encountered in true_divide\n",
      "  if __name__ == '__main__':\n"
     ]
    },
    {
     "name": "stdout",
     "output_type": "stream",
     "text": [
      "inp_12__out_12__loss_mae__bksize_50__bkact_leaky__dir_uni 9\n",
      "/home/thanos/projects/ae_pred/analysis/../results/inp_12__out_12__loss_mae__bksize_50__bkact_leaky__dir_uni__9/best_weights.h5\n"
     ]
    },
    {
     "name": "stderr",
     "output_type": "stream",
     "text": [
      "/home/thanos/.envs/fsu/lib/python3.6/site-packages/ipykernel_launcher.py:9: RuntimeWarning: invalid value encountered in true_divide\n",
      "  if __name__ == '__main__':\n",
      " 17%|█▋        | 23/135 [40:45<2:56:19, 94.46s/it] "
     ]
    },
    {
     "name": "stdout",
     "output_type": "stream",
     "text": [
      "inp_12__out_12__loss_mae__bksize_100__bkact_leaky__dir_uni 0\n",
      "/home/thanos/projects/ae_pred/analysis/../results/inp_12__out_12__loss_mae__bksize_100__bkact_leaky__dir_uni__0/best_weights.h5\n"
     ]
    },
    {
     "name": "stderr",
     "output_type": "stream",
     "text": [
      "/home/thanos/.envs/fsu/lib/python3.6/site-packages/ipykernel_launcher.py:9: RuntimeWarning: invalid value encountered in true_divide\n",
      "  if __name__ == '__main__':\n"
     ]
    },
    {
     "name": "stdout",
     "output_type": "stream",
     "text": [
      "inp_12__out_12__loss_mae__bksize_100__bkact_leaky__dir_uni 1\n",
      "/home/thanos/projects/ae_pred/analysis/../results/inp_12__out_12__loss_mae__bksize_100__bkact_leaky__dir_uni__1/best_weights.h5\n"
     ]
    },
    {
     "name": "stderr",
     "output_type": "stream",
     "text": [
      "/home/thanos/.envs/fsu/lib/python3.6/site-packages/ipykernel_launcher.py:9: RuntimeWarning: invalid value encountered in true_divide\n",
      "  if __name__ == '__main__':\n"
     ]
    },
    {
     "name": "stdout",
     "output_type": "stream",
     "text": [
      "inp_12__out_12__loss_mae__bksize_100__bkact_leaky__dir_uni 2\n",
      "/home/thanos/projects/ae_pred/analysis/../results/inp_12__out_12__loss_mae__bksize_100__bkact_leaky__dir_uni__2/best_weights.h5\n"
     ]
    },
    {
     "name": "stderr",
     "output_type": "stream",
     "text": [
      "/home/thanos/.envs/fsu/lib/python3.6/site-packages/ipykernel_launcher.py:9: RuntimeWarning: invalid value encountered in true_divide\n",
      "  if __name__ == '__main__':\n"
     ]
    },
    {
     "name": "stdout",
     "output_type": "stream",
     "text": [
      "inp_12__out_12__loss_mae__bksize_100__bkact_leaky__dir_uni 3\n",
      "/home/thanos/projects/ae_pred/analysis/../results/inp_12__out_12__loss_mae__bksize_100__bkact_leaky__dir_uni__3/best_weights.h5\n"
     ]
    },
    {
     "name": "stderr",
     "output_type": "stream",
     "text": [
      "/home/thanos/.envs/fsu/lib/python3.6/site-packages/ipykernel_launcher.py:9: RuntimeWarning: invalid value encountered in true_divide\n",
      "  if __name__ == '__main__':\n"
     ]
    },
    {
     "name": "stdout",
     "output_type": "stream",
     "text": [
      "inp_12__out_12__loss_mae__bksize_100__bkact_leaky__dir_uni 4\n",
      "/home/thanos/projects/ae_pred/analysis/../results/inp_12__out_12__loss_mae__bksize_100__bkact_leaky__dir_uni__4/best_weights.h5\n"
     ]
    },
    {
     "name": "stderr",
     "output_type": "stream",
     "text": [
      "/home/thanos/.envs/fsu/lib/python3.6/site-packages/ipykernel_launcher.py:9: RuntimeWarning: invalid value encountered in true_divide\n",
      "  if __name__ == '__main__':\n"
     ]
    },
    {
     "name": "stdout",
     "output_type": "stream",
     "text": [
      "inp_12__out_12__loss_mae__bksize_100__bkact_leaky__dir_uni 5\n",
      "/home/thanos/projects/ae_pred/analysis/../results/inp_12__out_12__loss_mae__bksize_100__bkact_leaky__dir_uni__5/best_weights.h5\n"
     ]
    },
    {
     "ename": "OSError",
     "evalue": "SavedModel file does not exist at: /home/thanos/projects/ae_pred/analysis/../results/inp_12__out_12__loss_mae__bksize_100__bkact_leaky__dir_uni__5/best_weights.h5/{saved_model.pbtxt|saved_model.pb}",
     "output_type": "error",
     "traceback": [
      "\u001b[0;31m---------------------------------------------------------------------------\u001b[0m",
      "\u001b[0;31mOSError\u001b[0m                                   Traceback (most recent call last)",
      "\u001b[0;32m<ipython-input-15-14d64e0806a2>\u001b[0m in \u001b[0;36m<module>\u001b[0;34m\u001b[0m\n\u001b[1;32m     21\u001b[0m                                                                       \u001b[0;34m'MASE_estimate'\u001b[0m\u001b[0;34m:\u001b[0m \u001b[0mmase_estimate\u001b[0m\u001b[0;34m,\u001b[0m\u001b[0;34m\u001b[0m\u001b[0;34m\u001b[0m\u001b[0m\n\u001b[1;32m     22\u001b[0m                                                                       \u001b[0;34m'OWA_estimate'\u001b[0m\u001b[0;34m:\u001b[0m \u001b[0mowa_estimate\u001b[0m\u001b[0;34m,\u001b[0m\u001b[0;34m\u001b[0m\u001b[0;34m\u001b[0m\u001b[0m\n\u001b[0;32m---> 23\u001b[0;31m                                                                       'reconstruction_loss': reconstruction_loss})\n\u001b[0m\u001b[1;32m     24\u001b[0m \u001b[0;34m\u001b[0m\u001b[0m\n\u001b[1;32m     25\u001b[0m         \u001b[0mmodel_preds\u001b[0m \u001b[0;34m=\u001b[0m \u001b[0mget_predictions\u001b[0m\u001b[0;34m(\u001b[0m\u001b[0mmodel\u001b[0m\u001b[0;34m,\u001b[0m \u001b[0mX_test\u001b[0m\u001b[0;34m)\u001b[0m\u001b[0;34m\u001b[0m\u001b[0;34m\u001b[0m\u001b[0m\n",
      "\u001b[0;32m~/.envs/fsu/lib/python3.6/site-packages/tensorflow_core/python/keras/saving/save.py\u001b[0m in \u001b[0;36mload_model\u001b[0;34m(filepath, custom_objects, compile)\u001b[0m\n\u001b[1;32m    147\u001b[0m \u001b[0;34m\u001b[0m\u001b[0m\n\u001b[1;32m    148\u001b[0m   \u001b[0;32mif\u001b[0m \u001b[0misinstance\u001b[0m\u001b[0;34m(\u001b[0m\u001b[0mfilepath\u001b[0m\u001b[0;34m,\u001b[0m \u001b[0msix\u001b[0m\u001b[0;34m.\u001b[0m\u001b[0mstring_types\u001b[0m\u001b[0;34m)\u001b[0m\u001b[0;34m:\u001b[0m\u001b[0;34m\u001b[0m\u001b[0;34m\u001b[0m\u001b[0m\n\u001b[0;32m--> 149\u001b[0;31m     \u001b[0mloader_impl\u001b[0m\u001b[0;34m.\u001b[0m\u001b[0mparse_saved_model\u001b[0m\u001b[0;34m(\u001b[0m\u001b[0mfilepath\u001b[0m\u001b[0;34m)\u001b[0m\u001b[0;34m\u001b[0m\u001b[0;34m\u001b[0m\u001b[0m\n\u001b[0m\u001b[1;32m    150\u001b[0m     \u001b[0;32mreturn\u001b[0m \u001b[0msaved_model_load\u001b[0m\u001b[0;34m.\u001b[0m\u001b[0mload\u001b[0m\u001b[0;34m(\u001b[0m\u001b[0mfilepath\u001b[0m\u001b[0;34m,\u001b[0m \u001b[0mcompile\u001b[0m\u001b[0;34m)\u001b[0m\u001b[0;34m\u001b[0m\u001b[0;34m\u001b[0m\u001b[0m\n\u001b[1;32m    151\u001b[0m \u001b[0;34m\u001b[0m\u001b[0m\n",
      "\u001b[0;32m~/.envs/fsu/lib/python3.6/site-packages/tensorflow_core/python/saved_model/loader_impl.py\u001b[0m in \u001b[0;36mparse_saved_model\u001b[0;34m(export_dir)\u001b[0m\n\u001b[1;32m     81\u001b[0m                   (export_dir,\n\u001b[1;32m     82\u001b[0m                    \u001b[0mconstants\u001b[0m\u001b[0;34m.\u001b[0m\u001b[0mSAVED_MODEL_FILENAME_PBTXT\u001b[0m\u001b[0;34m,\u001b[0m\u001b[0;34m\u001b[0m\u001b[0;34m\u001b[0m\u001b[0m\n\u001b[0;32m---> 83\u001b[0;31m                    constants.SAVED_MODEL_FILENAME_PB))\n\u001b[0m\u001b[1;32m     84\u001b[0m \u001b[0;34m\u001b[0m\u001b[0m\n\u001b[1;32m     85\u001b[0m \u001b[0;34m\u001b[0m\u001b[0m\n",
      "\u001b[0;31mOSError\u001b[0m: SavedModel file does not exist at: /home/thanos/projects/ae_pred/analysis/../results/inp_12__out_12__loss_mae__bksize_100__bkact_leaky__dir_uni__5/best_weights.h5/{saved_model.pbtxt|saved_model.pb}"
     ]
    }
   ],
   "source": [
    "trial_families = [t.name[:-3] for t in trials if t.name[0] == 'i']\n",
    "\n",
    "results_median = {'smape': {k: [] for k in trial_families},\n",
    "                  'mase': {k: [] for k in trial_families},\n",
    "                  'owa': {k: [] for k in trial_families}}\n",
    "\n",
    "for family in tqdm(trial_families):\n",
    "    \n",
    "    family_preds = []\n",
    "    for num in range(10):\n",
    "        print(family, num)\n",
    "        model_dir = str(trials[0].parent / '__'.join([family, str(num)]) / 'best_weights.h5')\n",
    "        print(model_dir)\n",
    "        mape = metrics.build_mape(overlap=6)\n",
    "        smape = metrics.build_smape(overlap=6)\n",
    "        mase_estimate = metrics.build_mase(overlap=6)\n",
    "        owa_estimate = metrics.build_owa(overlap=6)\n",
    "        reconstruction_loss = metrics.build_reconstruction_loss(overlap=6)\n",
    "\n",
    "        model = tf.keras.models.load_model(model_dir, custom_objects={'SMAPE': smape,\n",
    "                                                                      'MASE_estimate': mase_estimate,\n",
    "                                                                      'OWA_estimate': owa_estimate,\n",
    "                                                                      'reconstruction_loss': reconstruction_loss})\n",
    "\n",
    "        model_preds = get_predictions(model, X_test)\n",
    "\n",
    "        family_preds.append(model_preds)\n",
    "        tf.keras.backend.clear_session()\n",
    "    \n",
    "    preds = np.median(np.array(family_preds), axis=0)\n",
    "    \n",
    "    results_median['smape'][family].append(np.nanmean(SMAPE(y_test, preds[:, 6:])))\n",
    "    results_median['mase'][family].append(np.nanmean(MASE(X_test, y_test, preds[:, 6:])))\n",
    "    results_median['owa'][family].append(np.nanmean(OWA(X_test, y_test, preds[:, 6:])))"
   ]
  },
  {
   "cell_type": "code",
   "execution_count": 57,
   "metadata": {},
   "outputs": [],
   "source": [
    "med = create_results_df(results_median, ensemble=True)"
   ]
  },
  {
   "cell_type": "code",
   "execution_count": 59,
   "metadata": {},
   "outputs": [],
   "source": [
    "med.to_csv('../results/median_result_df.csv')"
   ]
  },
  {
   "cell_type": "code",
   "execution_count": 11,
   "metadata": {},
   "outputs": [],
   "source": [
    "def m4_smape(a, b):\n",
    "    \"\"\"\n",
    "    Calculates sMAPE\n",
    "    :param a: actual values\n",
    "    :param b: predicted values\n",
    "    :return: sMAPE\n",
    "    \"\"\"\n",
    "    a = np.reshape(a, (-1,))\n",
    "    b = np.reshape(b, (-1,))\n",
    "    return np.nanmean(2.0 * np.abs(a - b) / (np.abs(a) + np.abs(b))).item()\n",
    "\n",
    "\n",
    "def m4_mase(insample, y_test, y_hat_test, freq):\n",
    "    \"\"\"\n",
    "    Calculates MAsE\n",
    "    :param insample: insample data\n",
    "    :param y_test: out of sample target values\n",
    "    :param y_hat_test: predicted values\n",
    "    :param freq: data frequency\n",
    "    :return:\n",
    "    \"\"\"\n",
    "    y_hat_naive = []\n",
    "    for i in range(freq, len(insample)):\n",
    "        y_hat_naive.append(insample[(i - freq)])\n",
    "\n",
    "    masep = np.mean(abs(insample[freq:] - y_hat_naive))\n",
    "\n",
    "    return np.nanmean(abs(y_test - y_hat_test)) / masep"
   ]
  },
  {
   "cell_type": "code",
   "execution_count": 12,
   "metadata": {},
   "outputs": [
    {
     "data": {
      "text/plain": [
       "0.1353691322553586"
      ]
     },
     "execution_count": 12,
     "metadata": {},
     "output_type": "execute_result"
    }
   ],
   "source": [
    "m4_smape(y_test, preds[:, 6:])"
   ]
  },
  {
   "cell_type": "code",
   "execution_count": 13,
   "metadata": {},
   "outputs": [
    {
     "data": {
      "text/plain": [
       "0.25680578088560957"
      ]
     },
     "execution_count": 13,
     "metadata": {},
     "output_type": "execute_result"
    }
   ],
   "source": [
    "m4_mase(X_test, y_test, preds[:, 6:], 6)"
   ]
  },
  {
   "cell_type": "markdown",
   "metadata": {},
   "source": [
    "### fix nan"
   ]
  },
  {
   "cell_type": "code",
   "execution_count": 14,
   "metadata": {},
   "outputs": [
    {
     "data": {
      "text/plain": [
       "(array([15087, 15087, 15087, 15087, 15087, 15087, 15087, 15087, 15087,\n",
       "        15087, 15087, 15087]),\n",
       " array([ 0,  1,  2,  3,  4,  5,  6,  7,  8,  9, 10, 11]))"
      ]
     },
     "execution_count": 14,
     "metadata": {},
     "output_type": "execute_result"
    }
   ],
   "source": [
    "np.where(np.isnan(preds))"
   ]
  },
  {
   "cell_type": "code",
   "execution_count": 15,
   "metadata": {},
   "outputs": [
    {
     "data": {
      "text/plain": [
       "[<matplotlib.lines.Line2D at 0x7fe7571645c0>]"
      ]
     },
     "execution_count": 15,
     "metadata": {},
     "output_type": "execute_result"
    },
    {
     "data": {
      "image/png": "[encoded data removed]",
      "text/plain": [
       "<Figure size 432x288 with 1 Axes>"
      ]
     },
     "metadata": {
      "needs_background": "light"
     },
     "output_type": "display_data"
    }
   ],
   "source": [
    "plt.plot(range(12), X_test[15087])\n",
    "plt.plot(range(12, 18), y_test[15087])"
   ]
  },
  {
   "cell_type": "code",
   "execution_count": 16,
   "metadata": {},
   "outputs": [],
   "source": [
    "preds_fixed = preds.copy()"
   ]
  },
  {
   "cell_type": "code",
   "execution_count": 17,
   "metadata": {},
   "outputs": [],
   "source": [
    "preds_fixed[15087] = X_test[15087, -1]"
   ]
  },
  {
   "cell_type": "code",
   "execution_count": 18,
   "metadata": {},
   "outputs": [
    {
     "data": {
      "text/plain": [
       "False"
      ]
     },
     "execution_count": 18,
     "metadata": {},
     "output_type": "execute_result"
    }
   ],
   "source": [
    "np.any(np.isnan(preds_fixed))"
   ]
  },
  {
   "cell_type": "code",
   "execution_count": 19,
   "metadata": {},
   "outputs": [
    {
     "data": {
      "text/plain": [
       "[<matplotlib.lines.Line2D at 0x7fe6769039e8>]"
      ]
     },
     "execution_count": 19,
     "metadata": {},
     "output_type": "execute_result"
    },
    {
     "data": {
      "image/png": "[encoded data removed]",
      "text/plain": [
       "<Figure size 432x288 with 1 Axes>"
      ]
     },
     "metadata": {
      "needs_background": "light"
     },
     "output_type": "display_data"
    }
   ],
   "source": [
    "plt.plot(range(12), X_test[15087])\n",
    "plt.plot(range(12, 18), y_test[15087])\n",
    "plt.plot(range(6, 18), preds_fixed[15087])"
   ]
  },
  {
   "cell_type": "code",
   "execution_count": 20,
   "metadata": {},
   "outputs": [],
   "source": [
    "def m4_smape(a, b):\n",
    "    \"\"\"\n",
    "    Calculates sMAPE\n",
    "    :param a: actual values\n",
    "    :param b: predicted values\n",
    "    :return: sMAPE\n",
    "    \"\"\"\n",
    "    a = np.reshape(a, (-1,))\n",
    "    b = np.reshape(b, (-1,))\n",
    "    return np.mean(2.0 * np.abs(a - b) / (np.abs(a) + np.abs(b))).item()\n",
    "\n",
    "\n",
    "def m4_mase(insample, y_test, y_hat_test, freq):\n",
    "    \"\"\"\n",
    "    Calculates MAsE\n",
    "    :param insample: insample data\n",
    "    :param y_test: out of sample target values\n",
    "    :param y_hat_test: predicted values\n",
    "    :param freq: data frequency\n",
    "    :return:\n",
    "    \"\"\"\n",
    "    y_hat_naive = []\n",
    "    for i in range(freq, len(insample)):\n",
    "        y_hat_naive.append(insample[(i - freq)])\n",
    "\n",
    "    masep = np.mean(abs(insample[freq:] - y_hat_naive))\n",
    "\n",
    "    return np.mean(abs(y_test - y_hat_test)) / masep"
   ]
  },
  {
   "cell_type": "code",
   "execution_count": 22,
   "metadata": {},
   "outputs": [
    {
     "data": {
      "text/plain": [
       "0.2568097820044437"
      ]
     },
     "execution_count": 22,
     "metadata": {},
     "output_type": "execute_result"
    }
   ],
   "source": [
    "m4_mase(X_test, y_test, preds_fixed[:, 6:], 6)"
   ]
  },
  {
   "cell_type": "markdown",
   "metadata": {},
   "source": [
    "### find best"
   ]
  },
  {
   "cell_type": "code",
   "execution_count": 26,
   "metadata": {},
   "outputs": [],
   "source": [
    "smapes = [s[0] for s in results['smape'].values() if s]\n",
    "mases = [s[0] for s in results['mase'].values() if s]"
   ]
  },
  {
   "cell_type": "code",
   "execution_count": 27,
   "metadata": {},
   "outputs": [
    {
     "data": {
      "text/plain": [
       "37"
      ]
     },
     "execution_count": 27,
     "metadata": {},
     "output_type": "execute_result"
    }
   ],
   "source": [
    "np.argmin(smapes)"
   ]
  },
  {
   "cell_type": "code",
   "execution_count": 28,
   "metadata": {},
   "outputs": [
    {
     "data": {
      "text/plain": [
       "9"
      ]
     },
     "execution_count": 28,
     "metadata": {},
     "output_type": "execute_result"
    }
   ],
   "source": [
    "np.argmin(mases)"
   ]
  },
  {
   "cell_type": "code",
   "execution_count": 31,
   "metadata": {},
   "outputs": [
    {
     "data": {
      "text/plain": [
       "(13.175348506531154, 2.473241526273387)"
      ]
     },
     "execution_count": 31,
     "metadata": {},
     "output_type": "execute_result"
    }
   ],
   "source": [
    "smapes[37], mases[37]"
   ]
  },
  {
   "cell_type": "code",
   "execution_count": 32,
   "metadata": {},
   "outputs": [
    {
     "data": {
      "text/plain": [
       "(13.211644733815417, 2.470802343828664)"
      ]
     },
     "execution_count": 32,
     "metadata": {},
     "output_type": "execute_result"
    }
   ],
   "source": [
    "smapes[9], mases[9]"
   ]
  },
  {
   "cell_type": "code",
   "execution_count": 39,
   "metadata": {},
   "outputs": [
    {
     "name": "stderr",
     "output_type": "stream",
     "text": [
      "/home/thanos/.envs/fsu/lib/python3.6/site-packages/ipykernel_launcher.py:9: RuntimeWarning: invalid value encountered in true_divide\n",
      "  if __name__ == '__main__':\n"
     ]
    }
   ],
   "source": [
    "model_dir = 'results/37/best_weights.h5'\n",
    "\n",
    "model = tf.keras.models.load_model(model_dir, custom_objects={'SMAPE': smape,\n",
    "                                                              'MASE_estimate': mase_estimate,\n",
    "                                                              'OWA_estimate': owa_estimate,\n",
    "                                                              'reconstruction_loss': reconstruction_loss})\n",
    "\n",
    "best_preds = get_predictions(model, X_test)"
   ]
  },
  {
   "cell_type": "code",
   "execution_count": 47,
   "metadata": {},
   "outputs": [],
   "source": [
    "best_preds[15087] = X_test[15087, -1]"
   ]
  },
  {
   "cell_type": "code",
   "execution_count": 58,
   "metadata": {},
   "outputs": [],
   "source": [
    "np.savetxt('m4_predictions.csv', best_preds[:, 6:], delimiter=',')"
   ]
  },
  {
   "cell_type": "code",
   "execution_count": 81,
   "metadata": {},
   "outputs": [],
   "source": [
    "smapes = [m4_smape(y_test[i], best_preds[i, 6:]) for i in range(len(y_test))]"
   ]
  },
  {
   "cell_type": "code",
   "execution_count": 82,
   "metadata": {},
   "outputs": [
    {
     "data": {
      "text/plain": [
       "0.1317516584416001"
      ]
     },
     "execution_count": 82,
     "metadata": {},
     "output_type": "execute_result"
    }
   ],
   "source": [
    "np.mean(smapes)"
   ]
  }
 ],
 "metadata": {
  "kernelspec": {
   "display_name": "fsu",
   "language": "python",
   "name": "fsu"
  },
  "language_info": {
   "codemirror_mode": {
    "name": "ipython",
    "version": 3
   },
   "file_extension": ".py",
   "mimetype": "text/x-python",
   "name": "python",
   "nbconvert_exporter": "python",
   "pygments_lexer": "ipython3",
   "version": "3.6.9"
  }
 },
 "nbformat": 4,
 "nbformat_minor": 4
}
