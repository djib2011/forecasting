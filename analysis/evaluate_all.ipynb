{
 "cells": [
  {
   "cell_type": "code",
   "execution_count": 1,
   "metadata": {},
   "outputs": [],
   "source": [
    "from pathlib import Path\n",
    "import numpy as np\n",
    "import pandas as pd\n",
    "import matplotlib.pyplot as plt\n",
    "import seaborn as sns\n",
    "from tqdm import tqdm\n",
    "from sklearn.model_selection import train_test_split\n",
    "import pickle as pkl\n",
    "import tensorflow as tf\n",
    "\n",
    "import sys\n",
    "sys.path.append('..')\n",
    "\n",
    "import metrics\n",
    "\n",
    "import warnings\n",
    "warnings.filterwarnings('once')"
   ]
  },
  {
   "cell_type": "code",
   "execution_count": 2,
   "metadata": {},
   "outputs": [],
   "source": [
    "def MASE(x, y, p):\n",
    "    nom = np.mean(np.abs(y - p), axis=1)\n",
    "    denom = np.mean(np.abs(x[:, 1:] - x[:, :-1]), axis=1) + np.finfo('float').eps\n",
    "    return nom / denom\n",
    "\n",
    "def SMAPE(y, p):\n",
    "    nom = np.abs(y - p)\n",
    "    denom = np.abs(y) + np.abs(p) + np.finfo('float').eps\n",
    "    return 2 * np.mean(nom / denom, axis=1) * 100\n",
    "\n",
    "def OWA(x, y, p):\n",
    "    rel_smape = SMAPE(y, p) / 15.201\n",
    "    rel_mase = MASE(x, y, p) / 1.685\n",
    "    return (rel_smape + rel_mase) / 2"
   ]
  },
  {
   "cell_type": "code",
   "execution_count": 3,
   "metadata": {},
   "outputs": [],
   "source": [
    "train_path = Path('../data/Yearly-train.csv')\n",
    "test_path = Path('../data/Yearly-test.csv')"
   ]
  },
  {
   "cell_type": "code",
   "execution_count": 4,
   "metadata": {},
   "outputs": [],
   "source": [
    "train = pd.read_csv(train_path).drop('V1', axis=1)\n",
    "test = pd.read_csv(test_path).drop('V1', axis=1)"
   ]
  },
  {
   "cell_type": "code",
   "execution_count": 5,
   "metadata": {},
   "outputs": [],
   "source": [
    "def get_last_12(series):\n",
    "    return series.dropna().iloc[-12:].values"
   ]
  },
  {
   "cell_type": "code",
   "execution_count": 6,
   "metadata": {},
   "outputs": [],
   "source": [
    "X_test = np.array([get_last_12(ser[1]) for ser in train.iterrows()])\n",
    "y_test = test.values"
   ]
  },
  {
   "cell_type": "code",
   "execution_count": 31,
   "metadata": {},
   "outputs": [],
   "source": [
    "def get_predictions(model, X):\n",
    "    \n",
    "    preds = []\n",
    "    \n",
    "    for i in range(len(X) // 256):\n",
    "        x = X[i * 256:(i+1) * 256]\n",
    "\n",
    "        mn, mx = x.min(axis=1).reshape(-1, 1), x.max(axis=1).reshape(-1, 1)\n",
    "\n",
    "        x_sc = (x - mn) / (mx - mn)\n",
    "        pred = model(x_sc[..., np.newaxis]) \n",
    "        preds.append(pred[..., 0] * (mx - mn) + mn)\n",
    "\n",
    "    x = X[(i+1) * 256:]\n",
    "    mn, mx = x.min(axis=1).reshape(-1, 1), x.max(axis=1).reshape(-1, 1) \n",
    "    x_sc = (x - mn) / (mx - mn)\n",
    "    pred = model(x_sc[..., np.newaxis]) \n",
    "    preds.append(pred[..., 0] * (mx - mn) + mn)\n",
    "    \n",
    "\n",
    "    return np.vstack(preds)"
   ]
  },
  {
   "cell_type": "code",
   "execution_count": 14,
   "metadata": {},
   "outputs": [],
   "source": [
    "p = Path('../results').absolute()"
   ]
  },
  {
   "cell_type": "code",
   "execution_count": 15,
   "metadata": {},
   "outputs": [],
   "source": [
    "trials = list(p.glob('*'))\n",
    "trial_names = [t.name for t in trials]"
   ]
  },
  {
   "cell_type": "code",
   "execution_count": 16,
   "metadata": {},
   "outputs": [
    {
     "name": "stderr",
     "output_type": "stream",
     "text": [
      "\n",
      "  0%|          | 0/203 [00:00<?, ?it/s]\u001b[A/home/thanos/.envs/fsu/lib/python3.6/site-packages/ipykernel_launcher.py:9: RuntimeWarning: invalid value encountered in true_divide\n",
      "  if __name__ == '__main__':\n",
      "\n",
      "  0%|          | 1/203 [00:12<41:42, 12.39s/it]\u001b[A/home/thanos/.envs/fsu/lib/python3.6/site-packages/ipykernel_launcher.py:9: RuntimeWarning: invalid value encountered in true_divide\n",
      "  if __name__ == '__main__':\n",
      "\n",
      "  1%|          | 2/203 [00:18<35:10, 10.50s/it]\u001b[A"
     ]
    },
    {
     "ename": "KeyboardInterrupt",
     "evalue": "",
     "output_type": "error",
     "traceback": [
      "\u001b[0;31m---------------------------------------------------------------------------\u001b[0m",
      "\u001b[0;31mKeyboardInterrupt\u001b[0m                         Traceback (most recent call last)",
      "\u001b[0;32m<ipython-input-16-d594f731c273>\u001b[0m in \u001b[0;36m<module>\u001b[0;34m\u001b[0m\n\u001b[1;32m     17\u001b[0m                                                                   'reconstruction_loss': reconstruction_loss})\n\u001b[1;32m     18\u001b[0m \u001b[0;34m\u001b[0m\u001b[0m\n\u001b[0;32m---> 19\u001b[0;31m     \u001b[0mpreds\u001b[0m \u001b[0;34m=\u001b[0m \u001b[0mget_predictions\u001b[0m\u001b[0;34m(\u001b[0m\u001b[0mmodel\u001b[0m\u001b[0;34m,\u001b[0m \u001b[0mX_test\u001b[0m\u001b[0;34m)\u001b[0m\u001b[0;34m\u001b[0m\u001b[0;34m\u001b[0m\u001b[0m\n\u001b[0m\u001b[1;32m     20\u001b[0m \u001b[0;34m\u001b[0m\u001b[0m\n\u001b[1;32m     21\u001b[0m     \u001b[0mtf\u001b[0m\u001b[0;34m.\u001b[0m\u001b[0mkeras\u001b[0m\u001b[0;34m.\u001b[0m\u001b[0mbackend\u001b[0m\u001b[0;34m.\u001b[0m\u001b[0mclear_session\u001b[0m\u001b[0;34m(\u001b[0m\u001b[0;34m)\u001b[0m\u001b[0;34m\u001b[0m\u001b[0;34m\u001b[0m\u001b[0m\n",
      "\u001b[0;32m<ipython-input-13-9eccb242998f>\u001b[0m in \u001b[0;36mget_predictions\u001b[0;34m(model, X)\u001b[0m\n\u001b[1;32m      8\u001b[0m         \u001b[0mmn\u001b[0m\u001b[0;34m,\u001b[0m \u001b[0mmx\u001b[0m \u001b[0;34m=\u001b[0m \u001b[0mx\u001b[0m\u001b[0;34m.\u001b[0m\u001b[0mmin\u001b[0m\u001b[0;34m(\u001b[0m\u001b[0maxis\u001b[0m\u001b[0;34m=\u001b[0m\u001b[0;36m1\u001b[0m\u001b[0;34m)\u001b[0m\u001b[0;34m.\u001b[0m\u001b[0mreshape\u001b[0m\u001b[0;34m(\u001b[0m\u001b[0;34m-\u001b[0m\u001b[0;36m1\u001b[0m\u001b[0;34m,\u001b[0m \u001b[0;36m1\u001b[0m\u001b[0;34m)\u001b[0m\u001b[0;34m,\u001b[0m \u001b[0mx\u001b[0m\u001b[0;34m.\u001b[0m\u001b[0mmax\u001b[0m\u001b[0;34m(\u001b[0m\u001b[0maxis\u001b[0m\u001b[0;34m=\u001b[0m\u001b[0;36m1\u001b[0m\u001b[0;34m)\u001b[0m\u001b[0;34m.\u001b[0m\u001b[0mreshape\u001b[0m\u001b[0;34m(\u001b[0m\u001b[0;34m-\u001b[0m\u001b[0;36m1\u001b[0m\u001b[0;34m,\u001b[0m \u001b[0;36m1\u001b[0m\u001b[0;34m)\u001b[0m\u001b[0;34m\u001b[0m\u001b[0;34m\u001b[0m\u001b[0m\n\u001b[1;32m      9\u001b[0m         \u001b[0mx_sc\u001b[0m \u001b[0;34m=\u001b[0m \u001b[0;34m(\u001b[0m\u001b[0mx\u001b[0m \u001b[0;34m-\u001b[0m \u001b[0mmn\u001b[0m\u001b[0;34m)\u001b[0m \u001b[0;34m/\u001b[0m \u001b[0;34m(\u001b[0m\u001b[0mmx\u001b[0m \u001b[0;34m-\u001b[0m \u001b[0mmn\u001b[0m\u001b[0;34m)\u001b[0m\u001b[0;34m\u001b[0m\u001b[0;34m\u001b[0m\u001b[0m\n\u001b[0;32m---> 10\u001b[0;31m         \u001b[0mpred\u001b[0m \u001b[0;34m=\u001b[0m \u001b[0mmodel\u001b[0m\u001b[0;34m(\u001b[0m\u001b[0mx_sc\u001b[0m\u001b[0;34m[\u001b[0m\u001b[0;34m...\u001b[0m\u001b[0;34m,\u001b[0m \u001b[0mnp\u001b[0m\u001b[0;34m.\u001b[0m\u001b[0mnewaxis\u001b[0m\u001b[0;34m]\u001b[0m\u001b[0;34m)\u001b[0m\u001b[0;34m\u001b[0m\u001b[0;34m\u001b[0m\u001b[0m\n\u001b[0m\u001b[1;32m     11\u001b[0m         \u001b[0mpreds\u001b[0m\u001b[0;34m.\u001b[0m\u001b[0mappend\u001b[0m\u001b[0;34m(\u001b[0m\u001b[0mpred\u001b[0m\u001b[0;34m[\u001b[0m\u001b[0;34m...\u001b[0m\u001b[0;34m,\u001b[0m \u001b[0;36m0\u001b[0m\u001b[0;34m]\u001b[0m \u001b[0;34m*\u001b[0m \u001b[0;34m(\u001b[0m\u001b[0mmx\u001b[0m \u001b[0;34m-\u001b[0m \u001b[0mmn\u001b[0m\u001b[0;34m)\u001b[0m \u001b[0;34m+\u001b[0m \u001b[0mmn\u001b[0m\u001b[0;34m)\u001b[0m\u001b[0;34m\u001b[0m\u001b[0;34m\u001b[0m\u001b[0m\n\u001b[1;32m     12\u001b[0m \u001b[0;34m\u001b[0m\u001b[0m\n",
      "\u001b[0;32m~/.envs/fsu/lib/python3.6/site-packages/tensorflow_core/python/keras/engine/base_layer.py\u001b[0m in \u001b[0;36m__call__\u001b[0;34m(self, inputs, *args, **kwargs)\u001b[0m\n\u001b[1;32m    820\u001b[0m           with base_layer_utils.autocast_context_manager(\n\u001b[1;32m    821\u001b[0m               self._compute_dtype):\n\u001b[0;32m--> 822\u001b[0;31m             \u001b[0moutputs\u001b[0m \u001b[0;34m=\u001b[0m \u001b[0mself\u001b[0m\u001b[0;34m.\u001b[0m\u001b[0mcall\u001b[0m\u001b[0;34m(\u001b[0m\u001b[0mcast_inputs\u001b[0m\u001b[0;34m,\u001b[0m \u001b[0;34m*\u001b[0m\u001b[0margs\u001b[0m\u001b[0;34m,\u001b[0m \u001b[0;34m**\u001b[0m\u001b[0mkwargs\u001b[0m\u001b[0;34m)\u001b[0m\u001b[0;34m\u001b[0m\u001b[0;34m\u001b[0m\u001b[0m\n\u001b[0m\u001b[1;32m    823\u001b[0m           \u001b[0mself\u001b[0m\u001b[0;34m.\u001b[0m\u001b[0m_handle_activity_regularization\u001b[0m\u001b[0;34m(\u001b[0m\u001b[0minputs\u001b[0m\u001b[0;34m,\u001b[0m \u001b[0moutputs\u001b[0m\u001b[0;34m)\u001b[0m\u001b[0;34m\u001b[0m\u001b[0;34m\u001b[0m\u001b[0m\n\u001b[1;32m    824\u001b[0m           \u001b[0mself\u001b[0m\u001b[0;34m.\u001b[0m\u001b[0m_set_mask_metadata\u001b[0m\u001b[0;34m(\u001b[0m\u001b[0minputs\u001b[0m\u001b[0;34m,\u001b[0m \u001b[0moutputs\u001b[0m\u001b[0;34m,\u001b[0m \u001b[0minput_masks\u001b[0m\u001b[0;34m)\u001b[0m\u001b[0;34m\u001b[0m\u001b[0;34m\u001b[0m\u001b[0m\n",
      "\u001b[0;32m~/.envs/fsu/lib/python3.6/site-packages/tensorflow_core/python/keras/engine/network.py\u001b[0m in \u001b[0;36mcall\u001b[0;34m(self, inputs, training, mask)\u001b[0m\n\u001b[1;32m    715\u001b[0m     return self._run_internal_graph(\n\u001b[1;32m    716\u001b[0m         \u001b[0minputs\u001b[0m\u001b[0;34m,\u001b[0m \u001b[0mtraining\u001b[0m\u001b[0;34m=\u001b[0m\u001b[0mtraining\u001b[0m\u001b[0;34m,\u001b[0m \u001b[0mmask\u001b[0m\u001b[0;34m=\u001b[0m\u001b[0mmask\u001b[0m\u001b[0;34m,\u001b[0m\u001b[0;34m\u001b[0m\u001b[0;34m\u001b[0m\u001b[0m\n\u001b[0;32m--> 717\u001b[0;31m         convert_kwargs_to_constants=base_layer_utils.call_context().saving)\n\u001b[0m\u001b[1;32m    718\u001b[0m \u001b[0;34m\u001b[0m\u001b[0m\n\u001b[1;32m    719\u001b[0m   \u001b[0;32mdef\u001b[0m \u001b[0mcompute_output_shape\u001b[0m\u001b[0;34m(\u001b[0m\u001b[0mself\u001b[0m\u001b[0;34m,\u001b[0m \u001b[0minput_shape\u001b[0m\u001b[0;34m)\u001b[0m\u001b[0;34m:\u001b[0m\u001b[0;34m\u001b[0m\u001b[0;34m\u001b[0m\u001b[0m\n",
      "\u001b[0;32m~/.envs/fsu/lib/python3.6/site-packages/tensorflow_core/python/keras/engine/network.py\u001b[0m in \u001b[0;36m_run_internal_graph\u001b[0;34m(self, inputs, training, mask, convert_kwargs_to_constants)\u001b[0m\n\u001b[1;32m    889\u001b[0m \u001b[0;34m\u001b[0m\u001b[0m\n\u001b[1;32m    890\u001b[0m           \u001b[0;31m# Compute outputs.\u001b[0m\u001b[0;34m\u001b[0m\u001b[0;34m\u001b[0m\u001b[0;34m\u001b[0m\u001b[0m\n\u001b[0;32m--> 891\u001b[0;31m           \u001b[0moutput_tensors\u001b[0m \u001b[0;34m=\u001b[0m \u001b[0mlayer\u001b[0m\u001b[0;34m(\u001b[0m\u001b[0mcomputed_tensors\u001b[0m\u001b[0;34m,\u001b[0m \u001b[0;34m**\u001b[0m\u001b[0mkwargs\u001b[0m\u001b[0;34m)\u001b[0m\u001b[0;34m\u001b[0m\u001b[0;34m\u001b[0m\u001b[0m\n\u001b[0m\u001b[1;32m    892\u001b[0m \u001b[0;34m\u001b[0m\u001b[0m\n\u001b[1;32m    893\u001b[0m           \u001b[0;31m# Update tensor_dict.\u001b[0m\u001b[0;34m\u001b[0m\u001b[0;34m\u001b[0m\u001b[0;34m\u001b[0m\u001b[0m\n",
      "\u001b[0;32m~/.envs/fsu/lib/python3.6/site-packages/tensorflow_core/python/keras/layers/recurrent.py\u001b[0m in \u001b[0;36m__call__\u001b[0;34m(self, inputs, initial_state, constants, **kwargs)\u001b[0m\n\u001b[1;32m    642\u001b[0m \u001b[0;34m\u001b[0m\u001b[0m\n\u001b[1;32m    643\u001b[0m     \u001b[0;32mif\u001b[0m \u001b[0minitial_state\u001b[0m \u001b[0;32mis\u001b[0m \u001b[0;32mNone\u001b[0m \u001b[0;32mand\u001b[0m \u001b[0mconstants\u001b[0m \u001b[0;32mis\u001b[0m \u001b[0;32mNone\u001b[0m\u001b[0;34m:\u001b[0m\u001b[0;34m\u001b[0m\u001b[0;34m\u001b[0m\u001b[0m\n\u001b[0;32m--> 644\u001b[0;31m       \u001b[0;32mreturn\u001b[0m \u001b[0msuper\u001b[0m\u001b[0;34m(\u001b[0m\u001b[0mRNN\u001b[0m\u001b[0;34m,\u001b[0m \u001b[0mself\u001b[0m\u001b[0;34m)\u001b[0m\u001b[0;34m.\u001b[0m\u001b[0m__call__\u001b[0m\u001b[0;34m(\u001b[0m\u001b[0minputs\u001b[0m\u001b[0;34m,\u001b[0m \u001b[0;34m**\u001b[0m\u001b[0mkwargs\u001b[0m\u001b[0;34m)\u001b[0m\u001b[0;34m\u001b[0m\u001b[0;34m\u001b[0m\u001b[0m\n\u001b[0m\u001b[1;32m    645\u001b[0m \u001b[0;34m\u001b[0m\u001b[0m\n\u001b[1;32m    646\u001b[0m     \u001b[0;31m# If any of `initial_state` or `constants` are specified and are Keras\u001b[0m\u001b[0;34m\u001b[0m\u001b[0;34m\u001b[0m\u001b[0;34m\u001b[0m\u001b[0m\n",
      "\u001b[0;32m~/.envs/fsu/lib/python3.6/site-packages/tensorflow_core/python/keras/engine/base_layer.py\u001b[0m in \u001b[0;36m__call__\u001b[0;34m(self, inputs, *args, **kwargs)\u001b[0m\n\u001b[1;32m    820\u001b[0m           with base_layer_utils.autocast_context_manager(\n\u001b[1;32m    821\u001b[0m               self._compute_dtype):\n\u001b[0;32m--> 822\u001b[0;31m             \u001b[0moutputs\u001b[0m \u001b[0;34m=\u001b[0m \u001b[0mself\u001b[0m\u001b[0;34m.\u001b[0m\u001b[0mcall\u001b[0m\u001b[0;34m(\u001b[0m\u001b[0mcast_inputs\u001b[0m\u001b[0;34m,\u001b[0m \u001b[0;34m*\u001b[0m\u001b[0margs\u001b[0m\u001b[0;34m,\u001b[0m \u001b[0;34m**\u001b[0m\u001b[0mkwargs\u001b[0m\u001b[0;34m)\u001b[0m\u001b[0;34m\u001b[0m\u001b[0;34m\u001b[0m\u001b[0m\n\u001b[0m\u001b[1;32m    823\u001b[0m           \u001b[0mself\u001b[0m\u001b[0;34m.\u001b[0m\u001b[0m_handle_activity_regularization\u001b[0m\u001b[0;34m(\u001b[0m\u001b[0minputs\u001b[0m\u001b[0;34m,\u001b[0m \u001b[0moutputs\u001b[0m\u001b[0;34m)\u001b[0m\u001b[0;34m\u001b[0m\u001b[0;34m\u001b[0m\u001b[0m\n\u001b[1;32m    824\u001b[0m           \u001b[0mself\u001b[0m\u001b[0;34m.\u001b[0m\u001b[0m_set_mask_metadata\u001b[0m\u001b[0;34m(\u001b[0m\u001b[0minputs\u001b[0m\u001b[0;34m,\u001b[0m \u001b[0moutputs\u001b[0m\u001b[0;34m,\u001b[0m \u001b[0minput_masks\u001b[0m\u001b[0;34m)\u001b[0m\u001b[0;34m\u001b[0m\u001b[0;34m\u001b[0m\u001b[0m\n",
      "\u001b[0;32m~/.envs/fsu/lib/python3.6/site-packages/tensorflow_core/python/keras/layers/recurrent.py\u001b[0m in \u001b[0;36mcall\u001b[0;34m(self, inputs, mask, training, initial_state)\u001b[0m\n\u001b[1;32m   2690\u001b[0m     \u001b[0mself\u001b[0m\u001b[0;34m.\u001b[0m\u001b[0m_maybe_reset_cell_dropout_mask\u001b[0m\u001b[0;34m(\u001b[0m\u001b[0mself\u001b[0m\u001b[0;34m.\u001b[0m\u001b[0mcell\u001b[0m\u001b[0;34m)\u001b[0m\u001b[0;34m\u001b[0m\u001b[0;34m\u001b[0m\u001b[0m\n\u001b[1;32m   2691\u001b[0m     return super(LSTM, self).call(\n\u001b[0;32m-> 2692\u001b[0;31m         inputs, mask=mask, training=training, initial_state=initial_state)\n\u001b[0m\u001b[1;32m   2693\u001b[0m \u001b[0;34m\u001b[0m\u001b[0m\n\u001b[1;32m   2694\u001b[0m   \u001b[0;34m@\u001b[0m\u001b[0mproperty\u001b[0m\u001b[0;34m\u001b[0m\u001b[0;34m\u001b[0m\u001b[0m\n",
      "\u001b[0;32m~/.envs/fsu/lib/python3.6/site-packages/tensorflow_core/python/keras/layers/recurrent.py\u001b[0m in \u001b[0;36mcall\u001b[0;34m(self, inputs, mask, training, initial_state, constants)\u001b[0m\n\u001b[1;32m    780\u001b[0m         \u001b[0minput_length\u001b[0m\u001b[0;34m=\u001b[0m\u001b[0mrow_lengths\u001b[0m \u001b[0;32mif\u001b[0m \u001b[0mrow_lengths\u001b[0m \u001b[0;32mis\u001b[0m \u001b[0;32mnot\u001b[0m \u001b[0;32mNone\u001b[0m \u001b[0;32melse\u001b[0m \u001b[0mtimesteps\u001b[0m\u001b[0;34m,\u001b[0m\u001b[0;34m\u001b[0m\u001b[0;34m\u001b[0m\u001b[0m\n\u001b[1;32m    781\u001b[0m         \u001b[0mtime_major\u001b[0m\u001b[0;34m=\u001b[0m\u001b[0mself\u001b[0m\u001b[0;34m.\u001b[0m\u001b[0mtime_major\u001b[0m\u001b[0;34m,\u001b[0m\u001b[0;34m\u001b[0m\u001b[0;34m\u001b[0m\u001b[0m\n\u001b[0;32m--> 782\u001b[0;31m         zero_output_for_mask=self.zero_output_for_mask)\n\u001b[0m\u001b[1;32m    783\u001b[0m \u001b[0;34m\u001b[0m\u001b[0m\n\u001b[1;32m    784\u001b[0m     \u001b[0;32mif\u001b[0m \u001b[0mself\u001b[0m\u001b[0;34m.\u001b[0m\u001b[0mstateful\u001b[0m\u001b[0;34m:\u001b[0m\u001b[0;34m\u001b[0m\u001b[0;34m\u001b[0m\u001b[0m\n",
      "\u001b[0;32m~/.envs/fsu/lib/python3.6/site-packages/tensorflow_core/python/keras/backend.py\u001b[0m in \u001b[0;36mrnn\u001b[0;34m(step_function, inputs, initial_states, go_backwards, mask, constants, unroll, input_length, time_major, zero_output_for_mask)\u001b[0m\n\u001b[1;32m   4172\u001b[0m           \u001b[0mbody\u001b[0m\u001b[0;34m=\u001b[0m\u001b[0m_step\u001b[0m\u001b[0;34m,\u001b[0m\u001b[0;34m\u001b[0m\u001b[0;34m\u001b[0m\u001b[0m\n\u001b[1;32m   4173\u001b[0m           \u001b[0mloop_vars\u001b[0m\u001b[0;34m=\u001b[0m\u001b[0;34m(\u001b[0m\u001b[0mtime\u001b[0m\u001b[0;34m,\u001b[0m \u001b[0moutput_ta\u001b[0m\u001b[0;34m)\u001b[0m \u001b[0;34m+\u001b[0m \u001b[0mstates\u001b[0m\u001b[0;34m,\u001b[0m\u001b[0;34m\u001b[0m\u001b[0;34m\u001b[0m\u001b[0m\n\u001b[0;32m-> 4174\u001b[0;31m           **while_loop_kwargs)\n\u001b[0m\u001b[1;32m   4175\u001b[0m       \u001b[0mnew_states\u001b[0m \u001b[0;34m=\u001b[0m \u001b[0mfinal_outputs\u001b[0m\u001b[0;34m[\u001b[0m\u001b[0;36m2\u001b[0m\u001b[0;34m:\u001b[0m\u001b[0;34m]\u001b[0m\u001b[0;34m\u001b[0m\u001b[0;34m\u001b[0m\u001b[0m\n\u001b[1;32m   4176\u001b[0m \u001b[0;34m\u001b[0m\u001b[0m\n",
      "\u001b[0;32m~/.envs/fsu/lib/python3.6/site-packages/tensorflow_core/python/ops/control_flow_ops.py\u001b[0m in \u001b[0;36mwhile_loop\u001b[0;34m(cond, body, loop_vars, shape_invariants, parallel_iterations, back_prop, swap_memory, name, maximum_iterations, return_same_structure)\u001b[0m\n\u001b[1;32m   2712\u001b[0m                                               list(loop_vars))\n\u001b[1;32m   2713\u001b[0m       \u001b[0;32mwhile\u001b[0m \u001b[0mcond\u001b[0m\u001b[0;34m(\u001b[0m\u001b[0;34m*\u001b[0m\u001b[0mloop_vars\u001b[0m\u001b[0;34m)\u001b[0m\u001b[0;34m:\u001b[0m\u001b[0;34m\u001b[0m\u001b[0;34m\u001b[0m\u001b[0m\n\u001b[0;32m-> 2714\u001b[0;31m         \u001b[0mloop_vars\u001b[0m \u001b[0;34m=\u001b[0m \u001b[0mbody\u001b[0m\u001b[0;34m(\u001b[0m\u001b[0;34m*\u001b[0m\u001b[0mloop_vars\u001b[0m\u001b[0;34m)\u001b[0m\u001b[0;34m\u001b[0m\u001b[0;34m\u001b[0m\u001b[0m\n\u001b[0m\u001b[1;32m   2715\u001b[0m         \u001b[0;32mif\u001b[0m \u001b[0mtry_to_pack\u001b[0m \u001b[0;32mand\u001b[0m \u001b[0;32mnot\u001b[0m \u001b[0misinstance\u001b[0m\u001b[0;34m(\u001b[0m\u001b[0mloop_vars\u001b[0m\u001b[0;34m,\u001b[0m \u001b[0;34m(\u001b[0m\u001b[0mlist\u001b[0m\u001b[0;34m,\u001b[0m \u001b[0m_basetuple\u001b[0m\u001b[0;34m)\u001b[0m\u001b[0;34m)\u001b[0m\u001b[0;34m:\u001b[0m\u001b[0;34m\u001b[0m\u001b[0;34m\u001b[0m\u001b[0m\n\u001b[1;32m   2716\u001b[0m           \u001b[0mpacked\u001b[0m \u001b[0;34m=\u001b[0m \u001b[0;32mTrue\u001b[0m\u001b[0;34m\u001b[0m\u001b[0;34m\u001b[0m\u001b[0m\n",
      "\u001b[0;32m~/.envs/fsu/lib/python3.6/site-packages/tensorflow_core/python/keras/backend.py\u001b[0m in \u001b[0;36m_step\u001b[0;34m(time, output_ta_t, *states)\u001b[0m\n\u001b[1;32m   4156\u001b[0m         \u001b[0mcurrent_input\u001b[0m \u001b[0;34m=\u001b[0m \u001b[0mnest\u001b[0m\u001b[0;34m.\u001b[0m\u001b[0mpack_sequence_as\u001b[0m\u001b[0;34m(\u001b[0m\u001b[0minputs\u001b[0m\u001b[0;34m,\u001b[0m \u001b[0mcurrent_input\u001b[0m\u001b[0;34m)\u001b[0m\u001b[0;34m\u001b[0m\u001b[0;34m\u001b[0m\u001b[0m\n\u001b[1;32m   4157\u001b[0m         output, new_states = step_function(current_input,\n\u001b[0;32m-> 4158\u001b[0;31m                                            tuple(states) + tuple(constants))\n\u001b[0m\u001b[1;32m   4159\u001b[0m         \u001b[0mflat_state\u001b[0m \u001b[0;34m=\u001b[0m \u001b[0mnest\u001b[0m\u001b[0;34m.\u001b[0m\u001b[0mflatten\u001b[0m\u001b[0;34m(\u001b[0m\u001b[0mstates\u001b[0m\u001b[0;34m)\u001b[0m\u001b[0;34m\u001b[0m\u001b[0;34m\u001b[0m\u001b[0m\n\u001b[1;32m   4160\u001b[0m         \u001b[0mflat_new_state\u001b[0m \u001b[0;34m=\u001b[0m \u001b[0mnest\u001b[0m\u001b[0;34m.\u001b[0m\u001b[0mflatten\u001b[0m\u001b[0;34m(\u001b[0m\u001b[0mnew_states\u001b[0m\u001b[0;34m)\u001b[0m\u001b[0;34m\u001b[0m\u001b[0;34m\u001b[0m\u001b[0m\n",
      "\u001b[0;32m~/.envs/fsu/lib/python3.6/site-packages/tensorflow_core/python/keras/layers/recurrent.py\u001b[0m in \u001b[0;36mstep\u001b[0;34m(inputs, states)\u001b[0m\n\u001b[1;32m    765\u001b[0m       \u001b[0;32mdef\u001b[0m \u001b[0mstep\u001b[0m\u001b[0;34m(\u001b[0m\u001b[0minputs\u001b[0m\u001b[0;34m,\u001b[0m \u001b[0mstates\u001b[0m\u001b[0;34m)\u001b[0m\u001b[0;34m:\u001b[0m\u001b[0;34m\u001b[0m\u001b[0;34m\u001b[0m\u001b[0m\n\u001b[1;32m    766\u001b[0m         \u001b[0mstates\u001b[0m \u001b[0;34m=\u001b[0m \u001b[0mstates\u001b[0m\u001b[0;34m[\u001b[0m\u001b[0;36m0\u001b[0m\u001b[0;34m]\u001b[0m \u001b[0;32mif\u001b[0m \u001b[0mlen\u001b[0m\u001b[0;34m(\u001b[0m\u001b[0mstates\u001b[0m\u001b[0;34m)\u001b[0m \u001b[0;34m==\u001b[0m \u001b[0;36m1\u001b[0m \u001b[0;32mand\u001b[0m \u001b[0mis_tf_rnn_cell\u001b[0m \u001b[0;32melse\u001b[0m \u001b[0mstates\u001b[0m\u001b[0;34m\u001b[0m\u001b[0;34m\u001b[0m\u001b[0m\n\u001b[0;32m--> 767\u001b[0;31m         \u001b[0moutput\u001b[0m\u001b[0;34m,\u001b[0m \u001b[0mnew_states\u001b[0m \u001b[0;34m=\u001b[0m \u001b[0mself\u001b[0m\u001b[0;34m.\u001b[0m\u001b[0mcell\u001b[0m\u001b[0;34m.\u001b[0m\u001b[0mcall\u001b[0m\u001b[0;34m(\u001b[0m\u001b[0minputs\u001b[0m\u001b[0;34m,\u001b[0m \u001b[0mstates\u001b[0m\u001b[0;34m,\u001b[0m \u001b[0;34m**\u001b[0m\u001b[0mkwargs\u001b[0m\u001b[0;34m)\u001b[0m\u001b[0;34m\u001b[0m\u001b[0;34m\u001b[0m\u001b[0m\n\u001b[0m\u001b[1;32m    768\u001b[0m         \u001b[0;32mif\u001b[0m \u001b[0;32mnot\u001b[0m \u001b[0mnest\u001b[0m\u001b[0;34m.\u001b[0m\u001b[0mis_sequence\u001b[0m\u001b[0;34m(\u001b[0m\u001b[0mnew_states\u001b[0m\u001b[0;34m)\u001b[0m\u001b[0;34m:\u001b[0m\u001b[0;34m\u001b[0m\u001b[0;34m\u001b[0m\u001b[0m\n\u001b[1;32m    769\u001b[0m           \u001b[0mnew_states\u001b[0m \u001b[0;34m=\u001b[0m \u001b[0;34m[\u001b[0m\u001b[0mnew_states\u001b[0m\u001b[0;34m]\u001b[0m\u001b[0;34m\u001b[0m\u001b[0;34m\u001b[0m\u001b[0m\n",
      "\u001b[0;32m~/.envs/fsu/lib/python3.6/site-packages/tensorflow_core/python/keras/layers/recurrent.py\u001b[0m in \u001b[0;36mcall\u001b[0;34m(self, inputs, states, training)\u001b[0m\n\u001b[1;32m   2402\u001b[0m       \u001b[0;32mif\u001b[0m \u001b[0;36m0.\u001b[0m \u001b[0;34m<\u001b[0m \u001b[0mself\u001b[0m\u001b[0;34m.\u001b[0m\u001b[0mdropout\u001b[0m \u001b[0;34m<\u001b[0m \u001b[0;36m1.\u001b[0m\u001b[0;34m:\u001b[0m\u001b[0;34m\u001b[0m\u001b[0;34m\u001b[0m\u001b[0m\n\u001b[1;32m   2403\u001b[0m         \u001b[0minputs\u001b[0m \u001b[0;34m=\u001b[0m \u001b[0minputs\u001b[0m \u001b[0;34m*\u001b[0m \u001b[0mdp_mask\u001b[0m\u001b[0;34m[\u001b[0m\u001b[0;36m0\u001b[0m\u001b[0;34m]\u001b[0m\u001b[0;34m\u001b[0m\u001b[0;34m\u001b[0m\u001b[0m\n\u001b[0;32m-> 2404\u001b[0;31m       \u001b[0mz\u001b[0m \u001b[0;34m=\u001b[0m \u001b[0mK\u001b[0m\u001b[0;34m.\u001b[0m\u001b[0mdot\u001b[0m\u001b[0;34m(\u001b[0m\u001b[0minputs\u001b[0m\u001b[0;34m,\u001b[0m \u001b[0mself\u001b[0m\u001b[0;34m.\u001b[0m\u001b[0mkernel\u001b[0m\u001b[0;34m)\u001b[0m\u001b[0;34m\u001b[0m\u001b[0;34m\u001b[0m\u001b[0m\n\u001b[0m\u001b[1;32m   2405\u001b[0m       \u001b[0mz\u001b[0m \u001b[0;34m+=\u001b[0m \u001b[0mK\u001b[0m\u001b[0;34m.\u001b[0m\u001b[0mdot\u001b[0m\u001b[0;34m(\u001b[0m\u001b[0mh_tm1\u001b[0m\u001b[0;34m,\u001b[0m \u001b[0mself\u001b[0m\u001b[0;34m.\u001b[0m\u001b[0mrecurrent_kernel\u001b[0m\u001b[0;34m)\u001b[0m\u001b[0;34m\u001b[0m\u001b[0;34m\u001b[0m\u001b[0m\n\u001b[1;32m   2406\u001b[0m       \u001b[0;32mif\u001b[0m \u001b[0mself\u001b[0m\u001b[0;34m.\u001b[0m\u001b[0muse_bias\u001b[0m\u001b[0;34m:\u001b[0m\u001b[0;34m\u001b[0m\u001b[0;34m\u001b[0m\u001b[0m\n",
      "\u001b[0;32m~/.envs/fsu/lib/python3.6/site-packages/tensorflow_core/python/keras/backend.py\u001b[0m in \u001b[0;36mdot\u001b[0;34m(x, y)\u001b[0m\n\u001b[1;32m   1651\u001b[0m \u001b[0;34m\u001b[0m\u001b[0m\n\u001b[1;32m   1652\u001b[0m   \"\"\"\n\u001b[0;32m-> 1653\u001b[0;31m   \u001b[0;32mif\u001b[0m \u001b[0mndim\u001b[0m\u001b[0;34m(\u001b[0m\u001b[0mx\u001b[0m\u001b[0;34m)\u001b[0m \u001b[0;32mis\u001b[0m \u001b[0;32mnot\u001b[0m \u001b[0;32mNone\u001b[0m \u001b[0;32mand\u001b[0m \u001b[0;34m(\u001b[0m\u001b[0mndim\u001b[0m\u001b[0;34m(\u001b[0m\u001b[0mx\u001b[0m\u001b[0;34m)\u001b[0m \u001b[0;34m>\u001b[0m \u001b[0;36m2\u001b[0m \u001b[0;32mor\u001b[0m \u001b[0mndim\u001b[0m\u001b[0;34m(\u001b[0m\u001b[0my\u001b[0m\u001b[0;34m)\u001b[0m \u001b[0;34m>\u001b[0m \u001b[0;36m2\u001b[0m\u001b[0;34m)\u001b[0m\u001b[0;34m:\u001b[0m\u001b[0;34m\u001b[0m\u001b[0;34m\u001b[0m\u001b[0m\n\u001b[0m\u001b[1;32m   1654\u001b[0m     \u001b[0mx_shape\u001b[0m \u001b[0;34m=\u001b[0m \u001b[0;34m[\u001b[0m\u001b[0;34m]\u001b[0m\u001b[0;34m\u001b[0m\u001b[0;34m\u001b[0m\u001b[0m\n\u001b[1;32m   1655\u001b[0m     \u001b[0;32mfor\u001b[0m \u001b[0mi\u001b[0m\u001b[0;34m,\u001b[0m \u001b[0ms\u001b[0m \u001b[0;32min\u001b[0m \u001b[0mzip\u001b[0m\u001b[0;34m(\u001b[0m\u001b[0mint_shape\u001b[0m\u001b[0;34m(\u001b[0m\u001b[0mx\u001b[0m\u001b[0;34m)\u001b[0m\u001b[0;34m,\u001b[0m \u001b[0marray_ops\u001b[0m\u001b[0;34m.\u001b[0m\u001b[0munstack\u001b[0m\u001b[0;34m(\u001b[0m\u001b[0marray_ops\u001b[0m\u001b[0;34m.\u001b[0m\u001b[0mshape\u001b[0m\u001b[0;34m(\u001b[0m\u001b[0mx\u001b[0m\u001b[0;34m)\u001b[0m\u001b[0;34m)\u001b[0m\u001b[0;34m)\u001b[0m\u001b[0;34m:\u001b[0m\u001b[0;34m\u001b[0m\u001b[0;34m\u001b[0m\u001b[0m\n",
      "\u001b[0;32m~/.envs/fsu/lib/python3.6/site-packages/tensorflow_core/python/keras/backend.py\u001b[0m in \u001b[0;36mndim\u001b[0;34m(x)\u001b[0m\n\u001b[1;32m   1200\u001b[0m \u001b[0;34m\u001b[0m\u001b[0m\n\u001b[1;32m   1201\u001b[0m   \"\"\"\n\u001b[0;32m-> 1202\u001b[0;31m   \u001b[0mdims\u001b[0m \u001b[0;34m=\u001b[0m \u001b[0mx\u001b[0m\u001b[0;34m.\u001b[0m\u001b[0mshape\u001b[0m\u001b[0;34m.\u001b[0m\u001b[0m_dims\u001b[0m\u001b[0;34m\u001b[0m\u001b[0;34m\u001b[0m\u001b[0m\n\u001b[0m\u001b[1;32m   1203\u001b[0m   \u001b[0;32mif\u001b[0m \u001b[0mdims\u001b[0m \u001b[0;32mis\u001b[0m \u001b[0;32mnot\u001b[0m \u001b[0;32mNone\u001b[0m\u001b[0;34m:\u001b[0m\u001b[0;34m\u001b[0m\u001b[0;34m\u001b[0m\u001b[0m\n\u001b[1;32m   1204\u001b[0m     \u001b[0;32mreturn\u001b[0m \u001b[0mlen\u001b[0m\u001b[0;34m(\u001b[0m\u001b[0mdims\u001b[0m\u001b[0;34m)\u001b[0m\u001b[0;34m\u001b[0m\u001b[0;34m\u001b[0m\u001b[0m\n",
      "\u001b[0;32m~/.envs/fsu/lib/python3.6/site-packages/tensorflow_core/python/framework/ops.py\u001b[0m in \u001b[0;36mshape\u001b[0;34m(self)\u001b[0m\n\u001b[1;32m   1044\u001b[0m         \u001b[0;31m# `_tensor_shape` is declared and defined in the definition of\u001b[0m\u001b[0;34m\u001b[0m\u001b[0;34m\u001b[0m\u001b[0;34m\u001b[0m\u001b[0m\n\u001b[1;32m   1045\u001b[0m         \u001b[0;31m# `EagerTensor`, in C.\u001b[0m\u001b[0;34m\u001b[0m\u001b[0;34m\u001b[0m\u001b[0;34m\u001b[0m\u001b[0m\n\u001b[0;32m-> 1046\u001b[0;31m         \u001b[0mself\u001b[0m\u001b[0;34m.\u001b[0m\u001b[0m_tensor_shape\u001b[0m \u001b[0;34m=\u001b[0m \u001b[0mtensor_shape\u001b[0m\u001b[0;34m.\u001b[0m\u001b[0mTensorShape\u001b[0m\u001b[0;34m(\u001b[0m\u001b[0mself\u001b[0m\u001b[0;34m.\u001b[0m\u001b[0m_shape_tuple\u001b[0m\u001b[0;34m(\u001b[0m\u001b[0;34m)\u001b[0m\u001b[0;34m)\u001b[0m\u001b[0;34m\u001b[0m\u001b[0;34m\u001b[0m\u001b[0m\n\u001b[0m\u001b[1;32m   1047\u001b[0m       \u001b[0;32mexcept\u001b[0m \u001b[0mcore\u001b[0m\u001b[0;34m.\u001b[0m\u001b[0m_NotOkStatusException\u001b[0m \u001b[0;32mas\u001b[0m \u001b[0me\u001b[0m\u001b[0;34m:\u001b[0m\u001b[0;34m\u001b[0m\u001b[0;34m\u001b[0m\u001b[0m\n\u001b[1;32m   1048\u001b[0m         \u001b[0msix\u001b[0m\u001b[0;34m.\u001b[0m\u001b[0mraise_from\u001b[0m\u001b[0;34m(\u001b[0m\u001b[0mcore\u001b[0m\u001b[0;34m.\u001b[0m\u001b[0m_status_to_exception\u001b[0m\u001b[0;34m(\u001b[0m\u001b[0me\u001b[0m\u001b[0;34m.\u001b[0m\u001b[0mcode\u001b[0m\u001b[0;34m,\u001b[0m \u001b[0me\u001b[0m\u001b[0;34m.\u001b[0m\u001b[0mmessage\u001b[0m\u001b[0;34m)\u001b[0m\u001b[0;34m,\u001b[0m \u001b[0;32mNone\u001b[0m\u001b[0;34m)\u001b[0m\u001b[0;34m\u001b[0m\u001b[0;34m\u001b[0m\u001b[0m\n",
      "\u001b[0;32m~/.envs/fsu/lib/python3.6/site-packages/tensorflow_core/python/framework/tensor_shape.py\u001b[0m in \u001b[0;36m__init__\u001b[0;34m(self, dims)\u001b[0m\n\u001b[1;32m    749\u001b[0m       \u001b[0mTypeError\u001b[0m\u001b[0;34m:\u001b[0m \u001b[0mIf\u001b[0m \u001b[0mdims\u001b[0m \u001b[0mcannot\u001b[0m \u001b[0mbe\u001b[0m \u001b[0mconverted\u001b[0m \u001b[0mto\u001b[0m \u001b[0ma\u001b[0m \u001b[0mlist\u001b[0m \u001b[0mof\u001b[0m \u001b[0mdimensions\u001b[0m\u001b[0;34m.\u001b[0m\u001b[0;34m\u001b[0m\u001b[0;34m\u001b[0m\u001b[0m\n\u001b[1;32m    750\u001b[0m     \"\"\"\n\u001b[0;32m--> 751\u001b[0;31m     \u001b[0;32mif\u001b[0m \u001b[0mdims\u001b[0m \u001b[0;32mis\u001b[0m \u001b[0;32mNone\u001b[0m\u001b[0;34m:\u001b[0m\u001b[0;34m\u001b[0m\u001b[0;34m\u001b[0m\u001b[0m\n\u001b[0m\u001b[1;32m    752\u001b[0m       \u001b[0mself\u001b[0m\u001b[0;34m.\u001b[0m\u001b[0m_dims\u001b[0m \u001b[0;34m=\u001b[0m \u001b[0;32mNone\u001b[0m\u001b[0;34m\u001b[0m\u001b[0;34m\u001b[0m\u001b[0m\n\u001b[1;32m    753\u001b[0m     \u001b[0;32melif\u001b[0m \u001b[0misinstance\u001b[0m\u001b[0;34m(\u001b[0m\u001b[0mdims\u001b[0m\u001b[0;34m,\u001b[0m \u001b[0mtensor_shape_pb2\u001b[0m\u001b[0;34m.\u001b[0m\u001b[0mTensorShapeProto\u001b[0m\u001b[0;34m)\u001b[0m\u001b[0;34m:\u001b[0m\u001b[0;34m\u001b[0m\u001b[0;34m\u001b[0m\u001b[0m\n",
      "\u001b[0;31mKeyboardInterrupt\u001b[0m: "
     ]
    }
   ],
   "source": [
    "results = {'smape': {k: [] for k in trial_names},\n",
    "           'mase': {k: [] for k in trial_names},\n",
    "           'owa': {k: [] for k in trial_names}}\n",
    "\n",
    "for trial in tqdm(trials):\n",
    "    model_dir = str(trial / 'best_weights.h5')\n",
    "    \n",
    "    mape = metrics.build_mape(overlap=6)\n",
    "    smape = metrics.build_smape(overlap=6)\n",
    "    mase_estimate = metrics.build_mase(overlap=6)\n",
    "    owa_estimate = metrics.build_owa(overlap=6)\n",
    "    reconstruction_loss = metrics.build_reconstruction_loss(overlap=6)\n",
    "\n",
    "    model = tf.keras.models.load_model(model_dir, custom_objects={'SMAPE': smape,\n",
    "                                                                  'MASE_estimate': mase_estimate,\n",
    "                                                                  'OWA_estimate': owa_estimate,\n",
    "                                                                  'reconstruction_loss': reconstruction_loss})\n",
    "    \n",
    "    preds = get_predictions(model, X_test)\n",
    "    \n",
    "    tf.keras.backend.clear_session()\n",
    "    \n",
    "    results['smape'][trial.name].append(np.nanmean(SMAPE(y_test, preds[:, 6:])))\n",
    "    results['mase'][trial.name].append(np.nanmean(MASE(X_test, y_test, preds[:, 6:])))\n",
    "    results['owa'][trial.name].append(np.nanmean(OWA(X_test, y_test, preds[:, 6:])))"
   ]
  },
  {
   "cell_type": "code",
   "execution_count": 54,
   "metadata": {},
   "outputs": [],
   "source": [
    "def create_results_df(results, ensemble=False):\n",
    "    new_keys = [k for k in results['smape'].keys() if not k.isdigit()]\n",
    "    columns = ['input_len', 'output_len', 'loss', 'bottleneck_size',\n",
    "               'bottleneck_activation', 'LSTM_type', 'num']\n",
    "    if ensemble:\n",
    "        columns.pop()\n",
    "        \n",
    "    df = pd.DataFrame([k.split('__') for k in new_keys],\n",
    "                   columns=columns)\n",
    "    \n",
    "    for column in ('input_len', 'output_len', 'loss',\n",
    "                    'bottleneck_size', 'bottleneck_activation',\n",
    "                    'LSTM_type'):\n",
    "        \n",
    "        df[column] = df[column].apply(lambda x: x.split('_')[1])\n",
    "            \n",
    "    df['smape'] = [results['smape'][k][0] if results['smape'][k] else np.nan for k in new_keys]\n",
    "    df['mase*'] = [results['mase'][k][0] if results['mase'][k] else np.nan for k in new_keys]\n",
    "    \n",
    "    return df"
   ]
  },
  {
   "cell_type": "code",
   "execution_count": 55,
   "metadata": {},
   "outputs": [],
   "source": [
    "df = create_results_df(results)"
   ]
  },
  {
   "cell_type": "code",
   "execution_count": 56,
   "metadata": {},
   "outputs": [
    {
     "data": {
      "text/html": [
       "<div>\n",
       "<style scoped>\n",
       "    .dataframe tbody tr th:only-of-type {\n",
       "        vertical-align: middle;\n",
       "    }\n",
       "\n",
       "    .dataframe tbody tr th {\n",
       "        vertical-align: top;\n",
       "    }\n",
       "\n",
       "    .dataframe thead th {\n",
       "        text-align: right;\n",
       "    }\n",
       "</style>\n",
       "<table border=\"1\" class=\"dataframe\">\n",
       "  <thead>\n",
       "    <tr style=\"text-align: right;\">\n",
       "      <th></th>\n",
       "      <th>input_len</th>\n",
       "      <th>output_len</th>\n",
       "      <th>loss</th>\n",
       "      <th>bottleneck_size</th>\n",
       "      <th>bottleneck_activation</th>\n",
       "      <th>LSTM_type</th>\n",
       "      <th>num</th>\n",
       "      <th>smape</th>\n",
       "      <th>mase*</th>\n",
       "    </tr>\n",
       "  </thead>\n",
       "  <tbody>\n",
       "    <tr>\n",
       "      <th>83</th>\n",
       "      <td>12</td>\n",
       "      <td>12</td>\n",
       "      <td>mae</td>\n",
       "      <td>50</td>\n",
       "      <td>leaky</td>\n",
       "      <td>bi</td>\n",
       "      <td>5</td>\n",
       "      <td>13.150599</td>\n",
       "      <td>2.463560</td>\n",
       "    </tr>\n",
       "    <tr>\n",
       "      <th>21</th>\n",
       "      <td>12</td>\n",
       "      <td>12</td>\n",
       "      <td>mae</td>\n",
       "      <td>50</td>\n",
       "      <td>relu</td>\n",
       "      <td>bi</td>\n",
       "      <td>1</td>\n",
       "      <td>13.204066</td>\n",
       "      <td>2.486077</td>\n",
       "    </tr>\n",
       "    <tr>\n",
       "      <th>104</th>\n",
       "      <td>12</td>\n",
       "      <td>12</td>\n",
       "      <td>mae</td>\n",
       "      <td>100</td>\n",
       "      <td>leaky</td>\n",
       "      <td>bi</td>\n",
       "      <td>3</td>\n",
       "      <td>13.220715</td>\n",
       "      <td>2.488784</td>\n",
       "    </tr>\n",
       "    <tr>\n",
       "      <th>53</th>\n",
       "      <td>12</td>\n",
       "      <td>12</td>\n",
       "      <td>mae</td>\n",
       "      <td>25</td>\n",
       "      <td>tanh</td>\n",
       "      <td>bi</td>\n",
       "      <td>2</td>\n",
       "      <td>13.222986</td>\n",
       "      <td>2.488183</td>\n",
       "    </tr>\n",
       "    <tr>\n",
       "      <th>56</th>\n",
       "      <td>12</td>\n",
       "      <td>12</td>\n",
       "      <td>mae</td>\n",
       "      <td>25</td>\n",
       "      <td>relu</td>\n",
       "      <td>bi</td>\n",
       "      <td>3</td>\n",
       "      <td>13.223019</td>\n",
       "      <td>2.485225</td>\n",
       "    </tr>\n",
       "    <tr>\n",
       "      <th>...</th>\n",
       "      <td>...</td>\n",
       "      <td>...</td>\n",
       "      <td>...</td>\n",
       "      <td>...</td>\n",
       "      <td>...</td>\n",
       "      <td>...</td>\n",
       "      <td>...</td>\n",
       "      <td>...</td>\n",
       "      <td>...</td>\n",
       "    </tr>\n",
       "    <tr>\n",
       "      <th>41</th>\n",
       "      <td>12</td>\n",
       "      <td>12</td>\n",
       "      <td>mae</td>\n",
       "      <td>50</td>\n",
       "      <td>leaky</td>\n",
       "      <td>uni</td>\n",
       "      <td>3</td>\n",
       "      <td>13.638560</td>\n",
       "      <td>2.610401</td>\n",
       "    </tr>\n",
       "    <tr>\n",
       "      <th>27</th>\n",
       "      <td>12</td>\n",
       "      <td>12</td>\n",
       "      <td>mae</td>\n",
       "      <td>25</td>\n",
       "      <td>leaky</td>\n",
       "      <td>uni</td>\n",
       "      <td>7</td>\n",
       "      <td>13.648280</td>\n",
       "      <td>2.520414</td>\n",
       "    </tr>\n",
       "    <tr>\n",
       "      <th>91</th>\n",
       "      <td>12</td>\n",
       "      <td>12</td>\n",
       "      <td>mae</td>\n",
       "      <td>50</td>\n",
       "      <td>relu</td>\n",
       "      <td>bi</td>\n",
       "      <td>4</td>\n",
       "      <td>13.747935</td>\n",
       "      <td>2.573454</td>\n",
       "    </tr>\n",
       "    <tr>\n",
       "      <th>114</th>\n",
       "      <td>12</td>\n",
       "      <td>12</td>\n",
       "      <td>mae</td>\n",
       "      <td>25</td>\n",
       "      <td>tanh</td>\n",
       "      <td>uni</td>\n",
       "      <td>3</td>\n",
       "      <td>13.784612</td>\n",
       "      <td>2.611486</td>\n",
       "    </tr>\n",
       "    <tr>\n",
       "      <th>33</th>\n",
       "      <td>12</td>\n",
       "      <td>12</td>\n",
       "      <td>mae</td>\n",
       "      <td>25</td>\n",
       "      <td>relu</td>\n",
       "      <td>uni</td>\n",
       "      <td>7</td>\n",
       "      <td>13.920817</td>\n",
       "      <td>2.615967</td>\n",
       "    </tr>\n",
       "  </tbody>\n",
       "</table>\n",
       "<p>135 rows × 9 columns</p>\n",
       "</div>"
      ],
      "text/plain": [
       "    input_len output_len loss bottleneck_size bottleneck_activation LSTM_type  \\\n",
       "83         12         12  mae              50                 leaky        bi   \n",
       "21         12         12  mae              50                  relu        bi   \n",
       "104        12         12  mae             100                 leaky        bi   \n",
       "53         12         12  mae              25                  tanh        bi   \n",
       "56         12         12  mae              25                  relu        bi   \n",
       "..        ...        ...  ...             ...                   ...       ...   \n",
       "41         12         12  mae              50                 leaky       uni   \n",
       "27         12         12  mae              25                 leaky       uni   \n",
       "91         12         12  mae              50                  relu        bi   \n",
       "114        12         12  mae              25                  tanh       uni   \n",
       "33         12         12  mae              25                  relu       uni   \n",
       "\n",
       "    num      smape     mase*  \n",
       "83    5  13.150599  2.463560  \n",
       "21    1  13.204066  2.486077  \n",
       "104   3  13.220715  2.488784  \n",
       "53    2  13.222986  2.488183  \n",
       "56    3  13.223019  2.485225  \n",
       "..   ..        ...       ...  \n",
       "41    3  13.638560  2.610401  \n",
       "27    7  13.648280  2.520414  \n",
       "91    4  13.747935  2.573454  \n",
       "114   3  13.784612  2.611486  \n",
       "33    7  13.920817  2.615967  \n",
       "\n",
       "[135 rows x 9 columns]"
      ]
     },
     "execution_count": 56,
     "metadata": {},
     "output_type": "execute_result"
    }
   ],
   "source": [
    "df.sort_values('smape')"
   ]
  },
  {
   "cell_type": "code",
   "execution_count": 42,
   "metadata": {},
   "outputs": [
    {
     "data": {
      "text/plain": [
       "loss  bottleneck_size  bottleneck_activation  LSTM_type\n",
       "mae   100              leaky                  bi           13.385511\n",
       "                                              uni          13.374092\n",
       "      25               leaky                  bi           13.434750\n",
       "                                              uni          13.485872\n",
       "                       relu                   bi           13.356209\n",
       "                                              uni          13.486923\n",
       "                       tanh                   bi           13.407217\n",
       "                                              uni          13.395098\n",
       "      50               leaky                  bi           13.381620\n",
       "                                              uni          13.458044\n",
       "                       relu                   bi           13.383894\n",
       "                                              uni          13.394240\n",
       "                       tanh                   bi           13.342429\n",
       "                                              uni          13.400151\n",
       "Name: smape, dtype: float64"
      ]
     },
     "execution_count": 42,
     "metadata": {},
     "output_type": "execute_result"
    }
   ],
   "source": [
    "df.groupby(['loss', 'bottleneck_size', 'bottleneck_activation', 'LSTM_type'])['smape'].mean()"
   ]
  },
  {
   "cell_type": "code",
   "execution_count": 23,
   "metadata": {},
   "outputs": [],
   "source": [
    "df.to_csv('../reports/result_df.csv', index=False)"
   ]
  },
  {
   "cell_type": "markdown",
   "metadata": {},
   "source": [
    "### 10 models median"
   ]
  },
  {
   "cell_type": "code",
   "execution_count": 15,
   "metadata": {},
   "outputs": [
    {
     "name": "stderr",
     "output_type": "stream",
     "text": [
      "\r",
      "  0%|          | 0/135 [00:00<?, ?it/s]"
     ]
    },
    {
     "name": "stdout",
     "output_type": "stream",
     "text": [
      "inp_12__out_12__loss_mae__bksize_25__bkact_leaky__dir_bi 0\n",
      "/home/thanos/projects/ae_pred/analysis/../results/inp_12__out_12__loss_mae__bksize_25__bkact_leaky__dir_bi__0/best_weights.h5\n"
     ]
    },
    {
     "name": "stderr",
     "output_type": "stream",
     "text": [
      "/home/thanos/.envs/fsu/lib/python3.6/site-packages/ipykernel_launcher.py:9: RuntimeWarning: invalid value encountered in true_divide\n",
      "  if __name__ == '__main__':\n"
     ]
    },
    {
     "name": "stdout",
     "output_type": "stream",
     "text": [
      "inp_12__out_12__loss_mae__bksize_25__bkact_leaky__dir_bi 1\n",
      "/home/thanos/projects/ae_pred/analysis/../results/inp_12__out_12__loss_mae__bksize_25__bkact_leaky__dir_bi__1/best_weights.h5\n"
     ]
    },
    {
     "name": "stderr",
     "output_type": "stream",
     "text": [
      "/home/thanos/.envs/fsu/lib/python3.6/site-packages/ipykernel_launcher.py:9: RuntimeWarning: invalid value encountered in true_divide\n",
      "  if __name__ == '__main__':\n"
     ]
    },
    {
     "name": "stdout",
     "output_type": "stream",
     "text": [
      "inp_12__out_12__loss_mae__bksize_25__bkact_leaky__dir_bi 2\n",
      "/home/thanos/projects/ae_pred/analysis/../results/inp_12__out_12__loss_mae__bksize_25__bkact_leaky__dir_bi__2/best_weights.h5\n"
     ]
    },
    {
     "name": "stderr",
     "output_type": "stream",
     "text": [
      "/home/thanos/.envs/fsu/lib/python3.6/site-packages/ipykernel_launcher.py:9: RuntimeWarning: invalid value encountered in true_divide\n",
      "  if __name__ == '__main__':\n"
     ]
    },
    {
     "name": "stdout",
     "output_type": "stream",
     "text": [
      "inp_12__out_12__loss_mae__bksize_25__bkact_leaky__dir_bi 3\n",
      "/home/thanos/projects/ae_pred/analysis/../results/inp_12__out_12__loss_mae__bksize_25__bkact_leaky__dir_bi__3/best_weights.h5\n"
     ]
    },
    {
     "name": "stderr",
     "output_type": "stream",
     "text": [
      "/home/thanos/.envs/fsu/lib/python3.6/site-packages/ipykernel_launcher.py:9: RuntimeWarning: invalid value encountered in true_divide\n",
      "  if __name__ == '__main__':\n"
     ]
    },
    {
     "name": "stdout",
     "output_type": "stream",
     "text": [
      "inp_12__out_12__loss_mae__bksize_25__bkact_leaky__dir_bi 4\n",
      "/home/thanos/projects/ae_pred/analysis/../results/inp_12__out_12__loss_mae__bksize_25__bkact_leaky__dir_bi__4/best_weights.h5\n"
     ]
    },
    {
     "name": "stderr",
     "output_type": "stream",
     "text": [
      "/home/thanos/.envs/fsu/lib/python3.6/site-packages/ipykernel_launcher.py:9: RuntimeWarning: invalid value encountered in true_divide\n",
      "  if __name__ == '__main__':\n"
     ]
    },
    {
     "name": "stdout",
     "output_type": "stream",
     "text": [
      "inp_12__out_12__loss_mae__bksize_25__bkact_leaky__dir_bi 5\n",
      "/home/thanos/projects/ae_pred/analysis/../results/inp_12__out_12__loss_mae__bksize_25__bkact_leaky__dir_bi__5/best_weights.h5\n"
     ]
    },
    {
     "name": "stderr",
     "output_type": "stream",
     "text": [
      "/home/thanos/.envs/fsu/lib/python3.6/site-packages/ipykernel_launcher.py:9: RuntimeWarning: invalid value encountered in true_divide\n",
      "  if __name__ == '__main__':\n"
     ]
    },
    {
     "name": "stdout",
     "output_type": "stream",
     "text": [
      "inp_12__out_12__loss_mae__bksize_25__bkact_leaky__dir_bi 6\n",
      "/home/thanos/projects/ae_pred/analysis/../results/inp_12__out_12__loss_mae__bksize_25__bkact_leaky__dir_bi__6/best_weights.h5\n"
     ]
    },
    {
     "name": "stderr",
     "output_type": "stream",
     "text": [
      "/home/thanos/.envs/fsu/lib/python3.6/site-packages/ipykernel_launcher.py:9: RuntimeWarning: invalid value encountered in true_divide\n",
      "  if __name__ == '__main__':\n"
     ]
    },
    {
     "name": "stdout",
     "output_type": "stream",
     "text": [
      "inp_12__out_12__loss_mae__bksize_25__bkact_leaky__dir_bi 7\n",
      "/home/thanos/projects/ae_pred/analysis/../results/inp_12__out_12__loss_mae__bksize_25__bkact_leaky__dir_bi__7/best_weights.h5\n"
     ]
    },
    {
     "name": "stderr",
     "output_type": "stream",
     "text": [
      "/home/thanos/.envs/fsu/lib/python3.6/site-packages/ipykernel_launcher.py:9: RuntimeWarning: invalid value encountered in true_divide\n",
      "  if __name__ == '__main__':\n"
     ]
    },
    {
     "name": "stdout",
     "output_type": "stream",
     "text": [
      "inp_12__out_12__loss_mae__bksize_25__bkact_leaky__dir_bi 8\n",
      "/home/thanos/projects/ae_pred/analysis/../results/inp_12__out_12__loss_mae__bksize_25__bkact_leaky__dir_bi__8/best_weights.h5\n"
     ]
    },
    {
     "name": "stderr",
     "output_type": "stream",
     "text": [
      "/home/thanos/.envs/fsu/lib/python3.6/site-packages/ipykernel_launcher.py:9: RuntimeWarning: invalid value encountered in true_divide\n",
      "  if __name__ == '__main__':\n"
     ]
    },
    {
     "name": "stdout",
     "output_type": "stream",
     "text": [
      "inp_12__out_12__loss_mae__bksize_25__bkact_leaky__dir_bi 9\n",
      "/home/thanos/projects/ae_pred/analysis/../results/inp_12__out_12__loss_mae__bksize_25__bkact_leaky__dir_bi__9/best_weights.h5\n"
     ]
    },
    {
     "name": "stderr",
     "output_type": "stream",
     "text": [
      "/home/thanos/.envs/fsu/lib/python3.6/site-packages/ipykernel_launcher.py:9: RuntimeWarning: invalid value encountered in true_divide\n",
      "  if __name__ == '__main__':\n",
      "  1%|          | 1/135 [02:09<4:50:14, 129.96s/it]"
     ]
    },
    {
     "name": "stdout",
     "output_type": "stream",
     "text": [
      "inp_12__out_12__loss_mae__bksize_50__bkact_tanh__dir_uni 0\n",
      "/home/thanos/projects/ae_pred/analysis/../results/inp_12__out_12__loss_mae__bksize_50__bkact_tanh__dir_uni__0/best_weights.h5\n"
     ]
    },
    {
     "name": "stderr",
     "output_type": "stream",
     "text": [
      "/home/thanos/.envs/fsu/lib/python3.6/site-packages/ipykernel_launcher.py:9: RuntimeWarning: invalid value encountered in true_divide\n",
      "  if __name__ == '__main__':\n"
     ]
    },
    {
     "name": "stdout",
     "output_type": "stream",
     "text": [
      "inp_12__out_12__loss_mae__bksize_50__bkact_tanh__dir_uni 1\n",
      "/home/thanos/projects/ae_pred/analysis/../results/inp_12__out_12__loss_mae__bksize_50__bkact_tanh__dir_uni__1/best_weights.h5\n"
     ]
    },
    {
     "name": "stderr",
     "output_type": "stream",
     "text": [
      "/home/thanos/.envs/fsu/lib/python3.6/site-packages/ipykernel_launcher.py:9: RuntimeWarning: invalid value encountered in true_divide\n",
      "  if __name__ == '__main__':\n"
     ]
    },
    {
     "name": "stdout",
     "output_type": "stream",
     "text": [
      "inp_12__out_12__loss_mae__bksize_50__bkact_tanh__dir_uni 2\n",
      "/home/thanos/projects/ae_pred/analysis/../results/inp_12__out_12__loss_mae__bksize_50__bkact_tanh__dir_uni__2/best_weights.h5\n"
     ]
    },
    {
     "name": "stderr",
     "output_type": "stream",
     "text": [
      "/home/thanos/.envs/fsu/lib/python3.6/site-packages/ipykernel_launcher.py:9: RuntimeWarning: invalid value encountered in true_divide\n",
      "  if __name__ == '__main__':\n"
     ]
    },
    {
     "name": "stdout",
     "output_type": "stream",
     "text": [
      "inp_12__out_12__loss_mae__bksize_50__bkact_tanh__dir_uni 3\n",
      "/home/thanos/projects/ae_pred/analysis/../results/inp_12__out_12__loss_mae__bksize_50__bkact_tanh__dir_uni__3/best_weights.h5\n"
     ]
    },
    {
     "name": "stderr",
     "output_type": "stream",
     "text": [
      "/home/thanos/.envs/fsu/lib/python3.6/site-packages/ipykernel_launcher.py:9: RuntimeWarning: invalid value encountered in true_divide\n",
      "  if __name__ == '__main__':\n"
     ]
    },
    {
     "name": "stdout",
     "output_type": "stream",
     "text": [
      "inp_12__out_12__loss_mae__bksize_50__bkact_tanh__dir_uni 4\n",
      "/home/thanos/projects/ae_pred/analysis/../results/inp_12__out_12__loss_mae__bksize_50__bkact_tanh__dir_uni__4/best_weights.h5\n"
     ]
    },
    {
     "name": "stderr",
     "output_type": "stream",
     "text": [
      "/home/thanos/.envs/fsu/lib/python3.6/site-packages/ipykernel_launcher.py:9: RuntimeWarning: invalid value encountered in true_divide\n",
      "  if __name__ == '__main__':\n"
     ]
    },
    {
     "name": "stdout",
     "output_type": "stream",
     "text": [
      "inp_12__out_12__loss_mae__bksize_50__bkact_tanh__dir_uni 5\n",
      "/home/thanos/projects/ae_pred/analysis/../results/inp_12__out_12__loss_mae__bksize_50__bkact_tanh__dir_uni__5/best_weights.h5\n"
     ]
    },
    {
     "name": "stderr",
     "output_type": "stream",
     "text": [
      "/home/thanos/.envs/fsu/lib/python3.6/site-packages/ipykernel_launcher.py:9: RuntimeWarning: invalid value encountered in true_divide\n",
      "  if __name__ == '__main__':\n"
     ]
    },
    {
     "name": "stdout",
     "output_type": "stream",
     "text": [
      "inp_12__out_12__loss_mae__bksize_50__bkact_tanh__dir_uni 6\n",
      "/home/thanos/projects/ae_pred/analysis/../results/inp_12__out_12__loss_mae__bksize_50__bkact_tanh__dir_uni__6/best_weights.h5\n"
     ]
    },
    {
     "name": "stderr",
     "output_type": "stream",
     "text": [
      "/home/thanos/.envs/fsu/lib/python3.6/site-packages/ipykernel_launcher.py:9: RuntimeWarning: invalid value encountered in true_divide\n",
      "  if __name__ == '__main__':\n"
     ]
    },
    {
     "name": "stdout",
     "output_type": "stream",
     "text": [
      "inp_12__out_12__loss_mae__bksize_50__bkact_tanh__dir_uni 7\n",
      "/home/thanos/projects/ae_pred/analysis/../results/inp_12__out_12__loss_mae__bksize_50__bkact_tanh__dir_uni__7/best_weights.h5\n"
     ]
    },
    {
     "name": "stderr",
     "output_type": "stream",
     "text": [
      "/home/thanos/.envs/fsu/lib/python3.6/site-packages/ipykernel_launcher.py:9: RuntimeWarning: invalid value encountered in true_divide\n",
      "  if __name__ == '__main__':\n"
     ]
    },
    {
     "name": "stdout",
     "output_type": "stream",
     "text": [
      "inp_12__out_12__loss_mae__bksize_50__bkact_tanh__dir_uni 8\n",
      "/home/thanos/projects/ae_pred/analysis/../results/inp_12__out_12__loss_mae__bksize_50__bkact_tanh__dir_uni__8/best_weights.h5\n"
     ]
    },
    {
     "name": "stderr",
     "output_type": "stream",
     "text": [
      "/home/thanos/.envs/fsu/lib/python3.6/site-packages/ipykernel_launcher.py:9: RuntimeWarning: invalid value encountered in true_divide\n",
      "  if __name__ == '__main__':\n"
     ]
    },
    {
     "name": "stdout",
     "output_type": "stream",
     "text": [
      "inp_12__out_12__loss_mae__bksize_50__bkact_tanh__dir_uni 9\n",
      "/home/thanos/projects/ae_pred/analysis/../results/inp_12__out_12__loss_mae__bksize_50__bkact_tanh__dir_uni__9/best_weights.h5\n"
     ]
    },
    {
     "name": "stderr",
     "output_type": "stream",
     "text": [
      "/home/thanos/.envs/fsu/lib/python3.6/site-packages/ipykernel_launcher.py:9: RuntimeWarning: invalid value encountered in true_divide\n",
      "  if __name__ == '__main__':\n",
      "  1%|▏         | 2/135 [03:13<4:04:01, 110.08s/it]"
     ]
    },
    {
     "name": "stdout",
     "output_type": "stream",
     "text": [
      "inp_12__out_12__loss_mae__bksize_50__bkact_relu__dir_uni 0\n",
      "/home/thanos/projects/ae_pred/analysis/../results/inp_12__out_12__loss_mae__bksize_50__bkact_relu__dir_uni__0/best_weights.h5\n"
     ]
    },
    {
     "name": "stderr",
     "output_type": "stream",
     "text": [
      "/home/thanos/.envs/fsu/lib/python3.6/site-packages/ipykernel_launcher.py:9: RuntimeWarning: invalid value encountered in true_divide\n",
      "  if __name__ == '__main__':\n"
     ]
    },
    {
     "name": "stdout",
     "output_type": "stream",
     "text": [
      "inp_12__out_12__loss_mae__bksize_50__bkact_relu__dir_uni 1\n",
      "/home/thanos/projects/ae_pred/analysis/../results/inp_12__out_12__loss_mae__bksize_50__bkact_relu__dir_uni__1/best_weights.h5\n"
     ]
    },
    {
     "name": "stderr",
     "output_type": "stream",
     "text": [
      "/home/thanos/.envs/fsu/lib/python3.6/site-packages/ipykernel_launcher.py:9: RuntimeWarning: invalid value encountered in true_divide\n",
      "  if __name__ == '__main__':\n"
     ]
    },
    {
     "name": "stdout",
     "output_type": "stream",
     "text": [
      "inp_12__out_12__loss_mae__bksize_50__bkact_relu__dir_uni 2\n",
      "/home/thanos/projects/ae_pred/analysis/../results/inp_12__out_12__loss_mae__bksize_50__bkact_relu__dir_uni__2/best_weights.h5\n"
     ]
    },
    {
     "name": "stderr",
     "output_type": "stream",
     "text": [
      "/home/thanos/.envs/fsu/lib/python3.6/site-packages/ipykernel_launcher.py:9: RuntimeWarning: invalid value encountered in true_divide\n",
      "  if __name__ == '__main__':\n"
     ]
    },
    {
     "name": "stdout",
     "output_type": "stream",
     "text": [
      "inp_12__out_12__loss_mae__bksize_50__bkact_relu__dir_uni 3\n",
      "/home/thanos/projects/ae_pred/analysis/../results/inp_12__out_12__loss_mae__bksize_50__bkact_relu__dir_uni__3/best_weights.h5\n"
     ]
    },
    {
     "name": "stderr",
     "output_type": "stream",
     "text": [
      "/home/thanos/.envs/fsu/lib/python3.6/site-packages/ipykernel_launcher.py:9: RuntimeWarning: invalid value encountered in true_divide\n",
      "  if __name__ == '__main__':\n"
     ]
    },
    {
     "name": "stdout",
     "output_type": "stream",
     "text": [
      "inp_12__out_12__loss_mae__bksize_50__bkact_relu__dir_uni 4\n",
      "/home/thanos/projects/ae_pred/analysis/../results/inp_12__out_12__loss_mae__bksize_50__bkact_relu__dir_uni__4/best_weights.h5\n"
     ]
    },
    {
     "name": "stderr",
     "output_type": "stream",
     "text": [
      "/home/thanos/.envs/fsu/lib/python3.6/site-packages/ipykernel_launcher.py:9: RuntimeWarning: invalid value encountered in true_divide\n",
      "  if __name__ == '__main__':\n"
     ]
    },
    {
     "name": "stdout",
     "output_type": "stream",
     "text": [
      "inp_12__out_12__loss_mae__bksize_50__bkact_relu__dir_uni 5\n",
      "/home/thanos/projects/ae_pred/analysis/../results/inp_12__out_12__loss_mae__bksize_50__bkact_relu__dir_uni__5/best_weights.h5\n"
     ]
    },
    {
     "name": "stderr",
     "output_type": "stream",
     "text": [
      "/home/thanos/.envs/fsu/lib/python3.6/site-packages/ipykernel_launcher.py:9: RuntimeWarning: invalid value encountered in true_divide\n",
      "  if __name__ == '__main__':\n"
     ]
    },
    {
     "name": "stdout",
     "output_type": "stream",
     "text": [
      "inp_12__out_12__loss_mae__bksize_50__bkact_relu__dir_uni 6\n",
      "/home/thanos/projects/ae_pred/analysis/../results/inp_12__out_12__loss_mae__bksize_50__bkact_relu__dir_uni__6/best_weights.h5\n"
     ]
    },
    {
     "name": "stderr",
     "output_type": "stream",
     "text": [
      "/home/thanos/.envs/fsu/lib/python3.6/site-packages/ipykernel_launcher.py:9: RuntimeWarning: invalid value encountered in true_divide\n",
      "  if __name__ == '__main__':\n"
     ]
    },
    {
     "name": "stdout",
     "output_type": "stream",
     "text": [
      "inp_12__out_12__loss_mae__bksize_50__bkact_relu__dir_uni 7\n",
      "/home/thanos/projects/ae_pred/analysis/../results/inp_12__out_12__loss_mae__bksize_50__bkact_relu__dir_uni__7/best_weights.h5\n"
     ]
    },
    {
     "name": "stderr",
     "output_type": "stream",
     "text": [
      "/home/thanos/.envs/fsu/lib/python3.6/site-packages/ipykernel_launcher.py:9: RuntimeWarning: invalid value encountered in true_divide\n",
      "  if __name__ == '__main__':\n"
     ]
    },
    {
     "name": "stdout",
     "output_type": "stream",
     "text": [
      "inp_12__out_12__loss_mae__bksize_50__bkact_relu__dir_uni 8\n",
      "/home/thanos/projects/ae_pred/analysis/../results/inp_12__out_12__loss_mae__bksize_50__bkact_relu__dir_uni__8/best_weights.h5\n"
     ]
    },
    {
     "name": "stderr",
     "output_type": "stream",
     "text": [
      "/home/thanos/.envs/fsu/lib/python3.6/site-packages/ipykernel_launcher.py:9: RuntimeWarning: invalid value encountered in true_divide\n",
      "  if __name__ == '__main__':\n"
     ]
    },
    {
     "name": "stdout",
     "output_type": "stream",
     "text": [
      "inp_12__out_12__loss_mae__bksize_50__bkact_relu__dir_uni 9\n",
      "/home/thanos/projects/ae_pred/analysis/../results/inp_12__out_12__loss_mae__bksize_50__bkact_relu__dir_uni__9/best_weights.h5\n"
     ]
    },
    {
     "name": "stderr",
     "output_type": "stream",
     "text": [
      "/home/thanos/.envs/fsu/lib/python3.6/site-packages/ipykernel_launcher.py:9: RuntimeWarning: invalid value encountered in true_divide\n",
      "  if __name__ == '__main__':\n",
      "  2%|▏         | 3/135 [04:17<3:31:54, 96.32s/it] "
     ]
    },
    {
     "name": "stdout",
     "output_type": "stream",
     "text": [
      "inp_12__out_12__loss_mae__bksize_50__bkact_tanh__dir_bi 0\n",
      "/home/thanos/projects/ae_pred/analysis/../results/inp_12__out_12__loss_mae__bksize_50__bkact_tanh__dir_bi__0/best_weights.h5\n"
     ]
    },
    {
     "name": "stderr",
     "output_type": "stream",
     "text": [
      "/home/thanos/.envs/fsu/lib/python3.6/site-packages/ipykernel_launcher.py:9: RuntimeWarning: invalid value encountered in true_divide\n",
      "  if __name__ == '__main__':\n"
     ]
    },
    {
     "name": "stdout",
     "output_type": "stream",
     "text": [
      "inp_12__out_12__loss_mae__bksize_50__bkact_tanh__dir_bi 1\n",
      "/home/thanos/projects/ae_pred/analysis/../results/inp_12__out_12__loss_mae__bksize_50__bkact_tanh__dir_bi__1/best_weights.h5\n"
     ]
    },
    {
     "name": "stderr",
     "output_type": "stream",
     "text": [
      "/home/thanos/.envs/fsu/lib/python3.6/site-packages/ipykernel_launcher.py:9: RuntimeWarning: invalid value encountered in true_divide\n",
      "  if __name__ == '__main__':\n"
     ]
    },
    {
     "name": "stdout",
     "output_type": "stream",
     "text": [
      "inp_12__out_12__loss_mae__bksize_50__bkact_tanh__dir_bi 2\n",
      "/home/thanos/projects/ae_pred/analysis/../results/inp_12__out_12__loss_mae__bksize_50__bkact_tanh__dir_bi__2/best_weights.h5\n"
     ]
    },
    {
     "name": "stderr",
     "output_type": "stream",
     "text": [
      "/home/thanos/.envs/fsu/lib/python3.6/site-packages/ipykernel_launcher.py:9: RuntimeWarning: invalid value encountered in true_divide\n",
      "  if __name__ == '__main__':\n"
     ]
    },
    {
     "name": "stdout",
     "output_type": "stream",
     "text": [
      "inp_12__out_12__loss_mae__bksize_50__bkact_tanh__dir_bi 3\n",
      "/home/thanos/projects/ae_pred/analysis/../results/inp_12__out_12__loss_mae__bksize_50__bkact_tanh__dir_bi__3/best_weights.h5\n"
     ]
    },
    {
     "name": "stderr",
     "output_type": "stream",
     "text": [
      "/home/thanos/.envs/fsu/lib/python3.6/site-packages/ipykernel_launcher.py:9: RuntimeWarning: invalid value encountered in true_divide\n",
      "  if __name__ == '__main__':\n"
     ]
    },
    {
     "name": "stdout",
     "output_type": "stream",
     "text": [
      "inp_12__out_12__loss_mae__bksize_50__bkact_tanh__dir_bi 4\n",
      "/home/thanos/projects/ae_pred/analysis/../results/inp_12__out_12__loss_mae__bksize_50__bkact_tanh__dir_bi__4/best_weights.h5\n"
     ]
    },
    {
     "name": "stderr",
     "output_type": "stream",
     "text": [
      "/home/thanos/.envs/fsu/lib/python3.6/site-packages/ipykernel_launcher.py:9: RuntimeWarning: invalid value encountered in true_divide\n",
      "  if __name__ == '__main__':\n"
     ]
    },
    {
     "name": "stdout",
     "output_type": "stream",
     "text": [
      "inp_12__out_12__loss_mae__bksize_50__bkact_tanh__dir_bi 5\n",
      "/home/thanos/projects/ae_pred/analysis/../results/inp_12__out_12__loss_mae__bksize_50__bkact_tanh__dir_bi__5/best_weights.h5\n"
     ]
    },
    {
     "name": "stderr",
     "output_type": "stream",
     "text": [
      "/home/thanos/.envs/fsu/lib/python3.6/site-packages/ipykernel_launcher.py:9: RuntimeWarning: invalid value encountered in true_divide\n",
      "  if __name__ == '__main__':\n"
     ]
    },
    {
     "name": "stdout",
     "output_type": "stream",
     "text": [
      "inp_12__out_12__loss_mae__bksize_50__bkact_tanh__dir_bi 6\n",
      "/home/thanos/projects/ae_pred/analysis/../results/inp_12__out_12__loss_mae__bksize_50__bkact_tanh__dir_bi__6/best_weights.h5\n"
     ]
    },
    {
     "name": "stderr",
     "output_type": "stream",
     "text": [
      "/home/thanos/.envs/fsu/lib/python3.6/site-packages/ipykernel_launcher.py:9: RuntimeWarning: invalid value encountered in true_divide\n",
      "  if __name__ == '__main__':\n"
     ]
    },
    {
     "name": "stdout",
     "output_type": "stream",
     "text": [
      "inp_12__out_12__loss_mae__bksize_50__bkact_tanh__dir_bi 7\n",
      "/home/thanos/projects/ae_pred/analysis/../results/inp_12__out_12__loss_mae__bksize_50__bkact_tanh__dir_bi__7/best_weights.h5\n"
     ]
    },
    {
     "name": "stderr",
     "output_type": "stream",
     "text": [
      "/home/thanos/.envs/fsu/lib/python3.6/site-packages/ipykernel_launcher.py:9: RuntimeWarning: invalid value encountered in true_divide\n",
      "  if __name__ == '__main__':\n"
     ]
    },
    {
     "name": "stdout",
     "output_type": "stream",
     "text": [
      "inp_12__out_12__loss_mae__bksize_50__bkact_tanh__dir_bi 8\n",
      "/home/thanos/projects/ae_pred/analysis/../results/inp_12__out_12__loss_mae__bksize_50__bkact_tanh__dir_bi__8/best_weights.h5\n"
     ]
    },
    {
     "name": "stderr",
     "output_type": "stream",
     "text": [
      "/home/thanos/.envs/fsu/lib/python3.6/site-packages/ipykernel_launcher.py:9: RuntimeWarning: invalid value encountered in true_divide\n",
      "  if __name__ == '__main__':\n"
     ]
    },
    {
     "name": "stdout",
     "output_type": "stream",
     "text": [
      "inp_12__out_12__loss_mae__bksize_50__bkact_tanh__dir_bi 9\n",
      "/home/thanos/projects/ae_pred/analysis/../results/inp_12__out_12__loss_mae__bksize_50__bkact_tanh__dir_bi__9/best_weights.h5\n"
     ]
    },
    {
     "name": "stderr",
     "output_type": "stream",
     "text": [
      "/home/thanos/.envs/fsu/lib/python3.6/site-packages/ipykernel_launcher.py:9: RuntimeWarning: invalid value encountered in true_divide\n",
      "  if __name__ == '__main__':\n",
      "  3%|▎         | 4/135 [06:30<3:54:15, 107.29s/it]"
     ]
    },
    {
     "name": "stdout",
     "output_type": "stream",
     "text": [
      "inp_12__out_12__loss_mae__bksize_50__bkact_tanh__dir_bi 0\n",
      "/home/thanos/projects/ae_pred/analysis/../results/inp_12__out_12__loss_mae__bksize_50__bkact_tanh__dir_bi__0/best_weights.h5\n"
     ]
    },
    {
     "name": "stderr",
     "output_type": "stream",
     "text": [
      "/home/thanos/.envs/fsu/lib/python3.6/site-packages/ipykernel_launcher.py:9: RuntimeWarning: invalid value encountered in true_divide\n",
      "  if __name__ == '__main__':\n"
     ]
    },
    {
     "name": "stdout",
     "output_type": "stream",
     "text": [
      "inp_12__out_12__loss_mae__bksize_50__bkact_tanh__dir_bi 1\n",
      "/home/thanos/projects/ae_pred/analysis/../results/inp_12__out_12__loss_mae__bksize_50__bkact_tanh__dir_bi__1/best_weights.h5\n"
     ]
    },
    {
     "name": "stderr",
     "output_type": "stream",
     "text": [
      "/home/thanos/.envs/fsu/lib/python3.6/site-packages/ipykernel_launcher.py:9: RuntimeWarning: invalid value encountered in true_divide\n",
      "  if __name__ == '__main__':\n"
     ]
    },
    {
     "name": "stdout",
     "output_type": "stream",
     "text": [
      "inp_12__out_12__loss_mae__bksize_50__bkact_tanh__dir_bi 2\n",
      "/home/thanos/projects/ae_pred/analysis/../results/inp_12__out_12__loss_mae__bksize_50__bkact_tanh__dir_bi__2/best_weights.h5\n"
     ]
    },
    {
     "name": "stderr",
     "output_type": "stream",
     "text": [
      "/home/thanos/.envs/fsu/lib/python3.6/site-packages/ipykernel_launcher.py:9: RuntimeWarning: invalid value encountered in true_divide\n",
      "  if __name__ == '__main__':\n"
     ]
    },
    {
     "name": "stdout",
     "output_type": "stream",
     "text": [
      "inp_12__out_12__loss_mae__bksize_50__bkact_tanh__dir_bi 3\n",
      "/home/thanos/projects/ae_pred/analysis/../results/inp_12__out_12__loss_mae__bksize_50__bkact_tanh__dir_bi__3/best_weights.h5\n"
     ]
    },
    {
     "name": "stderr",
     "output_type": "stream",
     "text": [
      "/home/thanos/.envs/fsu/lib/python3.6/site-packages/ipykernel_launcher.py:9: RuntimeWarning: invalid value encountered in true_divide\n",
      "  if __name__ == '__main__':\n"
     ]
    },
    {
     "name": "stdout",
     "output_type": "stream",
     "text": [
      "inp_12__out_12__loss_mae__bksize_50__bkact_tanh__dir_bi 4\n",
      "/home/thanos/projects/ae_pred/analysis/../results/inp_12__out_12__loss_mae__bksize_50__bkact_tanh__dir_bi__4/best_weights.h5\n"
     ]
    },
    {
     "name": "stderr",
     "output_type": "stream",
     "text": [
      "/home/thanos/.envs/fsu/lib/python3.6/site-packages/ipykernel_launcher.py:9: RuntimeWarning: invalid value encountered in true_divide\n",
      "  if __name__ == '__main__':\n"
     ]
    },
    {
     "name": "stdout",
     "output_type": "stream",
     "text": [
      "inp_12__out_12__loss_mae__bksize_50__bkact_tanh__dir_bi 5\n",
      "/home/thanos/projects/ae_pred/analysis/../results/inp_12__out_12__loss_mae__bksize_50__bkact_tanh__dir_bi__5/best_weights.h5\n"
     ]
    },
    {
     "name": "stderr",
     "output_type": "stream",
     "text": [
      "/home/thanos/.envs/fsu/lib/python3.6/site-packages/ipykernel_launcher.py:9: RuntimeWarning: invalid value encountered in true_divide\n",
      "  if __name__ == '__main__':\n"
     ]
    },
    {
     "name": "stdout",
     "output_type": "stream",
     "text": [
      "inp_12__out_12__loss_mae__bksize_50__bkact_tanh__dir_bi 6\n",
      "/home/thanos/projects/ae_pred/analysis/../results/inp_12__out_12__loss_mae__bksize_50__bkact_tanh__dir_bi__6/best_weights.h5\n"
     ]
    },
    {
     "name": "stderr",
     "output_type": "stream",
     "text": [
      "/home/thanos/.envs/fsu/lib/python3.6/site-packages/ipykernel_launcher.py:9: RuntimeWarning: invalid value encountered in true_divide\n",
      "  if __name__ == '__main__':\n"
     ]
    },
    {
     "name": "stdout",
     "output_type": "stream",
     "text": [
      "inp_12__out_12__loss_mae__bksize_50__bkact_tanh__dir_bi 7\n",
      "/home/thanos/projects/ae_pred/analysis/../results/inp_12__out_12__loss_mae__bksize_50__bkact_tanh__dir_bi__7/best_weights.h5\n"
     ]
    },
    {
     "name": "stderr",
     "output_type": "stream",
     "text": [
      "/home/thanos/.envs/fsu/lib/python3.6/site-packages/ipykernel_launcher.py:9: RuntimeWarning: invalid value encountered in true_divide\n",
      "  if __name__ == '__main__':\n"
     ]
    },
    {
     "name": "stdout",
     "output_type": "stream",
     "text": [
      "inp_12__out_12__loss_mae__bksize_50__bkact_tanh__dir_bi 8\n",
      "/home/thanos/projects/ae_pred/analysis/../results/inp_12__out_12__loss_mae__bksize_50__bkact_tanh__dir_bi__8/best_weights.h5\n"
     ]
    },
    {
     "name": "stderr",
     "output_type": "stream",
     "text": [
      "/home/thanos/.envs/fsu/lib/python3.6/site-packages/ipykernel_launcher.py:9: RuntimeWarning: invalid value encountered in true_divide\n",
      "  if __name__ == '__main__':\n"
     ]
    },
    {
     "name": "stdout",
     "output_type": "stream",
     "text": [
      "inp_12__out_12__loss_mae__bksize_50__bkact_tanh__dir_bi 9\n",
      "/home/thanos/projects/ae_pred/analysis/../results/inp_12__out_12__loss_mae__bksize_50__bkact_tanh__dir_bi__9/best_weights.h5\n"
     ]
    },
    {
     "name": "stderr",
     "output_type": "stream",
     "text": [
      "/home/thanos/.envs/fsu/lib/python3.6/site-packages/ipykernel_launcher.py:9: RuntimeWarning: invalid value encountered in true_divide\n",
      "  if __name__ == '__main__':\n",
      "  4%|▎         | 5/135 [08:40<4:06:51, 113.93s/it]"
     ]
    },
    {
     "name": "stdout",
     "output_type": "stream",
     "text": [
      "inp_12__out_12__loss_mae__bksize_50__bkact_relu__dir_bi 0\n",
      "/home/thanos/projects/ae_pred/analysis/../results/inp_12__out_12__loss_mae__bksize_50__bkact_relu__dir_bi__0/best_weights.h5\n"
     ]
    },
    {
     "name": "stderr",
     "output_type": "stream",
     "text": [
      "/home/thanos/.envs/fsu/lib/python3.6/site-packages/ipykernel_launcher.py:9: RuntimeWarning: invalid value encountered in true_divide\n",
      "  if __name__ == '__main__':\n"
     ]
    },
    {
     "name": "stdout",
     "output_type": "stream",
     "text": [
      "inp_12__out_12__loss_mae__bksize_50__bkact_relu__dir_bi 1\n",
      "/home/thanos/projects/ae_pred/analysis/../results/inp_12__out_12__loss_mae__bksize_50__bkact_relu__dir_bi__1/best_weights.h5\n"
     ]
    },
    {
     "name": "stderr",
     "output_type": "stream",
     "text": [
      "/home/thanos/.envs/fsu/lib/python3.6/site-packages/ipykernel_launcher.py:9: RuntimeWarning: invalid value encountered in true_divide\n",
      "  if __name__ == '__main__':\n"
     ]
    },
    {
     "name": "stdout",
     "output_type": "stream",
     "text": [
      "inp_12__out_12__loss_mae__bksize_50__bkact_relu__dir_bi 2\n",
      "/home/thanos/projects/ae_pred/analysis/../results/inp_12__out_12__loss_mae__bksize_50__bkact_relu__dir_bi__2/best_weights.h5\n"
     ]
    },
    {
     "name": "stderr",
     "output_type": "stream",
     "text": [
      "/home/thanos/.envs/fsu/lib/python3.6/site-packages/ipykernel_launcher.py:9: RuntimeWarning: invalid value encountered in true_divide\n",
      "  if __name__ == '__main__':\n"
     ]
    },
    {
     "name": "stdout",
     "output_type": "stream",
     "text": [
      "inp_12__out_12__loss_mae__bksize_50__bkact_relu__dir_bi 3\n",
      "/home/thanos/projects/ae_pred/analysis/../results/inp_12__out_12__loss_mae__bksize_50__bkact_relu__dir_bi__3/best_weights.h5\n"
     ]
    },
    {
     "name": "stderr",
     "output_type": "stream",
     "text": [
      "/home/thanos/.envs/fsu/lib/python3.6/site-packages/ipykernel_launcher.py:9: RuntimeWarning: invalid value encountered in true_divide\n",
      "  if __name__ == '__main__':\n"
     ]
    },
    {
     "name": "stdout",
     "output_type": "stream",
     "text": [
      "inp_12__out_12__loss_mae__bksize_50__bkact_relu__dir_bi 4\n",
      "/home/thanos/projects/ae_pred/analysis/../results/inp_12__out_12__loss_mae__bksize_50__bkact_relu__dir_bi__4/best_weights.h5\n"
     ]
    },
    {
     "name": "stderr",
     "output_type": "stream",
     "text": [
      "/home/thanos/.envs/fsu/lib/python3.6/site-packages/ipykernel_launcher.py:9: RuntimeWarning: invalid value encountered in true_divide\n",
      "  if __name__ == '__main__':\n"
     ]
    },
    {
     "name": "stdout",
     "output_type": "stream",
     "text": [
      "inp_12__out_12__loss_mae__bksize_50__bkact_relu__dir_bi 5\n",
      "/home/thanos/projects/ae_pred/analysis/../results/inp_12__out_12__loss_mae__bksize_50__bkact_relu__dir_bi__5/best_weights.h5\n"
     ]
    },
    {
     "name": "stderr",
     "output_type": "stream",
     "text": [
      "/home/thanos/.envs/fsu/lib/python3.6/site-packages/ipykernel_launcher.py:9: RuntimeWarning: invalid value encountered in true_divide\n",
      "  if __name__ == '__main__':\n"
     ]
    },
    {
     "name": "stdout",
     "output_type": "stream",
     "text": [
      "inp_12__out_12__loss_mae__bksize_50__bkact_relu__dir_bi 6\n",
      "/home/thanos/projects/ae_pred/analysis/../results/inp_12__out_12__loss_mae__bksize_50__bkact_relu__dir_bi__6/best_weights.h5\n"
     ]
    },
    {
     "name": "stderr",
     "output_type": "stream",
     "text": [
      "/home/thanos/.envs/fsu/lib/python3.6/site-packages/ipykernel_launcher.py:9: RuntimeWarning: invalid value encountered in true_divide\n",
      "  if __name__ == '__main__':\n"
     ]
    },
    {
     "name": "stdout",
     "output_type": "stream",
     "text": [
      "inp_12__out_12__loss_mae__bksize_50__bkact_relu__dir_bi 7\n",
      "/home/thanos/projects/ae_pred/analysis/../results/inp_12__out_12__loss_mae__bksize_50__bkact_relu__dir_bi__7/best_weights.h5\n"
     ]
    },
    {
     "name": "stderr",
     "output_type": "stream",
     "text": [
      "/home/thanos/.envs/fsu/lib/python3.6/site-packages/ipykernel_launcher.py:9: RuntimeWarning: invalid value encountered in true_divide\n",
      "  if __name__ == '__main__':\n"
     ]
    },
    {
     "name": "stdout",
     "output_type": "stream",
     "text": [
      "inp_12__out_12__loss_mae__bksize_50__bkact_relu__dir_bi 8\n",
      "/home/thanos/projects/ae_pred/analysis/../results/inp_12__out_12__loss_mae__bksize_50__bkact_relu__dir_bi__8/best_weights.h5\n"
     ]
    },
    {
     "name": "stderr",
     "output_type": "stream",
     "text": [
      "/home/thanos/.envs/fsu/lib/python3.6/site-packages/ipykernel_launcher.py:9: RuntimeWarning: invalid value encountered in true_divide\n",
      "  if __name__ == '__main__':\n"
     ]
    },
    {
     "name": "stdout",
     "output_type": "stream",
     "text": [
      "inp_12__out_12__loss_mae__bksize_50__bkact_relu__dir_bi 9\n",
      "/home/thanos/projects/ae_pred/analysis/../results/inp_12__out_12__loss_mae__bksize_50__bkact_relu__dir_bi__9/best_weights.h5\n"
     ]
    },
    {
     "name": "stderr",
     "output_type": "stream",
     "text": [
      "/home/thanos/.envs/fsu/lib/python3.6/site-packages/ipykernel_launcher.py:9: RuntimeWarning: invalid value encountered in true_divide\n",
      "  if __name__ == '__main__':\n",
      "  4%|▍         | 6/135 [10:48<4:14:16, 118.27s/it]"
     ]
    },
    {
     "name": "stdout",
     "output_type": "stream",
     "text": [
      "inp_12__out_12__loss_mae__bksize_25__bkact_tanh__dir_bi 0\n",
      "/home/thanos/projects/ae_pred/analysis/../results/inp_12__out_12__loss_mae__bksize_25__bkact_tanh__dir_bi__0/best_weights.h5\n"
     ]
    },
    {
     "name": "stderr",
     "output_type": "stream",
     "text": [
      "/home/thanos/.envs/fsu/lib/python3.6/site-packages/ipykernel_launcher.py:9: RuntimeWarning: invalid value encountered in true_divide\n",
      "  if __name__ == '__main__':\n"
     ]
    },
    {
     "name": "stdout",
     "output_type": "stream",
     "text": [
      "inp_12__out_12__loss_mae__bksize_25__bkact_tanh__dir_bi 1\n",
      "/home/thanos/projects/ae_pred/analysis/../results/inp_12__out_12__loss_mae__bksize_25__bkact_tanh__dir_bi__1/best_weights.h5\n"
     ]
    },
    {
     "name": "stderr",
     "output_type": "stream",
     "text": [
      "/home/thanos/.envs/fsu/lib/python3.6/site-packages/ipykernel_launcher.py:9: RuntimeWarning: invalid value encountered in true_divide\n",
      "  if __name__ == '__main__':\n"
     ]
    },
    {
     "name": "stdout",
     "output_type": "stream",
     "text": [
      "inp_12__out_12__loss_mae__bksize_25__bkact_tanh__dir_bi 2\n",
      "/home/thanos/projects/ae_pred/analysis/../results/inp_12__out_12__loss_mae__bksize_25__bkact_tanh__dir_bi__2/best_weights.h5\n"
     ]
    },
    {
     "name": "stderr",
     "output_type": "stream",
     "text": [
      "/home/thanos/.envs/fsu/lib/python3.6/site-packages/ipykernel_launcher.py:9: RuntimeWarning: invalid value encountered in true_divide\n",
      "  if __name__ == '__main__':\n"
     ]
    },
    {
     "name": "stdout",
     "output_type": "stream",
     "text": [
      "inp_12__out_12__loss_mae__bksize_25__bkact_tanh__dir_bi 3\n",
      "/home/thanos/projects/ae_pred/analysis/../results/inp_12__out_12__loss_mae__bksize_25__bkact_tanh__dir_bi__3/best_weights.h5\n"
     ]
    },
    {
     "name": "stderr",
     "output_type": "stream",
     "text": [
      "/home/thanos/.envs/fsu/lib/python3.6/site-packages/ipykernel_launcher.py:9: RuntimeWarning: invalid value encountered in true_divide\n",
      "  if __name__ == '__main__':\n"
     ]
    },
    {
     "name": "stdout",
     "output_type": "stream",
     "text": [
      "inp_12__out_12__loss_mae__bksize_25__bkact_tanh__dir_bi 4\n",
      "/home/thanos/projects/ae_pred/analysis/../results/inp_12__out_12__loss_mae__bksize_25__bkact_tanh__dir_bi__4/best_weights.h5\n"
     ]
    },
    {
     "name": "stderr",
     "output_type": "stream",
     "text": [
      "/home/thanos/.envs/fsu/lib/python3.6/site-packages/ipykernel_launcher.py:9: RuntimeWarning: invalid value encountered in true_divide\n",
      "  if __name__ == '__main__':\n"
     ]
    },
    {
     "name": "stdout",
     "output_type": "stream",
     "text": [
      "inp_12__out_12__loss_mae__bksize_25__bkact_tanh__dir_bi 5\n",
      "/home/thanos/projects/ae_pred/analysis/../results/inp_12__out_12__loss_mae__bksize_25__bkact_tanh__dir_bi__5/best_weights.h5\n"
     ]
    },
    {
     "name": "stderr",
     "output_type": "stream",
     "text": [
      "/home/thanos/.envs/fsu/lib/python3.6/site-packages/ipykernel_launcher.py:9: RuntimeWarning: invalid value encountered in true_divide\n",
      "  if __name__ == '__main__':\n"
     ]
    },
    {
     "name": "stdout",
     "output_type": "stream",
     "text": [
      "inp_12__out_12__loss_mae__bksize_25__bkact_tanh__dir_bi 6\n",
      "/home/thanos/projects/ae_pred/analysis/../results/inp_12__out_12__loss_mae__bksize_25__bkact_tanh__dir_bi__6/best_weights.h5\n"
     ]
    },
    {
     "name": "stderr",
     "output_type": "stream",
     "text": [
      "/home/thanos/.envs/fsu/lib/python3.6/site-packages/ipykernel_launcher.py:9: RuntimeWarning: invalid value encountered in true_divide\n",
      "  if __name__ == '__main__':\n"
     ]
    },
    {
     "name": "stdout",
     "output_type": "stream",
     "text": [
      "inp_12__out_12__loss_mae__bksize_25__bkact_tanh__dir_bi 7\n",
      "/home/thanos/projects/ae_pred/analysis/../results/inp_12__out_12__loss_mae__bksize_25__bkact_tanh__dir_bi__7/best_weights.h5\n"
     ]
    },
    {
     "name": "stderr",
     "output_type": "stream",
     "text": [
      "/home/thanos/.envs/fsu/lib/python3.6/site-packages/ipykernel_launcher.py:9: RuntimeWarning: invalid value encountered in true_divide\n",
      "  if __name__ == '__main__':\n"
     ]
    },
    {
     "name": "stdout",
     "output_type": "stream",
     "text": [
      "inp_12__out_12__loss_mae__bksize_25__bkact_tanh__dir_bi 8\n",
      "/home/thanos/projects/ae_pred/analysis/../results/inp_12__out_12__loss_mae__bksize_25__bkact_tanh__dir_bi__8/best_weights.h5\n"
     ]
    },
    {
     "name": "stderr",
     "output_type": "stream",
     "text": [
      "/home/thanos/.envs/fsu/lib/python3.6/site-packages/ipykernel_launcher.py:9: RuntimeWarning: invalid value encountered in true_divide\n",
      "  if __name__ == '__main__':\n"
     ]
    },
    {
     "name": "stdout",
     "output_type": "stream",
     "text": [
      "inp_12__out_12__loss_mae__bksize_25__bkact_tanh__dir_bi 9\n",
      "/home/thanos/projects/ae_pred/analysis/../results/inp_12__out_12__loss_mae__bksize_25__bkact_tanh__dir_bi__9/best_weights.h5\n"
     ]
    },
    {
     "name": "stderr",
     "output_type": "stream",
     "text": [
      "/home/thanos/.envs/fsu/lib/python3.6/site-packages/ipykernel_launcher.py:9: RuntimeWarning: invalid value encountered in true_divide\n",
      "  if __name__ == '__main__':\n",
      "  5%|▌         | 7/135 [12:57<4:19:19, 121.56s/it]"
     ]
    },
    {
     "name": "stdout",
     "output_type": "stream",
     "text": [
      "inp_12__out_12__loss_mae__bksize_50__bkact_relu__dir_uni 0\n",
      "/home/thanos/projects/ae_pred/analysis/../results/inp_12__out_12__loss_mae__bksize_50__bkact_relu__dir_uni__0/best_weights.h5\n"
     ]
    },
    {
     "name": "stderr",
     "output_type": "stream",
     "text": [
      "/home/thanos/.envs/fsu/lib/python3.6/site-packages/ipykernel_launcher.py:9: RuntimeWarning: invalid value encountered in true_divide\n",
      "  if __name__ == '__main__':\n"
     ]
    },
    {
     "name": "stdout",
     "output_type": "stream",
     "text": [
      "inp_12__out_12__loss_mae__bksize_50__bkact_relu__dir_uni 1\n",
      "/home/thanos/projects/ae_pred/analysis/../results/inp_12__out_12__loss_mae__bksize_50__bkact_relu__dir_uni__1/best_weights.h5\n"
     ]
    },
    {
     "name": "stderr",
     "output_type": "stream",
     "text": [
      "/home/thanos/.envs/fsu/lib/python3.6/site-packages/ipykernel_launcher.py:9: RuntimeWarning: invalid value encountered in true_divide\n",
      "  if __name__ == '__main__':\n"
     ]
    },
    {
     "name": "stdout",
     "output_type": "stream",
     "text": [
      "inp_12__out_12__loss_mae__bksize_50__bkact_relu__dir_uni 2\n",
      "/home/thanos/projects/ae_pred/analysis/../results/inp_12__out_12__loss_mae__bksize_50__bkact_relu__dir_uni__2/best_weights.h5\n"
     ]
    },
    {
     "name": "stderr",
     "output_type": "stream",
     "text": [
      "/home/thanos/.envs/fsu/lib/python3.6/site-packages/ipykernel_launcher.py:9: RuntimeWarning: invalid value encountered in true_divide\n",
      "  if __name__ == '__main__':\n"
     ]
    },
    {
     "name": "stdout",
     "output_type": "stream",
     "text": [
      "inp_12__out_12__loss_mae__bksize_50__bkact_relu__dir_uni 3\n",
      "/home/thanos/projects/ae_pred/analysis/../results/inp_12__out_12__loss_mae__bksize_50__bkact_relu__dir_uni__3/best_weights.h5\n"
     ]
    },
    {
     "name": "stderr",
     "output_type": "stream",
     "text": [
      "/home/thanos/.envs/fsu/lib/python3.6/site-packages/ipykernel_launcher.py:9: RuntimeWarning: invalid value encountered in true_divide\n",
      "  if __name__ == '__main__':\n"
     ]
    },
    {
     "name": "stdout",
     "output_type": "stream",
     "text": [
      "inp_12__out_12__loss_mae__bksize_50__bkact_relu__dir_uni 4\n",
      "/home/thanos/projects/ae_pred/analysis/../results/inp_12__out_12__loss_mae__bksize_50__bkact_relu__dir_uni__4/best_weights.h5\n"
     ]
    },
    {
     "name": "stderr",
     "output_type": "stream",
     "text": [
      "/home/thanos/.envs/fsu/lib/python3.6/site-packages/ipykernel_launcher.py:9: RuntimeWarning: invalid value encountered in true_divide\n",
      "  if __name__ == '__main__':\n"
     ]
    },
    {
     "name": "stdout",
     "output_type": "stream",
     "text": [
      "inp_12__out_12__loss_mae__bksize_50__bkact_relu__dir_uni 5\n",
      "/home/thanos/projects/ae_pred/analysis/../results/inp_12__out_12__loss_mae__bksize_50__bkact_relu__dir_uni__5/best_weights.h5\n"
     ]
    },
    {
     "name": "stderr",
     "output_type": "stream",
     "text": [
      "/home/thanos/.envs/fsu/lib/python3.6/site-packages/ipykernel_launcher.py:9: RuntimeWarning: invalid value encountered in true_divide\n",
      "  if __name__ == '__main__':\n"
     ]
    },
    {
     "name": "stdout",
     "output_type": "stream",
     "text": [
      "inp_12__out_12__loss_mae__bksize_50__bkact_relu__dir_uni 6\n",
      "/home/thanos/projects/ae_pred/analysis/../results/inp_12__out_12__loss_mae__bksize_50__bkact_relu__dir_uni__6/best_weights.h5\n"
     ]
    },
    {
     "name": "stderr",
     "output_type": "stream",
     "text": [
      "/home/thanos/.envs/fsu/lib/python3.6/site-packages/ipykernel_launcher.py:9: RuntimeWarning: invalid value encountered in true_divide\n",
      "  if __name__ == '__main__':\n"
     ]
    },
    {
     "name": "stdout",
     "output_type": "stream",
     "text": [
      "inp_12__out_12__loss_mae__bksize_50__bkact_relu__dir_uni 7\n",
      "/home/thanos/projects/ae_pred/analysis/../results/inp_12__out_12__loss_mae__bksize_50__bkact_relu__dir_uni__7/best_weights.h5\n"
     ]
    },
    {
     "name": "stderr",
     "output_type": "stream",
     "text": [
      "/home/thanos/.envs/fsu/lib/python3.6/site-packages/ipykernel_launcher.py:9: RuntimeWarning: invalid value encountered in true_divide\n",
      "  if __name__ == '__main__':\n"
     ]
    },
    {
     "name": "stdout",
     "output_type": "stream",
     "text": [
      "inp_12__out_12__loss_mae__bksize_50__bkact_relu__dir_uni 8\n",
      "/home/thanos/projects/ae_pred/analysis/../results/inp_12__out_12__loss_mae__bksize_50__bkact_relu__dir_uni__8/best_weights.h5\n"
     ]
    },
    {
     "name": "stderr",
     "output_type": "stream",
     "text": [
      "/home/thanos/.envs/fsu/lib/python3.6/site-packages/ipykernel_launcher.py:9: RuntimeWarning: invalid value encountered in true_divide\n",
      "  if __name__ == '__main__':\n"
     ]
    },
    {
     "name": "stdout",
     "output_type": "stream",
     "text": [
      "inp_12__out_12__loss_mae__bksize_50__bkact_relu__dir_uni 9\n",
      "/home/thanos/projects/ae_pred/analysis/../results/inp_12__out_12__loss_mae__bksize_50__bkact_relu__dir_uni__9/best_weights.h5\n"
     ]
    },
    {
     "name": "stderr",
     "output_type": "stream",
     "text": [
      "/home/thanos/.envs/fsu/lib/python3.6/site-packages/ipykernel_launcher.py:9: RuntimeWarning: invalid value encountered in true_divide\n",
      "  if __name__ == '__main__':\n",
      "  6%|▌         | 8/135 [14:03<3:41:55, 104.85s/it]"
     ]
    },
    {
     "name": "stdout",
     "output_type": "stream",
     "text": [
      "inp_12__out_12__loss_mae__bksize_25__bkact_tanh__dir_bi 0\n",
      "/home/thanos/projects/ae_pred/analysis/../results/inp_12__out_12__loss_mae__bksize_25__bkact_tanh__dir_bi__0/best_weights.h5\n"
     ]
    },
    {
     "name": "stderr",
     "output_type": "stream",
     "text": [
      "/home/thanos/.envs/fsu/lib/python3.6/site-packages/ipykernel_launcher.py:9: RuntimeWarning: invalid value encountered in true_divide\n",
      "  if __name__ == '__main__':\n"
     ]
    },
    {
     "name": "stdout",
     "output_type": "stream",
     "text": [
      "inp_12__out_12__loss_mae__bksize_25__bkact_tanh__dir_bi 1\n",
      "/home/thanos/projects/ae_pred/analysis/../results/inp_12__out_12__loss_mae__bksize_25__bkact_tanh__dir_bi__1/best_weights.h5\n"
     ]
    },
    {
     "name": "stderr",
     "output_type": "stream",
     "text": [
      "/home/thanos/.envs/fsu/lib/python3.6/site-packages/ipykernel_launcher.py:9: RuntimeWarning: invalid value encountered in true_divide\n",
      "  if __name__ == '__main__':\n"
     ]
    },
    {
     "name": "stdout",
     "output_type": "stream",
     "text": [
      "inp_12__out_12__loss_mae__bksize_25__bkact_tanh__dir_bi 2\n",
      "/home/thanos/projects/ae_pred/analysis/../results/inp_12__out_12__loss_mae__bksize_25__bkact_tanh__dir_bi__2/best_weights.h5\n"
     ]
    },
    {
     "name": "stderr",
     "output_type": "stream",
     "text": [
      "/home/thanos/.envs/fsu/lib/python3.6/site-packages/ipykernel_launcher.py:9: RuntimeWarning: invalid value encountered in true_divide\n",
      "  if __name__ == '__main__':\n"
     ]
    },
    {
     "name": "stdout",
     "output_type": "stream",
     "text": [
      "inp_12__out_12__loss_mae__bksize_25__bkact_tanh__dir_bi 3\n",
      "/home/thanos/projects/ae_pred/analysis/../results/inp_12__out_12__loss_mae__bksize_25__bkact_tanh__dir_bi__3/best_weights.h5\n"
     ]
    },
    {
     "name": "stderr",
     "output_type": "stream",
     "text": [
      "/home/thanos/.envs/fsu/lib/python3.6/site-packages/ipykernel_launcher.py:9: RuntimeWarning: invalid value encountered in true_divide\n",
      "  if __name__ == '__main__':\n"
     ]
    },
    {
     "name": "stdout",
     "output_type": "stream",
     "text": [
      "inp_12__out_12__loss_mae__bksize_25__bkact_tanh__dir_bi 4\n",
      "/home/thanos/projects/ae_pred/analysis/../results/inp_12__out_12__loss_mae__bksize_25__bkact_tanh__dir_bi__4/best_weights.h5\n"
     ]
    },
    {
     "name": "stderr",
     "output_type": "stream",
     "text": [
      "/home/thanos/.envs/fsu/lib/python3.6/site-packages/ipykernel_launcher.py:9: RuntimeWarning: invalid value encountered in true_divide\n",
      "  if __name__ == '__main__':\n"
     ]
    },
    {
     "name": "stdout",
     "output_type": "stream",
     "text": [
      "inp_12__out_12__loss_mae__bksize_25__bkact_tanh__dir_bi 5\n",
      "/home/thanos/projects/ae_pred/analysis/../results/inp_12__out_12__loss_mae__bksize_25__bkact_tanh__dir_bi__5/best_weights.h5\n"
     ]
    },
    {
     "name": "stderr",
     "output_type": "stream",
     "text": [
      "/home/thanos/.envs/fsu/lib/python3.6/site-packages/ipykernel_launcher.py:9: RuntimeWarning: invalid value encountered in true_divide\n",
      "  if __name__ == '__main__':\n"
     ]
    },
    {
     "name": "stdout",
     "output_type": "stream",
     "text": [
      "inp_12__out_12__loss_mae__bksize_25__bkact_tanh__dir_bi 6\n",
      "/home/thanos/projects/ae_pred/analysis/../results/inp_12__out_12__loss_mae__bksize_25__bkact_tanh__dir_bi__6/best_weights.h5\n"
     ]
    },
    {
     "name": "stderr",
     "output_type": "stream",
     "text": [
      "/home/thanos/.envs/fsu/lib/python3.6/site-packages/ipykernel_launcher.py:9: RuntimeWarning: invalid value encountered in true_divide\n",
      "  if __name__ == '__main__':\n"
     ]
    },
    {
     "name": "stdout",
     "output_type": "stream",
     "text": [
      "inp_12__out_12__loss_mae__bksize_25__bkact_tanh__dir_bi 7\n",
      "/home/thanos/projects/ae_pred/analysis/../results/inp_12__out_12__loss_mae__bksize_25__bkact_tanh__dir_bi__7/best_weights.h5\n"
     ]
    },
    {
     "name": "stderr",
     "output_type": "stream",
     "text": [
      "/home/thanos/.envs/fsu/lib/python3.6/site-packages/ipykernel_launcher.py:9: RuntimeWarning: invalid value encountered in true_divide\n",
      "  if __name__ == '__main__':\n"
     ]
    },
    {
     "name": "stdout",
     "output_type": "stream",
     "text": [
      "inp_12__out_12__loss_mae__bksize_25__bkact_tanh__dir_bi 8\n",
      "/home/thanos/projects/ae_pred/analysis/../results/inp_12__out_12__loss_mae__bksize_25__bkact_tanh__dir_bi__8/best_weights.h5\n"
     ]
    },
    {
     "name": "stderr",
     "output_type": "stream",
     "text": [
      "/home/thanos/.envs/fsu/lib/python3.6/site-packages/ipykernel_launcher.py:9: RuntimeWarning: invalid value encountered in true_divide\n",
      "  if __name__ == '__main__':\n"
     ]
    },
    {
     "name": "stdout",
     "output_type": "stream",
     "text": [
      "inp_12__out_12__loss_mae__bksize_25__bkact_tanh__dir_bi 9\n",
      "/home/thanos/projects/ae_pred/analysis/../results/inp_12__out_12__loss_mae__bksize_25__bkact_tanh__dir_bi__9/best_weights.h5\n"
     ]
    },
    {
     "name": "stderr",
     "output_type": "stream",
     "text": [
      "/home/thanos/.envs/fsu/lib/python3.6/site-packages/ipykernel_launcher.py:9: RuntimeWarning: invalid value encountered in true_divide\n",
      "  if __name__ == '__main__':\n",
      "  7%|▋         | 9/135 [16:13<3:56:08, 112.45s/it]"
     ]
    },
    {
     "name": "stdout",
     "output_type": "stream",
     "text": [
      "inp_12__out_12__loss_mae__bksize_100__bkact_leaky__dir_bi 0\n",
      "/home/thanos/projects/ae_pred/analysis/../results/inp_12__out_12__loss_mae__bksize_100__bkact_leaky__dir_bi__0/best_weights.h5\n"
     ]
    },
    {
     "name": "stderr",
     "output_type": "stream",
     "text": [
      "/home/thanos/.envs/fsu/lib/python3.6/site-packages/ipykernel_launcher.py:9: RuntimeWarning: invalid value encountered in true_divide\n",
      "  if __name__ == '__main__':\n"
     ]
    },
    {
     "name": "stdout",
     "output_type": "stream",
     "text": [
      "inp_12__out_12__loss_mae__bksize_100__bkact_leaky__dir_bi 1\n",
      "/home/thanos/projects/ae_pred/analysis/../results/inp_12__out_12__loss_mae__bksize_100__bkact_leaky__dir_bi__1/best_weights.h5\n"
     ]
    },
    {
     "name": "stderr",
     "output_type": "stream",
     "text": [
      "/home/thanos/.envs/fsu/lib/python3.6/site-packages/ipykernel_launcher.py:9: RuntimeWarning: invalid value encountered in true_divide\n",
      "  if __name__ == '__main__':\n"
     ]
    },
    {
     "name": "stdout",
     "output_type": "stream",
     "text": [
      "inp_12__out_12__loss_mae__bksize_100__bkact_leaky__dir_bi 2\n",
      "/home/thanos/projects/ae_pred/analysis/../results/inp_12__out_12__loss_mae__bksize_100__bkact_leaky__dir_bi__2/best_weights.h5\n"
     ]
    },
    {
     "name": "stderr",
     "output_type": "stream",
     "text": [
      "/home/thanos/.envs/fsu/lib/python3.6/site-packages/ipykernel_launcher.py:9: RuntimeWarning: invalid value encountered in true_divide\n",
      "  if __name__ == '__main__':\n"
     ]
    },
    {
     "name": "stdout",
     "output_type": "stream",
     "text": [
      "inp_12__out_12__loss_mae__bksize_100__bkact_leaky__dir_bi 3\n",
      "/home/thanos/projects/ae_pred/analysis/../results/inp_12__out_12__loss_mae__bksize_100__bkact_leaky__dir_bi__3/best_weights.h5\n"
     ]
    },
    {
     "name": "stderr",
     "output_type": "stream",
     "text": [
      "/home/thanos/.envs/fsu/lib/python3.6/site-packages/ipykernel_launcher.py:9: RuntimeWarning: invalid value encountered in true_divide\n",
      "  if __name__ == '__main__':\n"
     ]
    },
    {
     "name": "stdout",
     "output_type": "stream",
     "text": [
      "inp_12__out_12__loss_mae__bksize_100__bkact_leaky__dir_bi 4\n",
      "/home/thanos/projects/ae_pred/analysis/../results/inp_12__out_12__loss_mae__bksize_100__bkact_leaky__dir_bi__4/best_weights.h5\n"
     ]
    },
    {
     "name": "stderr",
     "output_type": "stream",
     "text": [
      "/home/thanos/.envs/fsu/lib/python3.6/site-packages/ipykernel_launcher.py:9: RuntimeWarning: invalid value encountered in true_divide\n",
      "  if __name__ == '__main__':\n"
     ]
    },
    {
     "name": "stdout",
     "output_type": "stream",
     "text": [
      "inp_12__out_12__loss_mae__bksize_100__bkact_leaky__dir_bi 5\n",
      "/home/thanos/projects/ae_pred/analysis/../results/inp_12__out_12__loss_mae__bksize_100__bkact_leaky__dir_bi__5/best_weights.h5\n"
     ]
    },
    {
     "name": "stderr",
     "output_type": "stream",
     "text": [
      "/home/thanos/.envs/fsu/lib/python3.6/site-packages/ipykernel_launcher.py:9: RuntimeWarning: invalid value encountered in true_divide\n",
      "  if __name__ == '__main__':\n"
     ]
    },
    {
     "name": "stdout",
     "output_type": "stream",
     "text": [
      "inp_12__out_12__loss_mae__bksize_100__bkact_leaky__dir_bi 6\n",
      "/home/thanos/projects/ae_pred/analysis/../results/inp_12__out_12__loss_mae__bksize_100__bkact_leaky__dir_bi__6/best_weights.h5\n"
     ]
    },
    {
     "name": "stderr",
     "output_type": "stream",
     "text": [
      "/home/thanos/.envs/fsu/lib/python3.6/site-packages/ipykernel_launcher.py:9: RuntimeWarning: invalid value encountered in true_divide\n",
      "  if __name__ == '__main__':\n"
     ]
    },
    {
     "name": "stdout",
     "output_type": "stream",
     "text": [
      "inp_12__out_12__loss_mae__bksize_100__bkact_leaky__dir_bi 7\n",
      "/home/thanos/projects/ae_pred/analysis/../results/inp_12__out_12__loss_mae__bksize_100__bkact_leaky__dir_bi__7/best_weights.h5\n"
     ]
    },
    {
     "name": "stderr",
     "output_type": "stream",
     "text": [
      "/home/thanos/.envs/fsu/lib/python3.6/site-packages/ipykernel_launcher.py:9: RuntimeWarning: invalid value encountered in true_divide\n",
      "  if __name__ == '__main__':\n"
     ]
    },
    {
     "name": "stdout",
     "output_type": "stream",
     "text": [
      "inp_12__out_12__loss_mae__bksize_100__bkact_leaky__dir_bi 8\n",
      "/home/thanos/projects/ae_pred/analysis/../results/inp_12__out_12__loss_mae__bksize_100__bkact_leaky__dir_bi__8/best_weights.h5\n"
     ]
    },
    {
     "name": "stderr",
     "output_type": "stream",
     "text": [
      "/home/thanos/.envs/fsu/lib/python3.6/site-packages/ipykernel_launcher.py:9: RuntimeWarning: invalid value encountered in true_divide\n",
      "  if __name__ == '__main__':\n"
     ]
    },
    {
     "name": "stdout",
     "output_type": "stream",
     "text": [
      "inp_12__out_12__loss_mae__bksize_100__bkact_leaky__dir_bi 9\n",
      "/home/thanos/projects/ae_pred/analysis/../results/inp_12__out_12__loss_mae__bksize_100__bkact_leaky__dir_bi__9/best_weights.h5\n"
     ]
    },
    {
     "name": "stderr",
     "output_type": "stream",
     "text": [
      "/home/thanos/.envs/fsu/lib/python3.6/site-packages/ipykernel_launcher.py:9: RuntimeWarning: invalid value encountered in true_divide\n",
      "  if __name__ == '__main__':\n",
      "  7%|▋         | 10/135 [18:23<4:04:52, 117.54s/it]"
     ]
    },
    {
     "name": "stdout",
     "output_type": "stream",
     "text": [
      "inp_12__out_12__loss_mae__bksize_25__bkact_tanh__dir_bi 0\n",
      "/home/thanos/projects/ae_pred/analysis/../results/inp_12__out_12__loss_mae__bksize_25__bkact_tanh__dir_bi__0/best_weights.h5\n"
     ]
    },
    {
     "name": "stderr",
     "output_type": "stream",
     "text": [
      "/home/thanos/.envs/fsu/lib/python3.6/site-packages/ipykernel_launcher.py:9: RuntimeWarning: invalid value encountered in true_divide\n",
      "  if __name__ == '__main__':\n"
     ]
    },
    {
     "name": "stdout",
     "output_type": "stream",
     "text": [
      "inp_12__out_12__loss_mae__bksize_25__bkact_tanh__dir_bi 1\n",
      "/home/thanos/projects/ae_pred/analysis/../results/inp_12__out_12__loss_mae__bksize_25__bkact_tanh__dir_bi__1/best_weights.h5\n"
     ]
    },
    {
     "name": "stderr",
     "output_type": "stream",
     "text": [
      "/home/thanos/.envs/fsu/lib/python3.6/site-packages/ipykernel_launcher.py:9: RuntimeWarning: invalid value encountered in true_divide\n",
      "  if __name__ == '__main__':\n"
     ]
    },
    {
     "name": "stdout",
     "output_type": "stream",
     "text": [
      "inp_12__out_12__loss_mae__bksize_25__bkact_tanh__dir_bi 2\n",
      "/home/thanos/projects/ae_pred/analysis/../results/inp_12__out_12__loss_mae__bksize_25__bkact_tanh__dir_bi__2/best_weights.h5\n"
     ]
    },
    {
     "name": "stderr",
     "output_type": "stream",
     "text": [
      "/home/thanos/.envs/fsu/lib/python3.6/site-packages/ipykernel_launcher.py:9: RuntimeWarning: invalid value encountered in true_divide\n",
      "  if __name__ == '__main__':\n"
     ]
    },
    {
     "name": "stdout",
     "output_type": "stream",
     "text": [
      "inp_12__out_12__loss_mae__bksize_25__bkact_tanh__dir_bi 3\n",
      "/home/thanos/projects/ae_pred/analysis/../results/inp_12__out_12__loss_mae__bksize_25__bkact_tanh__dir_bi__3/best_weights.h5\n"
     ]
    },
    {
     "name": "stderr",
     "output_type": "stream",
     "text": [
      "/home/thanos/.envs/fsu/lib/python3.6/site-packages/ipykernel_launcher.py:9: RuntimeWarning: invalid value encountered in true_divide\n",
      "  if __name__ == '__main__':\n"
     ]
    },
    {
     "name": "stdout",
     "output_type": "stream",
     "text": [
      "inp_12__out_12__loss_mae__bksize_25__bkact_tanh__dir_bi 4\n",
      "/home/thanos/projects/ae_pred/analysis/../results/inp_12__out_12__loss_mae__bksize_25__bkact_tanh__dir_bi__4/best_weights.h5\n"
     ]
    },
    {
     "name": "stderr",
     "output_type": "stream",
     "text": [
      "/home/thanos/.envs/fsu/lib/python3.6/site-packages/ipykernel_launcher.py:9: RuntimeWarning: invalid value encountered in true_divide\n",
      "  if __name__ == '__main__':\n"
     ]
    },
    {
     "name": "stdout",
     "output_type": "stream",
     "text": [
      "inp_12__out_12__loss_mae__bksize_25__bkact_tanh__dir_bi 5\n",
      "/home/thanos/projects/ae_pred/analysis/../results/inp_12__out_12__loss_mae__bksize_25__bkact_tanh__dir_bi__5/best_weights.h5\n"
     ]
    },
    {
     "name": "stderr",
     "output_type": "stream",
     "text": [
      "/home/thanos/.envs/fsu/lib/python3.6/site-packages/ipykernel_launcher.py:9: RuntimeWarning: invalid value encountered in true_divide\n",
      "  if __name__ == '__main__':\n"
     ]
    },
    {
     "name": "stdout",
     "output_type": "stream",
     "text": [
      "inp_12__out_12__loss_mae__bksize_25__bkact_tanh__dir_bi 6\n",
      "/home/thanos/projects/ae_pred/analysis/../results/inp_12__out_12__loss_mae__bksize_25__bkact_tanh__dir_bi__6/best_weights.h5\n"
     ]
    },
    {
     "name": "stderr",
     "output_type": "stream",
     "text": [
      "/home/thanos/.envs/fsu/lib/python3.6/site-packages/ipykernel_launcher.py:9: RuntimeWarning: invalid value encountered in true_divide\n",
      "  if __name__ == '__main__':\n"
     ]
    },
    {
     "name": "stdout",
     "output_type": "stream",
     "text": [
      "inp_12__out_12__loss_mae__bksize_25__bkact_tanh__dir_bi 7\n",
      "/home/thanos/projects/ae_pred/analysis/../results/inp_12__out_12__loss_mae__bksize_25__bkact_tanh__dir_bi__7/best_weights.h5\n"
     ]
    },
    {
     "name": "stderr",
     "output_type": "stream",
     "text": [
      "/home/thanos/.envs/fsu/lib/python3.6/site-packages/ipykernel_launcher.py:9: RuntimeWarning: invalid value encountered in true_divide\n",
      "  if __name__ == '__main__':\n"
     ]
    },
    {
     "name": "stdout",
     "output_type": "stream",
     "text": [
      "inp_12__out_12__loss_mae__bksize_25__bkact_tanh__dir_bi 8\n",
      "/home/thanos/projects/ae_pred/analysis/../results/inp_12__out_12__loss_mae__bksize_25__bkact_tanh__dir_bi__8/best_weights.h5\n"
     ]
    },
    {
     "name": "stderr",
     "output_type": "stream",
     "text": [
      "/home/thanos/.envs/fsu/lib/python3.6/site-packages/ipykernel_launcher.py:9: RuntimeWarning: invalid value encountered in true_divide\n",
      "  if __name__ == '__main__':\n"
     ]
    },
    {
     "name": "stdout",
     "output_type": "stream",
     "text": [
      "inp_12__out_12__loss_mae__bksize_25__bkact_tanh__dir_bi 9\n",
      "/home/thanos/projects/ae_pred/analysis/../results/inp_12__out_12__loss_mae__bksize_25__bkact_tanh__dir_bi__9/best_weights.h5\n"
     ]
    },
    {
     "name": "stderr",
     "output_type": "stream",
     "text": [
      "/home/thanos/.envs/fsu/lib/python3.6/site-packages/ipykernel_launcher.py:9: RuntimeWarning: invalid value encountered in true_divide\n",
      "  if __name__ == '__main__':\n",
      "  8%|▊         | 11/135 [20:32<4:09:53, 120.92s/it]"
     ]
    },
    {
     "name": "stdout",
     "output_type": "stream",
     "text": [
      "inp_12__out_12__loss_mae__bksize_100__bkact_leaky__dir_bi 0\n",
      "/home/thanos/projects/ae_pred/analysis/../results/inp_12__out_12__loss_mae__bksize_100__bkact_leaky__dir_bi__0/best_weights.h5\n"
     ]
    },
    {
     "name": "stderr",
     "output_type": "stream",
     "text": [
      "/home/thanos/.envs/fsu/lib/python3.6/site-packages/ipykernel_launcher.py:9: RuntimeWarning: invalid value encountered in true_divide\n",
      "  if __name__ == '__main__':\n"
     ]
    },
    {
     "name": "stdout",
     "output_type": "stream",
     "text": [
      "inp_12__out_12__loss_mae__bksize_100__bkact_leaky__dir_bi 1\n",
      "/home/thanos/projects/ae_pred/analysis/../results/inp_12__out_12__loss_mae__bksize_100__bkact_leaky__dir_bi__1/best_weights.h5\n"
     ]
    },
    {
     "name": "stderr",
     "output_type": "stream",
     "text": [
      "/home/thanos/.envs/fsu/lib/python3.6/site-packages/ipykernel_launcher.py:9: RuntimeWarning: invalid value encountered in true_divide\n",
      "  if __name__ == '__main__':\n"
     ]
    },
    {
     "name": "stdout",
     "output_type": "stream",
     "text": [
      "inp_12__out_12__loss_mae__bksize_100__bkact_leaky__dir_bi 2\n",
      "/home/thanos/projects/ae_pred/analysis/../results/inp_12__out_12__loss_mae__bksize_100__bkact_leaky__dir_bi__2/best_weights.h5\n"
     ]
    },
    {
     "name": "stderr",
     "output_type": "stream",
     "text": [
      "/home/thanos/.envs/fsu/lib/python3.6/site-packages/ipykernel_launcher.py:9: RuntimeWarning: invalid value encountered in true_divide\n",
      "  if __name__ == '__main__':\n"
     ]
    },
    {
     "name": "stdout",
     "output_type": "stream",
     "text": [
      "inp_12__out_12__loss_mae__bksize_100__bkact_leaky__dir_bi 3\n",
      "/home/thanos/projects/ae_pred/analysis/../results/inp_12__out_12__loss_mae__bksize_100__bkact_leaky__dir_bi__3/best_weights.h5\n"
     ]
    },
    {
     "name": "stderr",
     "output_type": "stream",
     "text": [
      "/home/thanos/.envs/fsu/lib/python3.6/site-packages/ipykernel_launcher.py:9: RuntimeWarning: invalid value encountered in true_divide\n",
      "  if __name__ == '__main__':\n"
     ]
    },
    {
     "name": "stdout",
     "output_type": "stream",
     "text": [
      "inp_12__out_12__loss_mae__bksize_100__bkact_leaky__dir_bi 4\n",
      "/home/thanos/projects/ae_pred/analysis/../results/inp_12__out_12__loss_mae__bksize_100__bkact_leaky__dir_bi__4/best_weights.h5\n"
     ]
    },
    {
     "name": "stderr",
     "output_type": "stream",
     "text": [
      "/home/thanos/.envs/fsu/lib/python3.6/site-packages/ipykernel_launcher.py:9: RuntimeWarning: invalid value encountered in true_divide\n",
      "  if __name__ == '__main__':\n"
     ]
    },
    {
     "name": "stdout",
     "output_type": "stream",
     "text": [
      "inp_12__out_12__loss_mae__bksize_100__bkact_leaky__dir_bi 5\n",
      "/home/thanos/projects/ae_pred/analysis/../results/inp_12__out_12__loss_mae__bksize_100__bkact_leaky__dir_bi__5/best_weights.h5\n"
     ]
    },
    {
     "name": "stderr",
     "output_type": "stream",
     "text": [
      "/home/thanos/.envs/fsu/lib/python3.6/site-packages/ipykernel_launcher.py:9: RuntimeWarning: invalid value encountered in true_divide\n",
      "  if __name__ == '__main__':\n"
     ]
    },
    {
     "name": "stdout",
     "output_type": "stream",
     "text": [
      "inp_12__out_12__loss_mae__bksize_100__bkact_leaky__dir_bi 6\n",
      "/home/thanos/projects/ae_pred/analysis/../results/inp_12__out_12__loss_mae__bksize_100__bkact_leaky__dir_bi__6/best_weights.h5\n"
     ]
    },
    {
     "name": "stderr",
     "output_type": "stream",
     "text": [
      "/home/thanos/.envs/fsu/lib/python3.6/site-packages/ipykernel_launcher.py:9: RuntimeWarning: invalid value encountered in true_divide\n",
      "  if __name__ == '__main__':\n"
     ]
    },
    {
     "name": "stdout",
     "output_type": "stream",
     "text": [
      "inp_12__out_12__loss_mae__bksize_100__bkact_leaky__dir_bi 7\n",
      "/home/thanos/projects/ae_pred/analysis/../results/inp_12__out_12__loss_mae__bksize_100__bkact_leaky__dir_bi__7/best_weights.h5\n"
     ]
    },
    {
     "name": "stderr",
     "output_type": "stream",
     "text": [
      "/home/thanos/.envs/fsu/lib/python3.6/site-packages/ipykernel_launcher.py:9: RuntimeWarning: invalid value encountered in true_divide\n",
      "  if __name__ == '__main__':\n"
     ]
    },
    {
     "name": "stdout",
     "output_type": "stream",
     "text": [
      "inp_12__out_12__loss_mae__bksize_100__bkact_leaky__dir_bi 8\n",
      "/home/thanos/projects/ae_pred/analysis/../results/inp_12__out_12__loss_mae__bksize_100__bkact_leaky__dir_bi__8/best_weights.h5\n"
     ]
    },
    {
     "name": "stderr",
     "output_type": "stream",
     "text": [
      "/home/thanos/.envs/fsu/lib/python3.6/site-packages/ipykernel_launcher.py:9: RuntimeWarning: invalid value encountered in true_divide\n",
      "  if __name__ == '__main__':\n"
     ]
    },
    {
     "name": "stdout",
     "output_type": "stream",
     "text": [
      "inp_12__out_12__loss_mae__bksize_100__bkact_leaky__dir_bi 9\n",
      "/home/thanos/projects/ae_pred/analysis/../results/inp_12__out_12__loss_mae__bksize_100__bkact_leaky__dir_bi__9/best_weights.h5\n"
     ]
    },
    {
     "name": "stderr",
     "output_type": "stream",
     "text": [
      "/home/thanos/.envs/fsu/lib/python3.6/site-packages/ipykernel_launcher.py:9: RuntimeWarning: invalid value encountered in true_divide\n",
      "  if __name__ == '__main__':\n",
      "  9%|▉         | 12/135 [22:42<4:13:40, 123.74s/it]"
     ]
    },
    {
     "name": "stdout",
     "output_type": "stream",
     "text": [
      "inp_12__out_12__loss_mae__bksize_25__bkact_leaky__dir_uni 0\n",
      "/home/thanos/projects/ae_pred/analysis/../results/inp_12__out_12__loss_mae__bksize_25__bkact_leaky__dir_uni__0/best_weights.h5\n"
     ]
    },
    {
     "name": "stderr",
     "output_type": "stream",
     "text": [
      "/home/thanos/.envs/fsu/lib/python3.6/site-packages/ipykernel_launcher.py:9: RuntimeWarning: invalid value encountered in true_divide\n",
      "  if __name__ == '__main__':\n"
     ]
    },
    {
     "name": "stdout",
     "output_type": "stream",
     "text": [
      "inp_12__out_12__loss_mae__bksize_25__bkact_leaky__dir_uni 1\n",
      "/home/thanos/projects/ae_pred/analysis/../results/inp_12__out_12__loss_mae__bksize_25__bkact_leaky__dir_uni__1/best_weights.h5\n"
     ]
    },
    {
     "name": "stderr",
     "output_type": "stream",
     "text": [
      "/home/thanos/.envs/fsu/lib/python3.6/site-packages/ipykernel_launcher.py:9: RuntimeWarning: invalid value encountered in true_divide\n",
      "  if __name__ == '__main__':\n"
     ]
    },
    {
     "name": "stdout",
     "output_type": "stream",
     "text": [
      "inp_12__out_12__loss_mae__bksize_25__bkact_leaky__dir_uni 2\n",
      "/home/thanos/projects/ae_pred/analysis/../results/inp_12__out_12__loss_mae__bksize_25__bkact_leaky__dir_uni__2/best_weights.h5\n"
     ]
    },
    {
     "name": "stderr",
     "output_type": "stream",
     "text": [
      "/home/thanos/.envs/fsu/lib/python3.6/site-packages/ipykernel_launcher.py:9: RuntimeWarning: invalid value encountered in true_divide\n",
      "  if __name__ == '__main__':\n"
     ]
    },
    {
     "name": "stdout",
     "output_type": "stream",
     "text": [
      "inp_12__out_12__loss_mae__bksize_25__bkact_leaky__dir_uni 3\n",
      "/home/thanos/projects/ae_pred/analysis/../results/inp_12__out_12__loss_mae__bksize_25__bkact_leaky__dir_uni__3/best_weights.h5\n"
     ]
    },
    {
     "name": "stderr",
     "output_type": "stream",
     "text": [
      "/home/thanos/.envs/fsu/lib/python3.6/site-packages/ipykernel_launcher.py:9: RuntimeWarning: invalid value encountered in true_divide\n",
      "  if __name__ == '__main__':\n"
     ]
    },
    {
     "name": "stdout",
     "output_type": "stream",
     "text": [
      "inp_12__out_12__loss_mae__bksize_25__bkact_leaky__dir_uni 4\n",
      "/home/thanos/projects/ae_pred/analysis/../results/inp_12__out_12__loss_mae__bksize_25__bkact_leaky__dir_uni__4/best_weights.h5\n"
     ]
    },
    {
     "name": "stderr",
     "output_type": "stream",
     "text": [
      "/home/thanos/.envs/fsu/lib/python3.6/site-packages/ipykernel_launcher.py:9: RuntimeWarning: invalid value encountered in true_divide\n",
      "  if __name__ == '__main__':\n"
     ]
    },
    {
     "name": "stdout",
     "output_type": "stream",
     "text": [
      "inp_12__out_12__loss_mae__bksize_25__bkact_leaky__dir_uni 5\n",
      "/home/thanos/projects/ae_pred/analysis/../results/inp_12__out_12__loss_mae__bksize_25__bkact_leaky__dir_uni__5/best_weights.h5\n"
     ]
    },
    {
     "name": "stderr",
     "output_type": "stream",
     "text": [
      "/home/thanos/.envs/fsu/lib/python3.6/site-packages/ipykernel_launcher.py:9: RuntimeWarning: invalid value encountered in true_divide\n",
      "  if __name__ == '__main__':\n"
     ]
    },
    {
     "name": "stdout",
     "output_type": "stream",
     "text": [
      "inp_12__out_12__loss_mae__bksize_25__bkact_leaky__dir_uni 6\n",
      "/home/thanos/projects/ae_pred/analysis/../results/inp_12__out_12__loss_mae__bksize_25__bkact_leaky__dir_uni__6/best_weights.h5\n"
     ]
    },
    {
     "name": "stderr",
     "output_type": "stream",
     "text": [
      "/home/thanos/.envs/fsu/lib/python3.6/site-packages/ipykernel_launcher.py:9: RuntimeWarning: invalid value encountered in true_divide\n",
      "  if __name__ == '__main__':\n"
     ]
    },
    {
     "name": "stdout",
     "output_type": "stream",
     "text": [
      "inp_12__out_12__loss_mae__bksize_25__bkact_leaky__dir_uni 7\n",
      "/home/thanos/projects/ae_pred/analysis/../results/inp_12__out_12__loss_mae__bksize_25__bkact_leaky__dir_uni__7/best_weights.h5\n"
     ]
    },
    {
     "name": "stderr",
     "output_type": "stream",
     "text": [
      "/home/thanos/.envs/fsu/lib/python3.6/site-packages/ipykernel_launcher.py:9: RuntimeWarning: invalid value encountered in true_divide\n",
      "  if __name__ == '__main__':\n"
     ]
    },
    {
     "name": "stdout",
     "output_type": "stream",
     "text": [
      "inp_12__out_12__loss_mae__bksize_25__bkact_leaky__dir_uni 8\n",
      "/home/thanos/projects/ae_pred/analysis/../results/inp_12__out_12__loss_mae__bksize_25__bkact_leaky__dir_uni__8/best_weights.h5\n"
     ]
    },
    {
     "name": "stderr",
     "output_type": "stream",
     "text": [
      "/home/thanos/.envs/fsu/lib/python3.6/site-packages/ipykernel_launcher.py:9: RuntimeWarning: invalid value encountered in true_divide\n",
      "  if __name__ == '__main__':\n"
     ]
    },
    {
     "name": "stdout",
     "output_type": "stream",
     "text": [
      "inp_12__out_12__loss_mae__bksize_25__bkact_leaky__dir_uni 9\n",
      "/home/thanos/projects/ae_pred/analysis/../results/inp_12__out_12__loss_mae__bksize_25__bkact_leaky__dir_uni__9/best_weights.h5\n"
     ]
    },
    {
     "name": "stderr",
     "output_type": "stream",
     "text": [
      "/home/thanos/.envs/fsu/lib/python3.6/site-packages/ipykernel_launcher.py:9: RuntimeWarning: invalid value encountered in true_divide\n",
      "  if __name__ == '__main__':\n",
      " 10%|▉         | 13/135 [23:45<3:34:42, 105.59s/it]"
     ]
    },
    {
     "name": "stdout",
     "output_type": "stream",
     "text": [
      "inp_12__out_12__loss_mae__bksize_25__bkact_tanh__dir_bi 0\n",
      "/home/thanos/projects/ae_pred/analysis/../results/inp_12__out_12__loss_mae__bksize_25__bkact_tanh__dir_bi__0/best_weights.h5\n"
     ]
    },
    {
     "name": "stderr",
     "output_type": "stream",
     "text": [
      "/home/thanos/.envs/fsu/lib/python3.6/site-packages/ipykernel_launcher.py:9: RuntimeWarning: invalid value encountered in true_divide\n",
      "  if __name__ == '__main__':\n"
     ]
    },
    {
     "name": "stdout",
     "output_type": "stream",
     "text": [
      "inp_12__out_12__loss_mae__bksize_25__bkact_tanh__dir_bi 1\n",
      "/home/thanos/projects/ae_pred/analysis/../results/inp_12__out_12__loss_mae__bksize_25__bkact_tanh__dir_bi__1/best_weights.h5\n"
     ]
    },
    {
     "name": "stderr",
     "output_type": "stream",
     "text": [
      "/home/thanos/.envs/fsu/lib/python3.6/site-packages/ipykernel_launcher.py:9: RuntimeWarning: invalid value encountered in true_divide\n",
      "  if __name__ == '__main__':\n"
     ]
    },
    {
     "name": "stdout",
     "output_type": "stream",
     "text": [
      "inp_12__out_12__loss_mae__bksize_25__bkact_tanh__dir_bi 2\n",
      "/home/thanos/projects/ae_pred/analysis/../results/inp_12__out_12__loss_mae__bksize_25__bkact_tanh__dir_bi__2/best_weights.h5\n"
     ]
    },
    {
     "name": "stderr",
     "output_type": "stream",
     "text": [
      "/home/thanos/.envs/fsu/lib/python3.6/site-packages/ipykernel_launcher.py:9: RuntimeWarning: invalid value encountered in true_divide\n",
      "  if __name__ == '__main__':\n"
     ]
    },
    {
     "name": "stdout",
     "output_type": "stream",
     "text": [
      "inp_12__out_12__loss_mae__bksize_25__bkact_tanh__dir_bi 3\n",
      "/home/thanos/projects/ae_pred/analysis/../results/inp_12__out_12__loss_mae__bksize_25__bkact_tanh__dir_bi__3/best_weights.h5\n"
     ]
    },
    {
     "name": "stderr",
     "output_type": "stream",
     "text": [
      "/home/thanos/.envs/fsu/lib/python3.6/site-packages/ipykernel_launcher.py:9: RuntimeWarning: invalid value encountered in true_divide\n",
      "  if __name__ == '__main__':\n"
     ]
    },
    {
     "name": "stdout",
     "output_type": "stream",
     "text": [
      "inp_12__out_12__loss_mae__bksize_25__bkact_tanh__dir_bi 4\n",
      "/home/thanos/projects/ae_pred/analysis/../results/inp_12__out_12__loss_mae__bksize_25__bkact_tanh__dir_bi__4/best_weights.h5\n"
     ]
    },
    {
     "name": "stderr",
     "output_type": "stream",
     "text": [
      "/home/thanos/.envs/fsu/lib/python3.6/site-packages/ipykernel_launcher.py:9: RuntimeWarning: invalid value encountered in true_divide\n",
      "  if __name__ == '__main__':\n"
     ]
    },
    {
     "name": "stdout",
     "output_type": "stream",
     "text": [
      "inp_12__out_12__loss_mae__bksize_25__bkact_tanh__dir_bi 5\n",
      "/home/thanos/projects/ae_pred/analysis/../results/inp_12__out_12__loss_mae__bksize_25__bkact_tanh__dir_bi__5/best_weights.h5\n"
     ]
    },
    {
     "name": "stderr",
     "output_type": "stream",
     "text": [
      "/home/thanos/.envs/fsu/lib/python3.6/site-packages/ipykernel_launcher.py:9: RuntimeWarning: invalid value encountered in true_divide\n",
      "  if __name__ == '__main__':\n"
     ]
    },
    {
     "name": "stdout",
     "output_type": "stream",
     "text": [
      "inp_12__out_12__loss_mae__bksize_25__bkact_tanh__dir_bi 6\n",
      "/home/thanos/projects/ae_pred/analysis/../results/inp_12__out_12__loss_mae__bksize_25__bkact_tanh__dir_bi__6/best_weights.h5\n"
     ]
    },
    {
     "name": "stderr",
     "output_type": "stream",
     "text": [
      "/home/thanos/.envs/fsu/lib/python3.6/site-packages/ipykernel_launcher.py:9: RuntimeWarning: invalid value encountered in true_divide\n",
      "  if __name__ == '__main__':\n"
     ]
    },
    {
     "name": "stdout",
     "output_type": "stream",
     "text": [
      "inp_12__out_12__loss_mae__bksize_25__bkact_tanh__dir_bi 7\n",
      "/home/thanos/projects/ae_pred/analysis/../results/inp_12__out_12__loss_mae__bksize_25__bkact_tanh__dir_bi__7/best_weights.h5\n"
     ]
    },
    {
     "name": "stderr",
     "output_type": "stream",
     "text": [
      "/home/thanos/.envs/fsu/lib/python3.6/site-packages/ipykernel_launcher.py:9: RuntimeWarning: invalid value encountered in true_divide\n",
      "  if __name__ == '__main__':\n"
     ]
    },
    {
     "name": "stdout",
     "output_type": "stream",
     "text": [
      "inp_12__out_12__loss_mae__bksize_25__bkact_tanh__dir_bi 8\n",
      "/home/thanos/projects/ae_pred/analysis/../results/inp_12__out_12__loss_mae__bksize_25__bkact_tanh__dir_bi__8/best_weights.h5\n"
     ]
    },
    {
     "name": "stderr",
     "output_type": "stream",
     "text": [
      "/home/thanos/.envs/fsu/lib/python3.6/site-packages/ipykernel_launcher.py:9: RuntimeWarning: invalid value encountered in true_divide\n",
      "  if __name__ == '__main__':\n"
     ]
    },
    {
     "name": "stdout",
     "output_type": "stream",
     "text": [
      "inp_12__out_12__loss_mae__bksize_25__bkact_tanh__dir_bi 9\n",
      "/home/thanos/projects/ae_pred/analysis/../results/inp_12__out_12__loss_mae__bksize_25__bkact_tanh__dir_bi__9/best_weights.h5\n"
     ]
    },
    {
     "name": "stderr",
     "output_type": "stream",
     "text": [
      "/home/thanos/.envs/fsu/lib/python3.6/site-packages/ipykernel_launcher.py:9: RuntimeWarning: invalid value encountered in true_divide\n",
      "  if __name__ == '__main__':\n",
      " 10%|█         | 14/135 [25:53<3:46:17, 112.21s/it]"
     ]
    },
    {
     "name": "stdout",
     "output_type": "stream",
     "text": [
      "inp_12__out_12__loss_mae__bksize_50__bkact_leaky__dir_bi 0\n",
      "/home/thanos/projects/ae_pred/analysis/../results/inp_12__out_12__loss_mae__bksize_50__bkact_leaky__dir_bi__0/best_weights.h5\n"
     ]
    },
    {
     "name": "stderr",
     "output_type": "stream",
     "text": [
      "/home/thanos/.envs/fsu/lib/python3.6/site-packages/ipykernel_launcher.py:9: RuntimeWarning: invalid value encountered in true_divide\n",
      "  if __name__ == '__main__':\n"
     ]
    },
    {
     "name": "stdout",
     "output_type": "stream",
     "text": [
      "inp_12__out_12__loss_mae__bksize_50__bkact_leaky__dir_bi 1\n",
      "/home/thanos/projects/ae_pred/analysis/../results/inp_12__out_12__loss_mae__bksize_50__bkact_leaky__dir_bi__1/best_weights.h5\n"
     ]
    },
    {
     "name": "stderr",
     "output_type": "stream",
     "text": [
      "/home/thanos/.envs/fsu/lib/python3.6/site-packages/ipykernel_launcher.py:9: RuntimeWarning: invalid value encountered in true_divide\n",
      "  if __name__ == '__main__':\n"
     ]
    },
    {
     "name": "stdout",
     "output_type": "stream",
     "text": [
      "inp_12__out_12__loss_mae__bksize_50__bkact_leaky__dir_bi 2\n",
      "/home/thanos/projects/ae_pred/analysis/../results/inp_12__out_12__loss_mae__bksize_50__bkact_leaky__dir_bi__2/best_weights.h5\n"
     ]
    },
    {
     "name": "stderr",
     "output_type": "stream",
     "text": [
      "/home/thanos/.envs/fsu/lib/python3.6/site-packages/ipykernel_launcher.py:9: RuntimeWarning: invalid value encountered in true_divide\n",
      "  if __name__ == '__main__':\n"
     ]
    },
    {
     "name": "stdout",
     "output_type": "stream",
     "text": [
      "inp_12__out_12__loss_mae__bksize_50__bkact_leaky__dir_bi 3\n",
      "/home/thanos/projects/ae_pred/analysis/../results/inp_12__out_12__loss_mae__bksize_50__bkact_leaky__dir_bi__3/best_weights.h5\n"
     ]
    },
    {
     "name": "stderr",
     "output_type": "stream",
     "text": [
      "/home/thanos/.envs/fsu/lib/python3.6/site-packages/ipykernel_launcher.py:9: RuntimeWarning: invalid value encountered in true_divide\n",
      "  if __name__ == '__main__':\n"
     ]
    },
    {
     "name": "stdout",
     "output_type": "stream",
     "text": [
      "inp_12__out_12__loss_mae__bksize_50__bkact_leaky__dir_bi 4\n",
      "/home/thanos/projects/ae_pred/analysis/../results/inp_12__out_12__loss_mae__bksize_50__bkact_leaky__dir_bi__4/best_weights.h5\n"
     ]
    },
    {
     "name": "stderr",
     "output_type": "stream",
     "text": [
      "/home/thanos/.envs/fsu/lib/python3.6/site-packages/ipykernel_launcher.py:9: RuntimeWarning: invalid value encountered in true_divide\n",
      "  if __name__ == '__main__':\n"
     ]
    },
    {
     "name": "stdout",
     "output_type": "stream",
     "text": [
      "inp_12__out_12__loss_mae__bksize_50__bkact_leaky__dir_bi 5\n",
      "/home/thanos/projects/ae_pred/analysis/../results/inp_12__out_12__loss_mae__bksize_50__bkact_leaky__dir_bi__5/best_weights.h5\n"
     ]
    },
    {
     "name": "stderr",
     "output_type": "stream",
     "text": [
      "/home/thanos/.envs/fsu/lib/python3.6/site-packages/ipykernel_launcher.py:9: RuntimeWarning: invalid value encountered in true_divide\n",
      "  if __name__ == '__main__':\n"
     ]
    },
    {
     "name": "stdout",
     "output_type": "stream",
     "text": [
      "inp_12__out_12__loss_mae__bksize_50__bkact_leaky__dir_bi 6\n",
      "/home/thanos/projects/ae_pred/analysis/../results/inp_12__out_12__loss_mae__bksize_50__bkact_leaky__dir_bi__6/best_weights.h5\n"
     ]
    },
    {
     "name": "stderr",
     "output_type": "stream",
     "text": [
      "/home/thanos/.envs/fsu/lib/python3.6/site-packages/ipykernel_launcher.py:9: RuntimeWarning: invalid value encountered in true_divide\n",
      "  if __name__ == '__main__':\n"
     ]
    },
    {
     "name": "stdout",
     "output_type": "stream",
     "text": [
      "inp_12__out_12__loss_mae__bksize_50__bkact_leaky__dir_bi 7\n",
      "/home/thanos/projects/ae_pred/analysis/../results/inp_12__out_12__loss_mae__bksize_50__bkact_leaky__dir_bi__7/best_weights.h5\n"
     ]
    },
    {
     "name": "stderr",
     "output_type": "stream",
     "text": [
      "/home/thanos/.envs/fsu/lib/python3.6/site-packages/ipykernel_launcher.py:9: RuntimeWarning: invalid value encountered in true_divide\n",
      "  if __name__ == '__main__':\n"
     ]
    },
    {
     "name": "stdout",
     "output_type": "stream",
     "text": [
      "inp_12__out_12__loss_mae__bksize_50__bkact_leaky__dir_bi 8\n",
      "/home/thanos/projects/ae_pred/analysis/../results/inp_12__out_12__loss_mae__bksize_50__bkact_leaky__dir_bi__8/best_weights.h5\n"
     ]
    },
    {
     "name": "stderr",
     "output_type": "stream",
     "text": [
      "/home/thanos/.envs/fsu/lib/python3.6/site-packages/ipykernel_launcher.py:9: RuntimeWarning: invalid value encountered in true_divide\n",
      "  if __name__ == '__main__':\n"
     ]
    },
    {
     "name": "stdout",
     "output_type": "stream",
     "text": [
      "inp_12__out_12__loss_mae__bksize_50__bkact_leaky__dir_bi 9\n",
      "/home/thanos/projects/ae_pred/analysis/../results/inp_12__out_12__loss_mae__bksize_50__bkact_leaky__dir_bi__9/best_weights.h5\n"
     ]
    },
    {
     "name": "stderr",
     "output_type": "stream",
     "text": [
      "/home/thanos/.envs/fsu/lib/python3.6/site-packages/ipykernel_launcher.py:9: RuntimeWarning: invalid value encountered in true_divide\n",
      "  if __name__ == '__main__':\n",
      " 11%|█         | 15/135 [28:01<3:54:01, 117.02s/it]"
     ]
    },
    {
     "name": "stdout",
     "output_type": "stream",
     "text": [
      "inp_12__out_12__loss_mae__bksize_25__bkact_relu__dir_uni 0\n",
      "/home/thanos/projects/ae_pred/analysis/../results/inp_12__out_12__loss_mae__bksize_25__bkact_relu__dir_uni__0/best_weights.h5\n"
     ]
    },
    {
     "name": "stderr",
     "output_type": "stream",
     "text": [
      "/home/thanos/.envs/fsu/lib/python3.6/site-packages/ipykernel_launcher.py:9: RuntimeWarning: invalid value encountered in true_divide\n",
      "  if __name__ == '__main__':\n"
     ]
    },
    {
     "name": "stdout",
     "output_type": "stream",
     "text": [
      "inp_12__out_12__loss_mae__bksize_25__bkact_relu__dir_uni 1\n",
      "/home/thanos/projects/ae_pred/analysis/../results/inp_12__out_12__loss_mae__bksize_25__bkact_relu__dir_uni__1/best_weights.h5\n"
     ]
    },
    {
     "name": "stderr",
     "output_type": "stream",
     "text": [
      "/home/thanos/.envs/fsu/lib/python3.6/site-packages/ipykernel_launcher.py:9: RuntimeWarning: invalid value encountered in true_divide\n",
      "  if __name__ == '__main__':\n"
     ]
    },
    {
     "name": "stdout",
     "output_type": "stream",
     "text": [
      "inp_12__out_12__loss_mae__bksize_25__bkact_relu__dir_uni 2\n",
      "/home/thanos/projects/ae_pred/analysis/../results/inp_12__out_12__loss_mae__bksize_25__bkact_relu__dir_uni__2/best_weights.h5\n"
     ]
    },
    {
     "name": "stderr",
     "output_type": "stream",
     "text": [
      "/home/thanos/.envs/fsu/lib/python3.6/site-packages/ipykernel_launcher.py:9: RuntimeWarning: invalid value encountered in true_divide\n",
      "  if __name__ == '__main__':\n"
     ]
    },
    {
     "name": "stdout",
     "output_type": "stream",
     "text": [
      "inp_12__out_12__loss_mae__bksize_25__bkact_relu__dir_uni 3\n",
      "/home/thanos/projects/ae_pred/analysis/../results/inp_12__out_12__loss_mae__bksize_25__bkact_relu__dir_uni__3/best_weights.h5\n"
     ]
    },
    {
     "name": "stderr",
     "output_type": "stream",
     "text": [
      "/home/thanos/.envs/fsu/lib/python3.6/site-packages/ipykernel_launcher.py:9: RuntimeWarning: invalid value encountered in true_divide\n",
      "  if __name__ == '__main__':\n"
     ]
    },
    {
     "name": "stdout",
     "output_type": "stream",
     "text": [
      "inp_12__out_12__loss_mae__bksize_25__bkact_relu__dir_uni 4\n",
      "/home/thanos/projects/ae_pred/analysis/../results/inp_12__out_12__loss_mae__bksize_25__bkact_relu__dir_uni__4/best_weights.h5\n"
     ]
    },
    {
     "name": "stderr",
     "output_type": "stream",
     "text": [
      "/home/thanos/.envs/fsu/lib/python3.6/site-packages/ipykernel_launcher.py:9: RuntimeWarning: invalid value encountered in true_divide\n",
      "  if __name__ == '__main__':\n"
     ]
    },
    {
     "name": "stdout",
     "output_type": "stream",
     "text": [
      "inp_12__out_12__loss_mae__bksize_25__bkact_relu__dir_uni 5\n",
      "/home/thanos/projects/ae_pred/analysis/../results/inp_12__out_12__loss_mae__bksize_25__bkact_relu__dir_uni__5/best_weights.h5\n"
     ]
    },
    {
     "name": "stderr",
     "output_type": "stream",
     "text": [
      "/home/thanos/.envs/fsu/lib/python3.6/site-packages/ipykernel_launcher.py:9: RuntimeWarning: invalid value encountered in true_divide\n",
      "  if __name__ == '__main__':\n"
     ]
    },
    {
     "name": "stdout",
     "output_type": "stream",
     "text": [
      "inp_12__out_12__loss_mae__bksize_25__bkact_relu__dir_uni 6\n",
      "/home/thanos/projects/ae_pred/analysis/../results/inp_12__out_12__loss_mae__bksize_25__bkact_relu__dir_uni__6/best_weights.h5\n"
     ]
    },
    {
     "name": "stderr",
     "output_type": "stream",
     "text": [
      "/home/thanos/.envs/fsu/lib/python3.6/site-packages/ipykernel_launcher.py:9: RuntimeWarning: invalid value encountered in true_divide\n",
      "  if __name__ == '__main__':\n"
     ]
    },
    {
     "name": "stdout",
     "output_type": "stream",
     "text": [
      "inp_12__out_12__loss_mae__bksize_25__bkact_relu__dir_uni 7\n",
      "/home/thanos/projects/ae_pred/analysis/../results/inp_12__out_12__loss_mae__bksize_25__bkact_relu__dir_uni__7/best_weights.h5\n"
     ]
    },
    {
     "name": "stderr",
     "output_type": "stream",
     "text": [
      "/home/thanos/.envs/fsu/lib/python3.6/site-packages/ipykernel_launcher.py:9: RuntimeWarning: invalid value encountered in true_divide\n",
      "  if __name__ == '__main__':\n"
     ]
    },
    {
     "name": "stdout",
     "output_type": "stream",
     "text": [
      "inp_12__out_12__loss_mae__bksize_25__bkact_relu__dir_uni 8\n",
      "/home/thanos/projects/ae_pred/analysis/../results/inp_12__out_12__loss_mae__bksize_25__bkact_relu__dir_uni__8/best_weights.h5\n"
     ]
    },
    {
     "name": "stderr",
     "output_type": "stream",
     "text": [
      "/home/thanos/.envs/fsu/lib/python3.6/site-packages/ipykernel_launcher.py:9: RuntimeWarning: invalid value encountered in true_divide\n",
      "  if __name__ == '__main__':\n"
     ]
    },
    {
     "name": "stdout",
     "output_type": "stream",
     "text": [
      "inp_12__out_12__loss_mae__bksize_25__bkact_relu__dir_uni 9\n",
      "/home/thanos/projects/ae_pred/analysis/../results/inp_12__out_12__loss_mae__bksize_25__bkact_relu__dir_uni__9/best_weights.h5\n"
     ]
    },
    {
     "name": "stderr",
     "output_type": "stream",
     "text": [
      "/home/thanos/.envs/fsu/lib/python3.6/site-packages/ipykernel_launcher.py:9: RuntimeWarning: invalid value encountered in true_divide\n",
      "  if __name__ == '__main__':\n",
      " 12%|█▏        | 16/135 [29:04<3:19:57, 100.82s/it]"
     ]
    },
    {
     "name": "stdout",
     "output_type": "stream",
     "text": [
      "inp_12__out_12__loss_mae__bksize_25__bkact_relu__dir_uni 0\n",
      "/home/thanos/projects/ae_pred/analysis/../results/inp_12__out_12__loss_mae__bksize_25__bkact_relu__dir_uni__0/best_weights.h5\n"
     ]
    },
    {
     "name": "stderr",
     "output_type": "stream",
     "text": [
      "/home/thanos/.envs/fsu/lib/python3.6/site-packages/ipykernel_launcher.py:9: RuntimeWarning: invalid value encountered in true_divide\n",
      "  if __name__ == '__main__':\n"
     ]
    },
    {
     "name": "stdout",
     "output_type": "stream",
     "text": [
      "inp_12__out_12__loss_mae__bksize_25__bkact_relu__dir_uni 1\n",
      "/home/thanos/projects/ae_pred/analysis/../results/inp_12__out_12__loss_mae__bksize_25__bkact_relu__dir_uni__1/best_weights.h5\n"
     ]
    },
    {
     "name": "stderr",
     "output_type": "stream",
     "text": [
      "/home/thanos/.envs/fsu/lib/python3.6/site-packages/ipykernel_launcher.py:9: RuntimeWarning: invalid value encountered in true_divide\n",
      "  if __name__ == '__main__':\n"
     ]
    },
    {
     "name": "stdout",
     "output_type": "stream",
     "text": [
      "inp_12__out_12__loss_mae__bksize_25__bkact_relu__dir_uni 2\n",
      "/home/thanos/projects/ae_pred/analysis/../results/inp_12__out_12__loss_mae__bksize_25__bkact_relu__dir_uni__2/best_weights.h5\n"
     ]
    },
    {
     "name": "stderr",
     "output_type": "stream",
     "text": [
      "/home/thanos/.envs/fsu/lib/python3.6/site-packages/ipykernel_launcher.py:9: RuntimeWarning: invalid value encountered in true_divide\n",
      "  if __name__ == '__main__':\n"
     ]
    },
    {
     "name": "stdout",
     "output_type": "stream",
     "text": [
      "inp_12__out_12__loss_mae__bksize_25__bkact_relu__dir_uni 3\n",
      "/home/thanos/projects/ae_pred/analysis/../results/inp_12__out_12__loss_mae__bksize_25__bkact_relu__dir_uni__3/best_weights.h5\n"
     ]
    },
    {
     "name": "stderr",
     "output_type": "stream",
     "text": [
      "/home/thanos/.envs/fsu/lib/python3.6/site-packages/ipykernel_launcher.py:9: RuntimeWarning: invalid value encountered in true_divide\n",
      "  if __name__ == '__main__':\n"
     ]
    },
    {
     "name": "stdout",
     "output_type": "stream",
     "text": [
      "inp_12__out_12__loss_mae__bksize_25__bkact_relu__dir_uni 4\n",
      "/home/thanos/projects/ae_pred/analysis/../results/inp_12__out_12__loss_mae__bksize_25__bkact_relu__dir_uni__4/best_weights.h5\n"
     ]
    },
    {
     "name": "stderr",
     "output_type": "stream",
     "text": [
      "/home/thanos/.envs/fsu/lib/python3.6/site-packages/ipykernel_launcher.py:9: RuntimeWarning: invalid value encountered in true_divide\n",
      "  if __name__ == '__main__':\n"
     ]
    },
    {
     "name": "stdout",
     "output_type": "stream",
     "text": [
      "inp_12__out_12__loss_mae__bksize_25__bkact_relu__dir_uni 5\n",
      "/home/thanos/projects/ae_pred/analysis/../results/inp_12__out_12__loss_mae__bksize_25__bkact_relu__dir_uni__5/best_weights.h5\n"
     ]
    },
    {
     "name": "stderr",
     "output_type": "stream",
     "text": [
      "/home/thanos/.envs/fsu/lib/python3.6/site-packages/ipykernel_launcher.py:9: RuntimeWarning: invalid value encountered in true_divide\n",
      "  if __name__ == '__main__':\n"
     ]
    },
    {
     "name": "stdout",
     "output_type": "stream",
     "text": [
      "inp_12__out_12__loss_mae__bksize_25__bkact_relu__dir_uni 6\n",
      "/home/thanos/projects/ae_pred/analysis/../results/inp_12__out_12__loss_mae__bksize_25__bkact_relu__dir_uni__6/best_weights.h5\n"
     ]
    },
    {
     "name": "stderr",
     "output_type": "stream",
     "text": [
      "/home/thanos/.envs/fsu/lib/python3.6/site-packages/ipykernel_launcher.py:9: RuntimeWarning: invalid value encountered in true_divide\n",
      "  if __name__ == '__main__':\n"
     ]
    },
    {
     "name": "stdout",
     "output_type": "stream",
     "text": [
      "inp_12__out_12__loss_mae__bksize_25__bkact_relu__dir_uni 7\n",
      "/home/thanos/projects/ae_pred/analysis/../results/inp_12__out_12__loss_mae__bksize_25__bkact_relu__dir_uni__7/best_weights.h5\n"
     ]
    },
    {
     "name": "stderr",
     "output_type": "stream",
     "text": [
      "/home/thanos/.envs/fsu/lib/python3.6/site-packages/ipykernel_launcher.py:9: RuntimeWarning: invalid value encountered in true_divide\n",
      "  if __name__ == '__main__':\n"
     ]
    },
    {
     "name": "stdout",
     "output_type": "stream",
     "text": [
      "inp_12__out_12__loss_mae__bksize_25__bkact_relu__dir_uni 8\n",
      "/home/thanos/projects/ae_pred/analysis/../results/inp_12__out_12__loss_mae__bksize_25__bkact_relu__dir_uni__8/best_weights.h5\n"
     ]
    },
    {
     "name": "stderr",
     "output_type": "stream",
     "text": [
      "/home/thanos/.envs/fsu/lib/python3.6/site-packages/ipykernel_launcher.py:9: RuntimeWarning: invalid value encountered in true_divide\n",
      "  if __name__ == '__main__':\n"
     ]
    },
    {
     "name": "stdout",
     "output_type": "stream",
     "text": [
      "inp_12__out_12__loss_mae__bksize_25__bkact_relu__dir_uni 9\n",
      "/home/thanos/projects/ae_pred/analysis/../results/inp_12__out_12__loss_mae__bksize_25__bkact_relu__dir_uni__9/best_weights.h5\n"
     ]
    },
    {
     "name": "stderr",
     "output_type": "stream",
     "text": [
      "/home/thanos/.envs/fsu/lib/python3.6/site-packages/ipykernel_launcher.py:9: RuntimeWarning: invalid value encountered in true_divide\n",
      "  if __name__ == '__main__':\n",
      " 13%|█▎        | 17/135 [30:07<2:55:56, 89.46s/it] "
     ]
    },
    {
     "name": "stdout",
     "output_type": "stream",
     "text": [
      "inp_12__out_12__loss_mae__bksize_25__bkact_tanh__dir_bi 0\n",
      "/home/thanos/projects/ae_pred/analysis/../results/inp_12__out_12__loss_mae__bksize_25__bkact_tanh__dir_bi__0/best_weights.h5\n"
     ]
    },
    {
     "name": "stderr",
     "output_type": "stream",
     "text": [
      "/home/thanos/.envs/fsu/lib/python3.6/site-packages/ipykernel_launcher.py:9: RuntimeWarning: invalid value encountered in true_divide\n",
      "  if __name__ == '__main__':\n"
     ]
    },
    {
     "name": "stdout",
     "output_type": "stream",
     "text": [
      "inp_12__out_12__loss_mae__bksize_25__bkact_tanh__dir_bi 1\n",
      "/home/thanos/projects/ae_pred/analysis/../results/inp_12__out_12__loss_mae__bksize_25__bkact_tanh__dir_bi__1/best_weights.h5\n"
     ]
    },
    {
     "name": "stderr",
     "output_type": "stream",
     "text": [
      "/home/thanos/.envs/fsu/lib/python3.6/site-packages/ipykernel_launcher.py:9: RuntimeWarning: invalid value encountered in true_divide\n",
      "  if __name__ == '__main__':\n"
     ]
    },
    {
     "name": "stdout",
     "output_type": "stream",
     "text": [
      "inp_12__out_12__loss_mae__bksize_25__bkact_tanh__dir_bi 2\n",
      "/home/thanos/projects/ae_pred/analysis/../results/inp_12__out_12__loss_mae__bksize_25__bkact_tanh__dir_bi__2/best_weights.h5\n"
     ]
    },
    {
     "name": "stderr",
     "output_type": "stream",
     "text": [
      "/home/thanos/.envs/fsu/lib/python3.6/site-packages/ipykernel_launcher.py:9: RuntimeWarning: invalid value encountered in true_divide\n",
      "  if __name__ == '__main__':\n"
     ]
    },
    {
     "name": "stdout",
     "output_type": "stream",
     "text": [
      "inp_12__out_12__loss_mae__bksize_25__bkact_tanh__dir_bi 3\n",
      "/home/thanos/projects/ae_pred/analysis/../results/inp_12__out_12__loss_mae__bksize_25__bkact_tanh__dir_bi__3/best_weights.h5\n"
     ]
    },
    {
     "name": "stderr",
     "output_type": "stream",
     "text": [
      "/home/thanos/.envs/fsu/lib/python3.6/site-packages/ipykernel_launcher.py:9: RuntimeWarning: invalid value encountered in true_divide\n",
      "  if __name__ == '__main__':\n"
     ]
    },
    {
     "name": "stdout",
     "output_type": "stream",
     "text": [
      "inp_12__out_12__loss_mae__bksize_25__bkact_tanh__dir_bi 4\n",
      "/home/thanos/projects/ae_pred/analysis/../results/inp_12__out_12__loss_mae__bksize_25__bkact_tanh__dir_bi__4/best_weights.h5\n"
     ]
    },
    {
     "name": "stderr",
     "output_type": "stream",
     "text": [
      "/home/thanos/.envs/fsu/lib/python3.6/site-packages/ipykernel_launcher.py:9: RuntimeWarning: invalid value encountered in true_divide\n",
      "  if __name__ == '__main__':\n"
     ]
    },
    {
     "name": "stdout",
     "output_type": "stream",
     "text": [
      "inp_12__out_12__loss_mae__bksize_25__bkact_tanh__dir_bi 5\n",
      "/home/thanos/projects/ae_pred/analysis/../results/inp_12__out_12__loss_mae__bksize_25__bkact_tanh__dir_bi__5/best_weights.h5\n"
     ]
    },
    {
     "name": "stderr",
     "output_type": "stream",
     "text": [
      "/home/thanos/.envs/fsu/lib/python3.6/site-packages/ipykernel_launcher.py:9: RuntimeWarning: invalid value encountered in true_divide\n",
      "  if __name__ == '__main__':\n"
     ]
    },
    {
     "name": "stdout",
     "output_type": "stream",
     "text": [
      "inp_12__out_12__loss_mae__bksize_25__bkact_tanh__dir_bi 6\n",
      "/home/thanos/projects/ae_pred/analysis/../results/inp_12__out_12__loss_mae__bksize_25__bkact_tanh__dir_bi__6/best_weights.h5\n"
     ]
    },
    {
     "name": "stderr",
     "output_type": "stream",
     "text": [
      "/home/thanos/.envs/fsu/lib/python3.6/site-packages/ipykernel_launcher.py:9: RuntimeWarning: invalid value encountered in true_divide\n",
      "  if __name__ == '__main__':\n"
     ]
    },
    {
     "name": "stdout",
     "output_type": "stream",
     "text": [
      "inp_12__out_12__loss_mae__bksize_25__bkact_tanh__dir_bi 7\n",
      "/home/thanos/projects/ae_pred/analysis/../results/inp_12__out_12__loss_mae__bksize_25__bkact_tanh__dir_bi__7/best_weights.h5\n"
     ]
    },
    {
     "name": "stderr",
     "output_type": "stream",
     "text": [
      "/home/thanos/.envs/fsu/lib/python3.6/site-packages/ipykernel_launcher.py:9: RuntimeWarning: invalid value encountered in true_divide\n",
      "  if __name__ == '__main__':\n"
     ]
    },
    {
     "name": "stdout",
     "output_type": "stream",
     "text": [
      "inp_12__out_12__loss_mae__bksize_25__bkact_tanh__dir_bi 8\n",
      "/home/thanos/projects/ae_pred/analysis/../results/inp_12__out_12__loss_mae__bksize_25__bkact_tanh__dir_bi__8/best_weights.h5\n"
     ]
    },
    {
     "name": "stderr",
     "output_type": "stream",
     "text": [
      "/home/thanos/.envs/fsu/lib/python3.6/site-packages/ipykernel_launcher.py:9: RuntimeWarning: invalid value encountered in true_divide\n",
      "  if __name__ == '__main__':\n"
     ]
    },
    {
     "name": "stdout",
     "output_type": "stream",
     "text": [
      "inp_12__out_12__loss_mae__bksize_25__bkact_tanh__dir_bi 9\n",
      "/home/thanos/projects/ae_pred/analysis/../results/inp_12__out_12__loss_mae__bksize_25__bkact_tanh__dir_bi__9/best_weights.h5\n"
     ]
    },
    {
     "name": "stderr",
     "output_type": "stream",
     "text": [
      "/home/thanos/.envs/fsu/lib/python3.6/site-packages/ipykernel_launcher.py:9: RuntimeWarning: invalid value encountered in true_divide\n",
      "  if __name__ == '__main__':\n",
      " 13%|█▎        | 18/135 [32:14<3:16:31, 100.79s/it]"
     ]
    },
    {
     "name": "stdout",
     "output_type": "stream",
     "text": [
      "inp_12__out_12__loss_mae__bksize_100__bkact_leaky__dir_bi 0\n",
      "/home/thanos/projects/ae_pred/analysis/../results/inp_12__out_12__loss_mae__bksize_100__bkact_leaky__dir_bi__0/best_weights.h5\n"
     ]
    },
    {
     "name": "stderr",
     "output_type": "stream",
     "text": [
      "/home/thanos/.envs/fsu/lib/python3.6/site-packages/ipykernel_launcher.py:9: RuntimeWarning: invalid value encountered in true_divide\n",
      "  if __name__ == '__main__':\n"
     ]
    },
    {
     "name": "stdout",
     "output_type": "stream",
     "text": [
      "inp_12__out_12__loss_mae__bksize_100__bkact_leaky__dir_bi 1\n",
      "/home/thanos/projects/ae_pred/analysis/../results/inp_12__out_12__loss_mae__bksize_100__bkact_leaky__dir_bi__1/best_weights.h5\n"
     ]
    },
    {
     "name": "stderr",
     "output_type": "stream",
     "text": [
      "/home/thanos/.envs/fsu/lib/python3.6/site-packages/ipykernel_launcher.py:9: RuntimeWarning: invalid value encountered in true_divide\n",
      "  if __name__ == '__main__':\n"
     ]
    },
    {
     "name": "stdout",
     "output_type": "stream",
     "text": [
      "inp_12__out_12__loss_mae__bksize_100__bkact_leaky__dir_bi 2\n",
      "/home/thanos/projects/ae_pred/analysis/../results/inp_12__out_12__loss_mae__bksize_100__bkact_leaky__dir_bi__2/best_weights.h5\n"
     ]
    },
    {
     "name": "stderr",
     "output_type": "stream",
     "text": [
      "/home/thanos/.envs/fsu/lib/python3.6/site-packages/ipykernel_launcher.py:9: RuntimeWarning: invalid value encountered in true_divide\n",
      "  if __name__ == '__main__':\n"
     ]
    },
    {
     "name": "stdout",
     "output_type": "stream",
     "text": [
      "inp_12__out_12__loss_mae__bksize_100__bkact_leaky__dir_bi 3\n",
      "/home/thanos/projects/ae_pred/analysis/../results/inp_12__out_12__loss_mae__bksize_100__bkact_leaky__dir_bi__3/best_weights.h5\n"
     ]
    },
    {
     "name": "stderr",
     "output_type": "stream",
     "text": [
      "/home/thanos/.envs/fsu/lib/python3.6/site-packages/ipykernel_launcher.py:9: RuntimeWarning: invalid value encountered in true_divide\n",
      "  if __name__ == '__main__':\n"
     ]
    },
    {
     "name": "stdout",
     "output_type": "stream",
     "text": [
      "inp_12__out_12__loss_mae__bksize_100__bkact_leaky__dir_bi 4\n",
      "/home/thanos/projects/ae_pred/analysis/../results/inp_12__out_12__loss_mae__bksize_100__bkact_leaky__dir_bi__4/best_weights.h5\n"
     ]
    },
    {
     "name": "stderr",
     "output_type": "stream",
     "text": [
      "/home/thanos/.envs/fsu/lib/python3.6/site-packages/ipykernel_launcher.py:9: RuntimeWarning: invalid value encountered in true_divide\n",
      "  if __name__ == '__main__':\n"
     ]
    },
    {
     "name": "stdout",
     "output_type": "stream",
     "text": [
      "inp_12__out_12__loss_mae__bksize_100__bkact_leaky__dir_bi 5\n",
      "/home/thanos/projects/ae_pred/analysis/../results/inp_12__out_12__loss_mae__bksize_100__bkact_leaky__dir_bi__5/best_weights.h5\n"
     ]
    },
    {
     "name": "stderr",
     "output_type": "stream",
     "text": [
      "/home/thanos/.envs/fsu/lib/python3.6/site-packages/ipykernel_launcher.py:9: RuntimeWarning: invalid value encountered in true_divide\n",
      "  if __name__ == '__main__':\n"
     ]
    },
    {
     "name": "stdout",
     "output_type": "stream",
     "text": [
      "inp_12__out_12__loss_mae__bksize_100__bkact_leaky__dir_bi 6\n",
      "/home/thanos/projects/ae_pred/analysis/../results/inp_12__out_12__loss_mae__bksize_100__bkact_leaky__dir_bi__6/best_weights.h5\n"
     ]
    },
    {
     "name": "stderr",
     "output_type": "stream",
     "text": [
      "/home/thanos/.envs/fsu/lib/python3.6/site-packages/ipykernel_launcher.py:9: RuntimeWarning: invalid value encountered in true_divide\n",
      "  if __name__ == '__main__':\n"
     ]
    },
    {
     "name": "stdout",
     "output_type": "stream",
     "text": [
      "inp_12__out_12__loss_mae__bksize_100__bkact_leaky__dir_bi 7\n",
      "/home/thanos/projects/ae_pred/analysis/../results/inp_12__out_12__loss_mae__bksize_100__bkact_leaky__dir_bi__7/best_weights.h5\n"
     ]
    },
    {
     "name": "stderr",
     "output_type": "stream",
     "text": [
      "/home/thanos/.envs/fsu/lib/python3.6/site-packages/ipykernel_launcher.py:9: RuntimeWarning: invalid value encountered in true_divide\n",
      "  if __name__ == '__main__':\n"
     ]
    },
    {
     "name": "stdout",
     "output_type": "stream",
     "text": [
      "inp_12__out_12__loss_mae__bksize_100__bkact_leaky__dir_bi 8\n",
      "/home/thanos/projects/ae_pred/analysis/../results/inp_12__out_12__loss_mae__bksize_100__bkact_leaky__dir_bi__8/best_weights.h5\n"
     ]
    },
    {
     "name": "stderr",
     "output_type": "stream",
     "text": [
      "/home/thanos/.envs/fsu/lib/python3.6/site-packages/ipykernel_launcher.py:9: RuntimeWarning: invalid value encountered in true_divide\n",
      "  if __name__ == '__main__':\n"
     ]
    },
    {
     "name": "stdout",
     "output_type": "stream",
     "text": [
      "inp_12__out_12__loss_mae__bksize_100__bkact_leaky__dir_bi 9\n",
      "/home/thanos/projects/ae_pred/analysis/../results/inp_12__out_12__loss_mae__bksize_100__bkact_leaky__dir_bi__9/best_weights.h5\n"
     ]
    },
    {
     "name": "stderr",
     "output_type": "stream",
     "text": [
      "/home/thanos/.envs/fsu/lib/python3.6/site-packages/ipykernel_launcher.py:9: RuntimeWarning: invalid value encountered in true_divide\n",
      "  if __name__ == '__main__':\n",
      " 14%|█▍        | 19/135 [34:23<3:30:51, 109.07s/it]"
     ]
    },
    {
     "name": "stdout",
     "output_type": "stream",
     "text": [
      "inp_12__out_12__loss_mae__bksize_25__bkact_tanh__dir_bi 0\n",
      "/home/thanos/projects/ae_pred/analysis/../results/inp_12__out_12__loss_mae__bksize_25__bkact_tanh__dir_bi__0/best_weights.h5\n"
     ]
    },
    {
     "name": "stderr",
     "output_type": "stream",
     "text": [
      "/home/thanos/.envs/fsu/lib/python3.6/site-packages/ipykernel_launcher.py:9: RuntimeWarning: invalid value encountered in true_divide\n",
      "  if __name__ == '__main__':\n"
     ]
    },
    {
     "name": "stdout",
     "output_type": "stream",
     "text": [
      "inp_12__out_12__loss_mae__bksize_25__bkact_tanh__dir_bi 1\n",
      "/home/thanos/projects/ae_pred/analysis/../results/inp_12__out_12__loss_mae__bksize_25__bkact_tanh__dir_bi__1/best_weights.h5\n"
     ]
    },
    {
     "name": "stderr",
     "output_type": "stream",
     "text": [
      "/home/thanos/.envs/fsu/lib/python3.6/site-packages/ipykernel_launcher.py:9: RuntimeWarning: invalid value encountered in true_divide\n",
      "  if __name__ == '__main__':\n"
     ]
    },
    {
     "name": "stdout",
     "output_type": "stream",
     "text": [
      "inp_12__out_12__loss_mae__bksize_25__bkact_tanh__dir_bi 2\n",
      "/home/thanos/projects/ae_pred/analysis/../results/inp_12__out_12__loss_mae__bksize_25__bkact_tanh__dir_bi__2/best_weights.h5\n"
     ]
    },
    {
     "name": "stderr",
     "output_type": "stream",
     "text": [
      "/home/thanos/.envs/fsu/lib/python3.6/site-packages/ipykernel_launcher.py:9: RuntimeWarning: invalid value encountered in true_divide\n",
      "  if __name__ == '__main__':\n"
     ]
    },
    {
     "name": "stdout",
     "output_type": "stream",
     "text": [
      "inp_12__out_12__loss_mae__bksize_25__bkact_tanh__dir_bi 3\n",
      "/home/thanos/projects/ae_pred/analysis/../results/inp_12__out_12__loss_mae__bksize_25__bkact_tanh__dir_bi__3/best_weights.h5\n"
     ]
    },
    {
     "name": "stderr",
     "output_type": "stream",
     "text": [
      "/home/thanos/.envs/fsu/lib/python3.6/site-packages/ipykernel_launcher.py:9: RuntimeWarning: invalid value encountered in true_divide\n",
      "  if __name__ == '__main__':\n"
     ]
    },
    {
     "name": "stdout",
     "output_type": "stream",
     "text": [
      "inp_12__out_12__loss_mae__bksize_25__bkact_tanh__dir_bi 4\n",
      "/home/thanos/projects/ae_pred/analysis/../results/inp_12__out_12__loss_mae__bksize_25__bkact_tanh__dir_bi__4/best_weights.h5\n"
     ]
    },
    {
     "name": "stderr",
     "output_type": "stream",
     "text": [
      "/home/thanos/.envs/fsu/lib/python3.6/site-packages/ipykernel_launcher.py:9: RuntimeWarning: invalid value encountered in true_divide\n",
      "  if __name__ == '__main__':\n"
     ]
    },
    {
     "name": "stdout",
     "output_type": "stream",
     "text": [
      "inp_12__out_12__loss_mae__bksize_25__bkact_tanh__dir_bi 5\n",
      "/home/thanos/projects/ae_pred/analysis/../results/inp_12__out_12__loss_mae__bksize_25__bkact_tanh__dir_bi__5/best_weights.h5\n"
     ]
    },
    {
     "name": "stderr",
     "output_type": "stream",
     "text": [
      "/home/thanos/.envs/fsu/lib/python3.6/site-packages/ipykernel_launcher.py:9: RuntimeWarning: invalid value encountered in true_divide\n",
      "  if __name__ == '__main__':\n"
     ]
    },
    {
     "name": "stdout",
     "output_type": "stream",
     "text": [
      "inp_12__out_12__loss_mae__bksize_25__bkact_tanh__dir_bi 6\n",
      "/home/thanos/projects/ae_pred/analysis/../results/inp_12__out_12__loss_mae__bksize_25__bkact_tanh__dir_bi__6/best_weights.h5\n"
     ]
    },
    {
     "name": "stderr",
     "output_type": "stream",
     "text": [
      "/home/thanos/.envs/fsu/lib/python3.6/site-packages/ipykernel_launcher.py:9: RuntimeWarning: invalid value encountered in true_divide\n",
      "  if __name__ == '__main__':\n"
     ]
    },
    {
     "name": "stdout",
     "output_type": "stream",
     "text": [
      "inp_12__out_12__loss_mae__bksize_25__bkact_tanh__dir_bi 7\n",
      "/home/thanos/projects/ae_pred/analysis/../results/inp_12__out_12__loss_mae__bksize_25__bkact_tanh__dir_bi__7/best_weights.h5\n"
     ]
    },
    {
     "name": "stderr",
     "output_type": "stream",
     "text": [
      "/home/thanos/.envs/fsu/lib/python3.6/site-packages/ipykernel_launcher.py:9: RuntimeWarning: invalid value encountered in true_divide\n",
      "  if __name__ == '__main__':\n"
     ]
    },
    {
     "name": "stdout",
     "output_type": "stream",
     "text": [
      "inp_12__out_12__loss_mae__bksize_25__bkact_tanh__dir_bi 8\n",
      "/home/thanos/projects/ae_pred/analysis/../results/inp_12__out_12__loss_mae__bksize_25__bkact_tanh__dir_bi__8/best_weights.h5\n"
     ]
    },
    {
     "name": "stderr",
     "output_type": "stream",
     "text": [
      "/home/thanos/.envs/fsu/lib/python3.6/site-packages/ipykernel_launcher.py:9: RuntimeWarning: invalid value encountered in true_divide\n",
      "  if __name__ == '__main__':\n"
     ]
    },
    {
     "name": "stdout",
     "output_type": "stream",
     "text": [
      "inp_12__out_12__loss_mae__bksize_25__bkact_tanh__dir_bi 9\n",
      "/home/thanos/projects/ae_pred/analysis/../results/inp_12__out_12__loss_mae__bksize_25__bkact_tanh__dir_bi__9/best_weights.h5\n"
     ]
    },
    {
     "name": "stderr",
     "output_type": "stream",
     "text": [
      "/home/thanos/.envs/fsu/lib/python3.6/site-packages/ipykernel_launcher.py:9: RuntimeWarning: invalid value encountered in true_divide\n",
      "  if __name__ == '__main__':\n",
      " 15%|█▍        | 20/135 [36:30<3:39:47, 114.67s/it]"
     ]
    },
    {
     "name": "stdout",
     "output_type": "stream",
     "text": [
      "inp_12__out_12__loss_mae__bksize_25__bkact_tanh__dir_uni 0\n",
      "/home/thanos/projects/ae_pred/analysis/../results/inp_12__out_12__loss_mae__bksize_25__bkact_tanh__dir_uni__0/best_weights.h5\n"
     ]
    },
    {
     "name": "stderr",
     "output_type": "stream",
     "text": [
      "/home/thanos/.envs/fsu/lib/python3.6/site-packages/ipykernel_launcher.py:9: RuntimeWarning: invalid value encountered in true_divide\n",
      "  if __name__ == '__main__':\n"
     ]
    },
    {
     "name": "stdout",
     "output_type": "stream",
     "text": [
      "inp_12__out_12__loss_mae__bksize_25__bkact_tanh__dir_uni 1\n",
      "/home/thanos/projects/ae_pred/analysis/../results/inp_12__out_12__loss_mae__bksize_25__bkact_tanh__dir_uni__1/best_weights.h5\n"
     ]
    },
    {
     "name": "stderr",
     "output_type": "stream",
     "text": [
      "/home/thanos/.envs/fsu/lib/python3.6/site-packages/ipykernel_launcher.py:9: RuntimeWarning: invalid value encountered in true_divide\n",
      "  if __name__ == '__main__':\n"
     ]
    },
    {
     "name": "stdout",
     "output_type": "stream",
     "text": [
      "inp_12__out_12__loss_mae__bksize_25__bkact_tanh__dir_uni 2\n",
      "/home/thanos/projects/ae_pred/analysis/../results/inp_12__out_12__loss_mae__bksize_25__bkact_tanh__dir_uni__2/best_weights.h5\n"
     ]
    },
    {
     "name": "stderr",
     "output_type": "stream",
     "text": [
      "/home/thanos/.envs/fsu/lib/python3.6/site-packages/ipykernel_launcher.py:9: RuntimeWarning: invalid value encountered in true_divide\n",
      "  if __name__ == '__main__':\n"
     ]
    },
    {
     "name": "stdout",
     "output_type": "stream",
     "text": [
      "inp_12__out_12__loss_mae__bksize_25__bkact_tanh__dir_uni 3\n",
      "/home/thanos/projects/ae_pred/analysis/../results/inp_12__out_12__loss_mae__bksize_25__bkact_tanh__dir_uni__3/best_weights.h5\n"
     ]
    },
    {
     "name": "stderr",
     "output_type": "stream",
     "text": [
      "/home/thanos/.envs/fsu/lib/python3.6/site-packages/ipykernel_launcher.py:9: RuntimeWarning: invalid value encountered in true_divide\n",
      "  if __name__ == '__main__':\n"
     ]
    },
    {
     "name": "stdout",
     "output_type": "stream",
     "text": [
      "inp_12__out_12__loss_mae__bksize_25__bkact_tanh__dir_uni 4\n",
      "/home/thanos/projects/ae_pred/analysis/../results/inp_12__out_12__loss_mae__bksize_25__bkact_tanh__dir_uni__4/best_weights.h5\n"
     ]
    },
    {
     "name": "stderr",
     "output_type": "stream",
     "text": [
      "/home/thanos/.envs/fsu/lib/python3.6/site-packages/ipykernel_launcher.py:9: RuntimeWarning: invalid value encountered in true_divide\n",
      "  if __name__ == '__main__':\n"
     ]
    },
    {
     "name": "stdout",
     "output_type": "stream",
     "text": [
      "inp_12__out_12__loss_mae__bksize_25__bkact_tanh__dir_uni 5\n",
      "/home/thanos/projects/ae_pred/analysis/../results/inp_12__out_12__loss_mae__bksize_25__bkact_tanh__dir_uni__5/best_weights.h5\n"
     ]
    },
    {
     "name": "stderr",
     "output_type": "stream",
     "text": [
      "/home/thanos/.envs/fsu/lib/python3.6/site-packages/ipykernel_launcher.py:9: RuntimeWarning: invalid value encountered in true_divide\n",
      "  if __name__ == '__main__':\n"
     ]
    },
    {
     "name": "stdout",
     "output_type": "stream",
     "text": [
      "inp_12__out_12__loss_mae__bksize_25__bkact_tanh__dir_uni 6\n",
      "/home/thanos/projects/ae_pred/analysis/../results/inp_12__out_12__loss_mae__bksize_25__bkact_tanh__dir_uni__6/best_weights.h5\n"
     ]
    },
    {
     "name": "stderr",
     "output_type": "stream",
     "text": [
      "/home/thanos/.envs/fsu/lib/python3.6/site-packages/ipykernel_launcher.py:9: RuntimeWarning: invalid value encountered in true_divide\n",
      "  if __name__ == '__main__':\n"
     ]
    },
    {
     "name": "stdout",
     "output_type": "stream",
     "text": [
      "inp_12__out_12__loss_mae__bksize_25__bkact_tanh__dir_uni 7\n",
      "/home/thanos/projects/ae_pred/analysis/../results/inp_12__out_12__loss_mae__bksize_25__bkact_tanh__dir_uni__7/best_weights.h5\n"
     ]
    },
    {
     "name": "stderr",
     "output_type": "stream",
     "text": [
      "/home/thanos/.envs/fsu/lib/python3.6/site-packages/ipykernel_launcher.py:9: RuntimeWarning: invalid value encountered in true_divide\n",
      "  if __name__ == '__main__':\n"
     ]
    },
    {
     "name": "stdout",
     "output_type": "stream",
     "text": [
      "inp_12__out_12__loss_mae__bksize_25__bkact_tanh__dir_uni 8\n",
      "/home/thanos/projects/ae_pred/analysis/../results/inp_12__out_12__loss_mae__bksize_25__bkact_tanh__dir_uni__8/best_weights.h5\n"
     ]
    },
    {
     "name": "stderr",
     "output_type": "stream",
     "text": [
      "/home/thanos/.envs/fsu/lib/python3.6/site-packages/ipykernel_launcher.py:9: RuntimeWarning: invalid value encountered in true_divide\n",
      "  if __name__ == '__main__':\n"
     ]
    },
    {
     "name": "stdout",
     "output_type": "stream",
     "text": [
      "inp_12__out_12__loss_mae__bksize_25__bkact_tanh__dir_uni 9\n",
      "/home/thanos/projects/ae_pred/analysis/../results/inp_12__out_12__loss_mae__bksize_25__bkact_tanh__dir_uni__9/best_weights.h5\n"
     ]
    },
    {
     "name": "stderr",
     "output_type": "stream",
     "text": [
      "/home/thanos/.envs/fsu/lib/python3.6/site-packages/ipykernel_launcher.py:9: RuntimeWarning: invalid value encountered in true_divide\n",
      "  if __name__ == '__main__':\n",
      " 16%|█▌        | 21/135 [37:33<3:08:24, 99.16s/it] "
     ]
    },
    {
     "name": "stdout",
     "output_type": "stream",
     "text": [
      "inp_12__out_12__loss_mae__bksize_50__bkact_relu__dir_bi 0\n",
      "/home/thanos/projects/ae_pred/analysis/../results/inp_12__out_12__loss_mae__bksize_50__bkact_relu__dir_bi__0/best_weights.h5\n"
     ]
    },
    {
     "name": "stderr",
     "output_type": "stream",
     "text": [
      "/home/thanos/.envs/fsu/lib/python3.6/site-packages/ipykernel_launcher.py:9: RuntimeWarning: invalid value encountered in true_divide\n",
      "  if __name__ == '__main__':\n"
     ]
    },
    {
     "name": "stdout",
     "output_type": "stream",
     "text": [
      "inp_12__out_12__loss_mae__bksize_50__bkact_relu__dir_bi 1\n",
      "/home/thanos/projects/ae_pred/analysis/../results/inp_12__out_12__loss_mae__bksize_50__bkact_relu__dir_bi__1/best_weights.h5\n"
     ]
    },
    {
     "name": "stderr",
     "output_type": "stream",
     "text": [
      "/home/thanos/.envs/fsu/lib/python3.6/site-packages/ipykernel_launcher.py:9: RuntimeWarning: invalid value encountered in true_divide\n",
      "  if __name__ == '__main__':\n"
     ]
    },
    {
     "name": "stdout",
     "output_type": "stream",
     "text": [
      "inp_12__out_12__loss_mae__bksize_50__bkact_relu__dir_bi 2\n",
      "/home/thanos/projects/ae_pred/analysis/../results/inp_12__out_12__loss_mae__bksize_50__bkact_relu__dir_bi__2/best_weights.h5\n"
     ]
    },
    {
     "name": "stderr",
     "output_type": "stream",
     "text": [
      "/home/thanos/.envs/fsu/lib/python3.6/site-packages/ipykernel_launcher.py:9: RuntimeWarning: invalid value encountered in true_divide\n",
      "  if __name__ == '__main__':\n"
     ]
    },
    {
     "name": "stdout",
     "output_type": "stream",
     "text": [
      "inp_12__out_12__loss_mae__bksize_50__bkact_relu__dir_bi 3\n",
      "/home/thanos/projects/ae_pred/analysis/../results/inp_12__out_12__loss_mae__bksize_50__bkact_relu__dir_bi__3/best_weights.h5\n"
     ]
    },
    {
     "name": "stderr",
     "output_type": "stream",
     "text": [
      "/home/thanos/.envs/fsu/lib/python3.6/site-packages/ipykernel_launcher.py:9: RuntimeWarning: invalid value encountered in true_divide\n",
      "  if __name__ == '__main__':\n"
     ]
    },
    {
     "name": "stdout",
     "output_type": "stream",
     "text": [
      "inp_12__out_12__loss_mae__bksize_50__bkact_relu__dir_bi 4\n",
      "/home/thanos/projects/ae_pred/analysis/../results/inp_12__out_12__loss_mae__bksize_50__bkact_relu__dir_bi__4/best_weights.h5\n"
     ]
    },
    {
     "name": "stderr",
     "output_type": "stream",
     "text": [
      "/home/thanos/.envs/fsu/lib/python3.6/site-packages/ipykernel_launcher.py:9: RuntimeWarning: invalid value encountered in true_divide\n",
      "  if __name__ == '__main__':\n"
     ]
    },
    {
     "name": "stdout",
     "output_type": "stream",
     "text": [
      "inp_12__out_12__loss_mae__bksize_50__bkact_relu__dir_bi 5\n",
      "/home/thanos/projects/ae_pred/analysis/../results/inp_12__out_12__loss_mae__bksize_50__bkact_relu__dir_bi__5/best_weights.h5\n"
     ]
    },
    {
     "name": "stderr",
     "output_type": "stream",
     "text": [
      "/home/thanos/.envs/fsu/lib/python3.6/site-packages/ipykernel_launcher.py:9: RuntimeWarning: invalid value encountered in true_divide\n",
      "  if __name__ == '__main__':\n"
     ]
    },
    {
     "name": "stdout",
     "output_type": "stream",
     "text": [
      "inp_12__out_12__loss_mae__bksize_50__bkact_relu__dir_bi 6\n",
      "/home/thanos/projects/ae_pred/analysis/../results/inp_12__out_12__loss_mae__bksize_50__bkact_relu__dir_bi__6/best_weights.h5\n"
     ]
    },
    {
     "name": "stderr",
     "output_type": "stream",
     "text": [
      "/home/thanos/.envs/fsu/lib/python3.6/site-packages/ipykernel_launcher.py:9: RuntimeWarning: invalid value encountered in true_divide\n",
      "  if __name__ == '__main__':\n"
     ]
    },
    {
     "name": "stdout",
     "output_type": "stream",
     "text": [
      "inp_12__out_12__loss_mae__bksize_50__bkact_relu__dir_bi 7\n",
      "/home/thanos/projects/ae_pred/analysis/../results/inp_12__out_12__loss_mae__bksize_50__bkact_relu__dir_bi__7/best_weights.h5\n"
     ]
    },
    {
     "name": "stderr",
     "output_type": "stream",
     "text": [
      "/home/thanos/.envs/fsu/lib/python3.6/site-packages/ipykernel_launcher.py:9: RuntimeWarning: invalid value encountered in true_divide\n",
      "  if __name__ == '__main__':\n"
     ]
    },
    {
     "name": "stdout",
     "output_type": "stream",
     "text": [
      "inp_12__out_12__loss_mae__bksize_50__bkact_relu__dir_bi 8\n",
      "/home/thanos/projects/ae_pred/analysis/../results/inp_12__out_12__loss_mae__bksize_50__bkact_relu__dir_bi__8/best_weights.h5\n"
     ]
    },
    {
     "name": "stderr",
     "output_type": "stream",
     "text": [
      "/home/thanos/.envs/fsu/lib/python3.6/site-packages/ipykernel_launcher.py:9: RuntimeWarning: invalid value encountered in true_divide\n",
      "  if __name__ == '__main__':\n"
     ]
    },
    {
     "name": "stdout",
     "output_type": "stream",
     "text": [
      "inp_12__out_12__loss_mae__bksize_50__bkact_relu__dir_bi 9\n",
      "/home/thanos/projects/ae_pred/analysis/../results/inp_12__out_12__loss_mae__bksize_50__bkact_relu__dir_bi__9/best_weights.h5\n"
     ]
    },
    {
     "name": "stderr",
     "output_type": "stream",
     "text": [
      "/home/thanos/.envs/fsu/lib/python3.6/site-packages/ipykernel_launcher.py:9: RuntimeWarning: invalid value encountered in true_divide\n",
      "  if __name__ == '__main__':\n",
      " 16%|█▋        | 22/135 [39:41<3:23:02, 107.81s/it]"
     ]
    },
    {
     "name": "stdout",
     "output_type": "stream",
     "text": [
      "inp_12__out_12__loss_mae__bksize_50__bkact_leaky__dir_uni 0\n",
      "/home/thanos/projects/ae_pred/analysis/../results/inp_12__out_12__loss_mae__bksize_50__bkact_leaky__dir_uni__0/best_weights.h5\n"
     ]
    },
    {
     "name": "stderr",
     "output_type": "stream",
     "text": [
      "/home/thanos/.envs/fsu/lib/python3.6/site-packages/ipykernel_launcher.py:9: RuntimeWarning: invalid value encountered in true_divide\n",
      "  if __name__ == '__main__':\n"
     ]
    },
    {
     "name": "stdout",
     "output_type": "stream",
     "text": [
      "inp_12__out_12__loss_mae__bksize_50__bkact_leaky__dir_uni 1\n",
      "/home/thanos/projects/ae_pred/analysis/../results/inp_12__out_12__loss_mae__bksize_50__bkact_leaky__dir_uni__1/best_weights.h5\n"
     ]
    },
    {
     "name": "stderr",
     "output_type": "stream",
     "text": [
      "/home/thanos/.envs/fsu/lib/python3.6/site-packages/ipykernel_launcher.py:9: RuntimeWarning: invalid value encountered in true_divide\n",
      "  if __name__ == '__main__':\n"
     ]
    },
    {
     "name": "stdout",
     "output_type": "stream",
     "text": [
      "inp_12__out_12__loss_mae__bksize_50__bkact_leaky__dir_uni 2\n",
      "/home/thanos/projects/ae_pred/analysis/../results/inp_12__out_12__loss_mae__bksize_50__bkact_leaky__dir_uni__2/best_weights.h5\n"
     ]
    },
    {
     "name": "stderr",
     "output_type": "stream",
     "text": [
      "/home/thanos/.envs/fsu/lib/python3.6/site-packages/ipykernel_launcher.py:9: RuntimeWarning: invalid value encountered in true_divide\n",
      "  if __name__ == '__main__':\n"
     ]
    },
    {
     "name": "stdout",
     "output_type": "stream",
     "text": [
      "inp_12__out_12__loss_mae__bksize_50__bkact_leaky__dir_uni 3\n",
      "/home/thanos/projects/ae_pred/analysis/../results/inp_12__out_12__loss_mae__bksize_50__bkact_leaky__dir_uni__3/best_weights.h5\n"
     ]
    },
    {
     "name": "stderr",
     "output_type": "stream",
     "text": [
      "/home/thanos/.envs/fsu/lib/python3.6/site-packages/ipykernel_launcher.py:9: RuntimeWarning: invalid value encountered in true_divide\n",
      "  if __name__ == '__main__':\n"
     ]
    },
    {
     "name": "stdout",
     "output_type": "stream",
     "text": [
      "inp_12__out_12__loss_mae__bksize_50__bkact_leaky__dir_uni 4\n",
      "/home/thanos/projects/ae_pred/analysis/../results/inp_12__out_12__loss_mae__bksize_50__bkact_leaky__dir_uni__4/best_weights.h5\n"
     ]
    },
    {
     "name": "stderr",
     "output_type": "stream",
     "text": [
      "/home/thanos/.envs/fsu/lib/python3.6/site-packages/ipykernel_launcher.py:9: RuntimeWarning: invalid value encountered in true_divide\n",
      "  if __name__ == '__main__':\n"
     ]
    },
    {
     "name": "stdout",
     "output_type": "stream",
     "text": [
      "inp_12__out_12__loss_mae__bksize_50__bkact_leaky__dir_uni 5\n",
      "/home/thanos/projects/ae_pred/analysis/../results/inp_12__out_12__loss_mae__bksize_50__bkact_leaky__dir_uni__5/best_weights.h5\n"
     ]
    },
    {
     "name": "stderr",
     "output_type": "stream",
     "text": [
      "/home/thanos/.envs/fsu/lib/python3.6/site-packages/ipykernel_launcher.py:9: RuntimeWarning: invalid value encountered in true_divide\n",
      "  if __name__ == '__main__':\n"
     ]
    },
    {
     "name": "stdout",
     "output_type": "stream",
     "text": [
      "inp_12__out_12__loss_mae__bksize_50__bkact_leaky__dir_uni 6\n",
      "/home/thanos/projects/ae_pred/analysis/../results/inp_12__out_12__loss_mae__bksize_50__bkact_leaky__dir_uni__6/best_weights.h5\n"
     ]
    },
    {
     "name": "stderr",
     "output_type": "stream",
     "text": [
      "/home/thanos/.envs/fsu/lib/python3.6/site-packages/ipykernel_launcher.py:9: RuntimeWarning: invalid value encountered in true_divide\n",
      "  if __name__ == '__main__':\n"
     ]
    },
    {
     "name": "stdout",
     "output_type": "stream",
     "text": [
      "inp_12__out_12__loss_mae__bksize_50__bkact_leaky__dir_uni 7\n",
      "/home/thanos/projects/ae_pred/analysis/../results/inp_12__out_12__loss_mae__bksize_50__bkact_leaky__dir_uni__7/best_weights.h5\n"
     ]
    },
    {
     "name": "stderr",
     "output_type": "stream",
     "text": [
      "/home/thanos/.envs/fsu/lib/python3.6/site-packages/ipykernel_launcher.py:9: RuntimeWarning: invalid value encountered in true_divide\n",
      "  if __name__ == '__main__':\n"
     ]
    },
    {
     "name": "stdout",
     "output_type": "stream",
     "text": [
      "inp_12__out_12__loss_mae__bksize_50__bkact_leaky__dir_uni 8\n",
      "/home/thanos/projects/ae_pred/analysis/../results/inp_12__out_12__loss_mae__bksize_50__bkact_leaky__dir_uni__8/best_weights.h5\n"
     ]
    },
    {
     "name": "stderr",
     "output_type": "stream",
     "text": [
      "/home/thanos/.envs/fsu/lib/python3.6/site-packages/ipykernel_launcher.py:9: RuntimeWarning: invalid value encountered in true_divide\n",
      "  if __name__ == '__main__':\n"
     ]
    },
    {
     "name": "stdout",
     "output_type": "stream",
     "text": [
      "inp_12__out_12__loss_mae__bksize_50__bkact_leaky__dir_uni 9\n",
      "/home/thanos/projects/ae_pred/analysis/../results/inp_12__out_12__loss_mae__bksize_50__bkact_leaky__dir_uni__9/best_weights.h5\n"
     ]
    },
    {
     "name": "stderr",
     "output_type": "stream",
     "text": [
      "/home/thanos/.envs/fsu/lib/python3.6/site-packages/ipykernel_launcher.py:9: RuntimeWarning: invalid value encountered in true_divide\n",
      "  if __name__ == '__main__':\n",
      " 17%|█▋        | 23/135 [40:45<2:56:19, 94.46s/it] "
     ]
    },
    {
     "name": "stdout",
     "output_type": "stream",
     "text": [
      "inp_12__out_12__loss_mae__bksize_100__bkact_leaky__dir_uni 0\n",
      "/home/thanos/projects/ae_pred/analysis/../results/inp_12__out_12__loss_mae__bksize_100__bkact_leaky__dir_uni__0/best_weights.h5\n"
     ]
    },
    {
     "name": "stderr",
     "output_type": "stream",
     "text": [
      "/home/thanos/.envs/fsu/lib/python3.6/site-packages/ipykernel_launcher.py:9: RuntimeWarning: invalid value encountered in true_divide\n",
      "  if __name__ == '__main__':\n"
     ]
    },
    {
     "name": "stdout",
     "output_type": "stream",
     "text": [
      "inp_12__out_12__loss_mae__bksize_100__bkact_leaky__dir_uni 1\n",
      "/home/thanos/projects/ae_pred/analysis/../results/inp_12__out_12__loss_mae__bksize_100__bkact_leaky__dir_uni__1/best_weights.h5\n"
     ]
    },
    {
     "name": "stderr",
     "output_type": "stream",
     "text": [
      "/home/thanos/.envs/fsu/lib/python3.6/site-packages/ipykernel_launcher.py:9: RuntimeWarning: invalid value encountered in true_divide\n",
      "  if __name__ == '__main__':\n"
     ]
    },
    {
     "name": "stdout",
     "output_type": "stream",
     "text": [
      "inp_12__out_12__loss_mae__bksize_100__bkact_leaky__dir_uni 2\n",
      "/home/thanos/projects/ae_pred/analysis/../results/inp_12__out_12__loss_mae__bksize_100__bkact_leaky__dir_uni__2/best_weights.h5\n"
     ]
    },
    {
     "name": "stderr",
     "output_type": "stream",
     "text": [
      "/home/thanos/.envs/fsu/lib/python3.6/site-packages/ipykernel_launcher.py:9: RuntimeWarning: invalid value encountered in true_divide\n",
      "  if __name__ == '__main__':\n"
     ]
    },
    {
     "name": "stdout",
     "output_type": "stream",
     "text": [
      "inp_12__out_12__loss_mae__bksize_100__bkact_leaky__dir_uni 3\n",
      "/home/thanos/projects/ae_pred/analysis/../results/inp_12__out_12__loss_mae__bksize_100__bkact_leaky__dir_uni__3/best_weights.h5\n"
     ]
    },
    {
     "name": "stderr",
     "output_type": "stream",
     "text": [
      "/home/thanos/.envs/fsu/lib/python3.6/site-packages/ipykernel_launcher.py:9: RuntimeWarning: invalid value encountered in true_divide\n",
      "  if __name__ == '__main__':\n"
     ]
    },
    {
     "name": "stdout",
     "output_type": "stream",
     "text": [
      "inp_12__out_12__loss_mae__bksize_100__bkact_leaky__dir_uni 4\n",
      "/home/thanos/projects/ae_pred/analysis/../results/inp_12__out_12__loss_mae__bksize_100__bkact_leaky__dir_uni__4/best_weights.h5\n"
     ]
    },
    {
     "name": "stderr",
     "output_type": "stream",
     "text": [
      "/home/thanos/.envs/fsu/lib/python3.6/site-packages/ipykernel_launcher.py:9: RuntimeWarning: invalid value encountered in true_divide\n",
      "  if __name__ == '__main__':\n"
     ]
    },
    {
     "name": "stdout",
     "output_type": "stream",
     "text": [
      "inp_12__out_12__loss_mae__bksize_100__bkact_leaky__dir_uni 5\n",
      "/home/thanos/projects/ae_pred/analysis/../results/inp_12__out_12__loss_mae__bksize_100__bkact_leaky__dir_uni__5/best_weights.h5\n"
     ]
    },
    {
     "ename": "OSError",
     "evalue": "SavedModel file does not exist at: /home/thanos/projects/ae_pred/analysis/../results/inp_12__out_12__loss_mae__bksize_100__bkact_leaky__dir_uni__5/best_weights.h5/{saved_model.pbtxt|saved_model.pb}",
     "output_type": "error",
     "traceback": [
      "\u001b[0;31m---------------------------------------------------------------------------\u001b[0m",
      "\u001b[0;31mOSError\u001b[0m                                   Traceback (most recent call last)",
      "\u001b[0;32m<ipython-input-15-14d64e0806a2>\u001b[0m in \u001b[0;36m<module>\u001b[0;34m\u001b[0m\n\u001b[1;32m     21\u001b[0m                                                                       \u001b[0;34m'MASE_estimate'\u001b[0m\u001b[0;34m:\u001b[0m \u001b[0mmase_estimate\u001b[0m\u001b[0;34m,\u001b[0m\u001b[0;34m\u001b[0m\u001b[0;34m\u001b[0m\u001b[0m\n\u001b[1;32m     22\u001b[0m                                                                       \u001b[0;34m'OWA_estimate'\u001b[0m\u001b[0;34m:\u001b[0m \u001b[0mowa_estimate\u001b[0m\u001b[0;34m,\u001b[0m\u001b[0;34m\u001b[0m\u001b[0;34m\u001b[0m\u001b[0m\n\u001b[0;32m---> 23\u001b[0;31m                                                                       'reconstruction_loss': reconstruction_loss})\n\u001b[0m\u001b[1;32m     24\u001b[0m \u001b[0;34m\u001b[0m\u001b[0m\n\u001b[1;32m     25\u001b[0m         \u001b[0mmodel_preds\u001b[0m \u001b[0;34m=\u001b[0m \u001b[0mget_predictions\u001b[0m\u001b[0;34m(\u001b[0m\u001b[0mmodel\u001b[0m\u001b[0;34m,\u001b[0m \u001b[0mX_test\u001b[0m\u001b[0;34m)\u001b[0m\u001b[0;34m\u001b[0m\u001b[0;34m\u001b[0m\u001b[0m\n",
      "\u001b[0;32m~/.envs/fsu/lib/python3.6/site-packages/tensorflow_core/python/keras/saving/save.py\u001b[0m in \u001b[0;36mload_model\u001b[0;34m(filepath, custom_objects, compile)\u001b[0m\n\u001b[1;32m    147\u001b[0m \u001b[0;34m\u001b[0m\u001b[0m\n\u001b[1;32m    148\u001b[0m   \u001b[0;32mif\u001b[0m \u001b[0misinstance\u001b[0m\u001b[0;34m(\u001b[0m\u001b[0mfilepath\u001b[0m\u001b[0;34m,\u001b[0m \u001b[0msix\u001b[0m\u001b[0;34m.\u001b[0m\u001b[0mstring_types\u001b[0m\u001b[0;34m)\u001b[0m\u001b[0;34m:\u001b[0m\u001b[0;34m\u001b[0m\u001b[0;34m\u001b[0m\u001b[0m\n\u001b[0;32m--> 149\u001b[0;31m     \u001b[0mloader_impl\u001b[0m\u001b[0;34m.\u001b[0m\u001b[0mparse_saved_model\u001b[0m\u001b[0;34m(\u001b[0m\u001b[0mfilepath\u001b[0m\u001b[0;34m)\u001b[0m\u001b[0;34m\u001b[0m\u001b[0;34m\u001b[0m\u001b[0m\n\u001b[0m\u001b[1;32m    150\u001b[0m     \u001b[0;32mreturn\u001b[0m \u001b[0msaved_model_load\u001b[0m\u001b[0;34m.\u001b[0m\u001b[0mload\u001b[0m\u001b[0;34m(\u001b[0m\u001b[0mfilepath\u001b[0m\u001b[0;34m,\u001b[0m \u001b[0mcompile\u001b[0m\u001b[0;34m)\u001b[0m\u001b[0;34m\u001b[0m\u001b[0;34m\u001b[0m\u001b[0m\n\u001b[1;32m    151\u001b[0m \u001b[0;34m\u001b[0m\u001b[0m\n",
      "\u001b[0;32m~/.envs/fsu/lib/python3.6/site-packages/tensorflow_core/python/saved_model/loader_impl.py\u001b[0m in \u001b[0;36mparse_saved_model\u001b[0;34m(export_dir)\u001b[0m\n\u001b[1;32m     81\u001b[0m                   (export_dir,\n\u001b[1;32m     82\u001b[0m                    \u001b[0mconstants\u001b[0m\u001b[0;34m.\u001b[0m\u001b[0mSAVED_MODEL_FILENAME_PBTXT\u001b[0m\u001b[0;34m,\u001b[0m\u001b[0;34m\u001b[0m\u001b[0;34m\u001b[0m\u001b[0m\n\u001b[0;32m---> 83\u001b[0;31m                    constants.SAVED_MODEL_FILENAME_PB))\n\u001b[0m\u001b[1;32m     84\u001b[0m \u001b[0;34m\u001b[0m\u001b[0m\n\u001b[1;32m     85\u001b[0m \u001b[0;34m\u001b[0m\u001b[0m\n",
      "\u001b[0;31mOSError\u001b[0m: SavedModel file does not exist at: /home/thanos/projects/ae_pred/analysis/../results/inp_12__out_12__loss_mae__bksize_100__bkact_leaky__dir_uni__5/best_weights.h5/{saved_model.pbtxt|saved_model.pb}"
     ]
    }
   ],
   "source": [
    "trial_families = [t.name[:-3] for t in trials if t.name[0] == 'i']\n",
    "\n",
    "results_median = {'smape': {k: [] for k in trial_families},\n",
    "                  'mase': {k: [] for k in trial_families},\n",
    "                  'owa': {k: [] for k in trial_families}}\n",
    "\n",
    "for family in tqdm(trial_families):\n",
    "    \n",
    "    family_preds = []\n",
    "    for num in range(10):\n",
    "        print(family, num)\n",
    "        model_dir = str(trials[0].parent / '__'.join([family, str(num)]) / 'best_weights.h5')\n",
    "        print(model_dir)\n",
    "        mape = metrics.build_mape(overlap=6)\n",
    "        smape = metrics.build_smape(overlap=6)\n",
    "        mase_estimate = metrics.build_mase(overlap=6)\n",
    "        owa_estimate = metrics.build_owa(overlap=6)\n",
    "        reconstruction_loss = metrics.build_reconstruction_loss(overlap=6)\n",
    "\n",
    "        model = tf.keras.models.load_model(model_dir, custom_objects={'SMAPE': smape,\n",
    "                                                                      'MASE_estimate': mase_estimate,\n",
    "                                                                      'OWA_estimate': owa_estimate,\n",
    "                                                                      'reconstruction_loss': reconstruction_loss})\n",
    "\n",
    "        model_preds = get_predictions(model, X_test)\n",
    "\n",
    "        family_preds.append(model_preds)\n",
    "        tf.keras.backend.clear_session()\n",
    "    \n",
    "    preds = np.median(np.array(family_preds), axis=0)\n",
    "    \n",
    "    results_median['smape'][family].append(np.nanmean(SMAPE(y_test, preds[:, 6:])))\n",
    "    results_median['mase'][family].append(np.nanmean(MASE(X_test, y_test, preds[:, 6:])))\n",
    "    results_median['owa'][family].append(np.nanmean(OWA(X_test, y_test, preds[:, 6:])))"
   ]
  },
  {
   "cell_type": "code",
   "execution_count": 57,
   "metadata": {},
   "outputs": [],
   "source": [
    "med = create_results_df(results_median, ensemble=True)"
   ]
  },
  {
   "cell_type": "code",
   "execution_count": 59,
   "metadata": {},
   "outputs": [],
   "source": [
    "med.to_csv('../results/median_result_df.csv')"
   ]
  },
  {
   "cell_type": "code",
   "execution_count": 11,
   "metadata": {},
   "outputs": [],
   "source": [
    "def m4_smape(a, b):\n",
    "    \"\"\"\n",
    "    Calculates sMAPE\n",
    "    :param a: actual values\n",
    "    :param b: predicted values\n",
    "    :return: sMAPE\n",
    "    \"\"\"\n",
    "    a = np.reshape(a, (-1,))\n",
    "    b = np.reshape(b, (-1,))\n",
    "    return np.nanmean(2.0 * np.abs(a - b) / (np.abs(a) + np.abs(b))).item()\n",
    "\n",
    "\n",
    "def m4_mase(insample, y_test, y_hat_test, freq):\n",
    "    \"\"\"\n",
    "    Calculates MAsE\n",
    "    :param insample: insample data\n",
    "    :param y_test: out of sample target values\n",
    "    :param y_hat_test: predicted values\n",
    "    :param freq: data frequency\n",
    "    :return:\n",
    "    \"\"\"\n",
    "    y_hat_naive = []\n",
    "    for i in range(freq, len(insample)):\n",
    "        y_hat_naive.append(insample[(i - freq)])\n",
    "\n",
    "    masep = np.mean(abs(insample[freq:] - y_hat_naive))\n",
    "\n",
    "    return np.nanmean(abs(y_test - y_hat_test)) / masep"
   ]
  },
  {
   "cell_type": "code",
   "execution_count": 12,
   "metadata": {},
   "outputs": [
    {
     "data": {
      "text/plain": [
       "0.1353691322553586"
      ]
     },
     "execution_count": 12,
     "metadata": {},
     "output_type": "execute_result"
    }
   ],
   "source": [
    "m4_smape(y_test, preds[:, 6:])"
   ]
  },
  {
   "cell_type": "code",
   "execution_count": 13,
   "metadata": {},
   "outputs": [
    {
     "data": {
      "text/plain": [
       "0.25680578088560957"
      ]
     },
     "execution_count": 13,
     "metadata": {},
     "output_type": "execute_result"
    }
   ],
   "source": [
    "m4_mase(X_test, y_test, preds[:, 6:], 6)"
   ]
  },
  {
   "cell_type": "markdown",
   "metadata": {},
   "source": [
    "### fix nan"
   ]
  },
  {
   "cell_type": "code",
   "execution_count": 14,
   "metadata": {},
   "outputs": [
    {
     "data": {
      "text/plain": [
       "(array([15087, 15087, 15087, 15087, 15087, 15087, 15087, 15087, 15087,\n",
       "        15087, 15087, 15087]),\n",
       " array([ 0,  1,  2,  3,  4,  5,  6,  7,  8,  9, 10, 11]))"
      ]
     },
     "execution_count": 14,
     "metadata": {},
     "output_type": "execute_result"
    }
   ],
   "source": [
    "np.where(np.isnan(preds))"
   ]
  },
  {
   "cell_type": "code",
   "execution_count": 15,
   "metadata": {},
   "outputs": [
    {
     "data": {
      "text/plain": [
       "[<matplotlib.lines.Line2D at 0x7fe7571645c0>]"
      ]
     },
     "execution_count": 15,
     "metadata": {},
     "output_type": "execute_result"
    },
    {
     "data": {
      "image/png": "[encoded data removed]",
      "text/plain": [
       "<Figure size 432x288 with 1 Axes>"
      ]
     },
     "metadata": {
      "needs_background": "light"
     },
     "output_type": "display_data"
    }
   ],
   "source": [
    "plt.plot(range(12), X_test[15087])\n",
    "plt.plot(range(12, 18), y_test[15087])"
   ]
  },
  {
   "cell_type": "code",
   "execution_count": 16,
   "metadata": {},
   "outputs": [],
   "source": [
    "preds_fixed = preds.copy()"
   ]
  },
  {
   "cell_type": "code",
   "execution_count": 17,
   "metadata": {},
   "outputs": [],
   "source": [
    "preds_fixed[15087] = X_test[15087, -1]"
   ]
  },
  {
   "cell_type": "code",
   "execution_count": 18,
   "metadata": {},
   "outputs": [
    {
     "data": {
      "text/plain": [
       "False"
      ]
     },
     "execution_count": 18,
     "metadata": {},
     "output_type": "execute_result"
    }
   ],
   "source": [
    "np.any(np.isnan(preds_fixed))"
   ]
  },
  {
   "cell_type": "code",
   "execution_count": 19,
   "metadata": {},
   "outputs": [
    {
     "data": {
      "text/plain": [
       "[<matplotlib.lines.Line2D at 0x7fe6769039e8>]"
      ]
     },
     "execution_count": 19,
     "metadata": {},
     "output_type": "execute_result"
    },
    {
     "data": {
      "image/png": "[encoded data removed]",
      "text/plain": [
       "<Figure size 432x288 with 1 Axes>"
      ]
     },
     "metadata": {
      "needs_background": "light"
     },
     "output_type": "display_data"
    }
   ],
   "source": [
    "plt.plot(range(12), X_test[15087])\n",
    "plt.plot(range(12, 18), y_test[15087])\n",
    "plt.plot(range(6, 18), preds_fixed[15087])"
   ]
  },
  {
   "cell_type": "code",
   "execution_count": 20,
   "metadata": {},
   "outputs": [],
   "source": [
    "def m4_smape(a, b):\n",
    "    \"\"\"\n",
    "    Calculates sMAPE\n",
    "    :param a: actual values\n",
    "    :param b: predicted values\n",
    "    :return: sMAPE\n",
    "    \"\"\"\n",
    "    a = np.reshape(a, (-1,))\n",
    "    b = np.reshape(b, (-1,))\n",
    "    return np.mean(2.0 * np.abs(a - b) / (np.abs(a) + np.abs(b))).item()\n",
    "\n",
    "\n",
    "def m4_mase(insample, y_test, y_hat_test, freq):\n",
    "    \"\"\"\n",
    "    Calculates MAsE\n",
    "    :param insample: insample data\n",
    "    :param y_test: out of sample target values\n",
    "    :param y_hat_test: predicted values\n",
    "    :param freq: data frequency\n",
    "    :return:\n",
    "    \"\"\"\n",
    "    y_hat_naive = []\n",
    "    for i in range(freq, len(insample)):\n",
    "        y_hat_naive.append(insample[(i - freq)])\n",
    "\n",
    "    masep = np.mean(abs(insample[freq:] - y_hat_naive))\n",
    "\n",
    "    return np.mean(abs(y_test - y_hat_test)) / masep"
   ]
  },
  {
   "cell_type": "code",
   "execution_count": 22,
   "metadata": {},
   "outputs": [
    {
     "data": {
      "text/plain": [
       "0.2568097820044437"
      ]
     },
     "execution_count": 22,
     "metadata": {},
     "output_type": "execute_result"
    }
   ],
   "source": [
    "m4_mase(X_test, y_test, preds_fixed[:, 6:], 6)"
   ]
  },
  {
   "cell_type": "markdown",
   "metadata": {},
   "source": [
    "### find best"
   ]
  },
  {
   "cell_type": "code",
   "execution_count": 26,
   "metadata": {},
   "outputs": [],
   "source": [
    "smapes = [s[0] for s in results['smape'].values() if s]\n",
    "mases = [s[0] for s in results['mase'].values() if s]"
   ]
  },
  {
   "cell_type": "code",
   "execution_count": 27,
   "metadata": {},
   "outputs": [
    {
     "data": {
      "text/plain": [
       "37"
      ]
     },
     "execution_count": 27,
     "metadata": {},
     "output_type": "execute_result"
    }
   ],
   "source": [
    "np.argmin(smapes)"
   ]
  },
  {
   "cell_type": "code",
   "execution_count": 28,
   "metadata": {},
   "outputs": [
    {
     "data": {
      "text/plain": [
       "9"
      ]
     },
     "execution_count": 28,
     "metadata": {},
     "output_type": "execute_result"
    }
   ],
   "source": [
    "np.argmin(mases)"
   ]
  },
  {
   "cell_type": "code",
   "execution_count": 31,
   "metadata": {},
   "outputs": [
    {
     "data": {
      "text/plain": [
       "(13.175348506531154, 2.473241526273387)"
      ]
     },
     "execution_count": 31,
     "metadata": {},
     "output_type": "execute_result"
    }
   ],
   "source": [
    "smapes[37], mases[37]"
   ]
  },
  {
   "cell_type": "code",
   "execution_count": 32,
   "metadata": {},
   "outputs": [
    {
     "data": {
      "text/plain": [
       "(13.211644733815417, 2.470802343828664)"
      ]
     },
     "execution_count": 32,
     "metadata": {},
     "output_type": "execute_result"
    }
   ],
   "source": [
    "smapes[9], mases[9]"
   ]
  },
  {
   "cell_type": "code",
   "execution_count": 39,
   "metadata": {},
   "outputs": [
    {
     "name": "stderr",
     "output_type": "stream",
     "text": [
      "/home/thanos/.envs/fsu/lib/python3.6/site-packages/ipykernel_launcher.py:9: RuntimeWarning: invalid value encountered in true_divide\n",
      "  if __name__ == '__main__':\n"
     ]
    }
   ],
   "source": [
    "model_dir = 'results/37/best_weights.h5'\n",
    "\n",
    "model = tf.keras.models.load_model(model_dir, custom_objects={'SMAPE': smape,\n",
    "                                                              'MASE_estimate': mase_estimate,\n",
    "                                                              'OWA_estimate': owa_estimate,\n",
    "                                                              'reconstruction_loss': reconstruction_loss})\n",
    "\n",
    "best_preds = get_predictions(model, X_test)"
   ]
  },
  {
   "cell_type": "code",
   "execution_count": 47,
   "metadata": {},
   "outputs": [],
   "source": [
    "best_preds[15087] = X_test[15087, -1]"
   ]
  },
  {
   "cell_type": "code",
   "execution_count": 58,
   "metadata": {},
   "outputs": [],
   "source": [
    "np.savetxt('m4_predictions.csv', best_preds[:, 6:], delimiter=',')"
   ]
  },
  {
   "cell_type": "code",
   "execution_count": 81,
   "metadata": {},
   "outputs": [],
   "source": [
    "smapes = [m4_smape(y_test[i], best_preds[i, 6:]) for i in range(len(y_test))]"
   ]
  },
  {
   "cell_type": "code",
   "execution_count": 82,
   "metadata": {},
   "outputs": [
    {
     "data": {
      "text/plain": [
       "0.1317516584416001"
      ]
     },
     "execution_count": 82,
     "metadata": {},
     "output_type": "execute_result"
    }
   ],
   "source": [
    "np.mean(smapes)"
   ]
  }
 ],
 "metadata": {
  "kernelspec": {
   "display_name": "fsu",
   "language": "python",
   "name": "fsu"
  },
  "language_info": {
   "codemirror_mode": {
    "name": "ipython",
    "version": 3
   },
   "file_extension": ".py",
   "mimetype": "text/x-python",
   "name": "python",
   "nbconvert_exporter": "python",
   "pygments_lexer": "ipython3",
   "version": "3.6.9"
  }
 },
 "nbformat": 4,
 "nbformat_minor": 4
}
