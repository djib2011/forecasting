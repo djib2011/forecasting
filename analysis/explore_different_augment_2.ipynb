{
 "cells": [
  {
   "cell_type": "code",
   "execution_count": 35,
   "metadata": {},
   "outputs": [],
   "source": [
    "import tensorflow as tf\n",
    "from pathlib import Path\n",
    "import pandas as pd\n",
    "import numpy as np\n",
    "import pickle as pkl\n",
    "import os\n",
    "import matplotlib.pyplot as plt\n",
    "\n",
    "import sys\n",
    "sys.path.append('..')\n",
    "\n",
    "import networks\n",
    "import metrics\n",
    "import evaluate\n",
    "from datasets import seq2seq_generator, seq2seq_generator_with_aug\n",
    "\n",
    "%matplotlib inline"
   ]
  },
  {
   "cell_type": "code",
   "execution_count": 32,
   "metadata": {},
   "outputs": [],
   "source": [
    "# Load data\n",
    "with open('../data/yearly_24_train.pkl', 'rb') as f:\n",
    "    data = pkl.load(f)\n",
    "\n",
    "# Generate synthetic samples\n",
    "s1 = np.random.choice(np.arange(len(data[0])), 300000, replace=True)\n",
    "s2 = np.random.choice(np.arange(len(data[0])), 300000, replace=True)\n",
    "s3 = np.random.choice(np.arange(len(data[0])), 300000, replace=True)\n",
    "s4 = np.random.choice(np.arange(len(data[0])), 300000, replace=True)\n",
    "s5 = np.random.choice(np.arange(len(data[0])), 300000, replace=True)\n",
    "\n",
    "syn3 = [(d[s1] + d[s2] + d[s3]) / 3 for d in data]\n",
    "syn4 = [(d[s1] + d[s2] + d[s3] + d[s4] ) / 4 for d in data]\n",
    "syn5 = [(d[s1] + d[s2] + d[s3] + d[s4] + d[s5]) / 5 for d in data]\n",
    "\n",
    "with open('/tmp/yearly_24_train_aug_3.pkl', 'wb') as f:\n",
    "    pkl.dump(syn3, f)\n",
    "    \n",
    "with open('/tmp/yearly_24_train_aug_4.pkl', 'wb') as f:\n",
    "    pkl.dump(syn4, f)\n",
    "    \n",
    "with open('/tmp/yearly_24_train_aug_5.pkl', 'wb') as f:\n",
    "    pkl.dump(syn5, f)"
   ]
  },
  {
   "cell_type": "code",
   "execution_count": 41,
   "metadata": {},
   "outputs": [
    {
     "data": {
      "text/plain": [
       "[<matplotlib.lines.Line2D at 0x7f66043f3128>]"
      ]
     },
     "execution_count": 41,
     "metadata": {},
     "output_type": "execute_result"
    },
    {
     "data": {
      "image/png": "[encoded data removed]",
      "text/plain": [
       "<Figure size 432x288 with 1 Axes>"
      ]
     },
     "metadata": {
      "needs_background": "light"
     },
     "output_type": "display_data"
    }
   ],
   "source": [
    "plt.plot(data[0][s1[0]], c='0.5')\n",
    "plt.plot(data[0][s2[0]], c='0.5')\n",
    "plt.plot(data[0][s3[0]], c='0.5')\n",
    "\n",
    "plt.plot(syn3[0][0])"
   ]
  },
  {
   "cell_type": "code",
   "execution_count": 9,
   "metadata": {},
   "outputs": [],
   "source": [
    "test_set = seq2seq_generator('../data/yearly_24_validation.pkl', overlap=8, augmentation=0)"
   ]
  },
  {
   "cell_type": "code",
   "execution_count": 10,
   "metadata": {},
   "outputs": [],
   "source": [
    "reconstruction_loss = metrics.build_reconstruction_loss(overlap=8)\n",
    "\n",
    "metric_functions = ['mse', 'mae', reconstruction_loss]\n",
    "\n",
    "hparams = {\n",
    "    'input_seq_length': 18,\n",
    "    'output_seq_length': 14,\n",
    "    'bottleneck_size': 700,\n",
    "    'bottleneck_activation': 'relu',\n",
    "    'loss_function': 'mae',\n",
    "}\n",
    "\n",
    "model = networks.convolutional_ae_4_layer(hparams, metric_functions)"
   ]
  },
  {
   "cell_type": "code",
   "execution_count": 19,
   "metadata": {},
   "outputs": [],
   "source": [
    "def train(n):\n",
    "    \n",
    "    directory = '../experimental/results/custom_aug_multiple_{}'.format(n)\n",
    "    if not os.path.isdir(directory):\n",
    "        os.mkdir(directory)\n",
    "        \n",
    "    \n",
    "    for e in range(10):\n",
    "\n",
    "        train_set = seq2seq_generator_with_aug('../data/yearly_24_train.pkl',\n",
    "                                               '/tmp/yearly_24_train_aug_{}.pkl'.format(n),\n",
    "                                               overlap=8)\n",
    "\n",
    "        callbacks = [tf.keras.callbacks.ModelCheckpoint(directory + '/best_weights_{}.h5'.format(e), \n",
    "                                                        save_best_only=True)]\n",
    "\n",
    "        model.fit(train_set, epochs=1, steps_per_epoch=len(train_set)//256+1,\n",
    "                      validation_steps=len(test_set)//256+1, validation_data=test_set,\n",
    "                      callbacks=callbacks)\n",
    "\n",
    "        tf.keras.backend.clear_session()"
   ]
  },
  {
   "cell_type": "code",
   "execution_count": 20,
   "metadata": {},
   "outputs": [
    {
     "name": "stdout",
     "output_type": "stream",
     "text": [
      "Train for 690 steps, validate for 230 steps\n",
      "690/690 [==============================] - 49s 71ms/step - loss: 193.7818 - mse: 20040290304.0000 - mae: 193.7819 - reconstruction_loss: 4.6560e-04 - val_loss: 0.3658 - val_mse: 1259.2687 - val_mae: 0.3658 - val_reconstruction_loss: 2.9554e-04\n",
      "Train for 690 steps, validate for 230 steps\n",
      "690/690 [==============================] - 48s 70ms/step - loss: 193.7792 - mse: 20040290304.0000 - mae: 193.7792 - reconstruction_loss: 3.2797e-04 - val_loss: 0.3717 - val_mse: 1259.2573 - val_mae: 0.3717 - val_reconstruction_loss: 7.0707e-04\n",
      "Train for 690 steps, validate for 230 steps\n",
      "690/690 [==============================] - 53s 76ms/step - loss: 193.7783 - mse: 20040290304.0000 - mae: 193.7782 - reconstruction_loss: 2.9917e-04 - val_loss: 0.3681 - val_mse: 1259.2560 - val_mae: 0.3681 - val_reconstruction_loss: 4.5954e-04\n",
      "Train for 690 steps, validate for 230 steps\n",
      "690/690 [==============================] - 53s 77ms/step - loss: 193.7767 - mse: 20040290304.0000 - mae: 193.7766 - reconstruction_loss: 2.3200e-04 - val_loss: 0.3685 - val_mse: 1259.2617 - val_mae: 0.3685 - val_reconstruction_loss: 5.1024e-04\n",
      "Train for 690 steps, validate for 230 steps\n",
      "690/690 [==============================] - 50s 72ms/step - loss: 193.7755 - mse: 20040290304.0000 - mae: 193.7754 - reconstruction_loss: 1.9747e-04 - val_loss: 0.3612 - val_mse: 1259.2639 - val_mae: 0.3612 - val_reconstruction_loss: 1.1265e-04\n",
      "Train for 690 steps, validate for 230 steps\n",
      "690/690 [==============================] - 52s 75ms/step - loss: 193.7749 - mse: 20040290304.0000 - mae: 193.7747 - reconstruction_loss: 1.9196e-04 - val_loss: 0.3667 - val_mse: 1259.2603 - val_mae: 0.3667 - val_reconstruction_loss: 4.3799e-04\n",
      "Train for 690 steps, validate for 230 steps\n",
      "690/690 [==============================] - 53s 77ms/step - loss: 193.7739 - mse: 20040292352.0000 - mae: 193.7740 - reconstruction_loss: 1.7881e-04 - val_loss: 0.3612 - val_mse: 1259.2618 - val_mae: 0.3612 - val_reconstruction_loss: 1.2737e-04\n",
      "Train for 690 steps, validate for 230 steps\n",
      "690/690 [==============================] - 52s 75ms/step - loss: 193.7730 - mse: 20040290304.0000 - mae: 193.7730 - reconstruction_loss: 1.6012e-04 - val_loss: 0.3606 - val_mse: 1259.2677 - val_mae: 0.3606 - val_reconstruction_loss: 1.2966e-04\n",
      "Train for 690 steps, validate for 230 steps\n",
      "690/690 [==============================] - 51s 74ms/step - loss: 193.7725 - mse: 20040290304.0000 - mae: 193.7725 - reconstruction_loss: 1.5963e-04 - val_loss: 0.3598 - val_mse: 1259.2640 - val_mae: 0.3598 - val_reconstruction_loss: 9.9602e-05\n",
      "Train for 690 steps, validate for 230 steps\n",
      "690/690 [==============================] - 49s 71ms/step - loss: 193.7719 - mse: 20040292352.0000 - mae: 193.7719 - reconstruction_loss: 1.6341e-04 - val_loss: 0.3608 - val_mse: 1259.2665 - val_mae: 0.3608 - val_reconstruction_loss: 1.4404e-04\n"
     ]
    }
   ],
   "source": [
    "train(3)"
   ]
  },
  {
   "cell_type": "code",
   "execution_count": 21,
   "metadata": {},
   "outputs": [
    {
     "name": "stdout",
     "output_type": "stream",
     "text": [
      "Train for 690 steps, validate for 230 steps\n",
      "690/690 [==============================] - 51s 73ms/step - loss: 193.7707 - mse: 20040290304.0000 - mae: 193.7707 - reconstruction_loss: 1.4532e-04 - val_loss: 0.3607 - val_mse: 1259.2644 - val_mae: 0.3607 - val_reconstruction_loss: 1.2830e-04\n",
      "Train for 690 steps, validate for 230 steps\n",
      "690/690 [==============================] - 53s 77ms/step - loss: 193.7699 - mse: 20040290304.0000 - mae: 193.7699 - reconstruction_loss: 1.3695e-04 - val_loss: 0.3604 - val_mse: 1259.2605 - val_mae: 0.3604 - val_reconstruction_loss: 1.1996e-04\n",
      "Train for 690 steps, validate for 230 steps\n",
      "690/690 [==============================] - 50s 72ms/step - loss: 193.7693 - mse: 20040290304.0000 - mae: 193.7693 - reconstruction_loss: 1.4300e-04 - val_loss: 0.3601 - val_mse: 1259.2659 - val_mae: 0.3601 - val_reconstruction_loss: 1.1627e-04\n",
      "Train for 690 steps, validate for 230 steps\n",
      "690/690 [==============================] - 53s 76ms/step - loss: 193.7684 - mse: 20040290304.0000 - mae: 193.7684 - reconstruction_loss: 1.3375e-04 - val_loss: 0.3624 - val_mse: 1259.2614 - val_mae: 0.3624 - val_reconstruction_loss: 2.0252e-04\n",
      "Train for 690 steps, validate for 230 steps\n",
      "690/690 [==============================] - 47s 68ms/step - loss: 193.7678 - mse: 20040290304.0000 - mae: 193.7678 - reconstruction_loss: 1.3816e-04 - val_loss: 0.3645 - val_mse: 1259.2644 - val_mae: 0.3645 - val_reconstruction_loss: 2.8275e-04\n",
      "Train for 690 steps, validate for 230 steps\n",
      "690/690 [==============================] - 51s 74ms/step - loss: 193.7670 - mse: 20040292352.0000 - mae: 193.7670 - reconstruction_loss: 1.3658e-04 - val_loss: 0.3596 - val_mse: 1259.2629 - val_mae: 0.3596 - val_reconstruction_loss: 9.5092e-05\n",
      "Train for 690 steps, validate for 230 steps\n",
      "690/690 [==============================] - 51s 74ms/step - loss: 193.7662 - mse: 20040292352.0000 - mae: 193.7661 - reconstruction_loss: 1.3398e-04 - val_loss: 0.3619 - val_mse: 1259.2642 - val_mae: 0.3619 - val_reconstruction_loss: 1.6082e-04\n",
      "Train for 690 steps, validate for 230 steps\n",
      "690/690 [==============================] - 49s 71ms/step - loss: 193.7651 - mse: 20040292352.0000 - mae: 193.7652 - reconstruction_loss: 1.2030e-04 - val_loss: 0.3599 - val_mse: 1259.2656 - val_mae: 0.3599 - val_reconstruction_loss: 8.9518e-05\n",
      "Train for 690 steps, validate for 230 steps\n",
      "690/690 [==============================] - 52s 76ms/step - loss: 193.7645 - mse: 20040290304.0000 - mae: 193.7644 - reconstruction_loss: 1.2748e-04 - val_loss: 0.3615 - val_mse: 1259.2631 - val_mae: 0.3615 - val_reconstruction_loss: 1.6352e-04\n",
      "Train for 690 steps, validate for 230 steps\n",
      "690/690 [==============================] - 46s 67ms/step - loss: 193.7633 - mse: 20040290304.0000 - mae: 193.7633 - reconstruction_loss: 1.0856e-04 - val_loss: 0.3608 - val_mse: 1259.2625 - val_mae: 0.3608 - val_reconstruction_loss: 1.0040e-04\n"
     ]
    }
   ],
   "source": [
    "train(4)"
   ]
  },
  {
   "cell_type": "code",
   "execution_count": 22,
   "metadata": {},
   "outputs": [
    {
     "name": "stdout",
     "output_type": "stream",
     "text": [
      "Train for 690 steps, validate for 230 steps\n",
      "690/690 [==============================] - 48s 69ms/step - loss: 193.7629 - mse: 20040290304.0000 - mae: 193.7628 - reconstruction_loss: 1.2063e-04 - val_loss: 0.3608 - val_mse: 1259.2555 - val_mae: 0.3608 - val_reconstruction_loss: 1.2805e-04\n",
      "Train for 690 steps, validate for 230 steps\n",
      "690/690 [==============================] - 48s 70ms/step - loss: 193.7621 - mse: 20040290304.0000 - mae: 193.7619 - reconstruction_loss: 1.2017e-04 - val_loss: 0.3613 - val_mse: 1259.2601 - val_mae: 0.3613 - val_reconstruction_loss: 1.0861e-04\n",
      "Train for 690 steps, validate for 230 steps\n",
      "690/690 [==============================] - 53s 76ms/step - loss: 193.7613 - mse: 20040292352.0000 - mae: 193.7612 - reconstruction_loss: 1.1658e-04 - val_loss: 0.3613 - val_mse: 1259.2623 - val_mae: 0.3613 - val_reconstruction_loss: 1.1771e-04\n",
      "Train for 690 steps, validate for 230 steps\n",
      "690/690 [==============================] - 53s 76ms/step - loss: 193.7605 - mse: 20040292352.0000 - mae: 193.7605 - reconstruction_loss: 1.1413e-04 - val_loss: 0.3597 - val_mse: 1259.2633 - val_mae: 0.3597 - val_reconstruction_loss: 1.0053e-04\n",
      "Train for 690 steps, validate for 230 steps\n",
      "690/690 [==============================] - 50s 73ms/step - loss: 193.7596 - mse: 20040290304.0000 - mae: 193.7596 - reconstruction_loss: 1.1068e-04 - val_loss: 0.3613 - val_mse: 1259.2655 - val_mae: 0.3613 - val_reconstruction_loss: 1.0060e-04\n",
      "Train for 690 steps, validate for 230 steps\n",
      "690/690 [==============================] - 50s 73ms/step - loss: 193.7590 - mse: 20040292352.0000 - mae: 193.7589 - reconstruction_loss: 1.1779e-04 - val_loss: 0.3611 - val_mse: 1259.2618 - val_mae: 0.3611 - val_reconstruction_loss: 1.0454e-04\n",
      "Train for 690 steps, validate for 230 steps\n",
      "690/690 [==============================] - 50s 72ms/step - loss: 193.7582 - mse: 20040292352.0000 - mae: 193.7582 - reconstruction_loss: 1.1222e-04 - val_loss: 0.3611 - val_mse: 1259.2614 - val_mae: 0.3611 - val_reconstruction_loss: 8.9636e-05\n",
      "Train for 690 steps, validate for 230 steps\n",
      "690/690 [==============================] - 51s 73ms/step - loss: 193.7577 - mse: 20040292352.0000 - mae: 193.7576 - reconstruction_loss: 1.1652e-04 - val_loss: 0.3618 - val_mse: 1259.2629 - val_mae: 0.3618 - val_reconstruction_loss: 8.3200e-05\n",
      "Train for 690 steps, validate for 230 steps\n",
      "690/690 [==============================] - 50s 72ms/step - loss: 193.7569 - mse: 20040290304.0000 - mae: 193.7570 - reconstruction_loss: 1.1255e-04 - val_loss: 0.3618 - val_mse: 1259.2594 - val_mae: 0.3618 - val_reconstruction_loss: 1.3660e-04\n",
      "Train for 690 steps, validate for 230 steps\n",
      "690/690 [==============================] - 53s 77ms/step - loss: 193.7560 - mse: 20040290304.0000 - mae: 193.7561 - reconstruction_loss: 1.0553e-04 - val_loss: 0.3619 - val_mse: 1259.2612 - val_mae: 0.3619 - val_reconstruction_loss: 1.0172e-04\n"
     ]
    }
   ],
   "source": [
    "train(5)"
   ]
  },
  {
   "cell_type": "markdown",
   "metadata": {},
   "source": [
    "## Evaluation"
   ]
  },
  {
   "cell_type": "code",
   "execution_count": 23,
   "metadata": {},
   "outputs": [],
   "source": [
    "# Read test data\n",
    "train_path = Path('../data/Yearly-train.csv')\n",
    "test_path = Path('../data/Yearly-test.csv')\n",
    "\n",
    "train = pd.read_csv(train_path).drop('V1', axis=1)\n",
    "test = pd.read_csv(test_path).drop('V1', axis=1)\n",
    "\n",
    "X_test = np.array([evaluate.get_last_N(ser[1], N=18) for ser in train.iterrows()])\n",
    "y_test = test.values"
   ]
  },
  {
   "cell_type": "code",
   "execution_count": 24,
   "metadata": {},
   "outputs": [],
   "source": [
    "def evaluate_num(n):\n",
    "\n",
    "    all_preds = []\n",
    "\n",
    "    for i in range(10):\n",
    "\n",
    "        model_dir = '../experimental/results/custom_aug_multiple_{}/best_weights_{}.h5'.format(n, i)\n",
    "\n",
    "        model = tf.keras.models.load_model(model_dir, custom_objects={'reconstruction_loss': reconstruction_loss})\n",
    "\n",
    "        preds = evaluate.get_predictions(model, X_test)\n",
    "\n",
    "        all_preds.append(preds)\n",
    "\n",
    "    for p in all_preds:\n",
    "        print(np.nanmean(metrics.SMAPE(y_test, p[:, -6:])))\n",
    "\n",
    "    ensemble_preds = np.median(np.array(all_preds), axis=0)\n",
    "    print(np.nanmean(metrics.SMAPE(y_test, ensemble_preds[:, -6:])))"
   ]
  },
  {
   "cell_type": "code",
   "execution_count": 25,
   "metadata": {},
   "outputs": [
    {
     "name": "stdout",
     "output_type": "stream",
     "text": [
      "13.105370637938266\n",
      "13.19854823495386\n",
      "13.134957823524998\n",
      "13.275388879083511\n",
      "13.10069422447199\n",
      "13.238134087826799\n",
      "13.157405726882695\n",
      "13.385256605638409\n",
      "13.308470725790794\n",
      "13.442074949826164\n",
      "13.08277797278894\n"
     ]
    }
   ],
   "source": [
    "evaluate_num(3)"
   ]
  },
  {
   "cell_type": "code",
   "execution_count": 26,
   "metadata": {},
   "outputs": [
    {
     "name": "stdout",
     "output_type": "stream",
     "text": [
      "13.531313380269564\n",
      "13.68263199327988\n",
      "13.449568120873776\n",
      "13.740135635266713\n",
      "13.605844032592682\n",
      "13.957055777474514\n",
      "13.833375789543323\n",
      "13.713942790941166\n",
      "13.73998556363741\n",
      "13.915554726334973\n",
      "13.485571895792553\n"
     ]
    }
   ],
   "source": [
    "evaluate_num(4)"
   ]
  },
  {
   "cell_type": "code",
   "execution_count": 27,
   "metadata": {},
   "outputs": [
    {
     "name": "stdout",
     "output_type": "stream",
     "text": [
      "14.000710092227395\n",
      "14.238483278844807\n",
      "13.962905221325062\n",
      "14.000759641486974\n",
      "14.238738834375713\n",
      "14.034848992149062\n",
      "14.364995050275182\n",
      "14.409737872277569\n",
      "14.25473967555718\n",
      "14.303204423717654\n",
      "13.922511216936844\n"
     ]
    }
   ],
   "source": [
    "evaluate_num(5)"
   ]
  },
  {
   "cell_type": "code",
   "execution_count": null,
   "metadata": {},
   "outputs": [],
   "source": []
  }
 ],
 "metadata": {
  "kernelspec": {
   "display_name": "fsu",
   "language": "python",
   "name": "fsu"
  },
  "language_info": {
   "codemirror_mode": {
    "name": "ipython",
    "version": 3
   },
   "file_extension": ".py",
   "mimetype": "text/x-python",
   "name": "python",
   "nbconvert_exporter": "python",
   "pygments_lexer": "ipython3",
   "version": "3.6.9"
  }
 },
 "nbformat": 4,
 "nbformat_minor": 4
}
