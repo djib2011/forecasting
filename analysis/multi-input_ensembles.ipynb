{
 "cells": [
  {
   "cell_type": "code",
   "execution_count": 1,
   "metadata": {},
   "outputs": [],
   "source": [
    "from pathlib import Path\n",
    "import numpy as np\n",
    "import pandas as pd\n",
    "import matplotlib.pyplot as plt\n",
    "import seaborn as sns\n",
    "from tqdm import tqdm\n",
    "from sklearn.model_selection import train_test_split\n",
    "import pickle as pkl\n",
    "import tensorflow as tf\n",
    "\n",
    "import os\n",
    "os.environ['CUDA_VISIBLE_DEVICES'] = \"\"\n",
    "\n",
    "import sys\n",
    "sys.path.append('..')\n",
    "\n",
    "import metrics\n",
    "\n",
    "import warnings\n",
    "warnings.filterwarnings('once')"
   ]
  },
  {
   "cell_type": "code",
   "execution_count": 2,
   "metadata": {},
   "outputs": [],
   "source": [
    "best_30_model_params = 'inp_30__out_12__loss_mae__bksize_50__bkact_tanh__dir_bi__'\n",
    "best_24_model_params = 'inp_24__out_12__loss_mae__bksize_50__bkact_tanh__dir_bi__'\n",
    "best_18_model_params = 'inp_18__out_12__loss_mae__bksize_200__bkact_relu__dir_bi__'\n",
    "best_12_model_params = 'inp_12__out_12__loss_mae__bksize_25__bkact_relu__dir_bi__'\n",
    "\n",
    "p = Path('../results').absolute()\n",
    "\n",
    "models_dirs_12 = [str(p / best_12_model_params) + str(i) + '/best_weights.h5' for i in range(10)]\n",
    "models_dirs_18 = [str(p / best_18_model_params) + str(i) + '/best_weights.h5' for i in range(10)]\n",
    "models_dirs_24 = [str(p / best_24_model_params) + str(i) + '/best_weights.h5' for i in range(10)]\n",
    "models_dirs_30 = [str(p / best_30_model_params) + str(i) + '/best_weights.h5' for i in range(10)]"
   ]
  },
  {
   "cell_type": "code",
   "execution_count": 3,
   "metadata": {},
   "outputs": [],
   "source": [
    "train_path = Path('../data/Yearly-train.csv')\n",
    "test_path = Path('../data/Yearly-test.csv')"
   ]
  },
  {
   "cell_type": "code",
   "execution_count": 4,
   "metadata": {},
   "outputs": [],
   "source": [
    "train = pd.read_csv(train_path).drop('V1', axis=1)\n",
    "test = pd.read_csv(test_path).drop('V1', axis=1)"
   ]
  },
  {
   "cell_type": "code",
   "execution_count": 124,
   "metadata": {},
   "outputs": [],
   "source": [
    "np.seterr(all='ignore')\n",
    "\n",
    "def get_last_N(series, N=18):\n",
    "    ser_N = series.dropna().iloc[-N:].values\n",
    "    if len(ser_N) < N:\n",
    "        pad = [ser_N[0]] * (N - len(ser_N))\n",
    "        ser_N = np.r_[pad, ser_N]\n",
    "    return ser_N"
   ]
  },
  {
   "cell_type": "code",
   "execution_count": 125,
   "metadata": {},
   "outputs": [],
   "source": [
    "X_test_30 = np.array([get_last_N(ser[1], N=30) for ser in train.iterrows()])\n",
    "X_test_24 = np.array([get_last_N(ser[1], N=24) for ser in train.iterrows()])\n",
    "X_test_18 = np.array([get_last_N(ser[1], N=18) for ser in train.iterrows()])\n",
    "X_test_12 = np.array([get_last_N(ser[1], N=12) for ser in train.iterrows()])\n",
    "\n",
    "y_test = test.values"
   ]
  },
  {
   "cell_type": "code",
   "execution_count": 126,
   "metadata": {},
   "outputs": [],
   "source": [
    "def get_predictions(model, data):\n",
    "        \n",
    "    x = data[..., np.newaxis]\n",
    "    \n",
    "    mn, mx = x.min(axis=1), x.max(axis=1)\n",
    "    x_sc = (x[..., 0] - mn) / (mx - mn)\n",
    "\n",
    "    pred = model(x_sc[..., np.newaxis])\n",
    "\n",
    "    return pred[..., 0] * (mx - mn) + mn"
   ]
  },
  {
   "cell_type": "code",
   "execution_count": 127,
   "metadata": {
    "scrolled": true
   },
   "outputs": [],
   "source": [
    "def ensemble_preds(model_family, data):\n",
    "\n",
    "    preds = []\n",
    "    \n",
    "    for model_dir in tqdm(model_family):\n",
    "\n",
    "        mape = metrics.build_mape(overlap=6)\n",
    "        smape = metrics.build_smape(overlap=6)\n",
    "        mase_estimate = metrics.build_mase(overlap=6)\n",
    "        owa_estimate = metrics.build_owa(overlap=6)\n",
    "        reconstruction_loss = metrics.build_reconstruction_loss(overlap=6)\n",
    "\n",
    "        model = tf.keras.models.load_model(model_dir, custom_objects={'SMAPE': smape,\n",
    "                                                                      'MASE_estimate': mase_estimate,\n",
    "                                                                      'OWA_estimate': owa_estimate,\n",
    "                                                                      'reconstruction_loss': reconstruction_loss})\n",
    "        preds.append(get_predictions(model, data))\n",
    "\n",
    "        tf.keras.backend.clear_session()\n",
    "\n",
    "    return np.stack(preds)"
   ]
  },
  {
   "cell_type": "code",
   "execution_count": 171,
   "metadata": {},
   "outputs": [],
   "source": [
    "def evaluate_ensemble(preds, y_test):\n",
    "    ensemble_preds = np.median(preds, axis=0)[:, 6:]\n",
    "    return np.nanmean(metrics.SMAPE(y_test, ensemble_preds))"
   ]
  },
  {
   "cell_type": "code",
   "execution_count": 129,
   "metadata": {},
   "outputs": [
    {
     "name": "stderr",
     "output_type": "stream",
     "text": [
      "100%|██████████| 10/10 [00:42<00:00,  4.27s/it]\n",
      "100%|██████████| 10/10 [00:46<00:00,  4.67s/it]\n",
      "100%|██████████| 10/10 [00:50<00:00,  5.03s/it]\n",
      "100%|██████████| 10/10 [00:54<00:00,  5.42s/it]\n"
     ]
    }
   ],
   "source": [
    "preds_12 = ensemble_preds(models_dirs_12, X_test_12)\n",
    "preds_18 = ensemble_preds(models_dirs_18, X_test_18)\n",
    "preds_24 = ensemble_preds(models_dirs_24, X_test_24)\n",
    "preds_30 = ensemble_preds(models_dirs_30, X_test_30)"
   ]
  },
  {
   "cell_type": "code",
   "execution_count": 172,
   "metadata": {
    "scrolled": false
   },
   "outputs": [
    {
     "name": "stdout",
     "output_type": "stream",
     "text": [
      "12: 13.261511095018664\n",
      "18: 13.076728663033528\n",
      "24: 13.11537587949124\n",
      "30: 13.190604202735628\n"
     ]
    }
   ],
   "source": [
    "print('12:', evaluate_ensemble(preds_12, y_test))\n",
    "print('18:', evaluate_ensemble(preds_18, y_test))\n",
    "print('24:', evaluate_ensemble(preds_24, y_test))\n",
    "print('30:', evaluate_ensemble(preds_30, y_test))"
   ]
  },
  {
   "cell_type": "code",
   "execution_count": 173,
   "metadata": {},
   "outputs": [],
   "source": [
    "preds_all = np.vstack([preds_12, preds_18, preds_24, preds_30])"
   ]
  },
  {
   "cell_type": "markdown",
   "metadata": {},
   "source": [
    "## Check different combinations of ensembles"
   ]
  },
  {
   "cell_type": "code",
   "execution_count": 174,
   "metadata": {},
   "outputs": [
    {
     "name": "stdout",
     "output_type": "stream",
     "text": [
      "12-18: 13.13453129069502\n",
      "18-24: 13.056790909029205\n",
      "24-30: 13.102335959721822\n",
      "12-24: 13.085778845235502\n",
      "18-30: 13.031021052865956\n",
      "12-30: 13.050785984672558\n"
     ]
    }
   ],
   "source": [
    "print('12-18:', evaluate_ensemble(preds_all[:20], y_test))\n",
    "print('18-24:', evaluate_ensemble(preds_all[10:30], y_test))\n",
    "print('24-30:', evaluate_ensemble(preds_all[20:], y_test))\n",
    "print('12-24:', evaluate_ensemble(preds_all[list(range(10)) + list(range(20,30))], y_test))\n",
    "print('18-30:', evaluate_ensemble(preds_all[list(range(10,20)) + list(range(30,40))], y_test))\n",
    "print('12-30:', evaluate_ensemble(preds_all[list(range(10)) + list(range(30, 40))], y_test))"
   ]
  },
  {
   "cell_type": "code",
   "execution_count": 175,
   "metadata": {},
   "outputs": [
    {
     "name": "stdout",
     "output_type": "stream",
     "text": [
      "12-18-24: 13.0616180936804\n",
      "18-24-30: 13.058598954164925\n",
      "12-18-30: 13.04128980371711\n",
      "12-24-30: 13.06748919063401\n"
     ]
    }
   ],
   "source": [
    "print('12-18-24:', evaluate_ensemble(preds_all[:30], y_test))\n",
    "print('18-24-30:', evaluate_ensemble(preds_all[10:], y_test))\n",
    "print('12-18-30:', evaluate_ensemble(preds_all[list(range(20)) + list(range(30,40))], y_test))\n",
    "print('12-24-30:', evaluate_ensemble(preds_all[list(range(10)) + list(range(20,40))], y_test))"
   ]
  },
  {
   "cell_type": "code",
   "execution_count": 177,
   "metadata": {},
   "outputs": [
    {
     "name": "stdout",
     "output_type": "stream",
     "text": [
      "12-18-24-30: 13.04152083900084\n"
     ]
    }
   ],
   "source": [
    "print('12-18-24-30:', evaluate_ensemble(preds_all, y_test))"
   ]
  },
  {
   "cell_type": "code",
   "execution_count": 213,
   "metadata": {},
   "outputs": [],
   "source": [
    "results = {}\n",
    "results['12'] = evaluate_ensemble(preds_12, y_test)\n",
    "results['18'] = evaluate_ensemble(preds_18, y_test)\n",
    "results['24'] = evaluate_ensemble(preds_24, y_test)\n",
    "results['30'] = evaluate_ensemble(preds_30, y_test)\n",
    "results['12-18'] = evaluate_ensemble(preds_all[:20], y_test)\n",
    "results['18-24'] = evaluate_ensemble(preds_all[10:30], y_test)\n",
    "results['24-30'] = evaluate_ensemble(preds_all[20:], y_test)\n",
    "results['12-24'] =  evaluate_ensemble(preds_all[list(range(10)) + list(range(20,30))], y_test)\n",
    "results['18-30'] = evaluate_ensemble(preds_all[list(range(10,20)) + list(range(30,40))], y_test)\n",
    "results['12-30'] = evaluate_ensemble(preds_all[list(range(10)) + list(range(30, 40))], y_test)\n",
    "results['12-18-24'] = evaluate_ensemble(preds_all[:30], y_test)\n",
    "results['18-24-30'] = evaluate_ensemble(preds_all[10:], y_test)\n",
    "results['12-18-30'] = evaluate_ensemble(preds_all[list(range(20)) + list(range(30,40))], y_test)\n",
    "results['12-24-30'] = evaluate_ensemble(preds_all[list(range(10)) + list(range(20,40))], y_test)\n",
    "results['12-18-24-30'] = evaluate_ensemble(preds_all, y_test)"
   ]
  },
  {
   "cell_type": "code",
   "execution_count": 214,
   "metadata": {
    "scrolled": true
   },
   "outputs": [
    {
     "data": {
      "text/plain": [
       "(12.9, 13.3)"
      ]
     },
     "execution_count": 214,
     "metadata": {},
     "output_type": "execute_result"
    },
    {
     "data": {
      "image/png": "[encoded data removed]",
      "text/plain": [
       "<Figure size 432x288 with 1 Axes>"
      ]
     },
     "metadata": {
      "needs_background": "light"
     },
     "output_type": "display_data"
    }
   ],
   "source": [
    "plt.bar(results.keys(), results.values(), color=['C0'] * 4 + ['C2'] * 6 + ['C4'] * 4 + ['C5'])\n",
    "plt.xticks(rotation=90)\n",
    "plt.ylim([12.9, 13.3])"
   ]
  },
  {
   "cell_type": "code",
   "execution_count": 221,
   "metadata": {},
   "outputs": [
    {
     "name": "stdout",
     "output_type": "stream",
     "text": [
      "         12 : 13.26151\n",
      "         18 : 13.07673\n",
      "         24 : 13.11538\n",
      "         30 : 13.19060\n",
      "      12-18 : 13.13453\n",
      "      18-24 : 13.05679\n",
      "      24-30 : 13.10234\n",
      "      12-24 : 13.08578\n",
      "      18-30 : 13.03102\n",
      "      12-30 : 13.05079\n",
      "   12-18-24 : 13.06162\n",
      "   18-24-30 : 13.05860\n",
      "   12-18-30 : 13.04129\n",
      "   12-24-30 : 13.06749\n",
      "12-18-24-30 : 13.04152\n"
     ]
    }
   ],
   "source": [
    "for k, v in results.items():\n",
    "    print('{:>11} : {:.5f}'.format(k, v))"
   ]
  },
  {
   "cell_type": "markdown",
   "metadata": {},
   "source": [
    "## Same-sized ensembles"
   ]
  },
  {
   "cell_type": "code",
   "execution_count": 183,
   "metadata": {},
   "outputs": [],
   "source": [
    "random_12 = list(np.random.choice(10, size=5, replace=False))\n",
    "random_18 = list(np.random.choice(10, size=5, replace=False) + 10)\n",
    "random_24 = list(np.random.choice(10, size=5, replace=False) + 20)\n",
    "random_30 = list(np.random.choice(10, size=5, replace=False) + 30)"
   ]
  },
  {
   "cell_type": "code",
   "execution_count": 184,
   "metadata": {},
   "outputs": [
    {
     "name": "stdout",
     "output_type": "stream",
     "text": [
      "12-18: 13.177941828776355\n",
      "18-24: 13.072728939357345\n",
      "24-30: 13.128982542554313\n",
      "12-24: 13.093431344072037\n",
      "18-30: 13.065927407740764\n",
      "12-30: 13.053725054903657\n"
     ]
    }
   ],
   "source": [
    "print('12-18:', evaluate_ensemble(preds_all[random_12 + random_18], y_test))\n",
    "print('18-24:', evaluate_ensemble(preds_all[random_18 + random_24], y_test))\n",
    "print('24-30:', evaluate_ensemble(preds_all[random_24 + random_30], y_test))\n",
    "print('12-24:', evaluate_ensemble(preds_all[random_12 + random_24], y_test))\n",
    "print('18-30:', evaluate_ensemble(preds_all[random_18 + random_30], y_test))\n",
    "print('12-30:', evaluate_ensemble(preds_all[random_12 + random_30], y_test))"
   ]
  },
  {
   "cell_type": "code",
   "execution_count": 185,
   "metadata": {},
   "outputs": [],
   "source": [
    "random_12 = list(np.random.choice(10, size=3, replace=False))\n",
    "random_18 = list(np.random.choice(10, size=3, replace=False) + 10)\n",
    "random_24 = list(np.random.choice(10, size=3, replace=False) + 20)\n",
    "random_30 = list(np.random.choice(10, size=3, replace=False) + 30)"
   ]
  },
  {
   "cell_type": "code",
   "execution_count": 186,
   "metadata": {},
   "outputs": [
    {
     "name": "stdout",
     "output_type": "stream",
     "text": [
      "12-18-24: 13.076021568594838\n",
      "18-24-30: 13.06914004411142\n",
      "12-18-30: 13.04199381545786\n",
      "12-24-30: 13.064863600363244\n"
     ]
    }
   ],
   "source": [
    "print('12-18-24:', evaluate_ensemble(preds_all[random_12 + random_18 + random_24], y_test))\n",
    "print('18-24-30:', evaluate_ensemble(preds_all[random_18 + random_24 + random_30], y_test))\n",
    "print('12-18-30:', evaluate_ensemble(preds_all[random_12 + random_18 + random_30], y_test))\n",
    "print('12-24-30:', evaluate_ensemble(preds_all[random_12 + random_24 + random_30], y_test))"
   ]
  },
  {
   "cell_type": "code",
   "execution_count": 187,
   "metadata": {},
   "outputs": [],
   "source": [
    "random_12 = list(np.random.choice(10, size=2, replace=False))\n",
    "random_18 = list(np.random.choice(10, size=3, replace=False) + 10)\n",
    "random_24 = list(np.random.choice(10, size=3, replace=False) + 20)\n",
    "random_30 = list(np.random.choice(10, size=2, replace=False) + 30)"
   ]
  },
  {
   "cell_type": "code",
   "execution_count": 188,
   "metadata": {},
   "outputs": [
    {
     "name": "stdout",
     "output_type": "stream",
     "text": [
      "12-18-24-30: 13.052416366020834\n"
     ]
    }
   ],
   "source": [
    "print('12-18-24-30:', evaluate_ensemble(preds_all[random_12 + \n",
    "                                                  random_18 + \n",
    "                                                  random_24 + \n",
    "                                                  random_30], y_test))"
   ]
  },
  {
   "cell_type": "code",
   "execution_count": 215,
   "metadata": {},
   "outputs": [],
   "source": [
    "results2 = {}\n",
    "results2['12'] = evaluate_ensemble(preds_12, y_test)\n",
    "results2['18'] = evaluate_ensemble(preds_18, y_test)\n",
    "results2['24'] = evaluate_ensemble(preds_24, y_test)\n",
    "results2['30'] = evaluate_ensemble(preds_30, y_test)\n",
    "results2['12-18'] = evaluate_ensemble(preds_all[random_12 + random_18], y_test)\n",
    "results2['18-24'] = evaluate_ensemble(preds_all[10:30], y_test)\n",
    "results2['24-30'] = evaluate_ensemble(preds_all[20:], y_test)\n",
    "results2['12-24'] = evaluate_ensemble(preds_all[list(range(10)) + list(range(20,30))], y_test)\n",
    "results2['18-30'] = evaluate_ensemble(preds_all[list(range(10,20)) + list(range(30,40))], y_test)\n",
    "results2['12-30'] = evaluate_ensemble(preds_all[list(range(10)) + list(range(30, 40))], y_test)\n",
    "results2['12-18-24'] =  evaluate_ensemble(preds_all[random_12 + random_18 + random_24], y_test)\n",
    "results2['18-24-30'] = evaluate_ensemble(preds_all[random_18 + random_24 + random_30], y_test)\n",
    "results2['12-18-30'] = evaluate_ensemble(preds_all[random_12 + random_18 + random_30], y_test)\n",
    "results2['12-24-30'] = evaluate_ensemble(preds_all[random_12 + random_24 + random_30], y_test)\n",
    "results2['12-18-24-30'] = evaluate_ensemble(preds_all[random_12 + random_18 + random_24 + random_30], y_test)"
   ]
  },
  {
   "cell_type": "code",
   "execution_count": 217,
   "metadata": {},
   "outputs": [
    {
     "data": {
      "text/plain": [
       "(12.9, 13.3)"
      ]
     },
     "execution_count": 217,
     "metadata": {},
     "output_type": "execute_result"
    },
    {
     "data": {
      "image/png": "[encoded data removed]",
      "text/plain": [
       "<Figure size 432x288 with 1 Axes>"
      ]
     },
     "metadata": {
      "needs_background": "light"
     },
     "output_type": "display_data"
    }
   ],
   "source": [
    "plt.bar(results2.keys(), results2.values(), color=['C0'] * 4 + ['C2'] * 6 + ['C4'] * 4 + ['C5'])\n",
    "plt.xticks(rotation=90)\n",
    "plt.ylim([12.9, 13.3])"
   ]
  },
  {
   "cell_type": "code",
   "execution_count": 222,
   "metadata": {},
   "outputs": [
    {
     "name": "stdout",
     "output_type": "stream",
     "text": [
      "         12 : 13.26151\n",
      "         18 : 13.07673\n",
      "         24 : 13.11538\n",
      "         30 : 13.19060\n",
      "      12-18 : 13.13453\n",
      "      18-24 : 13.05679\n",
      "      24-30 : 13.10234\n",
      "      12-24 : 13.08578\n",
      "      18-30 : 13.03102\n",
      "      12-30 : 13.05079\n",
      "   12-18-24 : 13.06162\n",
      "   18-24-30 : 13.05860\n",
      "   12-18-30 : 13.04129\n",
      "   12-24-30 : 13.06749\n",
      "12-18-24-30 : 13.04152\n"
     ]
    }
   ],
   "source": [
    "for k, v in results.items():\n",
    "    print('{:>11} : {:.5f}'.format(k, v))"
   ]
  }
 ],
 "metadata": {
  "kernelspec": {
   "display_name": "Python 3",
   "language": "python",
   "name": "python3"
  },
  "language_info": {
   "codemirror_mode": {
    "name": "ipython",
    "version": 3
   },
   "file_extension": ".py",
   "mimetype": "text/x-python",
   "name": "python",
   "nbconvert_exporter": "python",
   "pygments_lexer": "ipython3",
   "version": "3.6.9"
  }
 },
 "nbformat": 4,
 "nbformat_minor": 4
}
