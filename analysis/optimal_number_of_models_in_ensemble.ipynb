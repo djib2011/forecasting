{
 "cells": [
  {
   "cell_type": "code",
   "execution_count": 1,
   "metadata": {},
   "outputs": [],
   "source": [
    "from pathlib import Path\n",
    "import numpy as np\n",
    "import pandas as pd\n",
    "import matplotlib.pyplot as plt\n",
    "import seaborn as sns\n",
    "from tqdm import tqdm\n",
    "from sklearn.model_selection import train_test_split\n",
    "import pickle as pkl\n",
    "import tensorflow as tf\n",
    "\n",
    "import sys\n",
    "sys.path.append('..')\n",
    "\n",
    "import os\n",
    "os.environ['CUDA_VISIBLE_DEVICES'] = \"\"\n",
    "\n",
    "import metrics\n",
    "\n",
    "import warnings\n",
    "warnings.filterwarnings('once')"
   ]
  },
  {
   "cell_type": "code",
   "execution_count": 2,
   "metadata": {},
   "outputs": [],
   "source": [
    "hundred_models = 'inp_18__out_12__loss_mae__bksize_200__bkact_relu__dir_bi__'\n",
    "\n",
    "p = Path('../results').absolute()\n",
    "\n",
    "hundred_model_dirs = [str(p / hundred_models) + str(i) + '/best_weights.h5' for i in range(100)]"
   ]
  },
  {
   "cell_type": "code",
   "execution_count": 3,
   "metadata": {},
   "outputs": [],
   "source": [
    "train_path = Path('../data/Yearly-train.csv')\n",
    "test_path = Path('../data/Yearly-test.csv')"
   ]
  },
  {
   "cell_type": "code",
   "execution_count": 4,
   "metadata": {},
   "outputs": [],
   "source": [
    "train = pd.read_csv(train_path).drop('V1', axis=1)\n",
    "test = pd.read_csv(test_path).drop('V1', axis=1)"
   ]
  },
  {
   "cell_type": "code",
   "execution_count": 5,
   "metadata": {},
   "outputs": [],
   "source": [
    "np.seterr(all='ignore')\n",
    "\n",
    "def get_last_N(series, N=18):\n",
    "    ser_N = series.dropna().iloc[-N:].values\n",
    "    if len(ser_N) < N:\n",
    "        pad = [ser_N[0]] * (N - len(ser_N))\n",
    "        ser_N = np.r_[pad, ser_N]\n",
    "    return ser_N"
   ]
  },
  {
   "cell_type": "code",
   "execution_count": 6,
   "metadata": {},
   "outputs": [],
   "source": [
    "X_test = np.array([get_last_N(ser[1], N=18) for ser in train.iterrows()])\n",
    "y_test = test.values"
   ]
  },
  {
   "cell_type": "code",
   "execution_count": 7,
   "metadata": {},
   "outputs": [],
   "source": [
    "def get_predictions(model, data):\n",
    "        \n",
    "    x = data[..., np.newaxis]\n",
    "    \n",
    "    mn, mx = x.min(axis=1), x.max(axis=1)\n",
    "    x_sc = (x[..., 0] - mn) / (mx - mn)\n",
    "\n",
    "    pred = model(x_sc[..., np.newaxis])\n",
    "\n",
    "    return pred[..., 0] * (mx - mn) + mn"
   ]
  },
  {
   "cell_type": "code",
   "execution_count": 8,
   "metadata": {},
   "outputs": [],
   "source": [
    "def ensemble_preds(model_family, data):\n",
    "\n",
    "    preds = []\n",
    "    \n",
    "    for model_dir in tqdm(model_family):\n",
    "\n",
    "        mape = metrics.build_mape(overlap=6)\n",
    "        smape = metrics.build_smape(overlap=6)\n",
    "        mase_estimate = metrics.build_mase(overlap=6)\n",
    "        owa_estimate = metrics.build_owa(overlap=6)\n",
    "        reconstruction_loss = metrics.build_reconstruction_loss(overlap=6)\n",
    "\n",
    "        model = tf.keras.models.load_model(model_dir, custom_objects={'SMAPE': smape,\n",
    "                                                                      'MASE_estimate': mase_estimate,\n",
    "                                                                      'OWA_estimate': owa_estimate,\n",
    "                                                                      'reconstruction_loss': reconstruction_loss})\n",
    "        preds.append(get_predictions(model, data))\n",
    "\n",
    "        tf.keras.backend.clear_session()\n",
    "\n",
    "    return np.stack(preds)"
   ]
  },
  {
   "cell_type": "code",
   "execution_count": 9,
   "metadata": {},
   "outputs": [],
   "source": [
    "def evaluate_ensemble(preds, y_test):\n",
    "    ensemble_preds = np.median(preds, axis=0)[:, 6:]\n",
    "    return np.nanmean(metrics.SMAPE(y_test, ensemble_preds))"
   ]
  },
  {
   "cell_type": "code",
   "execution_count": 28,
   "metadata": {},
   "outputs": [
    {
     "name": "stderr",
     "output_type": "stream",
     "text": [
      "100%|██████████| 100/100 [07:45<00:00,  4.65s/it]\n"
     ]
    }
   ],
   "source": [
    "preds = ensemble_preds(hundred_model_dirs, X_test)"
   ]
  },
  {
   "cell_type": "code",
   "execution_count": 29,
   "metadata": {},
   "outputs": [
    {
     "data": {
      "text/plain": [
       "13.104683678898107"
      ]
     },
     "execution_count": 29,
     "metadata": {},
     "output_type": "execute_result"
    }
   ],
   "source": [
    "evaluate_ensemble(preds, y_test)"
   ]
  },
  {
   "cell_type": "code",
   "execution_count": 31,
   "metadata": {},
   "outputs": [
    {
     "data": {
      "text/plain": [
       "(100, 23000, 12)"
      ]
     },
     "execution_count": 31,
     "metadata": {},
     "output_type": "execute_result"
    }
   ],
   "source": [
    "preds.shape"
   ]
  },
  {
   "cell_type": "code",
   "execution_count": 33,
   "metadata": {},
   "outputs": [],
   "source": [
    "smapes = []\n",
    "\n",
    "for i in range(1, 101):\n",
    "    smapes.append(evaluate_ensemble(preds[:i], y_test))"
   ]
  },
  {
   "cell_type": "code",
   "execution_count": 35,
   "metadata": {},
   "outputs": [
    {
     "data": {
      "text/plain": [
       "[<matplotlib.lines.Line2D at 0x7f639b08f908>]"
      ]
     },
     "execution_count": 35,
     "metadata": {},
     "output_type": "execute_result"
    },
    {
     "data": {
      "image/png": "[encoded data removed]",
      "text/plain": [
       "<Figure size 432x288 with 1 Axes>"
      ]
     },
     "metadata": {
      "needs_background": "light"
     },
     "output_type": "display_data"
    }
   ],
   "source": [
    "plt.plot(range(1, 101), smapes)"
   ]
  },
  {
   "cell_type": "code",
   "execution_count": 39,
   "metadata": {},
   "outputs": [],
   "source": [
    "smapes = []\n",
    "\n",
    "indices = np.random.permutation(100)\n",
    "\n",
    "for i in range(1, 101):\n",
    "    smapes.append(evaluate_ensemble(preds[indices[:i]], y_test))"
   ]
  },
  {
   "cell_type": "code",
   "execution_count": 40,
   "metadata": {},
   "outputs": [
    {
     "data": {
      "text/plain": [
       "[<matplotlib.lines.Line2D at 0x7f63840ed320>]"
      ]
     },
     "execution_count": 40,
     "metadata": {},
     "output_type": "execute_result"
    },
    {
     "data": {
      "image/png": "[encoded data removed]",
      "text/plain": [
       "<Figure size 432x288 with 1 Axes>"
      ]
     },
     "metadata": {
      "needs_background": "light"
     },
     "output_type": "display_data"
    }
   ],
   "source": [
    "plt.plot(range(1, 101), smapes)"
   ]
  },
  {
   "cell_type": "code",
   "execution_count": 42,
   "metadata": {},
   "outputs": [
    {
     "data": {
      "text/plain": [
       "[<matplotlib.lines.Line2D at 0x7f632c541518>]"
      ]
     },
     "execution_count": 42,
     "metadata": {},
     "output_type": "execute_result"
    },
    {
     "data": {
      "image/png": "[encoded data removed]",
      "text/plain": [
       "<Figure size 432x288 with 1 Axes>"
      ]
     },
     "metadata": {
      "needs_background": "light"
     },
     "output_type": "display_data"
    }
   ],
   "source": [
    "smapes = []\n",
    "\n",
    "indices = np.random.permutation(100)\n",
    "\n",
    "for i in range(1, 101):\n",
    "    smapes.append(evaluate_ensemble(preds[indices[:i]], y_test))\n",
    "    \n",
    "plt.plot(range(1, 101), smapes)"
   ]
  },
  {
   "cell_type": "code",
   "execution_count": 43,
   "metadata": {},
   "outputs": [
    {
     "data": {
      "text/plain": [
       "[<matplotlib.lines.Line2D at 0x7f631c4f9860>]"
      ]
     },
     "execution_count": 43,
     "metadata": {},
     "output_type": "execute_result"
    },
    {
     "data": {
      "image/png": "[encoded data removed]",
      "text/plain": [
       "<Figure size 432x288 with 1 Axes>"
      ]
     },
     "metadata": {
      "needs_background": "light"
     },
     "output_type": "display_data"
    }
   ],
   "source": [
    "smapes = []\n",
    "\n",
    "indices = np.random.permutation(100)\n",
    "\n",
    "for i in range(1, 101):\n",
    "    smapes.append(evaluate_ensemble(preds[indices[:i]], y_test))\n",
    "    \n",
    "plt.plot(range(1, 101), smapes)"
   ]
  },
  {
   "cell_type": "code",
   "execution_count": 25,
   "metadata": {},
   "outputs": [],
   "source": [
    "def run(preds):\n",
    "    \n",
    "    smapes = []\n",
    "    indices = np.random.permutation(100)\n",
    "\n",
    "    for i in range(1, 101):\n",
    "        smapes.append(evaluate_ensemble(preds[indices[:i]], y_test))\n",
    "    \n",
    "    return np.array(smapes)\n",
    "\n",
    "\n",
    "# results = [run(preds) for _ in range(100)]"
   ]
  },
  {
   "cell_type": "code",
   "execution_count": 77,
   "metadata": {},
   "outputs": [],
   "source": [
    "data = pd.DataFrame({'smape': pd.concat([pd.Series(r) for r in results])})\n",
    "\n",
    "run = [[i] * 100 for i in range(100)]\n",
    "data['num_ensembles'] = data.index\n",
    "data['run'] = [item for sublist in run for item in sublist]"
   ]
  },
  {
   "cell_type": "code",
   "execution_count": 78,
   "metadata": {},
   "outputs": [
    {
     "data": {
      "text/plain": [
       "<matplotlib.axes._subplots.AxesSubplot at 0x7f639b83ff60>"
      ]
     },
     "execution_count": 78,
     "metadata": {},
     "output_type": "execute_result"
    },
    {
     "data": {
      "image/png": "[encoded data removed]",
      "text/plain": [
       "<Figure size 432x288 with 1 Axes>"
      ]
     },
     "metadata": {
      "needs_background": "light"
     },
     "output_type": "display_data"
    }
   ],
   "source": [
    "sns.lineplot(x='num_ensembles', y='smape', data=data)"
   ]
  },
  {
   "cell_type": "code",
   "execution_count": 71,
   "metadata": {
    "scrolled": true
   },
   "outputs": [
    {
     "data": {
      "image/png": "[encoded data removed]",
      "text/plain": [
       "<Figure size 432x288 with 1 Axes>"
      ]
     },
     "metadata": {
      "needs_background": "light"
     },
     "output_type": "display_data"
    }
   ],
   "source": [
    "for r in results:\n",
    "    plt.plot(r)"
   ]
  },
  {
   "cell_type": "code",
   "execution_count": 81,
   "metadata": {},
   "outputs": [],
   "source": [
    "individual_scores = [evaluate_ensemble(p[np.newaxis, ...], y_test) for p in preds]"
   ]
  },
  {
   "cell_type": "code",
   "execution_count": 86,
   "metadata": {
    "scrolled": true
   },
   "outputs": [
    {
     "data": {
      "text/plain": [
       "[<matplotlib.lines.Line2D at 0x7f62b0436908>]"
      ]
     },
     "execution_count": 86,
     "metadata": {},
     "output_type": "execute_result"
    },
    {
     "data": {
      "image/png": "[encoded data removed]",
      "text/plain": [
       "<Figure size 432x288 with 1 Axes>"
      ]
     },
     "metadata": {
      "needs_background": "light"
     },
     "output_type": "display_data"
    }
   ],
   "source": [
    "smapes = []\n",
    "indices = np.argsort(individual_scores)\n",
    "\n",
    "for i in range(1, 101):\n",
    "    smapes.append(evaluate_ensemble(preds[indices[:i]], y_test))\n",
    "    \n",
    "plt.plot(range(1, 101), smapes)"
   ]
  },
  {
   "cell_type": "markdown",
   "metadata": {},
   "source": [
    "## Other hundred models"
   ]
  },
  {
   "cell_type": "code",
   "execution_count": 10,
   "metadata": {},
   "outputs": [],
   "source": [
    "hundred_models = 'inp_18__out_12__loss_mae__bksize_200__bkact_leaky__dir_bi__'\n",
    "\n",
    "hundred_model_dirs = [str(p / hundred_models) + str(i) + '/best_weights.h5' for i in range(100)]"
   ]
  },
  {
   "cell_type": "code",
   "execution_count": 12,
   "metadata": {},
   "outputs": [
    {
     "name": "stderr",
     "output_type": "stream",
     "text": [
      "\n",
      "  0%|          | 0/100 [00:00<?, ?it/s]\u001b[A\n",
      "  1%|          | 1/100 [00:04<07:17,  4.42s/it]\u001b[A\n",
      "  2%|▏         | 2/100 [00:08<07:07,  4.36s/it]\u001b[A\n",
      "  3%|▎         | 3/100 [00:12<06:59,  4.33s/it]\u001b[A\n",
      "  4%|▍         | 4/100 [00:16<06:48,  4.25s/it]\u001b[A\n",
      "  5%|▌         | 5/100 [00:21<06:49,  4.31s/it]\u001b[A\n",
      "  6%|▌         | 6/100 [00:25<06:40,  4.26s/it]\u001b[A\n",
      "  7%|▋         | 7/100 [00:30<06:41,  4.32s/it]\u001b[A\n",
      "  8%|▊         | 8/100 [00:34<06:37,  4.33s/it]\u001b[A\n",
      "  9%|▉         | 9/100 [00:38<06:25,  4.24s/it]\u001b[A\n",
      " 10%|█         | 10/100 [00:42<06:27,  4.31s/it]\u001b[A\n",
      " 11%|█         | 11/100 [00:47<06:27,  4.35s/it]\u001b[A\n",
      " 12%|█▏        | 12/100 [00:51<06:18,  4.30s/it]\u001b[A\n",
      " 13%|█▎        | 13/100 [00:56<06:22,  4.39s/it]\u001b[A\n",
      " 14%|█▍        | 14/100 [01:00<06:12,  4.34s/it]\u001b[A\n",
      " 15%|█▌        | 15/100 [01:04<06:14,  4.40s/it]\u001b[A\n",
      " 16%|█▌        | 16/100 [01:08<06:01,  4.31s/it]\u001b[A\n",
      " 17%|█▋        | 17/100 [01:13<06:02,  4.37s/it]\u001b[A\n",
      " 18%|█▊        | 18/100 [01:17<05:59,  4.38s/it]\u001b[A\n",
      " 19%|█▉        | 19/100 [01:21<05:48,  4.30s/it]\u001b[A\n",
      " 20%|██        | 20/100 [01:26<05:52,  4.41s/it]\u001b[A\n",
      " 21%|██        | 21/100 [01:30<05:42,  4.34s/it]\u001b[A\n",
      " 22%|██▏       | 22/100 [01:35<05:44,  4.41s/it]\u001b[A\n",
      " 23%|██▎       | 23/100 [01:39<05:33,  4.33s/it]\u001b[A\n",
      " 24%|██▍       | 24/100 [01:44<05:35,  4.41s/it]\u001b[A\n",
      " 25%|██▌       | 25/100 [01:48<05:32,  4.43s/it]\u001b[A\n",
      " 26%|██▌       | 26/100 [01:52<05:23,  4.37s/it]\u001b[A\n",
      " 27%|██▋       | 27/100 [01:57<05:23,  4.43s/it]\u001b[A\n",
      " 28%|██▊       | 28/100 [02:01<05:13,  4.36s/it]\u001b[A\n",
      " 29%|██▉       | 29/100 [02:06<05:15,  4.44s/it]\u001b[A\n",
      " 30%|███       | 30/100 [02:10<05:10,  4.44s/it]\u001b[A\n",
      " 31%|███       | 31/100 [02:14<05:00,  4.35s/it]\u001b[A\n",
      " 32%|███▏      | 32/100 [02:19<05:00,  4.42s/it]\u001b[A\n",
      " 33%|███▎      | 33/100 [02:23<04:51,  4.35s/it]\u001b[A\n",
      " 34%|███▍      | 34/100 [02:28<04:49,  4.39s/it]\u001b[A\n",
      " 35%|███▌      | 35/100 [02:32<04:46,  4.40s/it]\u001b[A\n",
      " 36%|███▌      | 36/100 [02:36<04:36,  4.33s/it]\u001b[A\n",
      " 37%|███▋      | 37/100 [02:41<04:38,  4.42s/it]\u001b[A\n",
      " 38%|███▊      | 38/100 [02:45<04:30,  4.37s/it]\u001b[A\n",
      " 39%|███▉      | 39/100 [02:50<04:31,  4.45s/it]\u001b[A\n",
      " 40%|████      | 40/100 [02:54<04:22,  4.38s/it]\u001b[A\n",
      " 41%|████      | 41/100 [02:58<04:21,  4.44s/it]\u001b[A\n",
      " 42%|████▏     | 42/100 [03:03<04:18,  4.46s/it]\u001b[A\n",
      " 43%|████▎     | 43/100 [03:07<04:10,  4.39s/it]\u001b[A\n",
      " 44%|████▍     | 44/100 [03:12<04:10,  4.47s/it]\u001b[A\n",
      " 45%|████▌     | 45/100 [03:16<04:03,  4.42s/it]\u001b[A\n",
      " 46%|████▌     | 46/100 [03:21<04:01,  4.48s/it]\u001b[A\n",
      " 47%|████▋     | 47/100 [03:25<03:59,  4.52s/it]\u001b[A\n",
      " 48%|████▊     | 48/100 [03:30<03:50,  4.43s/it]\u001b[A\n",
      " 49%|████▉     | 49/100 [03:34<03:50,  4.52s/it]\u001b[A\n",
      " 50%|█████     | 50/100 [03:39<03:41,  4.44s/it]\u001b[A\n",
      " 51%|█████     | 51/100 [03:43<03:41,  4.51s/it]\u001b[A\n",
      " 52%|█████▏    | 52/100 [03:48<03:32,  4.44s/it]\u001b[A\n",
      " 53%|█████▎    | 53/100 [03:52<03:31,  4.50s/it]\u001b[A\n",
      " 54%|█████▍    | 54/100 [03:57<03:27,  4.52s/it]\u001b[A\n",
      " 55%|█████▌    | 55/100 [04:01<03:20,  4.45s/it]\u001b[A\n",
      " 56%|█████▌    | 56/100 [04:06<03:18,  4.50s/it]\u001b[A\n",
      " 57%|█████▋    | 57/100 [04:10<03:09,  4.42s/it]\u001b[A\n",
      " 58%|█████▊    | 58/100 [04:15<03:08,  4.48s/it]\u001b[A\n",
      " 59%|█████▉    | 59/100 [04:19<03:04,  4.51s/it]\u001b[A\n",
      " 60%|██████    | 60/100 [04:23<02:58,  4.46s/it]\u001b[A\n",
      " 61%|██████    | 61/100 [04:28<02:55,  4.51s/it]\u001b[A\n",
      " 62%|██████▏   | 62/100 [04:32<02:48,  4.44s/it]\u001b[A\n",
      " 63%|██████▎   | 63/100 [04:37<02:46,  4.50s/it]\u001b[A\n",
      " 64%|██████▍   | 64/100 [04:42<02:42,  4.53s/it]\u001b[A\n",
      " 65%|██████▌   | 65/100 [04:46<02:36,  4.47s/it]\u001b[A\n",
      " 66%|██████▌   | 66/100 [04:51<02:34,  4.53s/it]\u001b[A\n",
      " 67%|██████▋   | 67/100 [04:55<02:27,  4.48s/it]\u001b[A\n",
      " 68%|██████▊   | 68/100 [05:00<02:25,  4.53s/it]\u001b[A\n",
      " 69%|██████▉   | 69/100 [05:04<02:20,  4.54s/it]\u001b[A\n",
      " 70%|███████   | 70/100 [05:09<02:14,  4.50s/it]\u001b[A\n",
      " 71%|███████   | 71/100 [05:13<02:12,  4.56s/it]\u001b[A\n",
      " 72%|███████▏  | 72/100 [05:18<02:05,  4.48s/it]\u001b[A\n",
      " 73%|███████▎  | 73/100 [05:22<02:02,  4.53s/it]\u001b[A\n",
      " 74%|███████▍  | 74/100 [05:27<01:58,  4.54s/it]\u001b[A\n",
      " 75%|███████▌  | 75/100 [05:31<01:52,  4.48s/it]\u001b[A\n",
      " 76%|███████▌  | 76/100 [05:36<01:48,  4.54s/it]\u001b[A\n",
      " 77%|███████▋  | 77/100 [05:40<01:43,  4.49s/it]\u001b[A\n",
      " 78%|███████▊  | 78/100 [05:45<01:40,  4.55s/it]\u001b[A\n",
      " 79%|███████▉  | 79/100 [05:49<01:33,  4.47s/it]\u001b[A\n",
      " 80%|████████  | 80/100 [05:54<01:30,  4.53s/it]\u001b[A\n",
      " 81%|████████  | 81/100 [05:58<01:26,  4.53s/it]\u001b[A\n",
      " 82%|████████▏ | 82/100 [06:03<01:20,  4.46s/it]\u001b[A\n",
      " 83%|████████▎ | 83/100 [06:07<01:17,  4.54s/it]\u001b[A\n",
      " 84%|████████▍ | 84/100 [06:12<01:11,  4.48s/it]\u001b[A\n",
      " 85%|████████▌ | 85/100 [06:16<01:08,  4.54s/it]\u001b[A\n",
      " 86%|████████▌ | 86/100 [06:21<01:03,  4.57s/it]\u001b[A\n",
      " 87%|████████▋ | 87/100 [06:25<00:58,  4.50s/it]\u001b[A\n",
      " 88%|████████▊ | 88/100 [06:30<00:54,  4.55s/it]\u001b[A\n",
      " 89%|████████▉ | 89/100 [06:34<00:49,  4.47s/it]\u001b[A\n",
      " 90%|█████████ | 90/100 [06:39<00:45,  4.53s/it]\u001b[A\n",
      " 91%|█████████ | 91/100 [06:43<00:40,  4.52s/it]\u001b[A\n",
      " 92%|█████████▏| 92/100 [06:48<00:35,  4.47s/it]\u001b[A\n",
      " 93%|█████████▎| 93/100 [06:52<00:31,  4.54s/it]\u001b[A\n",
      " 94%|█████████▍| 94/100 [06:57<00:26,  4.48s/it]\u001b[A\n",
      " 95%|█████████▌| 95/100 [07:01<00:22,  4.52s/it]\u001b[A\n",
      " 96%|█████████▌| 96/100 [07:06<00:18,  4.55s/it]\u001b[A\n",
      " 97%|█████████▋| 97/100 [07:10<00:13,  4.46s/it]\u001b[A\n",
      " 98%|█████████▊| 98/100 [07:15<00:09,  4.52s/it]\u001b[A\n",
      " 99%|█████████▉| 99/100 [07:19<00:04,  4.45s/it]\u001b[A\n",
      "100%|██████████| 100/100 [07:24<00:00,  4.44s/it]\u001b[A\n"
     ]
    }
   ],
   "source": [
    "preds_2 = ensemble_preds(hundred_model_dirs, X_test)"
   ]
  },
  {
   "cell_type": "code",
   "execution_count": 13,
   "metadata": {},
   "outputs": [
    {
     "name": "stderr",
     "output_type": "stream",
     "text": [
      "\n",
      "  0%|          | 0/100 [00:00<?, ?it/s]\u001b[A\n",
      "  1%|          | 1/100 [00:04<07:00,  4.25s/it]\u001b[A\n",
      "  2%|▏         | 2/100 [00:08<07:06,  4.35s/it]\u001b[A\n",
      "  3%|▎         | 3/100 [00:13<07:07,  4.41s/it]\u001b[A\n",
      "  4%|▍         | 4/100 [00:17<06:59,  4.37s/it]\u001b[A\n",
      "  5%|▌         | 5/100 [00:22<07:02,  4.45s/it]\u001b[A\n",
      "  6%|▌         | 6/100 [00:26<06:52,  4.39s/it]\u001b[A\n",
      "  7%|▋         | 7/100 [00:31<06:54,  4.46s/it]\u001b[A\n",
      "  8%|▊         | 8/100 [00:35<06:44,  4.39s/it]\u001b[A\n",
      "  9%|▉         | 9/100 [00:40<06:46,  4.47s/it]\u001b[A\n",
      " 10%|█         | 10/100 [00:44<06:44,  4.49s/it]\u001b[A\n",
      " 11%|█         | 11/100 [00:48<06:34,  4.43s/it]\u001b[A\n",
      " 12%|█▏        | 12/100 [00:53<06:34,  4.49s/it]\u001b[A\n",
      " 13%|█▎        | 13/100 [00:57<06:22,  4.40s/it]\u001b[A\n",
      " 14%|█▍        | 14/100 [01:02<06:22,  4.44s/it]\u001b[A\n",
      " 15%|█▌        | 15/100 [01:06<06:17,  4.45s/it]\u001b[A\n",
      " 16%|█▌        | 16/100 [01:10<06:07,  4.37s/it]\u001b[A\n",
      " 17%|█▋        | 17/100 [01:15<06:10,  4.46s/it]\u001b[A\n",
      " 18%|█▊        | 18/100 [01:19<06:01,  4.41s/it]\u001b[A\n",
      " 19%|█▉        | 19/100 [01:24<06:01,  4.46s/it]\u001b[A\n",
      " 20%|██        | 20/100 [01:28<05:55,  4.44s/it]\u001b[A\n",
      " 21%|██        | 21/100 [01:33<05:54,  4.49s/it]\u001b[A\n",
      " 22%|██▏       | 22/100 [01:37<05:51,  4.51s/it]\u001b[A\n",
      " 23%|██▎       | 23/100 [01:42<05:41,  4.44s/it]\u001b[A\n",
      " 24%|██▍       | 24/100 [01:46<05:40,  4.48s/it]\u001b[A\n",
      " 25%|██▌       | 25/100 [01:51<05:37,  4.49s/it]\u001b[A\n",
      " 26%|██▌       | 26/100 [01:55<05:26,  4.41s/it]\u001b[A\n",
      " 27%|██▋       | 27/100 [02:00<05:28,  4.50s/it]\u001b[A\n",
      " 28%|██▊       | 28/100 [02:04<05:21,  4.47s/it]\u001b[A\n",
      " 29%|██▉       | 29/100 [02:09<05:23,  4.56s/it]\u001b[A\n",
      " 30%|███       | 30/100 [02:13<05:14,  4.49s/it]\u001b[A\n",
      " 31%|███       | 31/100 [02:18<05:13,  4.55s/it]\u001b[A\n",
      " 32%|███▏      | 32/100 [02:23<05:10,  4.56s/it]\u001b[A\n",
      " 33%|███▎      | 33/100 [02:27<05:00,  4.49s/it]\u001b[A\n",
      " 34%|███▍      | 34/100 [02:32<04:59,  4.54s/it]\u001b[A\n",
      " 35%|███▌      | 35/100 [02:36<04:50,  4.48s/it]\u001b[A\n",
      " 36%|███▌      | 36/100 [02:41<04:50,  4.54s/it]\u001b[A\n",
      " 37%|███▋      | 37/100 [02:45<04:46,  4.56s/it]\u001b[A\n",
      " 38%|███▊      | 38/100 [02:50<04:38,  4.50s/it]\u001b[A\n",
      " 39%|███▉      | 39/100 [02:54<04:38,  4.56s/it]\u001b[A\n",
      " 40%|████      | 40/100 [02:59<04:28,  4.48s/it]\u001b[A\n",
      " 41%|████      | 41/100 [03:03<04:28,  4.55s/it]\u001b[A\n",
      " 42%|████▏     | 42/100 [03:08<04:22,  4.52s/it]\u001b[A\n",
      " 43%|████▎     | 43/100 [03:12<04:19,  4.55s/it]\u001b[A\n",
      " 44%|████▍     | 44/100 [03:17<04:14,  4.54s/it]\u001b[A\n",
      " 45%|████▌     | 45/100 [03:21<04:06,  4.48s/it]\u001b[A\n",
      " 46%|████▌     | 46/100 [03:26<04:05,  4.55s/it]\u001b[A\n",
      " 47%|████▋     | 47/100 [03:30<03:57,  4.48s/it]\u001b[A\n",
      " 48%|████▊     | 48/100 [03:35<03:56,  4.54s/it]\u001b[A\n",
      " 49%|████▉     | 49/100 [03:39<03:51,  4.55s/it]\u001b[A\n",
      " 50%|█████     | 50/100 [03:44<03:44,  4.48s/it]\u001b[A\n",
      " 51%|█████     | 51/100 [03:49<03:43,  4.56s/it]\u001b[A\n",
      " 52%|█████▏    | 52/100 [03:53<03:35,  4.50s/it]\u001b[A\n",
      " 53%|█████▎    | 53/100 [03:58<03:34,  4.56s/it]\u001b[A\n",
      " 54%|█████▍    | 54/100 [04:02<03:27,  4.52s/it]\u001b[A\n",
      " 55%|█████▌    | 55/100 [04:07<03:25,  4.56s/it]\u001b[A\n",
      " 56%|█████▌    | 56/100 [04:11<03:20,  4.56s/it]\u001b[A\n",
      " 57%|█████▋    | 57/100 [04:16<03:13,  4.49s/it]\u001b[A\n",
      " 58%|█████▊    | 58/100 [04:20<03:11,  4.57s/it]\u001b[A\n",
      " 59%|█████▉    | 59/100 [04:25<03:04,  4.49s/it]\u001b[A\n",
      " 60%|██████    | 60/100 [04:29<03:02,  4.55s/it]\u001b[A\n",
      " 61%|██████    | 61/100 [04:34<02:57,  4.56s/it]\u001b[A\n",
      " 62%|██████▏   | 62/100 [04:38<02:49,  4.46s/it]\u001b[A\n",
      " 63%|██████▎   | 63/100 [04:43<02:47,  4.53s/it]\u001b[A\n",
      " 64%|██████▍   | 64/100 [04:47<02:40,  4.45s/it]\u001b[A\n",
      " 65%|██████▌   | 65/100 [04:52<02:38,  4.53s/it]\u001b[A\n",
      " 66%|██████▌   | 66/100 [04:56<02:31,  4.47s/it]\u001b[A\n",
      " 67%|██████▋   | 67/100 [05:01<02:30,  4.55s/it]\u001b[A\n",
      " 68%|██████▊   | 68/100 [05:06<02:26,  4.59s/it]\u001b[A\n",
      " 69%|██████▉   | 69/100 [05:10<02:19,  4.51s/it]\u001b[A\n",
      " 70%|███████   | 70/100 [05:15<02:17,  4.59s/it]\u001b[A\n",
      " 71%|███████   | 71/100 [05:19<02:11,  4.54s/it]\u001b[A\n",
      " 72%|███████▏  | 72/100 [05:24<02:08,  4.59s/it]\u001b[A\n",
      " 73%|███████▎  | 73/100 [05:28<02:04,  4.60s/it]\u001b[A\n",
      " 74%|███████▍  | 74/100 [05:33<01:57,  4.53s/it]\u001b[A\n",
      " 75%|███████▌  | 75/100 [05:38<01:55,  4.60s/it]\u001b[A\n",
      " 76%|███████▌  | 76/100 [05:42<01:48,  4.54s/it]\u001b[A\n",
      " 77%|███████▋  | 77/100 [05:47<01:45,  4.60s/it]\u001b[A\n",
      " 78%|███████▊  | 78/100 [05:51<01:41,  4.62s/it]\u001b[A\n",
      " 79%|███████▉  | 79/100 [05:56<01:35,  4.54s/it]\u001b[A\n",
      " 80%|████████  | 80/100 [06:00<01:32,  4.62s/it]\u001b[A\n",
      " 81%|████████  | 81/100 [06:05<01:26,  4.54s/it]\u001b[A\n",
      " 82%|████████▏ | 82/100 [06:10<01:22,  4.61s/it]\u001b[A\n",
      " 83%|████████▎ | 83/100 [06:14<01:17,  4.54s/it]\u001b[A\n",
      " 84%|████████▍ | 84/100 [06:19<01:13,  4.58s/it]\u001b[A\n",
      " 85%|████████▌ | 85/100 [06:23<01:08,  4.58s/it]\u001b[A\n",
      " 86%|████████▌ | 86/100 [06:28<01:03,  4.52s/it]\u001b[A\n",
      " 87%|████████▋ | 87/100 [06:32<00:59,  4.57s/it]\u001b[A\n",
      " 88%|████████▊ | 88/100 [06:37<00:54,  4.52s/it]\u001b[A\n",
      " 89%|████████▉ | 89/100 [06:41<00:50,  4.59s/it]\u001b[A\n",
      " 90%|█████████ | 90/100 [06:46<00:45,  4.59s/it]\u001b[A\n",
      " 91%|█████████ | 91/100 [06:50<00:40,  4.49s/it]\u001b[A\n",
      " 92%|█████████▏| 92/100 [06:55<00:36,  4.55s/it]\u001b[A\n",
      " 93%|█████████▎| 93/100 [06:59<00:31,  4.47s/it]\u001b[A\n",
      " 94%|█████████▍| 94/100 [07:04<00:27,  4.53s/it]\u001b[A\n",
      " 95%|█████████▌| 95/100 [07:08<00:22,  4.46s/it]\u001b[A\n",
      " 96%|█████████▌| 96/100 [07:13<00:18,  4.51s/it]\u001b[A\n",
      " 97%|█████████▋| 97/100 [07:17<00:13,  4.51s/it]\u001b[A\n",
      " 98%|█████████▊| 98/100 [07:22<00:08,  4.44s/it]\u001b[A\n",
      " 99%|█████████▉| 99/100 [07:26<00:04,  4.53s/it]\u001b[A\n",
      "100%|██████████| 100/100 [07:31<00:00,  4.51s/it]\u001b[A\n"
     ]
    }
   ],
   "source": [
    "hundred_models = 'inp_18__out_12__loss_mae__bksize_200__bkact_tanh__dir_bi__'\n",
    "\n",
    "hundred_model_dirs = [str(p / hundred_models) + str(i) + '/best_weights.h5' for i in range(100)]\n",
    "preds_3 = ensemble_preds(hundred_model_dirs, X_test)"
   ]
  },
  {
   "cell_type": "code",
   "execution_count": 14,
   "metadata": {},
   "outputs": [
    {
     "name": "stderr",
     "output_type": "stream",
     "text": [
      "\n",
      "  0%|          | 0/100 [00:00<?, ?it/s]\u001b[A\n",
      "  1%|          | 1/100 [00:04<07:58,  4.83s/it]\u001b[A\n",
      "  2%|▏         | 2/100 [00:09<07:44,  4.74s/it]\u001b[A\n",
      "  3%|▎         | 3/100 [00:13<07:28,  4.62s/it]\u001b[A\n",
      "  4%|▍         | 4/100 [00:18<07:24,  4.63s/it]\u001b[A\n",
      "  5%|▌         | 5/100 [00:22<07:18,  4.62s/it]\u001b[A\n",
      "  6%|▌         | 6/100 [00:27<07:05,  4.53s/it]\u001b[A\n",
      "  7%|▋         | 7/100 [00:31<07:05,  4.58s/it]\u001b[A\n",
      "  8%|▊         | 8/100 [00:36<06:54,  4.50s/it]\u001b[A\n",
      "  9%|▉         | 9/100 [00:40<06:53,  4.55s/it]\u001b[A\n",
      " 10%|█         | 10/100 [00:45<06:48,  4.53s/it]\u001b[A\n",
      " 11%|█         | 11/100 [00:49<06:35,  4.45s/it]\u001b[A\n",
      " 12%|█▏        | 12/100 [00:54<06:36,  4.50s/it]\u001b[A\n",
      " 13%|█▎        | 13/100 [00:58<06:24,  4.41s/it]\u001b[A\n",
      " 14%|█▍        | 14/100 [01:03<06:25,  4.49s/it]\u001b[A\n",
      " 15%|█▌        | 15/100 [01:07<06:13,  4.39s/it]\u001b[A\n",
      " 16%|█▌        | 16/100 [01:12<06:17,  4.50s/it]\u001b[A\n",
      " 17%|█▋        | 17/100 [01:16<06:16,  4.53s/it]\u001b[A\n",
      " 18%|█▊        | 18/100 [01:21<06:06,  4.47s/it]\u001b[A\n",
      " 19%|█▉        | 19/100 [01:25<06:03,  4.49s/it]\u001b[A\n",
      " 20%|██        | 20/100 [01:29<05:53,  4.42s/it]\u001b[A\n",
      " 21%|██        | 21/100 [01:34<05:57,  4.52s/it]\u001b[A\n",
      " 22%|██▏       | 22/100 [01:39<05:53,  4.53s/it]\u001b[A\n",
      " 23%|██▎       | 23/100 [01:43<05:43,  4.46s/it]\u001b[A\n",
      " 24%|██▍       | 24/100 [01:48<05:42,  4.51s/it]\u001b[A\n",
      " 25%|██▌       | 25/100 [01:52<05:31,  4.42s/it]\u001b[A\n",
      " 26%|██▌       | 26/100 [01:56<05:32,  4.50s/it]\u001b[A\n",
      " 27%|██▋       | 27/100 [02:01<05:25,  4.46s/it]\u001b[A\n",
      " 28%|██▊       | 28/100 [02:05<05:24,  4.51s/it]\u001b[A\n",
      " 29%|██▉       | 29/100 [02:10<05:20,  4.51s/it]\u001b[A\n",
      " 30%|███       | 30/100 [02:14<05:11,  4.46s/it]\u001b[A\n",
      " 31%|███       | 31/100 [02:19<05:13,  4.54s/it]\u001b[A\n",
      " 32%|███▏      | 32/100 [02:23<05:05,  4.49s/it]\u001b[A\n",
      " 33%|███▎      | 33/100 [02:28<05:05,  4.56s/it]\u001b[A\n",
      " 34%|███▍      | 34/100 [02:33<05:01,  4.57s/it]\u001b[A\n",
      " 35%|███▌      | 35/100 [02:37<04:52,  4.50s/it]\u001b[A\n",
      " 36%|███▌      | 36/100 [02:42<04:52,  4.56s/it]\u001b[A\n",
      " 37%|███▋      | 37/100 [02:46<04:41,  4.47s/it]\u001b[A\n",
      " 38%|███▊      | 38/100 [02:51<04:41,  4.54s/it]\u001b[A\n",
      " 39%|███▉      | 39/100 [02:55<04:38,  4.57s/it]\u001b[A\n",
      " 40%|████      | 40/100 [03:00<04:31,  4.52s/it]\u001b[A\n",
      " 41%|████      | 41/100 [03:05<04:32,  4.62s/it]\u001b[A\n",
      " 42%|████▏     | 42/100 [03:09<04:22,  4.53s/it]\u001b[A\n",
      " 43%|████▎     | 43/100 [03:14<04:21,  4.58s/it]\u001b[A\n",
      " 44%|████▍     | 44/100 [03:18<04:16,  4.58s/it]\u001b[A\n",
      " 45%|████▌     | 45/100 [03:23<04:07,  4.51s/it]\u001b[A\n",
      " 46%|████▌     | 46/100 [03:27<04:07,  4.59s/it]\u001b[A\n",
      " 47%|████▋     | 47/100 [03:32<03:59,  4.52s/it]\u001b[A\n",
      " 48%|████▊     | 48/100 [03:36<03:58,  4.60s/it]\u001b[A\n",
      " 49%|████▉     | 49/100 [03:41<03:50,  4.53s/it]\u001b[A\n",
      " 50%|█████     | 50/100 [03:46<03:49,  4.59s/it]\u001b[A\n",
      " 51%|█████     | 51/100 [03:50<03:45,  4.59s/it]\u001b[A\n",
      " 52%|█████▏    | 52/100 [03:54<03:36,  4.51s/it]\u001b[A\n",
      " 53%|█████▎    | 53/100 [03:59<03:34,  4.56s/it]\u001b[A\n",
      " 54%|█████▍    | 54/100 [04:04<03:27,  4.50s/it]\u001b[A\n",
      " 55%|█████▌    | 55/100 [04:08<03:26,  4.59s/it]\u001b[A\n",
      " 56%|█████▌    | 56/100 [04:13<03:22,  4.59s/it]\u001b[A\n",
      " 57%|█████▋    | 57/100 [04:17<03:14,  4.52s/it]\u001b[A\n",
      " 58%|█████▊    | 58/100 [04:22<03:12,  4.58s/it]\u001b[A\n",
      " 59%|█████▉    | 59/100 [04:26<03:04,  4.51s/it]\u001b[A\n",
      " 60%|██████    | 60/100 [04:31<03:02,  4.56s/it]\u001b[A\n",
      " 61%|██████    | 61/100 [04:36<02:59,  4.60s/it]\u001b[A\n",
      " 62%|██████▏   | 62/100 [04:40<02:51,  4.52s/it]\u001b[A\n",
      " 63%|██████▎   | 63/100 [04:45<02:50,  4.61s/it]\u001b[A\n",
      " 64%|██████▍   | 64/100 [04:49<02:43,  4.54s/it]\u001b[A\n",
      " 65%|██████▌   | 65/100 [04:54<02:41,  4.62s/it]\u001b[A\n",
      " 66%|██████▌   | 66/100 [04:59<02:36,  4.61s/it]\u001b[A\n",
      " 67%|██████▋   | 67/100 [05:03<02:29,  4.53s/it]\u001b[A\n",
      " 68%|██████▊   | 68/100 [05:08<02:27,  4.60s/it]\u001b[A\n",
      " 69%|██████▉   | 69/100 [05:12<02:20,  4.53s/it]\u001b[A\n",
      " 70%|███████   | 70/100 [05:17<02:17,  4.59s/it]\u001b[A\n",
      " 71%|███████   | 71/100 [05:21<02:13,  4.60s/it]\u001b[A\n",
      " 72%|███████▏  | 72/100 [05:26<02:06,  4.51s/it]\u001b[A\n",
      " 73%|███████▎  | 73/100 [05:31<02:03,  4.59s/it]\u001b[A\n",
      " 74%|███████▍  | 74/100 [05:35<01:56,  4.48s/it]\u001b[A\n",
      " 75%|███████▌  | 75/100 [05:39<01:53,  4.54s/it]\u001b[A\n",
      " 76%|███████▌  | 76/100 [05:44<01:47,  4.48s/it]\u001b[A\n",
      " 77%|███████▋  | 77/100 [05:48<01:44,  4.54s/it]\u001b[A\n",
      " 78%|███████▊  | 78/100 [05:53<01:39,  4.54s/it]\u001b[A\n",
      " 79%|███████▉  | 79/100 [05:57<01:34,  4.48s/it]\u001b[A\n",
      " 80%|████████  | 80/100 [06:02<01:31,  4.56s/it]\u001b[A\n",
      " 81%|████████  | 81/100 [06:07<01:25,  4.52s/it]\u001b[A\n",
      " 82%|████████▏ | 82/100 [06:11<01:22,  4.60s/it]\u001b[A\n",
      " 83%|████████▎ | 83/100 [06:16<01:18,  4.61s/it]\u001b[A\n",
      " 84%|████████▍ | 84/100 [06:20<01:12,  4.53s/it]\u001b[A\n",
      " 85%|████████▌ | 85/100 [06:25<01:08,  4.58s/it]\u001b[A\n",
      " 86%|████████▌ | 86/100 [06:29<01:02,  4.48s/it]\u001b[A\n",
      " 87%|████████▋ | 87/100 [06:34<00:58,  4.54s/it]\u001b[A\n",
      " 88%|████████▊ | 88/100 [06:38<00:53,  4.49s/it]\u001b[A\n",
      " 89%|████████▉ | 89/100 [06:43<00:49,  4.54s/it]\u001b[A\n",
      " 90%|█████████ | 90/100 [06:48<00:45,  4.58s/it]\u001b[A\n",
      " 91%|█████████ | 91/100 [06:52<00:40,  4.51s/it]\u001b[A\n",
      " 92%|█████████▏| 92/100 [06:57<00:36,  4.57s/it]\u001b[A\n",
      " 93%|█████████▎| 93/100 [07:01<00:31,  4.51s/it]\u001b[A\n",
      " 94%|█████████▍| 94/100 [07:06<00:27,  4.56s/it]\u001b[A\n",
      " 95%|█████████▌| 95/100 [07:10<00:22,  4.58s/it]\u001b[A\n",
      " 96%|█████████▌| 96/100 [07:15<00:18,  4.51s/it]\u001b[A\n",
      " 97%|█████████▋| 97/100 [07:19<00:13,  4.60s/it]\u001b[A\n",
      " 98%|█████████▊| 98/100 [07:24<00:09,  4.53s/it]\u001b[A\n",
      " 99%|█████████▉| 99/100 [07:29<00:04,  4.60s/it]\u001b[A\n",
      "100%|██████████| 100/100 [07:33<00:00,  4.53s/it]\u001b[A\n"
     ]
    }
   ],
   "source": [
    "hundred_models = 'inp_18__out_12__loss_mae__bksize_250__bkact_relu__dir_bi__'\n",
    "\n",
    "hundred_model_dirs = [str(p / hundred_models) + str(i) + '/best_weights.h5' for i in range(100)]\n",
    "preds_4 = ensemble_preds(hundred_model_dirs, X_test)"
   ]
  },
  {
   "cell_type": "code",
   "execution_count": 15,
   "metadata": {},
   "outputs": [
    {
     "name": "stderr",
     "output_type": "stream",
     "text": [
      "\n",
      "  0%|          | 0/100 [00:00<?, ?it/s]\u001b[A\n",
      "  1%|          | 1/100 [00:04<07:41,  4.66s/it]\u001b[A\n",
      "  2%|▏         | 2/100 [00:09<07:31,  4.60s/it]\u001b[A\n",
      "  3%|▎         | 3/100 [00:13<07:17,  4.51s/it]\u001b[A\n",
      "  4%|▍         | 4/100 [00:18<07:15,  4.53s/it]\u001b[A\n",
      "  5%|▌         | 5/100 [00:22<07:12,  4.56s/it]\u001b[A\n",
      "  6%|▌         | 6/100 [00:26<07:02,  4.50s/it]\u001b[A\n",
      "  7%|▋         | 7/100 [00:31<07:04,  4.57s/it]\u001b[A\n",
      "  8%|▊         | 8/100 [00:36<06:54,  4.51s/it]\u001b[A\n",
      "  9%|▉         | 9/100 [00:40<06:57,  4.59s/it]\u001b[A\n",
      " 10%|█         | 10/100 [00:45<06:52,  4.58s/it]\u001b[A\n",
      " 11%|█         | 11/100 [00:49<06:42,  4.53s/it]\u001b[A\n",
      " 12%|█▏        | 12/100 [00:54<06:45,  4.61s/it]\u001b[A\n",
      " 13%|█▎        | 13/100 [00:58<06:33,  4.53s/it]\u001b[A\n",
      " 14%|█▍        | 14/100 [01:03<06:33,  4.57s/it]\u001b[A\n",
      " 15%|█▌        | 15/100 [01:08<06:32,  4.62s/it]\u001b[A\n",
      " 16%|█▌        | 16/100 [01:12<06:22,  4.55s/it]\u001b[A\n",
      " 17%|█▋        | 17/100 [01:17<06:23,  4.62s/it]\u001b[A\n",
      " 18%|█▊        | 18/100 [01:21<06:12,  4.54s/it]\u001b[A\n",
      " 19%|█▉        | 19/100 [01:26<06:12,  4.60s/it]\u001b[A\n",
      " 20%|██        | 20/100 [01:31<06:09,  4.61s/it]\u001b[A\n",
      " 21%|██        | 21/100 [01:35<05:56,  4.52s/it]\u001b[A\n",
      " 22%|██▏       | 22/100 [01:40<05:57,  4.58s/it]\u001b[A\n",
      " 23%|██▎       | 23/100 [01:44<05:46,  4.50s/it]\u001b[A\n",
      " 24%|██▍       | 24/100 [01:49<05:49,  4.60s/it]\u001b[A\n",
      " 25%|██▌       | 25/100 [01:53<05:39,  4.53s/it]\u001b[A\n",
      " 26%|██▌       | 26/100 [01:58<05:40,  4.60s/it]\u001b[A\n",
      " 27%|██▋       | 27/100 [02:03<05:37,  4.62s/it]\u001b[A\n",
      " 28%|██▊       | 28/100 [02:07<05:27,  4.55s/it]\u001b[A\n",
      " 29%|██▉       | 29/100 [02:12<05:27,  4.62s/it]\u001b[A\n",
      " 30%|███       | 30/100 [02:16<05:16,  4.53s/it]\u001b[A\n",
      " 31%|███       | 31/100 [02:21<05:16,  4.58s/it]\u001b[A\n",
      " 32%|███▏      | 32/100 [02:26<05:12,  4.59s/it]\u001b[A\n",
      " 33%|███▎      | 33/100 [02:30<05:03,  4.54s/it]\u001b[A\n",
      " 34%|███▍      | 34/100 [02:35<05:05,  4.62s/it]\u001b[A\n",
      " 35%|███▌      | 35/100 [02:39<04:56,  4.56s/it]\u001b[A\n",
      " 36%|███▌      | 36/100 [02:44<04:55,  4.62s/it]\u001b[A\n",
      " 37%|███▋      | 37/100 [02:49<04:51,  4.62s/it]\u001b[A\n",
      " 38%|███▊      | 38/100 [02:53<04:41,  4.54s/it]\u001b[A\n",
      " 39%|███▉      | 39/100 [02:58<04:38,  4.57s/it]\u001b[A\n",
      " 40%|████      | 40/100 [03:02<04:29,  4.49s/it]\u001b[A\n",
      " 41%|████      | 41/100 [03:07<04:30,  4.58s/it]\u001b[A\n",
      " 42%|████▏     | 42/100 [03:11<04:21,  4.52s/it]\u001b[A\n",
      " 43%|████▎     | 43/100 [03:16<04:20,  4.57s/it]\u001b[A\n",
      " 44%|████▍     | 44/100 [03:20<04:16,  4.58s/it]\u001b[A\n",
      " 45%|████▌     | 45/100 [03:25<04:08,  4.51s/it]\u001b[A\n",
      " 46%|████▌     | 46/100 [03:29<04:06,  4.57s/it]\u001b[A\n",
      " 47%|████▋     | 47/100 [03:34<03:58,  4.51s/it]\u001b[A\n",
      " 48%|████▊     | 48/100 [03:39<03:59,  4.60s/it]\u001b[A\n",
      " 49%|████▉     | 49/100 [03:43<03:55,  4.63s/it]\u001b[A\n",
      " 50%|█████     | 50/100 [03:48<03:48,  4.57s/it]\u001b[A\n",
      " 51%|█████     | 51/100 [03:53<03:48,  4.66s/it]\u001b[A\n",
      " 52%|█████▏    | 52/100 [03:57<03:39,  4.57s/it]\u001b[A\n",
      " 53%|█████▎    | 53/100 [04:02<03:36,  4.61s/it]\u001b[A\n",
      " 54%|█████▍    | 54/100 [04:06<03:31,  4.59s/it]\u001b[A\n",
      " 55%|█████▌    | 55/100 [04:10<03:22,  4.50s/it]\u001b[A\n",
      " 56%|█████▌    | 56/100 [04:15<03:21,  4.58s/it]\u001b[A\n",
      " 57%|█████▋    | 57/100 [04:20<03:13,  4.49s/it]\u001b[A\n",
      " 58%|█████▊    | 58/100 [04:24<03:11,  4.56s/it]\u001b[A\n",
      " 59%|█████▉    | 59/100 [04:29<03:07,  4.57s/it]\u001b[A\n",
      " 60%|██████    | 60/100 [04:33<02:59,  4.48s/it]\u001b[A\n",
      " 61%|██████    | 61/100 [04:38<02:57,  4.55s/it]\u001b[A\n",
      " 62%|██████▏   | 62/100 [04:42<02:48,  4.45s/it]\u001b[A\n",
      " 63%|██████▎   | 63/100 [04:47<02:48,  4.55s/it]\u001b[A\n",
      " 64%|██████▍   | 64/100 [04:51<02:42,  4.50s/it]\u001b[A\n",
      " 65%|██████▌   | 65/100 [04:56<02:39,  4.56s/it]\u001b[A\n",
      " 66%|██████▌   | 66/100 [05:00<02:34,  4.55s/it]\u001b[A\n",
      " 67%|██████▋   | 67/100 [05:05<02:27,  4.47s/it]\u001b[A\n",
      " 68%|██████▊   | 68/100 [05:09<02:25,  4.54s/it]\u001b[A\n",
      " 69%|██████▉   | 69/100 [05:14<02:18,  4.46s/it]\u001b[A\n",
      " 70%|███████   | 70/100 [05:19<02:17,  4.57s/it]\u001b[A\n",
      " 71%|███████   | 71/100 [05:23<02:13,  4.59s/it]\u001b[A\n",
      " 72%|███████▏  | 72/100 [05:27<02:05,  4.49s/it]\u001b[A\n",
      " 73%|███████▎  | 73/100 [05:32<02:02,  4.54s/it]\u001b[A\n",
      " 74%|███████▍  | 74/100 [05:36<01:55,  4.45s/it]\u001b[A\n",
      " 75%|███████▌  | 75/100 [05:41<01:52,  4.51s/it]\u001b[A\n",
      " 76%|███████▌  | 76/100 [05:45<01:46,  4.44s/it]\u001b[A\n",
      " 77%|███████▋  | 77/100 [05:50<01:44,  4.54s/it]\u001b[A\n",
      " 78%|███████▊  | 78/100 [05:55<01:40,  4.55s/it]\u001b[A\n",
      " 79%|███████▉  | 79/100 [05:59<01:34,  4.51s/it]\u001b[A\n",
      " 80%|████████  | 80/100 [06:04<01:31,  4.55s/it]\u001b[A\n",
      " 81%|████████  | 81/100 [06:08<01:25,  4.48s/it]\u001b[A\n",
      " 82%|████████▏ | 82/100 [06:13<01:21,  4.53s/it]\u001b[A\n",
      " 83%|████████▎ | 83/100 [06:17<01:17,  4.56s/it]\u001b[A\n",
      " 84%|████████▍ | 84/100 [06:21<01:11,  4.47s/it]\u001b[A\n",
      " 85%|████████▌ | 85/100 [06:26<01:08,  4.57s/it]\u001b[A\n",
      " 86%|████████▌ | 86/100 [06:31<01:02,  4.49s/it]\u001b[A\n",
      " 87%|████████▋ | 87/100 [06:35<00:59,  4.56s/it]\u001b[A\n",
      " 88%|████████▊ | 88/100 [06:40<00:54,  4.58s/it]\u001b[A\n",
      " 89%|████████▉ | 89/100 [06:44<00:49,  4.54s/it]\u001b[A\n",
      " 90%|█████████ | 90/100 [06:49<00:46,  4.62s/it]\u001b[A\n",
      " 91%|█████████ | 91/100 [06:54<00:40,  4.55s/it]\u001b[A\n",
      " 92%|█████████▏| 92/100 [06:58<00:36,  4.59s/it]\u001b[A\n",
      " 93%|█████████▎| 93/100 [07:03<00:31,  4.50s/it]\u001b[A\n",
      " 94%|█████████▍| 94/100 [07:07<00:27,  4.56s/it]\u001b[A\n",
      " 95%|█████████▌| 95/100 [07:12<00:22,  4.55s/it]\u001b[A\n",
      " 96%|█████████▌| 96/100 [07:16<00:17,  4.50s/it]\u001b[A\n",
      " 97%|█████████▋| 97/100 [07:21<00:13,  4.57s/it]\u001b[A\n",
      " 98%|█████████▊| 98/100 [07:25<00:08,  4.48s/it]\u001b[A\n",
      " 99%|█████████▉| 99/100 [07:30<00:04,  4.50s/it]\u001b[A\n",
      "100%|██████████| 100/100 [07:34<00:00,  4.55s/it]\u001b[A\n"
     ]
    }
   ],
   "source": [
    "hundred_models = 'inp_18__out_12__loss_mae__bksize_250__bkact_leaky__dir_bi__'\n",
    "\n",
    "hundred_model_dirs = [str(p / hundred_models) + str(i) + '/best_weights.h5' for i in range(100)]\n",
    "preds_5 = ensemble_preds(hundred_model_dirs, X_test)"
   ]
  },
  {
   "cell_type": "code",
   "execution_count": 16,
   "metadata": {},
   "outputs": [
    {
     "name": "stderr",
     "output_type": "stream",
     "text": [
      "\n",
      "  0%|          | 0/100 [00:00<?, ?it/s]\u001b[A\n",
      "  1%|          | 1/100 [00:04<07:01,  4.26s/it]\u001b[A\n",
      "  2%|▏         | 2/100 [00:08<07:09,  4.38s/it]\u001b[A\n",
      "  3%|▎         | 3/100 [00:13<07:01,  4.35s/it]\u001b[A\n",
      "  4%|▍         | 4/100 [00:17<07:05,  4.44s/it]\u001b[A\n",
      "  5%|▌         | 5/100 [00:22<07:05,  4.48s/it]\u001b[A\n",
      "  6%|▌         | 6/100 [00:27<07:04,  4.52s/it]\u001b[A\n",
      "  7%|▋         | 7/100 [00:31<06:58,  4.50s/it]\u001b[A\n",
      "  8%|▊         | 8/100 [00:35<06:46,  4.41s/it]\u001b[A\n",
      "  9%|▉         | 9/100 [00:40<06:48,  4.48s/it]\u001b[A\n",
      " 10%|█         | 10/100 [00:44<06:37,  4.41s/it]\u001b[A\n",
      " 11%|█         | 11/100 [00:49<06:39,  4.49s/it]\u001b[A\n",
      " 12%|█▏        | 12/100 [00:53<06:36,  4.51s/it]\u001b[A\n",
      " 13%|█▎        | 13/100 [00:58<06:27,  4.46s/it]\u001b[A\n",
      " 14%|█▍        | 14/100 [01:02<06:29,  4.52s/it]\u001b[A\n",
      " 15%|█▌        | 15/100 [01:07<06:18,  4.46s/it]\u001b[A\n",
      " 16%|█▌        | 16/100 [01:11<06:20,  4.53s/it]\u001b[A\n",
      " 17%|█▋        | 17/100 [01:16<06:17,  4.55s/it]\u001b[A\n",
      " 18%|█▊        | 18/100 [01:20<06:07,  4.48s/it]\u001b[A\n",
      " 19%|█▉        | 19/100 [01:25<06:09,  4.57s/it]\u001b[A\n",
      " 20%|██        | 20/100 [01:29<05:59,  4.49s/it]\u001b[A\n",
      " 21%|██        | 21/100 [01:34<05:58,  4.53s/it]\u001b[A\n",
      " 22%|██▏       | 22/100 [01:39<05:54,  4.55s/it]\u001b[A\n",
      " 23%|██▎       | 23/100 [01:43<05:44,  4.48s/it]\u001b[A\n",
      " 24%|██▍       | 24/100 [01:48<05:47,  4.57s/it]\u001b[A\n",
      " 25%|██▌       | 25/100 [01:52<05:37,  4.49s/it]\u001b[A\n",
      " 26%|██▌       | 26/100 [01:57<05:36,  4.55s/it]\u001b[A\n",
      " 27%|██▋       | 27/100 [02:01<05:28,  4.50s/it]\u001b[A\n",
      " 28%|██▊       | 28/100 [02:06<05:29,  4.57s/it]\u001b[A\n",
      " 29%|██▉       | 29/100 [02:10<05:25,  4.58s/it]\u001b[A\n",
      " 30%|███       | 30/100 [02:15<05:16,  4.53s/it]\u001b[A\n",
      " 31%|███       | 31/100 [02:19<05:15,  4.57s/it]\u001b[A\n",
      " 32%|███▏      | 32/100 [02:24<05:05,  4.49s/it]\u001b[A\n",
      " 33%|███▎      | 33/100 [02:28<05:05,  4.55s/it]\u001b[A\n",
      " 34%|███▍      | 34/100 [02:33<05:01,  4.56s/it]\u001b[A\n",
      " 35%|███▌      | 35/100 [02:37<04:50,  4.48s/it]\u001b[A\n",
      " 36%|███▌      | 36/100 [02:42<04:51,  4.55s/it]\u001b[A\n",
      " 37%|███▋      | 37/100 [02:46<04:42,  4.48s/it]\u001b[A\n",
      " 38%|███▊      | 38/100 [02:51<04:41,  4.54s/it]\u001b[A\n",
      " 39%|███▉      | 39/100 [02:55<04:33,  4.49s/it]\u001b[A\n",
      " 40%|████      | 40/100 [03:00<04:32,  4.55s/it]\u001b[A\n",
      " 41%|████      | 41/100 [03:05<04:28,  4.55s/it]\u001b[A\n",
      " 42%|████▏     | 42/100 [03:09<04:19,  4.48s/it]\u001b[A\n",
      " 43%|████▎     | 43/100 [03:14<04:20,  4.57s/it]\u001b[A\n",
      " 44%|████▍     | 44/100 [03:18<04:12,  4.51s/it]\u001b[A\n",
      " 45%|████▌     | 45/100 [03:23<04:10,  4.56s/it]\u001b[A\n",
      " 46%|████▌     | 46/100 [03:27<04:07,  4.58s/it]\u001b[A\n",
      " 47%|████▋     | 47/100 [03:32<03:58,  4.50s/it]\u001b[A\n",
      " 48%|████▊     | 48/100 [03:36<03:55,  4.53s/it]\u001b[A\n",
      " 49%|████▉     | 49/100 [03:41<03:47,  4.47s/it]\u001b[A\n",
      " 50%|█████     | 50/100 [03:45<03:46,  4.53s/it]\u001b[A\n",
      " 51%|█████     | 51/100 [03:50<03:43,  4.56s/it]\u001b[A\n",
      " 52%|█████▏    | 52/100 [03:54<03:36,  4.50s/it]\u001b[A\n",
      " 53%|█████▎    | 53/100 [03:59<03:35,  4.58s/it]\u001b[A\n",
      " 54%|█████▍    | 54/100 [04:03<03:27,  4.50s/it]\u001b[A\n",
      " 55%|█████▌    | 55/100 [04:08<03:24,  4.54s/it]\u001b[A\n",
      " 56%|█████▌    | 56/100 [04:12<03:16,  4.46s/it]\u001b[A\n",
      " 57%|█████▋    | 57/100 [04:17<03:14,  4.51s/it]\u001b[A\n",
      " 58%|█████▊    | 58/100 [04:21<03:09,  4.52s/it]\u001b[A\n",
      " 59%|█████▉    | 59/100 [04:26<03:02,  4.46s/it]\u001b[A\n",
      " 60%|██████    | 60/100 [04:30<03:00,  4.51s/it]\u001b[A\n",
      " 61%|██████    | 61/100 [04:35<02:53,  4.45s/it]\u001b[A\n",
      " 62%|██████▏   | 62/100 [04:40<02:53,  4.56s/it]\u001b[A\n",
      " 63%|██████▎   | 63/100 [04:44<02:48,  4.56s/it]\u001b[A\n",
      " 64%|██████▍   | 64/100 [04:48<02:41,  4.47s/it]\u001b[A\n",
      " 65%|██████▌   | 65/100 [04:53<02:38,  4.53s/it]\u001b[A\n",
      " 66%|██████▌   | 66/100 [04:57<02:31,  4.46s/it]\u001b[A\n",
      " 67%|██████▋   | 67/100 [05:02<02:29,  4.52s/it]\u001b[A\n",
      " 68%|██████▊   | 68/100 [05:06<02:22,  4.45s/it]\u001b[A\n",
      " 69%|██████▉   | 69/100 [05:11<02:19,  4.50s/it]\u001b[A\n",
      " 70%|███████   | 70/100 [05:16<02:16,  4.54s/it]\u001b[A\n",
      " 71%|███████   | 71/100 [05:20<02:09,  4.46s/it]\u001b[A\n",
      " 72%|███████▏  | 72/100 [05:24<02:06,  4.52s/it]\u001b[A\n",
      " 73%|███████▎  | 73/100 [05:29<01:59,  4.42s/it]\u001b[A\n",
      " 74%|███████▍  | 74/100 [05:33<01:56,  4.48s/it]\u001b[A\n",
      " 75%|███████▌  | 75/100 [05:38<01:50,  4.42s/it]\u001b[A\n",
      " 76%|███████▌  | 76/100 [05:42<01:47,  4.48s/it]\u001b[A\n",
      " 77%|███████▋  | 77/100 [05:47<01:42,  4.47s/it]\u001b[A\n",
      " 78%|███████▊  | 78/100 [05:51<01:36,  4.41s/it]\u001b[A\n",
      " 79%|███████▉  | 79/100 [05:56<01:34,  4.49s/it]\u001b[A\n",
      " 80%|████████  | 80/100 [06:00<01:28,  4.41s/it]\u001b[A\n",
      " 81%|████████  | 81/100 [06:04<01:25,  4.48s/it]\u001b[A\n",
      " 82%|████████▏ | 82/100 [06:09<01:20,  4.49s/it]\u001b[A\n",
      " 83%|████████▎ | 83/100 [06:13<01:15,  4.43s/it]\u001b[A\n",
      " 84%|████████▍ | 84/100 [06:18<01:12,  4.50s/it]\u001b[A\n",
      " 85%|████████▌ | 85/100 [06:22<01:06,  4.41s/it]\u001b[A\n",
      " 86%|████████▌ | 86/100 [06:27<01:02,  4.48s/it]\u001b[A\n",
      " 87%|████████▋ | 87/100 [06:31<00:57,  4.41s/it]\u001b[A\n",
      " 88%|████████▊ | 88/100 [06:36<00:53,  4.50s/it]\u001b[A\n",
      " 89%|████████▉ | 89/100 [06:40<00:49,  4.52s/it]\u001b[A\n",
      " 90%|█████████ | 90/100 [06:45<00:44,  4.45s/it]\u001b[A\n",
      " 91%|█████████ | 91/100 [06:49<00:40,  4.53s/it]\u001b[A\n",
      " 92%|█████████▏| 92/100 [06:54<00:35,  4.47s/it]\u001b[A\n",
      " 93%|█████████▎| 93/100 [06:58<00:31,  4.50s/it]\u001b[A\n",
      " 94%|█████████▍| 94/100 [07:03<00:27,  4.51s/it]\u001b[A\n",
      " 95%|█████████▌| 95/100 [07:07<00:22,  4.44s/it]\u001b[A\n",
      " 96%|█████████▌| 96/100 [07:12<00:18,  4.56s/it]\u001b[A\n",
      " 97%|█████████▋| 97/100 [07:16<00:13,  4.51s/it]\u001b[A\n",
      " 98%|█████████▊| 98/100 [07:21<00:09,  4.58s/it]\u001b[A\n",
      " 99%|█████████▉| 99/100 [07:25<00:04,  4.53s/it]\u001b[A\n",
      "100%|██████████| 100/100 [07:30<00:00,  4.51s/it]\u001b[A\n"
     ]
    }
   ],
   "source": [
    "hundred_models = 'inp_18__out_12__loss_mae__bksize_250__bkact_tanh__dir_bi__'\n",
    "\n",
    "hundred_model_dirs = [str(p / hundred_models) + str(i) + '/best_weights.h5' for i in range(100)]\n",
    "preds_6 = ensemble_preds(hundred_model_dirs, X_test)"
   ]
  },
  {
   "cell_type": "code",
   "execution_count": 18,
   "metadata": {},
   "outputs": [],
   "source": [
    "results = [run(preds_2) for _ in range(100)]"
   ]
  },
  {
   "cell_type": "code",
   "execution_count": 19,
   "metadata": {},
   "outputs": [],
   "source": [
    "data = pd.DataFrame({'smape': pd.concat([pd.Series(r) for r in results])})\n",
    "\n",
    "run = [[i] * 100 for i in range(100)]\n",
    "data['num_ensembles'] = data.index\n",
    "data['run'] = [item for sublist in run for item in sublist]"
   ]
  },
  {
   "cell_type": "code",
   "execution_count": 20,
   "metadata": {},
   "outputs": [
    {
     "data": {
      "text/plain": [
       "<matplotlib.axes._subplots.AxesSubplot at 0x7f72301b4eb8>"
      ]
     },
     "execution_count": 20,
     "metadata": {},
     "output_type": "execute_result"
    },
    {
     "data": {
      "image/png": "[encoded data removed]",
      "text/plain": [
       "<Figure size 432x288 with 1 Axes>"
      ]
     },
     "metadata": {
      "needs_background": "light"
     },
     "output_type": "display_data"
    }
   ],
   "source": [
    "sns.lineplot(x='num_ensembles', y='smape', data=data)"
   ]
  },
  {
   "cell_type": "code",
   "execution_count": 26,
   "metadata": {},
   "outputs": [],
   "source": [
    "results3 = [run(preds_3) for _ in range(100)]\n",
    "\n",
    "data = pd.DataFrame({'smape': pd.concat([pd.Series(r) for r in results3])})\n",
    "\n",
    "runs = [[i] * 100 for i in range(100)]\n",
    "data['num_ensembles'] = data.index\n",
    "data['run'] = [item for sublist in runs for item in sublist]"
   ]
  },
  {
   "cell_type": "code",
   "execution_count": 27,
   "metadata": {},
   "outputs": [
    {
     "data": {
      "text/plain": [
       "<matplotlib.axes._subplots.AxesSubplot at 0x7f71b03ca278>"
      ]
     },
     "execution_count": 27,
     "metadata": {},
     "output_type": "execute_result"
    },
    {
     "data": {
      "image/png": "[encoded data removed]",
      "text/plain": [
       "<Figure size 432x288 with 1 Axes>"
      ]
     },
     "metadata": {
      "needs_background": "light"
     },
     "output_type": "display_data"
    }
   ],
   "source": [
    "sns.lineplot(x='num_ensembles', y='smape', data=data)"
   ]
  },
  {
   "cell_type": "code",
   "execution_count": null,
   "metadata": {},
   "outputs": [],
   "source": []
  }
 ],
 "metadata": {
  "kernelspec": {
   "display_name": "Python 3",
   "language": "python",
   "name": "python3"
  },
  "language_info": {
   "codemirror_mode": {
    "name": "ipython",
    "version": 3
   },
   "file_extension": ".py",
   "mimetype": "text/x-python",
   "name": "python",
   "nbconvert_exporter": "python",
   "pygments_lexer": "ipython3",
   "version": "3.6.9"
  }
 },
 "nbformat": 4,
 "nbformat_minor": 4
}
