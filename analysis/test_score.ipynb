{
 "cells": [
  {
   "cell_type": "code",
   "execution_count": 1,
   "metadata": {},
   "outputs": [],
   "source": [
    "from pathlib import Path\n",
    "import numpy as np\n",
    "import pandas as pd\n",
    "import matplotlib.pyplot as plt\n",
    "import seaborn as sns\n",
    "from tqdm import tqdm\n",
    "from sklearn.model_selection import train_test_split\n",
    "import pickle as pkl\n",
    "import tensorflow as tf\n",
    "import metrics\n",
    "\n",
    "import warnings\n",
    "warnings.filterwarnings('once')"
   ]
  },
  {
   "cell_type": "code",
   "execution_count": 2,
   "metadata": {},
   "outputs": [],
   "source": [
    "mape = metrics.build_mape(overlap=6)\n",
    "smape = metrics.build_smape(overlap=6)\n",
    "mase_estimate = metrics.build_mase(overlap=6)\n",
    "owa_estimate = metrics.build_owa(overlap=6)\n",
    "reconstruction_loss = metrics.build_reconstruction_loss(overlap=6)"
   ]
  },
  {
   "cell_type": "code",
   "execution_count": 3,
   "metadata": {},
   "outputs": [],
   "source": [
    "def MASE(x, y, p):\n",
    "    nom = np.mean(np.abs(y - p), axis=1)\n",
    "    denom = np.mean(np.abs(x[:, 1:] - x[:, :-1]), axis=1) + np.finfo('float').eps\n",
    "    return nom / denom\n",
    "\n",
    "def SMAPE(y, p):\n",
    "    nom = np.abs(y - p)\n",
    "    denom = np.abs(y) + np.abs(p) + np.finfo('float').eps\n",
    "    return 2 * np.mean(nom / denom, axis=1) * 100\n",
    "\n",
    "def OWA(x, y, p):\n",
    "    rel_smape = SMAPE(y, p) / 15.201\n",
    "    rel_mase = MASE(x, y, p) / 1.685\n",
    "    return (rel_smape + rel_mase) / 2"
   ]
  },
  {
   "cell_type": "code",
   "execution_count": 4,
   "metadata": {},
   "outputs": [],
   "source": [
    "train_path = Path('../M4-methods/Dataset/Train/Yearly-train.csv')\n",
    "test_path = Path('../M4-methods/Dataset/Test/Yearly-test.csv')"
   ]
  },
  {
   "cell_type": "code",
   "execution_count": 5,
   "metadata": {},
   "outputs": [],
   "source": [
    "train = pd.read_csv(train_path).drop('V1', axis=1)\n",
    "test = pd.read_csv(test_path).drop('V1', axis=1)"
   ]
  },
  {
   "cell_type": "code",
   "execution_count": 6,
   "metadata": {},
   "outputs": [],
   "source": [
    "def get_last_12(series):\n",
    "    return series.dropna().iloc[-12:].values"
   ]
  },
  {
   "cell_type": "code",
   "execution_count": 7,
   "metadata": {},
   "outputs": [],
   "source": [
    "X_test = np.array([get_last_12(ser[1]) for ser in train.iterrows()])\n",
    "y_test = test.values"
   ]
  },
  {
   "cell_type": "code",
   "execution_count": 8,
   "metadata": {},
   "outputs": [],
   "source": [
    "def get_predictions(model, X):\n",
    "    \n",
    "    preds = []\n",
    "    \n",
    "    for i in range(len(X) // 256):\n",
    "        x = X[i * 256:(i+1) * 256]\n",
    "\n",
    "        mn, mx = x.min(axis=1).reshape(-1, 1), x.max(axis=1).reshape(-1, 1) \n",
    "        x_sc = (x - mn) / (mx - mn)\n",
    "        pred = model(x_sc[..., np.newaxis]) \n",
    "        preds.append(pred[..., 0] * (mx - mn) + mn)\n",
    "\n",
    "    x = X[(i+1) * 256:]\n",
    "    mn, mx = x.min(axis=1).reshape(-1, 1), x.max(axis=1).reshape(-1, 1) \n",
    "    x_sc = (x - mn) / (mx - mn)\n",
    "    pred = model(x_sc[..., np.newaxis]) \n",
    "    preds.append(pred[..., 0] * (mx - mn) + mn)\n",
    "\n",
    "    return np.vstack(preds)"
   ]
  },
  {
   "cell_type": "code",
   "execution_count": 9,
   "metadata": {},
   "outputs": [
    {
     "name": "stderr",
     "output_type": "stream",
     "text": [
      "/home/thanos/.envs/fsu/lib/python3.6/site-packages/ipykernel_launcher.py:9: RuntimeWarning: invalid value encountered in true_divide\n",
      "  if __name__ == '__main__':\n",
      "/home/thanos/.envs/fsu/lib/python3.6/site-packages/ipykernel_launcher.py:9: RuntimeWarning: invalid value encountered in true_divide\n",
      "  if __name__ == '__main__':\n",
      "/home/thanos/.envs/fsu/lib/python3.6/site-packages/ipykernel_launcher.py:9: RuntimeWarning: invalid value encountered in true_divide\n",
      "  if __name__ == '__main__':\n",
      "/home/thanos/.envs/fsu/lib/python3.6/site-packages/ipykernel_launcher.py:9: RuntimeWarning: invalid value encountered in true_divide\n",
      "  if __name__ == '__main__':\n",
      "/home/thanos/.envs/fsu/lib/python3.6/site-packages/ipykernel_launcher.py:9: RuntimeWarning: invalid value encountered in true_divide\n",
      "  if __name__ == '__main__':\n",
      "/home/thanos/.envs/fsu/lib/python3.6/site-packages/ipykernel_launcher.py:9: RuntimeWarning: invalid value encountered in true_divide\n",
      "  if __name__ == '__main__':\n",
      "/home/thanos/.envs/fsu/lib/python3.6/site-packages/ipykernel_launcher.py:9: RuntimeWarning: invalid value encountered in true_divide\n",
      "  if __name__ == '__main__':\n",
      "/home/thanos/.envs/fsu/lib/python3.6/site-packages/ipykernel_launcher.py:9: RuntimeWarning: invalid value encountered in true_divide\n",
      "  if __name__ == '__main__':\n",
      "/home/thanos/.envs/fsu/lib/python3.6/site-packages/ipykernel_launcher.py:9: RuntimeWarning: invalid value encountered in true_divide\n",
      "  if __name__ == '__main__':\n",
      "/home/thanos/.envs/fsu/lib/python3.6/site-packages/ipykernel_launcher.py:9: RuntimeWarning: invalid value encountered in true_divide\n",
      "  if __name__ == '__main__':\n",
      "/home/thanos/.envs/fsu/lib/python3.6/site-packages/ipykernel_launcher.py:9: RuntimeWarning: invalid value encountered in true_divide\n",
      "  if __name__ == '__main__':\n",
      "/home/thanos/.envs/fsu/lib/python3.6/site-packages/ipykernel_launcher.py:9: RuntimeWarning: invalid value encountered in true_divide\n",
      "  if __name__ == '__main__':\n"
     ]
    }
   ],
   "source": [
    "results = {'smape': {k: [] for k in range(12)},\n",
    "           'mase': {k: [] for k in range(12)},\n",
    "           'owa': {k: [] for k in range(12)}}\n",
    "\n",
    "for i in range(12):\n",
    "    model_dir = 'results/' + str(i) + '/best_weights.h5'\n",
    "\n",
    "    model = tf.keras.models.load_model(model_dir, custom_objects={'SMAPE': smape,\n",
    "                                                                  'MASE_estimate': mase_estimate,\n",
    "                                                                  'OWA_estimate': owa_estimate,\n",
    "                                                                  'reconstruction_loss': reconstruction_loss})\n",
    "    \n",
    "    preds = get_predictions(model, X_test)\n",
    "    \n",
    "    results['smape'][i].append(np.nanmean(SMAPE(y_test, preds[:, 6:])))\n",
    "    results['mase'][i].append(np.nanmean(MASE(X_test, y_test, preds[:, 6:])))\n",
    "    results['owa'][i].append(np.nanmean(OWA(X_test, y_test, preds[:, 6:])))"
   ]
  },
  {
   "cell_type": "code",
   "execution_count": 10,
   "metadata": {},
   "outputs": [
    {
     "data": {
      "text/plain": [
       "{'smape': {0: [13.307012008856603],\n",
       "  1: [13.312890132023561],\n",
       "  2: [13.412372811814334],\n",
       "  3: [13.448974783492273],\n",
       "  4: [13.600577810297244],\n",
       "  5: [13.462200834565762],\n",
       "  6: [13.479048722286926],\n",
       "  7: [13.474238634632872],\n",
       "  8: [13.436619184876152],\n",
       "  9: [13.211644733815417],\n",
       "  10: [13.412307646974234],\n",
       "  11: [13.341309835606527]},\n",
       " 'mase': {0: [2.5100305402060012],\n",
       "  1: [2.48067277779466],\n",
       "  2: [2.4940301072348428],\n",
       "  3: [2.4947787603959],\n",
       "  4: [2.599860932934271],\n",
       "  5: [2.5526864456959415],\n",
       "  6: [2.5494623668666927],\n",
       "  7: [2.5602966634769895],\n",
       "  8: [2.5510840518170332],\n",
       "  9: [2.470802343828664],\n",
       "  10: [2.533969710325493],\n",
       "  11: [2.513098226603675]},\n",
       " 'owa': {0: [1.182518046048329],\n",
       "  1: [1.17399989044365],\n",
       "  2: [1.181235730977093],\n",
       "  3: [1.1826618162705318],\n",
       "  4: [1.2188300834472803],\n",
       "  5: [1.2002801445256182],\n",
       "  6: [1.1998776149506418],\n",
       "  7: [1.202934323602209],\n",
       "  8: [1.1989632104515036],\n",
       "  9: [1.1677407566505662],\n",
       "  10: [1.1930851018080646],\n",
       "  11: [1.1845564825131458]}}"
      ]
     },
     "execution_count": 10,
     "metadata": {},
     "output_type": "execute_result"
    }
   ],
   "source": [
    "results"
   ]
  },
  {
   "cell_type": "code",
   "execution_count": 47,
   "metadata": {},
   "outputs": [
    {
     "data": {
      "text/plain": [
       "[<matplotlib.lines.Line2D at 0x7f759fbe2908>]"
      ]
     },
     "execution_count": 47,
     "metadata": {},
     "output_type": "execute_result"
    },
    {
     "data": {
      "image/png": "[encoded data removed]",
      "text/plain": [
       "<Figure size 432x288 with 1 Axes>"
      ]
     },
     "metadata": {
      "needs_background": "light"
     },
     "output_type": "display_data"
    }
   ],
   "source": [
    "i = 150\n",
    "plt.plot(range(12), X_test[i])\n",
    "plt.plot(range(12, 18), y_test[i])\n",
    "plt.plot(range(6, 18), preds[i])"
   ]
  },
  {
   "cell_type": "markdown",
   "metadata": {},
   "source": [
    "---\n",
    "\n",
    "### Investigate bad performance"
   ]
  },
  {
   "cell_type": "code",
   "execution_count": 12,
   "metadata": {},
   "outputs": [
    {
     "data": {
      "text/plain": [
       "<tensorflow.python.keras.engine.training.Model at 0x7fb2c1826550>"
      ]
     },
     "execution_count": 12,
     "metadata": {},
     "output_type": "execute_result"
    }
   ],
   "source": [
    "model"
   ]
  },
  {
   "cell_type": "code",
   "execution_count": 13,
   "metadata": {},
   "outputs": [],
   "source": [
    "X = train.iloc[2].dropna().values"
   ]
  },
  {
   "cell_type": "code",
   "execution_count": 14,
   "metadata": {},
   "outputs": [],
   "source": [
    "def norm(ser):\n",
    "    x = ser[:12]\n",
    "    y = ser[12:]\n",
    "    mn = x.min()\n",
    "    mx = x.max()\n",
    "    x_sc = (x - mn) / (mx - mn)\n",
    "    y_sc = (y - mn) / (mx - mn)\n",
    "    return x_sc[np.newaxis, ..., np.newaxis], y_sc, mn, mx"
   ]
  },
  {
   "cell_type": "code",
   "execution_count": 15,
   "metadata": {},
   "outputs": [],
   "source": [
    "x, y, mn, mx = norm(X[:18])\n",
    "p = model(x)"
   ]
  },
  {
   "cell_type": "code",
   "execution_count": 16,
   "metadata": {},
   "outputs": [
    {
     "data": {
      "text/plain": [
       "[<matplotlib.lines.Line2D at 0x7fb2c0d03c88>]"
      ]
     },
     "execution_count": 16,
     "metadata": {},
     "output_type": "execute_result"
    },
    {
     "data": {
      "image/png": "[encoded data removed]",
      "text/plain": [
       "<Figure size 432x288 with 1 Axes>"
      ]
     },
     "metadata": {
      "needs_background": "light"
     },
     "output_type": "display_data"
    }
   ],
   "source": [
    "plt.plot(range(12), x[0, :, 0])\n",
    "plt.plot(range(12, 18), y)\n",
    "plt.plot(range(6, 18), p[0, :, 0])"
   ]
  },
  {
   "cell_type": "code",
   "execution_count": 18,
   "metadata": {},
   "outputs": [],
   "source": [
    "x = np.array([0.8559322 , 0.28813559, 0.56779661, 1.        , 0.81355932,\n",
    "              0.3559322 , 0.44067797, 0.27118644, 0.5       , 0.31355932,\n",
    "              0.        , 0.01694915])"
   ]
  },
  {
   "cell_type": "code",
   "execution_count": null,
   "metadata": {},
   "outputs": [],
   "source": [
    "p = model(x)\n",
    "plt.plot(range(12), x[0, :, 0])\n",
    "plt.plot(range(6, 18), p[0, :, 0])"
   ]
  }
 ],
 "metadata": {
  "kernelspec": {
   "display_name": "fsu",
   "language": "python",
   "name": "fsu"
  },
  "language_info": {
   "codemirror_mode": {
    "name": "ipython",
    "version": 3
   },
   "file_extension": ".py",
   "mimetype": "text/x-python",
   "name": "python",
   "nbconvert_exporter": "python",
   "pygments_lexer": "ipython3",
   "version": "3.6.9"
  }
 },
 "nbformat": 4,
 "nbformat_minor": 4
}
